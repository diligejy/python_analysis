{
 "cells": [
  {
   "cell_type": "code",
   "execution_count": 26,
   "metadata": {},
   "outputs": [],
   "source": [
    "import pandas as pd"
   ]
  },
  {
   "cell_type": "code",
   "execution_count": 27,
   "metadata": {},
   "outputs": [],
   "source": [
    "bank_df = pd.read_csv('../rawdata/bank_prep.csv')"
   ]
  },
  {
   "cell_type": "code",
   "execution_count": 28,
   "metadata": {},
   "outputs": [
    {
     "data": {
      "text/html": [
       "<div>\n",
       "<style scoped>\n",
       "    .dataframe tbody tr th:only-of-type {\n",
       "        vertical-align: middle;\n",
       "    }\n",
       "\n",
       "    .dataframe tbody tr th {\n",
       "        vertical-align: top;\n",
       "    }\n",
       "\n",
       "    .dataframe thead th {\n",
       "        text-align: right;\n",
       "    }\n",
       "</style>\n",
       "<table border=\"1\" class=\"dataframe\">\n",
       "  <thead>\n",
       "    <tr style=\"text-align: right;\">\n",
       "      <th></th>\n",
       "      <th>age</th>\n",
       "      <th>default</th>\n",
       "      <th>balance</th>\n",
       "      <th>housing</th>\n",
       "      <th>loan</th>\n",
       "      <th>day</th>\n",
       "      <th>duration</th>\n",
       "      <th>campaign</th>\n",
       "      <th>pdays</th>\n",
       "      <th>previous</th>\n",
       "      <th>...</th>\n",
       "      <th>dec</th>\n",
       "      <th>feb</th>\n",
       "      <th>jan</th>\n",
       "      <th>jul</th>\n",
       "      <th>jun</th>\n",
       "      <th>mar</th>\n",
       "      <th>may</th>\n",
       "      <th>nov</th>\n",
       "      <th>oct</th>\n",
       "      <th>sep</th>\n",
       "    </tr>\n",
       "  </thead>\n",
       "  <tbody>\n",
       "    <tr>\n",
       "      <th>0</th>\n",
       "      <td>58</td>\n",
       "      <td>0</td>\n",
       "      <td>2143</td>\n",
       "      <td>1</td>\n",
       "      <td>0</td>\n",
       "      <td>5</td>\n",
       "      <td>261</td>\n",
       "      <td>1</td>\n",
       "      <td>-1</td>\n",
       "      <td>0</td>\n",
       "      <td>...</td>\n",
       "      <td>0</td>\n",
       "      <td>0</td>\n",
       "      <td>0</td>\n",
       "      <td>0</td>\n",
       "      <td>0</td>\n",
       "      <td>0</td>\n",
       "      <td>1</td>\n",
       "      <td>0</td>\n",
       "      <td>0</td>\n",
       "      <td>0</td>\n",
       "    </tr>\n",
       "    <tr>\n",
       "      <th>1</th>\n",
       "      <td>44</td>\n",
       "      <td>0</td>\n",
       "      <td>29</td>\n",
       "      <td>1</td>\n",
       "      <td>0</td>\n",
       "      <td>5</td>\n",
       "      <td>151</td>\n",
       "      <td>1</td>\n",
       "      <td>-1</td>\n",
       "      <td>0</td>\n",
       "      <td>...</td>\n",
       "      <td>0</td>\n",
       "      <td>0</td>\n",
       "      <td>0</td>\n",
       "      <td>0</td>\n",
       "      <td>0</td>\n",
       "      <td>0</td>\n",
       "      <td>1</td>\n",
       "      <td>0</td>\n",
       "      <td>0</td>\n",
       "      <td>0</td>\n",
       "    </tr>\n",
       "    <tr>\n",
       "      <th>2</th>\n",
       "      <td>33</td>\n",
       "      <td>0</td>\n",
       "      <td>2</td>\n",
       "      <td>1</td>\n",
       "      <td>1</td>\n",
       "      <td>5</td>\n",
       "      <td>76</td>\n",
       "      <td>1</td>\n",
       "      <td>-1</td>\n",
       "      <td>0</td>\n",
       "      <td>...</td>\n",
       "      <td>0</td>\n",
       "      <td>0</td>\n",
       "      <td>0</td>\n",
       "      <td>0</td>\n",
       "      <td>0</td>\n",
       "      <td>0</td>\n",
       "      <td>1</td>\n",
       "      <td>0</td>\n",
       "      <td>0</td>\n",
       "      <td>0</td>\n",
       "    </tr>\n",
       "    <tr>\n",
       "      <th>3</th>\n",
       "      <td>47</td>\n",
       "      <td>0</td>\n",
       "      <td>1506</td>\n",
       "      <td>1</td>\n",
       "      <td>0</td>\n",
       "      <td>5</td>\n",
       "      <td>92</td>\n",
       "      <td>1</td>\n",
       "      <td>-1</td>\n",
       "      <td>0</td>\n",
       "      <td>...</td>\n",
       "      <td>0</td>\n",
       "      <td>0</td>\n",
       "      <td>0</td>\n",
       "      <td>0</td>\n",
       "      <td>0</td>\n",
       "      <td>0</td>\n",
       "      <td>1</td>\n",
       "      <td>0</td>\n",
       "      <td>0</td>\n",
       "      <td>0</td>\n",
       "    </tr>\n",
       "    <tr>\n",
       "      <th>4</th>\n",
       "      <td>33</td>\n",
       "      <td>0</td>\n",
       "      <td>1</td>\n",
       "      <td>0</td>\n",
       "      <td>0</td>\n",
       "      <td>5</td>\n",
       "      <td>198</td>\n",
       "      <td>1</td>\n",
       "      <td>-1</td>\n",
       "      <td>0</td>\n",
       "      <td>...</td>\n",
       "      <td>0</td>\n",
       "      <td>0</td>\n",
       "      <td>0</td>\n",
       "      <td>0</td>\n",
       "      <td>0</td>\n",
       "      <td>0</td>\n",
       "      <td>1</td>\n",
       "      <td>0</td>\n",
       "      <td>0</td>\n",
       "      <td>0</td>\n",
       "    </tr>\n",
       "  </tbody>\n",
       "</table>\n",
       "<p>5 rows × 33 columns</p>\n",
       "</div>"
      ],
      "text/plain": [
       "   age  default  balance  housing  loan  day  duration  campaign  pdays  \\\n",
       "0   58        0     2143        1     0    5       261         1     -1   \n",
       "1   44        0       29        1     0    5       151         1     -1   \n",
       "2   33        0        2        1     1    5        76         1     -1   \n",
       "3   47        0     1506        1     0    5        92         1     -1   \n",
       "4   33        0        1        0     0    5       198         1     -1   \n",
       "\n",
       "   previous  ...  dec  feb  jan  jul  jun  mar  may  nov  oct  sep  \n",
       "0         0  ...    0    0    0    0    0    0    1    0    0    0  \n",
       "1         0  ...    0    0    0    0    0    0    1    0    0    0  \n",
       "2         0  ...    0    0    0    0    0    0    1    0    0    0  \n",
       "3         0  ...    0    0    0    0    0    0    1    0    0    0  \n",
       "4         0  ...    0    0    0    0    0    0    1    0    0    0  \n",
       "\n",
       "[5 rows x 33 columns]"
      ]
     },
     "execution_count": 28,
     "metadata": {},
     "output_type": "execute_result"
    }
   ],
   "source": [
    "bank_df.head()"
   ]
  },
  {
   "cell_type": "code",
   "execution_count": 29,
   "metadata": {},
   "outputs": [
    {
     "data": {
      "text/plain": [
       "1    25130\n",
       "0    20081\n",
       "Name: housing, dtype: int64"
      ]
     },
     "execution_count": 29,
     "metadata": {},
     "output_type": "execute_result"
    }
   ],
   "source": [
    "# yes와 no는 불균형 상태 \n",
    "bank_df['housing'].value_counts()"
   ]
  },
  {
   "cell_type": "code",
   "execution_count": 30,
   "metadata": {},
   "outputs": [
    {
     "data": {
      "text/plain": [
       "0    44396\n",
       "1      815\n",
       "Name: default, dtype: int64"
      ]
     },
     "execution_count": 30,
     "metadata": {},
     "output_type": "execute_result"
    }
   ],
   "source": [
    "bank_df['default'].value_counts()"
   ]
  },
  {
   "cell_type": "code",
   "execution_count": 31,
   "metadata": {},
   "outputs": [
    {
     "data": {
      "text/plain": [
       "0    37967\n",
       "1     7244\n",
       "Name: loan, dtype: int64"
      ]
     },
     "execution_count": 31,
     "metadata": {},
     "output_type": "execute_result"
    }
   ],
   "source": [
    "bank_df['loan'].value_counts()"
   ]
  },
  {
   "cell_type": "code",
   "execution_count": 32,
   "metadata": {},
   "outputs": [
    {
     "name": "stdout",
     "output_type": "stream",
     "text": [
      "Name: imbalanced-learn\n",
      "Version: 0.8.0\n",
      "Summary: Toolbox for imbalanced dataset in machine learning.\n",
      "Home-page: https://github.com/scikit-learn-contrib/imbalanced-learn\n",
      "Author: None\n",
      "Author-email: None\n",
      "License: MIT\n",
      "Location: c:\\python39\\lib\\site-packages\n",
      "Requires: scikit-learn, numpy, scipy, joblib\n",
      "Required-by: \n"
     ]
    }
   ],
   "source": [
    "!pip show imbalanced-learn"
   ]
  },
  {
   "cell_type": "code",
   "execution_count": 33,
   "metadata": {},
   "outputs": [
    {
     "name": "stdout",
     "output_type": "stream",
     "text": [
      "Requirement already satisfied: imbalanced-learn in c:\\python39\\lib\\site-packages (0.8.0)\n",
      "Requirement already satisfied: joblib>=0.11 in c:\\python39\\lib\\site-packages (from imbalanced-learn) (1.0.1)\n",
      "Requirement already satisfied: numpy>=1.13.3 in c:\\python39\\lib\\site-packages (from imbalanced-learn) (1.19.5)\n",
      "Requirement already satisfied: scikit-learn>=0.24 in c:\\python39\\lib\\site-packages (from imbalanced-learn) (0.24.2)\n",
      "Requirement already satisfied: scipy>=0.19.1 in c:\\python39\\lib\\site-packages (from imbalanced-learn) (1.7.1)\n",
      "Requirement already satisfied: threadpoolctl>=2.0.0 in c:\\python39\\lib\\site-packages (from scikit-learn>=0.24->imbalanced-learn) (2.2.0)\n"
     ]
    },
    {
     "name": "stderr",
     "output_type": "stream",
     "text": [
      "WARNING: You are using pip version 21.1.1; however, version 21.2.4 is available.\n",
      "You should consider upgrading via the 'c:\\python39\\python.exe -m pip install --upgrade pip' command.\n"
     ]
    }
   ],
   "source": [
    "!pip install imbalanced-learn"
   ]
  },
  {
   "cell_type": "code",
   "execution_count": 46,
   "metadata": {},
   "outputs": [
    {
     "name": "stdout",
     "output_type": "stream",
     "text": [
      "5289 39922\n",
      "5289 5289\n"
     ]
    }
   ],
   "source": [
    "# 언더샘플링\n",
    "import numpy as np \n",
    "from imblearn.under_sampling import RandomUnderSampler\n",
    "\n",
    "X = np.array(bank_df.drop('y', axis=1))\n",
    "Y = np.array(bank_df['y'])\n",
    "print(np.sum(Y==1), np.sum(Y==0))\n",
    "\n",
    "sampler = RandomUnderSampler(random_state=42)\n",
    "X, Y = sampler.fit_resample(X, Y)\n",
    "print(np.sum(Y == 1), np.sum(Y == 0))"
   ]
  },
  {
   "cell_type": "code",
   "execution_count": 47,
   "metadata": {},
   "outputs": [
    {
     "name": "stdout",
     "output_type": "stream",
     "text": [
      "5289 39922\n",
      "39922 39922\n"
     ]
    }
   ],
   "source": [
    "# 오버샘플링\n",
    "import numpy as np \n",
    "from imblearn.over_sampling import RandomOverSampler\n",
    "\n",
    "X = np.array(bank_df.drop('y', axis=1))\n",
    "Y = np.array(bank_df['y'])\n",
    "print(np.sum(Y == 1), np.sum(Y == 0))\n",
    "\n",
    "sampler = RandomOverSampler(random_state=42)\n",
    "X, Y = sampler.fit_resample(X, Y)\n",
    "print(np.sum(Y==1), np.sum(Y==0))"
   ]
  },
  {
   "cell_type": "code",
   "execution_count": 48,
   "metadata": {},
   "outputs": [
    {
     "name": "stdout",
     "output_type": "stream",
     "text": [
      "5289 39922\n",
      "39922 39922\n"
     ]
    }
   ],
   "source": [
    "# SMOTE\n",
    "import numpy as np \n",
    "from imblearn.over_sampling import SMOTE \n",
    "\n",
    "X = np.array(bank_df.drop('y', axis=1))\n",
    "Y = np.array(bank_df['y'])\n",
    "print(np.sum(Y == 1), np.sum(Y == 0))\n",
    "\n",
    "sm = SMOTE(random_state=42)\n",
    "X, Y = sm.fit_resample(X, Y)\n",
    "print(np.sum(Y==1), np.sum(Y==0))"
   ]
  },
  {
   "cell_type": "code",
   "execution_count": 54,
   "metadata": {},
   "outputs": [
    {
     "name": "stdout",
     "output_type": "stream",
     "text": [
      "0.9249034920184765 0.002552270957002199\n"
     ]
    }
   ],
   "source": [
    "# 결정트리\n",
    "from sklearn.model_selection import KFold\n",
    "from sklearn.tree import DecisionTreeClassifier\n",
    "from sklearn.metrics import accuracy_score\n",
    "\n",
    "kf = KFold(n_splits=10, shuffle=True)\n",
    "scores = []\n",
    "\n",
    "for train_id, test_id in kf.split(X):\n",
    "    x = X[train_id]\n",
    "    y = Y[train_id]\n",
    "    clf = DecisionTreeClassifier()\n",
    "    clf.fit(x, y)\n",
    "    pred_y = clf.predict(X[test_id])\n",
    "    score = accuracy_score(Y[test_id], pred_y)\n",
    "    scores.append(score)\n",
    "    \n",
    "scores = np.array(scores)\n",
    "print(scores.mean(), scores.std())"
   ]
  },
  {
   "cell_type": "code",
   "execution_count": 55,
   "metadata": {},
   "outputs": [
    {
     "name": "stdout",
     "output_type": "stream",
     "text": [
      "0.92875\n",
      "0.9195544554455446\n"
     ]
    }
   ],
   "source": [
    "# precision, recall\n",
    "from sklearn.metrics import recall_score, precision_score\n",
    "\n",
    "print(recall_score(Y[test_id], pred_y))\n",
    "print(precision_score(Y[test_id], pred_y))"
   ]
  },
  {
   "cell_type": "code",
   "execution_count": 56,
   "metadata": {},
   "outputs": [
    {
     "name": "stdout",
     "output_type": "stream",
     "text": [
      "DecisionTreeClassifier()\n"
     ]
    }
   ],
   "source": [
    "print(clf)"
   ]
  },
  {
   "cell_type": "code",
   "execution_count": 57,
   "metadata": {},
   "outputs": [
    {
     "data": {
      "text/plain": [
       "GridSearchCV(cv=KFold(n_splits=10, random_state=None, shuffle=True),\n",
       "             estimator=DecisionTreeClassifier(),\n",
       "             param_grid={'criterion': ['entropy'],\n",
       "                         'max_depth': [2, 4, 6, 8, 10],\n",
       "                         'min_samples_leaf': [10, 20, 30, 40, 50]},\n",
       "             scoring='accuracy')"
      ]
     },
     "execution_count": 57,
     "metadata": {},
     "output_type": "execute_result"
    }
   ],
   "source": [
    "# GridSearch\n",
    "from sklearn.model_selection import GridSearchCV\n",
    "\n",
    "params = {\n",
    "    'criterion' : ['entropy'],\n",
    "    'max_depth' : [2, 4, 6, 8, 10],\n",
    "    'min_samples_leaf' : [10, 20, 30, 40, 50]\n",
    "}\n",
    "\n",
    "clf_gs = GridSearchCV(DecisionTreeClassifier(), params,\n",
    "                     cv = KFold(n_splits=10, shuffle=True), scoring='accuracy')\n",
    "clf_gs.fit(X, Y)"
   ]
  },
  {
   "cell_type": "code",
   "execution_count": 58,
   "metadata": {},
   "outputs": [
    {
     "name": "stdout",
     "output_type": "stream",
     "text": [
      "0.915635543158954\n",
      "{'criterion': 'entropy', 'max_depth': 10, 'min_samples_leaf': 10}\n"
     ]
    }
   ],
   "source": [
    "print(clf_gs.best_score_)\n",
    "print(clf_gs.best_params_)"
   ]
  },
  {
   "cell_type": "code",
   "execution_count": 61,
   "metadata": {},
   "outputs": [
    {
     "name": "stdout",
     "output_type": "stream",
     "text": [
      "[5.30149730e-03 0.00000000e+00 8.40474320e-03 1.20219584e-01\n",
      " 2.58812030e-03 2.10789409e-02 3.40083878e-01 4.46287372e-03\n",
      " 5.73725480e-02 3.22550273e-04 1.17659859e-02 7.07698599e-03\n",
      " 7.06740159e-03 7.46999333e-04 1.98760064e-03 1.13526530e-03\n",
      " 3.76232990e-04 9.22014225e-03 8.00784146e-03 1.18245735e-01\n",
      " 1.61435748e-02 5.58667357e-02 0.00000000e+00 3.19931370e-02\n",
      " 2.84430928e-02 6.71802614e-02 5.73771331e-03 0.00000000e+00\n",
      " 2.56573137e-02 4.35132453e-02 0.00000000e+00 0.00000000e+00]\n"
     ]
    }
   ],
   "source": [
    "clf_best = DecisionTreeClassifier(criterion='entropy', max_depth= 10, min_samples_leaf=10)\n",
    "clf_best.fit(X, Y)\n",
    "\n",
    "print(clf_best.feature_importances_)"
   ]
  },
  {
   "cell_type": "code",
   "execution_count": 63,
   "metadata": {},
   "outputs": [
    {
     "name": "stdout",
     "output_type": "stream",
     "text": [
      "Index(['age', 'default', 'balance', 'housing', 'loan', 'day', 'duration',\n",
      "       'campaign', 'pdays', 'previous', 'divorced', 'married', 'single',\n",
      "       'primary', 'secondary', 'tertiary', 'unknown', 'cellular', 'telephone',\n",
      "       'unknown.1', 'apr', 'aug', 'dec', 'feb', 'jan', 'jul', 'jun', 'mar',\n",
      "       'may', 'nov', 'oct', 'sep'],\n",
      "      dtype='object')\n",
      "[False False False  True False False  True False False False False  True\n",
      " False False False False False False False  True False False False False\n",
      " False False False False  True False False False]\n"
     ]
    }
   ],
   "source": [
    "from sklearn.feature_selection import SelectKBest\n",
    "\n",
    "selector = SelectKBest(k=5)\n",
    "selector.fit(X, Y)\n",
    "mask = selector.get_support()\n",
    "\n",
    "print(bank_df.drop('y', axis=1).columns)\n",
    "print(mask)"
   ]
  },
  {
   "cell_type": "code",
   "execution_count": 71,
   "metadata": {},
   "outputs": [
    {
     "data": {
      "text/plain": [
       "False"
      ]
     },
     "execution_count": 71,
     "metadata": {},
     "output_type": "execute_result"
    }
   ],
   "source": [
    "mask[1]"
   ]
  },
  {
   "cell_type": "code",
   "execution_count": 75,
   "metadata": {},
   "outputs": [
    {
     "data": {
      "text/plain": [
       "Index(['housing', 'duration', 'married', 'unknown.1', 'may'], dtype='object')"
      ]
     },
     "execution_count": 75,
     "metadata": {},
     "output_type": "execute_result"
    }
   ],
   "source": [
    "# duration은 공선성 조심\n",
    "bank_df.drop('y', axis=1).columns[[i for i, x in enumerate(mask) if x]]"
   ]
  },
  {
   "cell_type": "code",
   "execution_count": null,
   "metadata": {},
   "outputs": [],
   "source": []
  }
 ],
 "metadata": {
  "kernelspec": {
   "display_name": "python3_7_6",
   "language": "python",
   "name": "py3_7_6"
  },
  "language_info": {
   "codemirror_mode": {
    "name": "ipython",
    "version": 3
   },
   "file_extension": ".py",
   "mimetype": "text/x-python",
   "name": "python",
   "nbconvert_exporter": "python",
   "pygments_lexer": "ipython3",
   "version": "3.7.6"
  }
 },
 "nbformat": 4,
 "nbformat_minor": 4
}
