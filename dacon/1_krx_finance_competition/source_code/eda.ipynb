{
 "cells": [
  {
   "cell_type": "code",
   "execution_count": 1,
   "metadata": {},
   "outputs": [],
   "source": [
    "import pandas as pd"
   ]
  },
  {
   "cell_type": "code",
   "execution_count": 3,
   "metadata": {},
   "outputs": [],
   "source": [
    "df = pd.read_excel('../rawdata/제1회 KRX 금융 빅데이터 활용 아이디어 경진대회용 데이터(예선).xlsx')"
   ]
  },
  {
   "cell_type": "code",
   "execution_count": 5,
   "metadata": {},
   "outputs": [
    {
     "data": {
      "text/html": [
       "<div>\n",
       "<style scoped>\n",
       "    .dataframe tbody tr th:only-of-type {\n",
       "        vertical-align: middle;\n",
       "    }\n",
       "\n",
       "    .dataframe tbody tr th {\n",
       "        vertical-align: top;\n",
       "    }\n",
       "\n",
       "    .dataframe thead th {\n",
       "        text-align: right;\n",
       "    }\n",
       "</style>\n",
       "<table border=\"1\" class=\"dataframe\">\n",
       "  <thead>\n",
       "    <tr style=\"text-align: right;\">\n",
       "      <th></th>\n",
       "      <th>카테고리</th>\n",
       "      <th>데이터 이름</th>\n",
       "      <th>상품 번호</th>\n",
       "      <th>대상선택</th>\n",
       "      <th>대상선택 목록</th>\n",
       "      <th>추출 기간</th>\n",
       "      <th>추출 파일 개수</th>\n",
       "    </tr>\n",
       "  </thead>\n",
       "  <tbody>\n",
       "    <tr>\n",
       "      <th>0</th>\n",
       "      <td>지수</td>\n",
       "      <td>일별 시세정보</td>\n",
       "      <td>1.0</td>\n",
       "      <td>그룹별</td>\n",
       "      <td>KOSPI, KOSDAQ</td>\n",
       "      <td>2020년, 2021년, 2022년 각 1분기</td>\n",
       "      <td>6</td>\n",
       "    </tr>\n",
       "    <tr>\n",
       "      <th>1</th>\n",
       "      <td>지수</td>\n",
       "      <td>일중 시세정보</td>\n",
       "      <td>2.0</td>\n",
       "      <td>그룹별</td>\n",
       "      <td>KOSPI, KOSDAQ</td>\n",
       "      <td>2020년, 2021년, 2022년 각 1분기</td>\n",
       "      <td>6</td>\n",
       "    </tr>\n",
       "    <tr>\n",
       "      <th>2</th>\n",
       "      <td>지수</td>\n",
       "      <td>투자자별 거래실적</td>\n",
       "      <td>3.0</td>\n",
       "      <td>그룹별</td>\n",
       "      <td>KOSPI, KOSDAQ</td>\n",
       "      <td>2020년, 2021년, 2022년 각 1분기</td>\n",
       "      <td>6</td>\n",
       "    </tr>\n",
       "    <tr>\n",
       "      <th>3</th>\n",
       "      <td>지수</td>\n",
       "      <td>회원사별 거래실적</td>\n",
       "      <td>4.0</td>\n",
       "      <td>그룹별</td>\n",
       "      <td>KOSPI, KOSDAQ</td>\n",
       "      <td>2020년, 2021년, 2022년 각 1분기</td>\n",
       "      <td>6</td>\n",
       "    </tr>\n",
       "    <tr>\n",
       "      <th>4</th>\n",
       "      <td>주식</td>\n",
       "      <td>일별 시세정보</td>\n",
       "      <td>5.0</td>\n",
       "      <td>시장별</td>\n",
       "      <td>KOSPI, KOSDAQ, KONEX</td>\n",
       "      <td>2020년, 2021년, 2022년 각 1분기</td>\n",
       "      <td>9</td>\n",
       "    </tr>\n",
       "  </tbody>\n",
       "</table>\n",
       "</div>"
      ],
      "text/plain": [
       "  카테고리     데이터 이름  상품 번호 대상선택               대상선택 목록  \\\n",
       "0   지수    일별 시세정보    1.0  그룹별         KOSPI, KOSDAQ   \n",
       "1   지수    일중 시세정보    2.0  그룹별         KOSPI, KOSDAQ   \n",
       "2   지수  투자자별 거래실적    3.0  그룹별         KOSPI, KOSDAQ   \n",
       "3   지수  회원사별 거래실적    4.0  그룹별         KOSPI, KOSDAQ   \n",
       "4   주식    일별 시세정보    5.0  시장별  KOSPI, KOSDAQ, KONEX   \n",
       "\n",
       "                       추출 기간  추출 파일 개수  \n",
       "0  2020년, 2021년, 2022년 각 1분기         6  \n",
       "1  2020년, 2021년, 2022년 각 1분기         6  \n",
       "2  2020년, 2021년, 2022년 각 1분기         6  \n",
       "3  2020년, 2021년, 2022년 각 1분기         6  \n",
       "4  2020년, 2021년, 2022년 각 1분기         9  "
      ]
     },
     "execution_count": 5,
     "metadata": {},
     "output_type": "execute_result"
    }
   ],
   "source": [
    "df.head()"
   ]
  },
  {
   "cell_type": "code",
   "execution_count": 6,
   "metadata": {},
   "outputs": [
    {
     "data": {
      "text/plain": [
       "Index(['카테고리', '데이터 이름', '상품 번호', '대상선택', '대상선택 목록', '추출 기간', '추출 파일 개수'], dtype='object')"
      ]
     },
     "execution_count": 6,
     "metadata": {},
     "output_type": "execute_result"
    }
   ],
   "source": [
    "df.columns"
   ]
  },
  {
   "cell_type": "code",
   "execution_count": 8,
   "metadata": {},
   "outputs": [
    {
     "data": {
      "text/plain": [
       "array(['지수', '주식', '증권상품', '파생상품(선물)', '파생상품(옵션)', '일반상품', nan],\n",
       "      dtype=object)"
      ]
     },
     "execution_count": 8,
     "metadata": {},
     "output_type": "execute_result"
    }
   ],
   "source": [
    "df['카테고리'].unique()"
   ]
  },
  {
   "cell_type": "code",
   "execution_count": 10,
   "metadata": {},
   "outputs": [
    {
     "data": {
      "text/plain": [
       "array(['일별 시세정보', '일중 시세정보', '투자자별 거래실적', '회원사별 거래실적', '일별 매매정보', nan],\n",
       "      dtype=object)"
      ]
     },
     "execution_count": 10,
     "metadata": {},
     "output_type": "execute_result"
    }
   ],
   "source": [
    "df['데이터 이름'].unique()"
   ]
  },
  {
   "cell_type": "code",
   "execution_count": null,
   "metadata": {},
   "outputs": [],
   "source": []
  }
 ],
 "metadata": {
  "kernelspec": {
   "display_name": "Python 3.8.8 ('base')",
   "language": "python",
   "name": "python3"
  },
  "language_info": {
   "codemirror_mode": {
    "name": "ipython",
    "version": 3
   },
   "file_extension": ".py",
   "mimetype": "text/x-python",
   "name": "python",
   "nbconvert_exporter": "python",
   "pygments_lexer": "ipython3",
   "version": "3.8.8"
  },
  "orig_nbformat": 4,
  "vscode": {
   "interpreter": {
    "hash": "b361cef3e0d7e6a7fad3863c59e9362806a3d92080ecebdde4657478143d071b"
   }
  }
 },
 "nbformat": 4,
 "nbformat_minor": 2
}
