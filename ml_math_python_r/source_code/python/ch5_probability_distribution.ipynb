{
 "cells": [
  {
   "cell_type": "code",
   "execution_count": 1,
   "metadata": {},
   "outputs": [
    {
     "data": {
      "text/plain": [
       "4.5"
      ]
     },
     "execution_count": 1,
     "metadata": {},
     "output_type": "execute_result"
    }
   ],
   "source": [
    "import numpy as np\n",
    "# 0 - 9까지 실수 10개를 갖는 자료 구조 생성\n",
    "x = np.arange(10.0)\n",
    "x.mean()"
   ]
  },
  {
   "cell_type": "code",
   "execution_count": 2,
   "metadata": {},
   "outputs": [
    {
     "data": {
      "text/plain": [
       "array([ 7.5,  8.5,  9.5, 10.5, 11.5])"
      ]
     },
     "execution_count": 2,
     "metadata": {},
     "output_type": "execute_result"
    }
   ],
   "source": [
    "# 0-19까지 실수 20개로 1차원 배열 생성\n",
    "numbers = np.arange(20.0)\n",
    "# numbers를 4행 5열로 생성\n",
    "x = np.reshape(numbers, (4, 5))\n",
    "np.mean(x, 0)"
   ]
  },
  {
   "cell_type": "code",
   "execution_count": 3,
   "metadata": {},
   "outputs": [
    {
     "data": {
      "text/plain": [
       "5.766281297335398"
      ]
     },
     "execution_count": 3,
     "metadata": {},
     "output_type": "execute_result"
    }
   ],
   "source": [
    "# 행과 열을 고려하지 않고 x에 대한 표준편차\n",
    "np.std(x)"
   ]
  },
  {
   "cell_type": "code",
   "execution_count": 4,
   "metadata": {},
   "outputs": [
    {
     "data": {
      "text/plain": [
       "33.25"
      ]
     },
     "execution_count": 4,
     "metadata": {},
     "output_type": "execute_result"
    }
   ],
   "source": [
    "# 행과 열 고려하지 않고 x에 대한 분산\n",
    "np.var(x)"
   ]
  },
  {
   "cell_type": "code",
   "execution_count": 5,
   "metadata": {},
   "outputs": [
    {
     "data": {
      "text/plain": [
       "array([[ 1.        , -0.05770664,  0.32694799],\n",
       "       [-0.05770664,  1.        , -0.9618829 ],\n",
       "       [ 0.32694799, -0.9618829 ,  1.        ]])"
      ]
     },
     "execution_count": 5,
     "metadata": {},
     "output_type": "execute_result"
    }
   ],
   "source": [
    "x = np.random.randn(3, 4)\n",
    "# x의 행별로 피어슨 상관관계 구하기, 예를 들어 1행과 2행의 상관관계, 2행과 3행의 상관관계 등. \n",
    "# 결과는 3행 3열로 나오며, 랜덤하게 생성되어 결과는 다를 수 있음\n",
    "np.corrcoef(x)"
   ]
  },
  {
   "cell_type": "code",
   "execution_count": 6,
   "metadata": {},
   "outputs": [
    {
     "data": {
      "text/plain": [
       "array([[ 1.22396777, -1.03807002,  0.86917068, -0.31039748],\n",
       "       [-1.03807002,  0.88609149, -0.71977676,  0.26230579],\n",
       "       [ 0.86917068, -0.71977676,  0.67037482, -0.22332037],\n",
       "       [-0.31039748,  0.26230579, -0.22332037,  0.07887474]])"
      ]
     },
     "execution_count": 6,
     "metadata": {},
     "output_type": "execute_result"
    }
   ],
   "source": [
    "# x의 각 열 사이의 공분산 구하기, 총 4행 4열의 결괏값이 출력되며 랜덤하게 생성되어 결과는 다를 수 있음\n",
    "np.cov(x, rowvar=False)"
   ]
  },
  {
   "cell_type": "code",
   "execution_count": 7,
   "metadata": {},
   "outputs": [
    {
     "data": {
      "text/plain": [
       "array([[ 0.10655557, -0.01786796,  0.10266382],\n",
       "       [-0.01786796,  0.89975053, -0.87767542],\n",
       "       [ 0.10266382, -0.87767542,  0.92534004]])"
      ]
     },
     "execution_count": 7,
     "metadata": {},
     "output_type": "execute_result"
    }
   ],
   "source": [
    "# x의 각 행 사이의 공분산 구하기, 총 3행 3열의 결괏값이 출력되며 랜덤하게 생성되어 결과는 다를 수 있음\n",
    "np.cov(x, rowvar=True)"
   ]
  },
  {
   "cell_type": "markdown",
   "metadata": {},
   "source": [
    "### 다양한 확률 분포 사용하기"
   ]
  },
  {
   "cell_type": "code",
   "execution_count": 8,
   "metadata": {},
   "outputs": [
    {
     "data": {
      "text/plain": [
       "array([5, 6, 5, 5, 5, 6, 5, 7, 8, 5])"
      ]
     },
     "execution_count": 8,
     "metadata": {},
     "output_type": "execute_result"
    }
   ],
   "source": [
    "import numpy as np\n",
    "from scipy import stats\n",
    "np.random.seed(0)\n",
    "stats.binom(10, 0.5).rvs(10) # n = 10, p = 0.5인 이항분포에서 rvs 함수로 표본 10개 추출"
   ]
  },
  {
   "cell_type": "code",
   "execution_count": 9,
   "metadata": {},
   "outputs": [
    {
     "data": {
      "text/plain": [
       "array([ 0.14404357,  1.45427351,  0.76103773,  0.12167502,  0.44386323,\n",
       "        0.33367433,  1.49407907, -0.20515826,  0.3130677 , -0.85409574])"
      ]
     },
     "execution_count": 9,
     "metadata": {},
     "output_type": "execute_result"
    }
   ],
   "source": [
    "stats.norm().rvs(10) # 평균이 0이고, 표준편차가 1인 정규 분포에서 표본 10개 추출"
   ]
  },
  {
   "cell_type": "code",
   "execution_count": 10,
   "metadata": {},
   "outputs": [
    {
     "data": {
      "text/plain": [
       "array([0.14335329, 0.94466892, 0.52184832, 0.41466194, 0.26455561,\n",
       "       0.77423369, 0.45615033, 0.56843395, 0.0187898 , 0.6176355 ])"
      ]
     },
     "execution_count": 10,
     "metadata": {},
     "output_type": "execute_result"
    }
   ],
   "source": [
    "stats.uniform().rvs(10) # 0-1 사이에 정의된 균일 분포에서 표본 10개 추출"
   ]
  },
  {
   "cell_type": "code",
   "execution_count": 11,
   "metadata": {},
   "outputs": [
    {
     "data": {
      "text/plain": [
       "array([1.89399336, 1.91909595, 5.75583016, 2.29027792, 0.89103699,\n",
       "       1.14906482, 2.3922156 , 0.12423059, 2.19782496, 2.22119487])"
      ]
     },
     "execution_count": 11,
     "metadata": {},
     "output_type": "execute_result"
    }
   ],
   "source": [
    "stats.chi2(df=2).rvs(10) # 자유도가 2인 카이제곱 분포에서 표본 10개 추출"
   ]
  },
  {
   "cell_type": "markdown",
   "metadata": {},
   "source": [
    "### 정규성 검정하기"
   ]
  },
  {
   "cell_type": "code",
   "execution_count": 12,
   "metadata": {},
   "outputs": [
    {
     "name": "stdout",
     "output_type": "stream",
     "text": [
      "0.011446870409049965\n"
     ]
    }
   ],
   "source": [
    "x = stats.uniform().rvs(20) # 균일분포에서 표본 20개 추출\n",
    "k2, p = stats.normaltest(x) # x에 대한 정규성 검정\n",
    "print(p) # 정규성 검정의 p값을 출력"
   ]
  },
  {
   "cell_type": "markdown",
   "metadata": {},
   "source": [
    "### 카이제곱 검정하기"
   ]
  },
  {
   "cell_type": "code",
   "execution_count": 13,
   "metadata": {},
   "outputs": [
    {
     "data": {
      "text/plain": [
       "Power_divergenceResult(statistic=17.799999999999997, pvalue=0.0032077920346052823)"
      ]
     },
     "execution_count": 13,
     "metadata": {},
     "output_type": "execute_result"
    }
   ],
   "source": [
    "import scipy as sp\n",
    "n = np.array([1, 2, 4, 1, 2, 10]) # 주사위를 20번 던졌을 때 1-6사이의 눈이 나오는 빈도\n",
    "sp.stats.chisquare(n) # 귀무가설 : 각 눈의 빈도는 동일한 확률로 나온다\n",
    "\n",
    "# 귀무가설 기각"
   ]
  },
  {
   "cell_type": "markdown",
   "metadata": {},
   "source": [
    "### t 검정"
   ]
  },
  {
   "cell_type": "code",
   "execution_count": 16,
   "metadata": {},
   "outputs": [
    {
     "data": {
      "text/plain": [
       "(0.7380231707288347, 1.400646015162435)"
      ]
     },
     "execution_count": 16,
     "metadata": {},
     "output_type": "execute_result"
    }
   ],
   "source": [
    "np.random.seed(0)\n",
    "x1 = stats.norm(0, 1).rvs(10) # 평균이 0인 정규 분포에서 표본 10개 추출\n",
    "x2 = stats.norm(1, 1).rvs(10) # 평균이 1인 정규 분포에서 표본 10개 추출\n",
    "np.mean(x1), np.mean(x2)"
   ]
  },
  {
   "cell_type": "code",
   "execution_count": 17,
   "metadata": {},
   "outputs": [
    {
     "data": {
      "text/plain": [
       "Ttest_indResult(statistic=-1.6868710732328158, pvalue=0.10888146383913824)"
      ]
     },
     "execution_count": 17,
     "metadata": {},
     "output_type": "execute_result"
    }
   ],
   "source": [
    "stats.ttest_ind(x1, x2) # 두 집단의 모평균이 같다는 귀무 가설에 대해 t검정"
   ]
  },
  {
   "cell_type": "markdown",
   "metadata": {},
   "source": [
    "### 쌍체 t 검정하기"
   ]
  },
  {
   "cell_type": "code",
   "execution_count": 18,
   "metadata": {},
   "outputs": [],
   "source": [
    "# 어떤 처치의 전후로 통증 크기를 before와 after로 기록하였다. 처치 전의 평균과 처치 후의 평균이 차이가 있는지 쌍체 t검정으로 확인하기\n",
    "# 숫자가 클수록 통증이 심하며 통증은 0~100사이의 값으로 표현\n",
    "before = [68, 56, 57, 54, 64, 48, 68, 56, 61, 58, 67, 49, 58, 58, 65, 54, 59, 55, 60, 62]\n",
    "after = [65, 57, 57, 54, 64, 47, 67, 54, 60, 58, 65, 48, 57, 56, 64, 53, 57, 55, 61, 63]"
   ]
  },
  {
   "cell_type": "code",
   "execution_count": 19,
   "metadata": {},
   "outputs": [
    {
     "data": {
      "text/plain": [
       "Ttest_relResult(statistic=3.0, pvalue=0.007361724183868639)"
      ]
     },
     "execution_count": 19,
     "metadata": {},
     "output_type": "execute_result"
    }
   ],
   "source": [
    "# 귀무 가설 : 처치 전후로 통증의 차이가 없다\n",
    "# 대립 가설 : 처치 전후의 통증 차이가 있다\n",
    "\n",
    "stats.ttest_rel(before, after)"
   ]
  },
  {
   "cell_type": "markdown",
   "metadata": {},
   "source": [
    "### 쌍체 t검정 2"
   ]
  },
  {
   "cell_type": "code",
   "execution_count": 20,
   "metadata": {},
   "outputs": [],
   "source": [
    "# 고객 5명에게 광고 전후로 제품에 대한 선호도를 측정하였다. 광고 효과가 있는지 확인하기.\n",
    "# 1~10 사이의 값으로 측정, 10 : 제품을 매우 선호. 1 : 제품을 선호하지 않음\n",
    "before = [2, 3, 2, 3, 2]\n",
    "after = [9, 8, 9, 7, 6]\n",
    "\n",
    "# 귀무 가설 : 광고 전후의 선호도 차이가 없다\n",
    "# 대립 가설 : 광고 전후의 선호도 차이가 있다"
   ]
  },
  {
   "cell_type": "code",
   "execution_count": 21,
   "metadata": {},
   "outputs": [
    {
     "data": {
      "text/plain": [
       "Ttest_relResult(statistic=-7.961865632364446, pvalue=0.001348170975769803)"
      ]
     },
     "execution_count": 21,
     "metadata": {},
     "output_type": "execute_result"
    }
   ],
   "source": [
    "# 유의 수준이 5%라면 귀무가설 기각\n",
    "stats.ttest_rel(before, after)"
   ]
  },
  {
   "cell_type": "code",
   "execution_count": null,
   "metadata": {},
   "outputs": [],
   "source": []
  }
 ],
 "metadata": {
  "kernelspec": {
   "display_name": "Python 3",
   "language": "python",
   "name": "python3"
  },
  "language_info": {
   "codemirror_mode": {
    "name": "ipython",
    "version": 3
   },
   "file_extension": ".py",
   "mimetype": "text/x-python",
   "name": "python",
   "nbconvert_exporter": "python",
   "pygments_lexer": "ipython3",
   "version": "3.7.6"
  }
 },
 "nbformat": 4,
 "nbformat_minor": 4
}
