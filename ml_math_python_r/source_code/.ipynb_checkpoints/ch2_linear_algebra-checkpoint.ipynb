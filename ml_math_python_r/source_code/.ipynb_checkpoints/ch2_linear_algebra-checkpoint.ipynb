{
 "cells": [
  {
   "cell_type": "code",
   "execution_count": 1,
   "metadata": {},
   "outputs": [
    {
     "data": {
      "text/plain": [
       "array([[-2. ,  1. ],\n",
       "       [ 1.5, -0.5]])"
      ]
     },
     "execution_count": 1,
     "metadata": {},
     "output_type": "execute_result"
    }
   ],
   "source": [
    "import numpy as np\n",
    "a = np.array([[1., 2.], [3., 4.]])\n",
    "np.linalg.inv(a) # 역행렬"
   ]
  },
  {
   "cell_type": "code",
   "execution_count": 3,
   "metadata": {},
   "outputs": [
    {
     "data": {
      "text/plain": [
       "-2.0000000000000004"
      ]
     },
     "execution_count": 3,
     "metadata": {},
     "output_type": "execute_result"
    }
   ],
   "source": [
    "np.linalg.det(a) # 행렬식"
   ]
  },
  {
   "cell_type": "markdown",
   "metadata": {},
   "source": [
    "### 고유값, 고유벡터, 주성분분석"
   ]
  },
  {
   "cell_type": "code",
   "execution_count": 3,
   "metadata": {},
   "outputs": [
    {
     "data": {
      "text/plain": [
       "array([[-1.63789386,  0.38309423, -0.41296792],\n",
       "       [-1.50265209, -1.67967793,  1.98008049],\n",
       "       [-3.43143719, -0.83088857,  0.73134327],\n",
       "       [ 1.9287851 , -0.84878936,  1.24873722],\n",
       "       [ 2.3753258 ,  0.28259255,  0.52722744],\n",
       "       [ 4.59500215, -1.03189193,  2.61173397],\n",
       "       [ 2.3475376 , -0.06571181,  2.73582697],\n",
       "       [ 5.55104049, -1.38406422, -1.5067567 ],\n",
       "       [ 5.04154285,  0.09948998,  1.89022418],\n",
       "       [ 4.62279035, -0.68358757,  0.40313444]])"
      ]
     },
     "execution_count": 3,
     "metadata": {},
     "output_type": "execute_result"
    }
   ],
   "source": [
    "from sklearn.decomposition import PCA\n",
    "M = np.array([[-1, -1, -1], [-2, -1, 2], [-3, -2, 0], [1, 1, 2], [2, 1, 1], [3, 2, 4], [2, 0, 3], [3, 5, 1], [4, 2, 3], [3, 3, 2]])\n",
    "# 주성분 2개로 지정\n",
    "pca = PCA(n_components=2) \n",
    "pca.fit(M)\n",
    "PC = pca.transform(M)\n",
    "# w는 고유값, V는 고유벡터\n",
    "w, V = np.linalg.eig(pca.get_covariance())\n",
    "# 원래 데이터를 나타내는 주성분 3개\n",
    "V.T.dot(M.T).T"
   ]
  },
  {
   "cell_type": "code",
   "execution_count": 8,
   "metadata": {},
   "outputs": [],
   "source": [
    "import numpy as np\n",
    "from scipy import linalg, sparse\n",
    "\n",
    "A = np.matrix(np.random.random((2, 2)))\n",
    "# 2 by 2 numpy array \n",
    "b = np.random.random((2, 2))\n",
    "# 2차원 배열을 행렬로 변환\n",
    "B = np.asmatrix(b)\n",
    "# 임의의 10 by 5 행렬\n",
    "C = np.mat(np.random.random((10, 5)))\n",
    "# 2차원 자료를 나타낸 리스트를 행렬로 표현\n",
    "D = np.mat([[3, 4], [5, 6]]) "
   ]
  },
  {
   "cell_type": "code",
   "execution_count": 9,
   "metadata": {},
   "outputs": [
    {
     "name": "stdout",
     "output_type": "stream",
     "text": [
      "[[0.77504325 0.34849986]\n",
      " [0.48750012 0.78527493]]\n"
     ]
    }
   ],
   "source": [
    "print(A)"
   ]
  },
  {
   "cell_type": "code",
   "execution_count": 10,
   "metadata": {},
   "outputs": [
    {
     "name": "stdout",
     "output_type": "stream",
     "text": [
      "[[0.79169908 0.23892084]\n",
      " [0.9506816  0.98589278]]\n"
     ]
    }
   ],
   "source": [
    "print(B)"
   ]
  },
  {
   "cell_type": "code",
   "execution_count": 11,
   "metadata": {},
   "outputs": [
    {
     "name": "stdout",
     "output_type": "stream",
     "text": [
      "[[0.46260862 0.08736625 0.88852474 0.04863861 0.4743236 ]\n",
      " [0.71825151 0.49717577 0.22615483 0.57771856 0.769216  ]\n",
      " [0.51768948 0.2485036  0.32409291 0.63985036 0.91814631]\n",
      " [0.27960517 0.28796555 0.17587318 0.66015508 0.24985594]\n",
      " [0.92309264 0.32908906 0.59602843 0.55539959 0.13273521]\n",
      " [0.77616042 0.58650215 0.45041512 0.03042282 0.35159808]\n",
      " [0.49938905 0.315228   0.96773728 0.07532623 0.82601999]\n",
      " [0.14574673 0.53803676 0.6865556  0.76563601 0.18205684]\n",
      " [0.60753287 0.90091493 0.97936252 0.03194373 0.09939223]\n",
      " [0.44833099 0.83810643 0.21177602 0.30947921 0.64002835]]\n"
     ]
    }
   ],
   "source": [
    "print(C)"
   ]
  },
  {
   "cell_type": "code",
   "execution_count": 12,
   "metadata": {},
   "outputs": [
    {
     "name": "stdout",
     "output_type": "stream",
     "text": [
      "[[3 4]\n",
      " [5 6]]\n"
     ]
    }
   ],
   "source": [
    "print(D)"
   ]
  },
  {
   "cell_type": "code",
   "execution_count": 13,
   "metadata": {},
   "outputs": [
    {
     "data": {
      "text/plain": [
       "matrix([[ 1.78988892, -0.79434096],\n",
       "        [-1.11116634,  1.76656768]])"
      ]
     },
     "execution_count": 13,
     "metadata": {},
     "output_type": "execute_result"
    }
   ],
   "source": [
    "A.I"
   ]
  },
  {
   "cell_type": "code",
   "execution_count": 14,
   "metadata": {},
   "outputs": [
    {
     "data": {
      "text/plain": [
       "0.4387283056642382"
      ]
     },
     "execution_count": 14,
     "metadata": {},
     "output_type": "execute_result"
    }
   ],
   "source": [
    "linalg.det(A)"
   ]
  },
  {
   "cell_type": "code",
   "execution_count": 15,
   "metadata": {},
   "outputs": [
    {
     "data": {
      "text/plain": [
       "matrix([[0.77504325, 0.48750012],\n",
       "        [0.34849986, 0.78527493]])"
      ]
     },
     "execution_count": 15,
     "metadata": {},
     "output_type": "execute_result"
    }
   ],
   "source": [
    "A.T"
   ]
  },
  {
   "cell_type": "code",
   "execution_count": 16,
   "metadata": {},
   "outputs": [
    {
     "data": {
      "text/plain": [
       "matrix([[3.77504325, 4.34849986],\n",
       "        [5.48750012, 6.78527493]])"
      ]
     },
     "execution_count": 16,
     "metadata": {},
     "output_type": "execute_result"
    }
   ],
   "source": [
    "np.add(A, D)"
   ]
  },
  {
   "cell_type": "code",
   "execution_count": 17,
   "metadata": {},
   "outputs": [
    {
     "data": {
      "text/plain": [
       "matrix([[-2.22495675, -3.65150014],\n",
       "        [-4.51249988, -5.21472507]])"
      ]
     },
     "execution_count": 17,
     "metadata": {},
     "output_type": "execute_result"
    }
   ],
   "source": [
    "np.subtract(A, D)"
   ]
  },
  {
   "cell_type": "code",
   "execution_count": 18,
   "metadata": {},
   "outputs": [
    {
     "data": {
      "text/plain": [
       "matrix([[0.25834775, 0.08712497],\n",
       "        [0.09750002, 0.13087916]])"
      ]
     },
     "execution_count": 18,
     "metadata": {},
     "output_type": "execute_result"
    }
   ],
   "source": [
    "np.divide(A, D)"
   ]
  },
  {
   "cell_type": "code",
   "execution_count": 19,
   "metadata": {},
   "outputs": [
    {
     "name": "stdout",
     "output_type": "stream",
     "text": [
      "[[6.17782364 4.66033363]\n",
      " [9.662585   7.10996086]]\n"
     ]
    }
   ],
   "source": [
    "# D와 B의 행렬곱을 @로 계산\n",
    "print(D@B)"
   ]
  },
  {
   "cell_type": "code",
   "execution_count": 20,
   "metadata": {},
   "outputs": [
    {
     "name": "stdout",
     "output_type": "stream",
     "text": [
      "[[6.17782364 4.66033363]\n",
      " [9.662585   7.10996086]]\n"
     ]
    }
   ],
   "source": [
    "# D와 B의 행렬곱 using dot\n",
    "print(np.dot(D, B))"
   ]
  },
  {
   "cell_type": "code",
   "execution_count": 21,
   "metadata": {},
   "outputs": [
    {
     "name": "stdout",
     "output_type": "stream",
     "text": [
      "[[2.37509723 0.95568335]\n",
      " [4.75340801 5.91535667]]\n"
     ]
    }
   ],
   "source": [
    "# 행렬곱이 아닌 대응되는 원소끼리의 단순 곱셈 수행\n",
    "print(np.multiply(D, B))"
   ]
  },
  {
   "cell_type": "code",
   "execution_count": 22,
   "metadata": {},
   "outputs": [],
   "source": [
    "# 2 by 2 항등행렬\n",
    "G = np.mat(np.identity(2))"
   ]
  },
  {
   "cell_type": "code",
   "execution_count": 23,
   "metadata": {},
   "outputs": [
    {
     "data": {
      "text/plain": [
       "matrix([[1., 0.],\n",
       "        [0., 1.]])"
      ]
     },
     "execution_count": 23,
     "metadata": {},
     "output_type": "execute_result"
    }
   ],
   "source": [
    "G"
   ]
  },
  {
   "cell_type": "code",
   "execution_count": 24,
   "metadata": {},
   "outputs": [
    {
     "data": {
      "text/plain": [
       "array([0.36794568+0.j, 1.1923725 +0.j])"
      ]
     },
     "execution_count": 24,
     "metadata": {},
     "output_type": "execute_result"
    }
   ],
   "source": [
    "# 고유값 확인\n",
    "linalg.eigvals(A)"
   ]
  },
  {
   "cell_type": "code",
   "execution_count": 25,
   "metadata": {},
   "outputs": [],
   "source": [
    "# A의 고유 벡터\n",
    "la, v = linalg.eig(A)"
   ]
  },
  {
   "cell_type": "code",
   "execution_count": 26,
   "metadata": {},
   "outputs": [],
   "source": [
    "# 고유값을 l1, l2로 받기\n",
    "l1, l2 = la"
   ]
  },
  {
   "cell_type": "code",
   "execution_count": 27,
   "metadata": {},
   "outputs": [
    {
     "data": {
      "text/plain": [
       "array([-0.65031695,  0.75966299])"
      ]
     },
     "execution_count": 27,
     "metadata": {},
     "output_type": "execute_result"
    }
   ],
   "source": [
    "# 첫 번째 고유 벡터\n",
    "v[:, 0]"
   ]
  },
  {
   "cell_type": "code",
   "execution_count": 28,
   "metadata": {},
   "outputs": [
    {
     "data": {
      "text/plain": [
       "array([-0.64097154, -0.76756465])"
      ]
     },
     "execution_count": 28,
     "metadata": {},
     "output_type": "execute_result"
    }
   ],
   "source": [
    "# 두 번째 고유 벡터\n",
    "v[:, 1]"
   ]
  },
  {
   "cell_type": "code",
   "execution_count": 29,
   "metadata": {},
   "outputs": [],
   "source": [
    "C[C > 0.5] = 0"
   ]
  },
  {
   "cell_type": "code",
   "execution_count": 30,
   "metadata": {},
   "outputs": [],
   "source": [
    "# C를 희소행렬로 변환\n",
    "H = sparse.csr_matrix(C)"
   ]
  },
  {
   "cell_type": "code",
   "execution_count": 31,
   "metadata": {},
   "outputs": [
    {
     "data": {
      "text/plain": [
       "matrix([[0.46260862, 0.08736625, 0.        , 0.04863861, 0.4743236 ],\n",
       "        [0.        , 0.49717577, 0.22615483, 0.        , 0.        ],\n",
       "        [0.        , 0.2485036 , 0.32409291, 0.        , 0.        ],\n",
       "        [0.27960517, 0.28796555, 0.17587318, 0.        , 0.24985594],\n",
       "        [0.        , 0.32908906, 0.        , 0.        , 0.13273521],\n",
       "        [0.        , 0.        , 0.45041512, 0.03042282, 0.35159808],\n",
       "        [0.49938905, 0.315228  , 0.        , 0.07532623, 0.        ],\n",
       "        [0.14574673, 0.        , 0.        , 0.        , 0.18205684],\n",
       "        [0.        , 0.        , 0.        , 0.03194373, 0.09939223],\n",
       "        [0.44833099, 0.        , 0.21177602, 0.30947921, 0.        ]])"
      ]
     },
     "execution_count": 31,
     "metadata": {},
     "output_type": "execute_result"
    }
   ],
   "source": [
    "# H를 일반적인 행렬(dense matrix) 형태로 변환\n",
    "H.todense()"
   ]
  },
  {
   "cell_type": "code",
   "execution_count": 32,
   "metadata": {},
   "outputs": [
    {
     "data": {
      "text/plain": [
       "True"
      ]
     },
     "execution_count": 32,
     "metadata": {},
     "output_type": "execute_result"
    }
   ],
   "source": [
    "# 희소행렬 여부 확인\n",
    "sparse.isspmatrix_csr(H)"
   ]
  },
  {
   "cell_type": "code",
   "execution_count": null,
   "metadata": {},
   "outputs": [],
   "source": []
  }
 ],
 "metadata": {
  "kernelspec": {
   "display_name": "Python 3",
   "language": "python",
   "name": "python3"
  },
  "language_info": {
   "codemirror_mode": {
    "name": "ipython",
    "version": 3
   },
   "file_extension": ".py",
   "mimetype": "text/x-python",
   "name": "python",
   "nbconvert_exporter": "python",
   "pygments_lexer": "ipython3",
   "version": "3.7.6"
  }
 },
 "nbformat": 4,
 "nbformat_minor": 4
}
