{
 "cells": [
  {
   "cell_type": "code",
   "execution_count": 2,
   "metadata": {},
   "outputs": [],
   "source": [
    "# -*- coding : utf-8 -*-\n",
    "%matplotlib inline\n",
    "import pandas as pd\n",
    "import numpy as np\n",
    "import matplotlib.pyplot as plt\n",
    "import requests\n",
    "from bs4 import BeautifulSoup\n",
    "import re\n",
    "\n",
    "source_url = 'https://namu.wiki/RecentChanges'\n",
    "\n",
    "#\n",
    "req = requests.get(source_url)\n",
    "html = req.content \n",
    "soup = BeautifulSoup(html, 'lxml')\n",
    "contents_table = soup.find(name = 'table')\n",
    "table_body = contents_table.find(name = 'tbody')\n",
    "table_rows = table_body.find_all(name = \"tr\")\n",
    "\n",
    "#\n",
    "page_url_base = 'https://namu.wiki'\n",
    "page_urls = []\n",
    "for index in range(0, len(table_rows)):\n",
    "    first_td = table_rows[index].find_all('td')[0]\n",
    "    td_url = first_td.find_all('a')\n",
    "    if len(td_url) > 0:\n",
    "        page_url = page_url_base + td_url[0].get('href')\n",
    "        page_urls.append(page_url)\n",
    "\n",
    "# 중복 url 제거\n",
    "page_urls = list(set(page_urls))"
   ]
  },
  {
   "cell_type": "code",
   "execution_count": null,
   "metadata": {},
   "outputs": [],
   "source": [
    "# 나무위키의 최근 변경 데이터 크롤링\n",
    "columns =['title', 'category', 'content_text']\n",
    "df = pd.DataFrame(columns = columns)\n",
    "\n",
    "# 각 페이지 별 제목, 카테고리, 본문 정보를 데이터 프레임으로 만들기\n",
    "for page_url in page_urls:\n",
    "    \n",
    "    req"
   ]
  }
 ],
 "metadata": {
  "kernelspec": {
   "display_name": "Python 3",
   "language": "python",
   "name": "python3"
  },
  "language_info": {
   "codemirror_mode": {
    "name": "ipython",
    "version": 3
   },
   "file_extension": ".py",
   "mimetype": "text/x-python",
   "name": "python",
   "nbconvert_exporter": "python",
   "pygments_lexer": "ipython3",
   "version": "3.7.6"
  }
 },
 "nbformat": 4,
 "nbformat_minor": 4
}
