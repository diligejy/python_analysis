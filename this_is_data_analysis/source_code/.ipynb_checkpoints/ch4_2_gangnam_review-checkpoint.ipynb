{
 "cells": [
  {
   "cell_type": "markdown",
   "metadata": {},
   "source": [
    "## 텍스트 전처리"
   ]
  },
  {
   "cell_type": "code",
   "execution_count": 2,
   "metadata": {},
   "outputs": [],
   "source": [
    "%matplotlib inline\n",
    "import matplotlib.pyplot as plt\n",
    "import numpy as np \n",
    "import pandas as pd\n",
    "import seaborn as sns\n",
    "import requests\n",
    "import json"
   ]
  },
  {
   "cell_type": "code",
   "execution_count": 5,
   "metadata": {},
   "outputs": [],
   "source": [
    "import re\n",
    "\n",
    "# 텍스트 정제 함수 : 한글 이외의 문자는 전부 제거\n",
    "def text_cleaning(text):\n",
    "    # 한글의 정규표현식으로 한글만 추출합니다.\n",
    "    hangul = re.compile('[^ ㄱ-ㅣ가-힣]+')\n",
    "    result = hangul.sub('', text)\n",
    "    return result"
   ]
  },
  {
   "cell_type": "code",
   "execution_count": 6,
   "metadata": {},
   "outputs": [
    {
     "data": {
      "text/html": [
       "<div>\n",
       "<style scoped>\n",
       "    .dataframe tbody tr th:only-of-type {\n",
       "        vertical-align: middle;\n",
       "    }\n",
       "\n",
       "    .dataframe tbody tr th {\n",
       "        vertical-align: top;\n",
       "    }\n",
       "\n",
       "    .dataframe thead th {\n",
       "        text-align: right;\n",
       "    }\n",
       "</style>\n",
       "<table border=\"1\" class=\"dataframe\">\n",
       "  <thead>\n",
       "    <tr style=\"text-align: right;\">\n",
       "      <th></th>\n",
       "      <th>score</th>\n",
       "      <th>y</th>\n",
       "      <th>ko_text</th>\n",
       "    </tr>\n",
       "  </thead>\n",
       "  <tbody>\n",
       "    <tr>\n",
       "      <th>0</th>\n",
       "      <td>5</td>\n",
       "      <td>1</td>\n",
       "      <td>친절하시고 깔끔하고 좋았습니다</td>\n",
       "    </tr>\n",
       "    <tr>\n",
       "      <th>1</th>\n",
       "      <td>5</td>\n",
       "      <td>1</td>\n",
       "      <td>조용하고 고기도 굿</td>\n",
       "    </tr>\n",
       "    <tr>\n",
       "      <th>2</th>\n",
       "      <td>4</td>\n",
       "      <td>1</td>\n",
       "      <td>갈비탕과 냉면 육회비빔밥이 맛있습니다</td>\n",
       "    </tr>\n",
       "    <tr>\n",
       "      <th>3</th>\n",
       "      <td>4</td>\n",
       "      <td>1</td>\n",
       "      <td>대체적으로 만족하나와인의 구성이 살짝 아쉬움</td>\n",
       "    </tr>\n",
       "    <tr>\n",
       "      <th>4</th>\n",
       "      <td>5</td>\n",
       "      <td>1</td>\n",
       "      <td>고기도 맛있고 서비스는 더 최고입니다</td>\n",
       "    </tr>\n",
       "  </tbody>\n",
       "</table>\n",
       "</div>"
      ],
      "text/plain": [
       "   score  y                   ko_text\n",
       "0      5  1          친절하시고 깔끔하고 좋았습니다\n",
       "1      5  1                조용하고 고기도 굿\n",
       "2      4  1      갈비탕과 냉면 육회비빔밥이 맛있습니다\n",
       "3      4  1  대체적으로 만족하나와인의 구성이 살짝 아쉬움\n",
       "4      5  1      고기도 맛있고 서비스는 더 최고입니다"
      ]
     },
     "execution_count": 6,
     "metadata": {},
     "output_type": "execute_result"
    }
   ],
   "source": [
    "# 함수를 적용하여 리뷰에서 한글만 추출합니다.\n",
    "df = pd.read_csv(\"https://raw.githubusercontent.com/yoonkt200/python-data-analysis/master/chapter4/review_data.csv\")\n",
    "df['ko_text'] = df['review'].apply(lambda x: text_cleaning(x))\n",
    "del df['review']\n",
    "df.head()"
   ]
  },
  {
   "cell_type": "code",
   "execution_count": 7,
   "metadata": {},
   "outputs": [
    {
     "name": "stdout",
     "output_type": "stream",
     "text": [
      "['친절하시고/Adjective', '깔끔하고/Adjective', '좋았습니다/Adjective']\n"
     ]
    }
   ],
   "source": [
    "from konlpy.tag import Okt\n",
    "\n",
    "def get_pos(x):\n",
    "    tagger = Okt()\n",
    "    pos = tagger.pos(x)\n",
    "    pos = ['{}/{}'.format(word, tag) for word, tag in pos]\n",
    "    return pos\n",
    "\n",
    "# 형태소 추출 동작을 테스트\n",
    "result = get_pos(df['ko_text'][0])\n",
    "print(result)"
   ]
  },
  {
   "cell_type": "code",
   "execution_count": 8,
   "metadata": {},
   "outputs": [
    {
     "name": "stdout",
     "output_type": "stream",
     "text": [
      "(545, 3030)\n"
     ]
    }
   ],
   "source": [
    "# corpus index 생성\n",
    "from sklearn.feature_extraction.text import CountVectorizer\n",
    "\n",
    "# 형태소를 벡터 형태의 학습 데이터셋으로 변환\n",
    "index_vectorizer = CountVectorizer(tokenizer=lambda x : get_pos(x))\n",
    "X = index_vectorizer.fit_transform(df['ko_text'].tolist())\n",
    "print(X.shape)"
   ]
  },
  {
   "cell_type": "code",
   "execution_count": 9,
   "metadata": {},
   "outputs": [
    {
     "name": "stdout",
     "output_type": "stream",
     "text": [
      "{'친절하시고/Adjective': 2647, '깔끔하고/Adjective': 428, '좋았습니다/Adjective': 2403, '조용하고/Adjective': 2356, '고..\n"
     ]
    }
   ],
   "source": [
    "print(str(index_vectorizer.vocabulary_)[:100] + '..')"
   ]
  },
  {
   "cell_type": "code",
   "execution_count": 10,
   "metadata": {},
   "outputs": [
    {
     "name": "stdout",
     "output_type": "stream",
     "text": [
      "친절하시고 깔끔하고 좋았습니다\n",
      "  (0, 2647)\t1\n",
      "  (0, 428)\t1\n",
      "  (0, 2403)\t1\n"
     ]
    }
   ],
   "source": [
    "print(df['ko_text'][0])\n",
    "print(X[0])"
   ]
  },
  {
   "cell_type": "code",
   "execution_count": 11,
   "metadata": {},
   "outputs": [
    {
     "name": "stdout",
     "output_type": "stream",
     "text": [
      "(545, 3030)\n",
      "  (0, 2647)\t0.5548708693511647\n",
      "  (0, 2403)\t0.48955631270748484\n",
      "  (0, 428)\t0.6726462183300624\n"
     ]
    }
   ],
   "source": [
    "# TF-IDF 변환\n",
    "from sklearn.feature_extraction.text import TfidfTransformer\n",
    "\n",
    "tfidf_vectorizer = TfidfTransformer()\n",
    "X = tfidf_vectorizer.fit_transform(X)\n",
    "\n",
    "print(X.shape)\n",
    "print(X[0])"
   ]
  },
  {
   "cell_type": "code",
   "execution_count": 12,
   "metadata": {},
   "outputs": [
    {
     "name": "stdout",
     "output_type": "stream",
     "text": [
      "(381, 3030)\n",
      "(164, 3030)\n"
     ]
    }
   ],
   "source": [
    "from sklearn.model_selection import train_test_split\n",
    "\n",
    "y = df['y']\n",
    "x_train, x_test, y_train, y_test = train_test_split(X, y, test_size = 0.3)\n",
    "print(x_train.shape)\n",
    "print(x_test.shape)"
   ]
  },
  {
   "cell_type": "code",
   "execution_count": 13,
   "metadata": {},
   "outputs": [
    {
     "name": "stdout",
     "output_type": "stream",
     "text": [
      "accuracy : 0.93\n",
      "Precision : 0.933\n",
      "Recall : 1.000\n",
      "F1 : 0.965\n"
     ]
    }
   ],
   "source": [
    "# 로지스틱\n",
    "from sklearn.linear_model import LogisticRegression\n",
    "from sklearn.metrics import accuracy_score, precision_score, recall_score, f1_score\n",
    "\n",
    "# 로지스틱 회귀 모델을 학습\n",
    "lr = LogisticRegression(random_state = 0)\n",
    "lr.fit(x_train, y_train)\n",
    "y_pred = lr.predict(x_test)\n",
    "y_pred_probability = lr.predict_proba(x_test)[:, 1]\n",
    "\n",
    "# 로지스틱 회귀 모델 성능 평가\n",
    "print('accuracy : %.2f' % accuracy_score(y_test, y_pred))\n",
    "print('Precision : %.3f' % precision_score(y_test, y_pred))\n",
    "print('Recall : %.3f' % recall_score(y_test, y_pred))\n",
    "print('F1 : %.3f' % f1_score(y_test, y_pred))"
   ]
  },
  {
   "cell_type": "code",
   "execution_count": 14,
   "metadata": {},
   "outputs": [
    {
     "name": "stdout",
     "output_type": "stream",
     "text": [
      "[[  0  11]\n",
      " [  0 153]]\n"
     ]
    }
   ],
   "source": [
    "from sklearn.metrics import confusion_matrix\n",
    "\n",
    "confmat = confusion_matrix(y_true=y_test, y_pred=y_pred)\n",
    "print(confmat)"
   ]
  },
  {
   "cell_type": "code",
   "execution_count": 15,
   "metadata": {},
   "outputs": [
    {
     "data": {
      "text/plain": [
       "1    492\n",
       "0     53\n",
       "Name: y, dtype: int64"
      ]
     },
     "execution_count": 15,
     "metadata": {},
     "output_type": "execute_result"
    }
   ],
   "source": [
    "# 클래스 불균형 문제 해결\n",
    "df['y'].value_counts()"
   ]
  },
  {
   "cell_type": "code",
   "execution_count": 16,
   "metadata": {},
   "outputs": [
    {
     "name": "stdout",
     "output_type": "stream",
     "text": [
      "(70, 3030)\n",
      "(30, 3030)\n"
     ]
    }
   ],
   "source": [
    "# 1:1 비율의 랜덤 샘플링\n",
    "positive_random_idx = df[df['y'] == 1].sample(50, random_state = 30).index.tolist()\n",
    "negative_random_idx = df[df['y'] == 0].sample(50, random_state = 30).index.tolist()\n",
    "\n",
    "# 랜덤 데이터로 데이터셋 나누기\n",
    "random_idx = positive_random_idx + negative_random_idx\n",
    "sample_X = X[random_idx, :]\n",
    "y = df['y'][random_idx]\n",
    "x_train, x_test, y_train, y_test = train_test_split(sample_X, y, test_size = 0.3)\n",
    "print(x_train.shape)\n",
    "print(x_test.shape)"
   ]
  },
  {
   "cell_type": "code",
   "execution_count": 17,
   "metadata": {},
   "outputs": [
    {
     "name": "stdout",
     "output_type": "stream",
     "text": [
      "accuracy : 0.40\n",
      "Precision : 1.000\n",
      "Recall : 0.053\n",
      "F1 : 0.100\n"
     ]
    }
   ],
   "source": [
    "lr = LogisticRegression(random_state = 0)\n",
    "lr.fit(x_train, y_train)\n",
    "y_pred = lr.predict(x_test)\n",
    "y_pred_probability = lr.predict_proba(x_test)[:, 1]\n",
    "\n",
    "# 학습한 데이터 평가\n",
    "print('accuracy : %.2f' % accuracy_score(y_test, y_pred))\n",
    "print('Precision : %.3f' % precision_score(y_test, y_pred))\n",
    "print('Recall : %.3f' % recall_score(y_test, y_pred))\n",
    "print('F1 : %.3f' % f1_score(y_test, y_pred))"
   ]
  },
  {
   "cell_type": "code",
   "execution_count": 18,
   "metadata": {},
   "outputs": [
    {
     "name": "stdout",
     "output_type": "stream",
     "text": [
      "[[11  0]\n",
      " [18  1]]\n"
     ]
    }
   ],
   "source": [
    "confmat = confusion_matrix(y_true = y_test, y_pred = y_pred)\n",
    "print(confmat)"
   ]
  },
  {
   "cell_type": "code",
   "execution_count": 19,
   "metadata": {},
   "outputs": [
    {
     "name": "stdout",
     "output_type": "stream",
     "text": [
      "[(0.6804224682412071, 428), (0.6520257958242467, 1013), (0.5126521652426065, 999), (0.5019411060359005, 1093), (0.3942835822404704, 2622)]\n",
      "[(-0.4299265139059332, 2082), (-0.43905213765003226, 589), (-0.4538256333369165, 1309), (-0.4552306866510172, 980), (-0.5203346175193401, 2069)]\n"
     ]
    },
    {
     "name": "stderr",
     "output_type": "stream",
     "text": [
      "findfont: Font family ['NanumGothic'] not found. Falling back to DejaVu Sans.\n"
     ]
    },
    {
     "data": {
      "image/png": "[encoded data removed]",
      "text/plain": [
       "<Figure size 720x576 with 1 Axes>"
      ]
     },
     "metadata": {
      "needs_background": "light"
     },
     "output_type": "display_data"
    }
   ],
   "source": [
    "plt.rcParams['figure.figsize'] = [10, 8]\n",
    "plt.bar(range(len(lr.coef_[0])), lr.coef_[0])\n",
    "print(sorted(((value, index) for index, value in enumerate(lr.coef_[0])), reverse=True)[:5])\n",
    "print(sorted(((value, index) for index, value in enumerate(lr.coef_[0])), reverse=True)[-5:])"
   ]
  },
  {
   "cell_type": "code",
   "execution_count": 20,
   "metadata": {},
   "outputs": [
    {
     "name": "stdout",
     "output_type": "stream",
     "text": [
      "{2647: '친절하시고/Adjective', 428: '깔끔하고/Adjective', 2403: '좋았습니다/Adjective', 2356: '조용하고/Adjective', 23..\n"
     ]
    }
   ],
   "source": [
    "# 중요 변수의 형태소\n",
    "\n",
    "# 회귀 모델의 계수를 높은 순으로 정렬\n",
    "coef_pos_index = sorted(((value, index) for index, value in enumerate(lr.coef_[0])), reverse=True)\n",
    "\n",
    "# 회귀 모델의 계수를 index_vectorizer에 매핑하여 어떤 형태소인지 출력할 수 있게 함\n",
    "invert_index_vectorizer = {v:k for k, v in index_vectorizer.vocabulary_.items()}\n",
    "\n",
    "# 계수가 높은 순으로 피처에 형태소를 매핑한 결과를 출력\n",
    "print(str(invert_index_vectorizer)[:100] + '..')"
   ]
  },
  {
   "cell_type": "code",
   "execution_count": null,
   "metadata": {},
   "outputs": [],
   "source": []
  },
  {
   "cell_type": "code",
   "execution_count": null,
   "metadata": {},
   "outputs": [],
   "source": []
  },
  {
   "cell_type": "code",
   "execution_count": null,
   "metadata": {},
   "outputs": [],
   "source": []
  },
  {
   "cell_type": "code",
   "execution_count": null,
   "metadata": {},
   "outputs": [],
   "source": []
  },
  {
   "cell_type": "code",
   "execution_count": null,
   "metadata": {},
   "outputs": [],
   "source": []
  },
  {
   "cell_type": "code",
   "execution_count": null,
   "metadata": {},
   "outputs": [],
   "source": []
  },
  {
   "cell_type": "code",
   "execution_count": null,
   "metadata": {},
   "outputs": [],
   "source": []
  },
  {
   "cell_type": "code",
   "execution_count": null,
   "metadata": {},
   "outputs": [],
   "source": []
  },
  {
   "cell_type": "code",
   "execution_count": null,
   "metadata": {},
   "outputs": [],
   "source": []
  },
  {
   "cell_type": "code",
   "execution_count": null,
   "metadata": {},
   "outputs": [],
   "source": []
  },
  {
   "cell_type": "code",
   "execution_count": null,
   "metadata": {},
   "outputs": [],
   "source": []
  },
  {
   "cell_type": "code",
   "execution_count": null,
   "metadata": {},
   "outputs": [],
   "source": []
  },
  {
   "cell_type": "code",
   "execution_count": null,
   "metadata": {},
   "outputs": [],
   "source": []
  }
 ],
 "metadata": {
  "kernelspec": {
   "display_name": "Python 3",
   "language": "python",
   "name": "python3"
  },
  "language_info": {
   "codemirror_mode": {
    "name": "ipython",
    "version": 3
   },
   "file_extension": ".py",
   "mimetype": "text/x-python",
   "name": "python",
   "nbconvert_exporter": "python",
   "pygments_lexer": "ipython3",
   "version": "3.7.6"
  }
 },
 "nbformat": 4,
 "nbformat_minor": 4
}
