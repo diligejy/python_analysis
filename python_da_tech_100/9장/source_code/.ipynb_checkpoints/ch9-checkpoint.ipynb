{
 "cells": [
  {
   "cell_type": "code",
   "execution_count": 1,
   "metadata": {},
   "outputs": [],
   "source": [
    "import cv2"
   ]
  },
  {
   "cell_type": "code",
   "execution_count": 2,
   "metadata": {},
   "outputs": [
    {
     "name": "stdout",
     "output_type": "stream",
     "text": [
      "이미지 가로: 1920\n",
      "이미지 세로: 1440\n"
     ]
    }
   ],
   "source": [
    "import cv2\n",
    "img = cv2.imread(\"../img/img01.jpg\")\n",
    "height, width = img.shape[:2]\n",
    "print(\"이미지 가로: \" + str(width))\n",
    "print(\"이미지 세로: \" + str(height))\n",
    "cv2.namedWindow(\"img\",cv2.WINDOW_NORMAL)\n",
    "cv2.imshow(\"img\",img)\n",
    "cv2.waitKey(0)\n",
    "cv2.destroyAllWindows()"
   ]
  },
  {
   "cell_type": "code",
   "execution_count": null,
   "metadata": {},
   "outputs": [
    {
     "name": "stdout",
     "output_type": "stream",
     "text": [
      "가로: 1920.0\n",
      "세로: 1440.0\n",
      "총 프레임수: 401.0\n",
      "FPS: 30.0\n"
     ]
    }
   ],
   "source": [
    "import cv2\n",
    "\n",
    "# 정보 취득 #\n",
    "cap = cv2.VideoCapture(\"../mov/mov01.avi\")\n",
    "width = cap.get(cv2.CAP_PROP_FRAME_WIDTH)\n",
    "height = cap.get(cv2.CAP_PROP_FRAME_HEIGHT)\n",
    "count = cap.get(cv2.CAP_PROP_FRAME_COUNT)\n",
    "fps = cap.get(cv2.CAP_PROP_FPS)\n",
    "print(\"가로: \" + str(width))\n",
    "print(\"세로: \" + str(height))\n",
    "print(\"총 프레임수: \" + str(count))\n",
    "print(\"FPS: \" + str(fps))\n",
    "\n",
    "# 출력 #\n",
    "while(cap.isOpened()):\n",
    "    ret, frame = cap.read()\n",
    "    if ret:\n",
    "        cv2.imshow(\"frame\", frame)\n",
    "    if cv2.waitKey(1) & 0xFF == ord(\"q\"):\n",
    "        break\n",
    "cap.release()\n",
    "cv2.destroyAllWindows()"
   ]
  },
  {
   "cell_type": "code",
   "execution_count": null,
   "metadata": {},
   "outputs": [],
   "source": [
    "import cv2\n",
    "cap = cv2.VideoCapture(\"../mov/mov01.avi\")\n",
    "num = 0\n",
    "while(cap.isOpened()):\n",
    "    ret, frame = cap.read()\n",
    "    if ret:\n",
    "        cv2.imshow(\"frame\", frame)\n",
    "        filepath = \"../snapshot/snapshot_\" + str(num) + \".jpg\"\n",
    "        cv2.imwrite(filepath,frame)\n",
    "        if cv2.waitKey(1) & 0xFF == ord('q'):\n",
    "            break\n",
    "    num = num + 1\n",
    "cap.release()\n",
    "cv2.destroyAllWindows()"
   ]
  },
  {
   "cell_type": "code",
   "execution_count": null,
   "metadata": {},
   "outputs": [],
   "source": [
    "import cv2\n",
    "\n",
    "# 준비 #\n",
    "hog = cv2.HOGDescriptor()\n",
    "hog.setSVMDetector(cv2.HOGDescriptor_getDefaultPeopleDetector())\n",
    "hogParams = {'winStride': (8, 8), 'padding': (32, 32), 'scale': 1.05, 'hitThreshold':0, 'finalThreshold':5}\n",
    "\n",
    "# 검출 #\n",
    "img = cv2.imread(\"img/img01.jpg\")\n",
    "gray = cv2.cvtColor(img, cv2.COLOR_BGR2GRAY)\n",
    "human, r = hog.detectMultiScale(gray, **hogParams)\n",
    "if (len(human)>0):\n",
    "    for (x, y, w, h) in human:\n",
    "        cv2.rectangle(img, (x, y), (x + w, y + h), (255,255,255), 3)\n",
    "\n",
    "cv2.namedWindow(\"img\",cv2.WINDOW_NORMAL)\n",
    "cv2.imshow(\"img\",img)\n",
    "cv2.imwrite(\"temp.jpg\",img)\n",
    "cv2.waitKey(0)\n",
    "cv2.destroyAllWindows()"
   ]
  },
  {
   "cell_type": "code",
   "execution_count": null,
   "metadata": {},
   "outputs": [],
   "source": [
    "import cv2\n",
    "\n",
    "# 준비\n",
    "cascade_file = \"../haarcascade_frontalface_alt.xml\"\n",
    "cascade = cv2.CascadeClassifier(cascade_file)\n",
    "\n",
    "# 검출\n",
    "img = cv2.imread(\"img/img02.jpg\")\n",
    "gray = cv2.cvtColor(img, cv2.COLOR_BGR2GRAY)\n",
    "face_list = cascade.detectMultiScale(gray, minSize=(50, 50))\n",
    "\n",
    "# 검출한 얼굴 표시하기\n",
    "for (x, y, w, h) in face_list:\n",
    "    color = (0, 0, 225)\n",
    "    pen_w = 3\n",
    "    cv2.rectangle(img, (x, y), (x+w, y+h), color, thickness = pen_w)\n",
    "\n",
    "cv2.namedWindow(\"img\",cv2.WINDOW_NORMAL)\n",
    "cv2.imshow(\"img\",img)\n",
    "cv2.imwrite(\"temp.jpg\",img)\n",
    "cv2.waitKey(0)\n",
    "cv2.destroyAllWindows()"
   ]
  },
  {
   "cell_type": "code",
   "execution_count": null,
   "metadata": {},
   "outputs": [],
   "source": []
  }
 ],
 "metadata": {
  "kernelspec": {
   "display_name": "Python 3",
   "language": "python",
   "name": "python3"
  },
  "language_info": {
   "codemirror_mode": {
    "name": "ipython",
    "version": 3
   },
   "file_extension": ".py",
   "mimetype": "text/x-python",
   "name": "python",
   "nbconvert_exporter": "python",
   "pygments_lexer": "ipython3",
   "version": "3.7.6"
  }
 },
 "nbformat": 4,
 "nbformat_minor": 4
}
