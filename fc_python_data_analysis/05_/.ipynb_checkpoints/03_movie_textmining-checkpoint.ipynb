{
 "cells": [
  {
   "cell_type": "markdown",
   "metadata": {
    "colab_type": "text",
    "id": "B9Zrj8DMusOn"
   },
   "source": [
    "## 1) Library & Data Import"
   ]
  },
  {
   "cell_type": "code",
   "execution_count": 1,
   "metadata": {
    "colab": {},
    "colab_type": "code",
    "id": "yzvddH4TuuwD"
   },
   "outputs": [],
   "source": [
    "%matplotlib inline\n",
    "\n",
    "import pandas as pd\n",
    "import numpy as np\n",
    "import matplotlib.pyplot as plt\n",
    "import seaborn as sns\n",
    "\n",
    "import warnings\n",
    "warnings.filterwarnings(\"ignore\")"
   ]
  },
  {
   "cell_type": "code",
   "execution_count": 2,
   "metadata": {
    "colab": {},
    "colab_type": "code",
    "id": "Q_0x25QSuxrp"
   },
   "outputs": [],
   "source": [
    "df = pd.read_csv(\"https://raw.githubusercontent.com/yoonkt200/FastCampusDataset/master/bourne_scenario.csv\")"
   ]
  },
  {
   "cell_type": "code",
   "execution_count": 3,
   "metadata": {
    "colab": {
     "base_uri": "https://localhost:8080/",
     "height": 204
    },
    "colab_type": "code",
    "id": "90IQykX7vZ3t",
    "outputId": "c15d7e2c-4690-442e-c508-3198185dd1e4"
   },
   "outputs": [
    {
     "data": {
      "text/html": [
       "<div>\n",
       "<style scoped>\n",
       "    .dataframe tbody tr th:only-of-type {\n",
       "        vertical-align: middle;\n",
       "    }\n",
       "\n",
       "    .dataframe tbody tr th {\n",
       "        vertical-align: top;\n",
       "    }\n",
       "\n",
       "    .dataframe thead th {\n",
       "        text-align: right;\n",
       "    }\n",
       "</style>\n",
       "<table border=\"1\" class=\"dataframe\">\n",
       "  <thead>\n",
       "    <tr style=\"text-align: right;\">\n",
       "      <th></th>\n",
       "      <th>page_no</th>\n",
       "      <th>scene_title</th>\n",
       "      <th>text</th>\n",
       "    </tr>\n",
       "  </thead>\n",
       "  <tbody>\n",
       "    <tr>\n",
       "      <th>0</th>\n",
       "      <td>1</td>\n",
       "      <td>1         EXT. MERCEDES WINDSHIELD -- DUSK</td>\n",
       "      <td>1                It's raining...             ...</td>\n",
       "    </tr>\n",
       "    <tr>\n",
       "      <th>1</th>\n",
       "      <td>1</td>\n",
       "      <td>A1        INT. MERCEDES -- NIGHT</td>\n",
       "      <td>A1                On his knee -- a syringe an...</td>\n",
       "    </tr>\n",
       "    <tr>\n",
       "      <th>2</th>\n",
       "      <td>1</td>\n",
       "      <td>2         INT. COTTAGE BEDROOM -- NIGHT</td>\n",
       "      <td>2                BOURNE'S EYES OPEN! -- panic...</td>\n",
       "    </tr>\n",
       "    <tr>\n",
       "      <th>3</th>\n",
       "      <td>1</td>\n",
       "      <td>A2        INT. COTTAGE LIVING AREA/BATHROOM ...</td>\n",
       "      <td>A2                BOURNE moving for the medic...</td>\n",
       "    </tr>\n",
       "    <tr>\n",
       "      <th>4</th>\n",
       "      <td>2</td>\n",
       "      <td>3         INT./EXT. COTTAGE LIVING ROOM/VERA...</td>\n",
       "      <td>3                One minute later.  BOURNE mo...</td>\n",
       "    </tr>\n",
       "  </tbody>\n",
       "</table>\n",
       "</div>"
      ],
      "text/plain": [
       "   page_no                                        scene_title  \\\n",
       "0        1         1         EXT. MERCEDES WINDSHIELD -- DUSK   \n",
       "1        1                   A1        INT. MERCEDES -- NIGHT   \n",
       "2        1            2         INT. COTTAGE BEDROOM -- NIGHT   \n",
       "3        1    A2        INT. COTTAGE LIVING AREA/BATHROOM ...   \n",
       "4        2    3         INT./EXT. COTTAGE LIVING ROOM/VERA...   \n",
       "\n",
       "                                                text  \n",
       "0   1                It's raining...             ...  \n",
       "1   A1                On his knee -- a syringe an...  \n",
       "2   2                BOURNE'S EYES OPEN! -- panic...  \n",
       "3   A2                BOURNE moving for the medic...  \n",
       "4   3                One minute later.  BOURNE mo...  "
      ]
     },
     "execution_count": 3,
     "metadata": {},
     "output_type": "execute_result"
    }
   ],
   "source": [
    "df.head()"
   ]
  },
  {
   "cell_type": "markdown",
   "metadata": {
    "colab_type": "text",
    "id": "F8mjnHsgvioB"
   },
   "source": [
    "#### Feature Description\n",
    "- page_no : 데이터가 위치한 pdf 페이지 정보\n",
    "- scene_title : 씬 제목\n",
    "- text : 씬에 해당하는 지문/대본 텍스트 정보"
   ]
  },
  {
   "cell_type": "markdown",
   "metadata": {
    "colab_type": "text",
    "id": "i3P4CXUNvqtO"
   },
   "source": [
    "-----"
   ]
  },
  {
   "cell_type": "markdown",
   "metadata": {
    "colab_type": "text",
    "id": "EmWaX52Rvuol"
   },
   "source": [
    "## 2) 데이터셋 살펴보기"
   ]
  },
  {
   "cell_type": "markdown",
   "metadata": {
    "colab_type": "text",
    "id": "Fjj86LoLv3Wl"
   },
   "source": [
    "### 2-1) 기본 정보 탐색"
   ]
  },
  {
   "cell_type": "markdown",
   "metadata": {
    "colab_type": "text",
    "id": "BZdMSr7Hyv3C"
   },
   "source": [
    "##### 데이터셋 기본 정보 탐색"
   ]
  },
  {
   "cell_type": "code",
   "execution_count": 4,
   "metadata": {
    "colab": {},
    "colab_type": "code",
    "id": "yTRz57Qpvgl4"
   },
   "outputs": [
    {
     "data": {
      "text/plain": [
       "(320, 3)"
      ]
     },
     "execution_count": 4,
     "metadata": {},
     "output_type": "execute_result"
    }
   ],
   "source": [
    "df.shape"
   ]
  },
  {
   "cell_type": "code",
   "execution_count": 5,
   "metadata": {
    "colab": {},
    "colab_type": "code",
    "id": "lJq9dP3qvlMg"
   },
   "outputs": [
    {
     "name": "stdout",
     "output_type": "stream",
     "text": [
      "<class 'pandas.core.frame.DataFrame'>\n",
      "RangeIndex: 320 entries, 0 to 319\n",
      "Data columns (total 3 columns):\n",
      " #   Column       Non-Null Count  Dtype \n",
      "---  ------       --------------  ----- \n",
      " 0   page_no      320 non-null    int64 \n",
      " 1   scene_title  320 non-null    object\n",
      " 2   text         320 non-null    object\n",
      "dtypes: int64(1), object(2)\n",
      "memory usage: 7.6+ KB\n"
     ]
    }
   ],
   "source": [
    "df.info()"
   ]
  },
  {
   "cell_type": "code",
   "execution_count": 6,
   "metadata": {
    "colab": {},
    "colab_type": "code",
    "id": "K7SiIjlDwFGG"
   },
   "outputs": [
    {
     "data": {
      "text/plain": [
       "page_no        0\n",
       "scene_title    0\n",
       "text           0\n",
       "dtype: int64"
      ]
     },
     "execution_count": 6,
     "metadata": {},
     "output_type": "execute_result"
    }
   ],
   "source": [
    "df.isnull().sum()"
   ]
  },
  {
   "cell_type": "code",
   "execution_count": 7,
   "metadata": {
    "colab": {},
    "colab_type": "code",
    "id": "c51l1Bld6c15"
   },
   "outputs": [
    {
     "data": {
      "text/plain": [
       "\" 1                It's raining...                Light strobes across the wet glass at a rhythmic pace...                 Suddenly -- through the window a face -- JASON BOURNE --               riding in the backseat -- his gaze fixed.      \""
      ]
     },
     "execution_count": 7,
     "metadata": {},
     "output_type": "execute_result"
    }
   ],
   "source": [
    "df['text'][0]"
   ]
  },
  {
   "cell_type": "code",
   "execution_count": null,
   "metadata": {
    "colab": {},
    "colab_type": "code",
    "id": "rpvrIIgE6c5S"
   },
   "outputs": [],
   "source": []
  },
  {
   "cell_type": "code",
   "execution_count": 0,
   "metadata": {
    "colab": {},
    "colab_type": "code",
    "id": "JjX8EUde6f-g"
   },
   "outputs": [],
   "source": []
  },
  {
   "cell_type": "markdown",
   "metadata": {
    "colab_type": "text",
    "id": "7Ob0pe0oxI6Y"
   },
   "source": [
    "-----"
   ]
  },
  {
   "cell_type": "markdown",
   "metadata": {
    "colab_type": "text",
    "id": "vtLhtuYwxI86"
   },
   "source": [
    "## 3) 텍스트 데이터 전처리"
   ]
  },
  {
   "cell_type": "markdown",
   "metadata": {
    "colab_type": "text",
    "id": "ZAFsj3ppxI_J"
   },
   "source": [
    "### 3-1) 정규 표현식 적용"
   ]
  },
  {
   "cell_type": "code",
   "execution_count": 8,
   "metadata": {
    "colab": {},
    "colab_type": "code",
    "id": "__acxhPiw8X2"
   },
   "outputs": [],
   "source": [
    "import re \n",
    "\n",
    "def apply_regular_expression(text):\n",
    "    text = text.lower()\n",
    "    english = re.compile('[^ a-z]')\n",
    "    result = english.sub('', text)\n",
    "    result = re.sub(' +', ' ', result)\n",
    "    return result"
   ]
  },
  {
   "cell_type": "code",
   "execution_count": 9,
   "metadata": {
    "colab": {},
    "colab_type": "code",
    "id": "hE60OR0mxP0S"
   },
   "outputs": [
    {
     "data": {
      "text/plain": [
       "' its raining light strobes across the wet glass at a rhythmic pace suddenly through the window a face jason bourne riding in the backseat his gaze fixed '"
      ]
     },
     "execution_count": 9,
     "metadata": {},
     "output_type": "execute_result"
    }
   ],
   "source": [
    "apply_regular_expression(df['text'][0])"
   ]
  },
  {
   "cell_type": "code",
   "execution_count": 10,
   "metadata": {
    "colab": {},
    "colab_type": "code",
    "id": "zBgiHxOW3KhY"
   },
   "outputs": [],
   "source": [
    "df['preprocessed_text'] = df['text'].apply(lambda x : apply_regular_expression(x))"
   ]
  },
  {
   "cell_type": "code",
   "execution_count": 11,
   "metadata": {
    "colab": {},
    "colab_type": "code",
    "id": "WCtEGvDa3KkA"
   },
   "outputs": [
    {
     "data": {
      "text/html": [
       "<div>\n",
       "<style scoped>\n",
       "    .dataframe tbody tr th:only-of-type {\n",
       "        vertical-align: middle;\n",
       "    }\n",
       "\n",
       "    .dataframe tbody tr th {\n",
       "        vertical-align: top;\n",
       "    }\n",
       "\n",
       "    .dataframe thead th {\n",
       "        text-align: right;\n",
       "    }\n",
       "</style>\n",
       "<table border=\"1\" class=\"dataframe\">\n",
       "  <thead>\n",
       "    <tr style=\"text-align: right;\">\n",
       "      <th></th>\n",
       "      <th>page_no</th>\n",
       "      <th>scene_title</th>\n",
       "      <th>text</th>\n",
       "      <th>preprocessed_text</th>\n",
       "    </tr>\n",
       "  </thead>\n",
       "  <tbody>\n",
       "    <tr>\n",
       "      <th>0</th>\n",
       "      <td>1</td>\n",
       "      <td>1         EXT. MERCEDES WINDSHIELD -- DUSK</td>\n",
       "      <td>1                It's raining...             ...</td>\n",
       "      <td>its raining light strobes across the wet glas...</td>\n",
       "    </tr>\n",
       "    <tr>\n",
       "      <th>1</th>\n",
       "      <td>1</td>\n",
       "      <td>A1        INT. MERCEDES -- NIGHT</td>\n",
       "      <td>A1                On his knee -- a syringe an...</td>\n",
       "      <td>a on his knee a syringe and a gun the eyes of...</td>\n",
       "    </tr>\n",
       "    <tr>\n",
       "      <th>2</th>\n",
       "      <td>1</td>\n",
       "      <td>2         INT. COTTAGE BEDROOM -- NIGHT</td>\n",
       "      <td>2                BOURNE'S EYES OPEN! -- panic...</td>\n",
       "      <td>bournes eyes open panicked gasping trying to ...</td>\n",
       "    </tr>\n",
       "    <tr>\n",
       "      <th>3</th>\n",
       "      <td>1</td>\n",
       "      <td>A2        INT. COTTAGE LIVING AREA/BATHROOM ...</td>\n",
       "      <td>A2                BOURNE moving for the medic...</td>\n",
       "      <td>a bourne moving for the medicine cabinet digs...</td>\n",
       "    </tr>\n",
       "    <tr>\n",
       "      <th>4</th>\n",
       "      <td>2</td>\n",
       "      <td>3         INT./EXT. COTTAGE LIVING ROOM/VERA...</td>\n",
       "      <td>3                One minute later.  BOURNE mo...</td>\n",
       "      <td>one minute later bourne moves out onto the ve...</td>\n",
       "    </tr>\n",
       "  </tbody>\n",
       "</table>\n",
       "</div>"
      ],
      "text/plain": [
       "   page_no                                        scene_title  \\\n",
       "0        1         1         EXT. MERCEDES WINDSHIELD -- DUSK   \n",
       "1        1                   A1        INT. MERCEDES -- NIGHT   \n",
       "2        1            2         INT. COTTAGE BEDROOM -- NIGHT   \n",
       "3        1    A2        INT. COTTAGE LIVING AREA/BATHROOM ...   \n",
       "4        2    3         INT./EXT. COTTAGE LIVING ROOM/VERA...   \n",
       "\n",
       "                                                text  \\\n",
       "0   1                It's raining...             ...   \n",
       "1   A1                On his knee -- a syringe an...   \n",
       "2   2                BOURNE'S EYES OPEN! -- panic...   \n",
       "3   A2                BOURNE moving for the medic...   \n",
       "4   3                One minute later.  BOURNE mo...   \n",
       "\n",
       "                                   preprocessed_text  \n",
       "0   its raining light strobes across the wet glas...  \n",
       "1   a on his knee a syringe and a gun the eyes of...  \n",
       "2   bournes eyes open panicked gasping trying to ...  \n",
       "3   a bourne moving for the medicine cabinet digs...  \n",
       "4   one minute later bourne moves out onto the ve...  "
      ]
     },
     "execution_count": 11,
     "metadata": {},
     "output_type": "execute_result"
    }
   ],
   "source": [
    "df.head()"
   ]
  },
  {
   "cell_type": "markdown",
   "metadata": {
    "colab_type": "text",
    "id": "4eAD9Zhs3ZjB"
   },
   "source": [
    "### 3-2) Word Count"
   ]
  },
  {
   "cell_type": "markdown",
   "metadata": {
    "colab_type": "text",
    "id": "IvmzcY4k7BBQ"
   },
   "source": [
    "##### 말뭉치(코퍼스) 생성"
   ]
  },
  {
   "cell_type": "code",
   "execution_count": 12,
   "metadata": {
    "colab": {},
    "colab_type": "code",
    "id": "L1ACOzfQ3B9K"
   },
   "outputs": [],
   "source": [
    "corpus = df['preprocessed_text'].tolist()"
   ]
  },
  {
   "cell_type": "markdown",
   "metadata": {
    "colab_type": "text",
    "id": "tsN3ydKi3cNB"
   },
   "source": [
    "##### BoW 벡터 생성"
   ]
  },
  {
   "cell_type": "code",
   "execution_count": 13,
   "metadata": {
    "colab": {},
    "colab_type": "code",
    "id": "oMEmCNjQ3CE6"
   },
   "outputs": [],
   "source": [
    "from sklearn.feature_extraction.text import CountVectorizer\n",
    "\n",
    "vect = CountVectorizer(tokenizer=None, stop_words='english', analyzer='word').fit(corpus)\n",
    "bow_vect = vect.fit_transform(corpus)\n",
    "word_list = vect.get_feature_names()\n",
    "count_list = bow_vect.toarray().sum(axis = 0)"
   ]
  },
  {
   "cell_type": "code",
   "execution_count": 14,
   "metadata": {
    "colab": {},
    "colab_type": "code",
    "id": "YOR-TYff3jzw"
   },
   "outputs": [
    {
     "data": {
      "text/plain": [
       "['aa',\n",
       " 'ab',\n",
       " 'abandoned',\n",
       " 'abandons',\n",
       " 'abbott',\n",
       " 'abbottnow',\n",
       " 'abbottphone',\n",
       " 'abbotts',\n",
       " 'abend',\n",
       " 'able',\n",
       " 'aboott',\n",
       " 'aboutfaces',\n",
       " 'absolutely',\n",
       " 'abyss',\n",
       " 'accelerating',\n",
       " 'accented',\n",
       " 'accepting',\n",
       " 'accepts',\n",
       " 'access',\n",
       " 'accompanying',\n",
       " 'accomplished',\n",
       " 'account',\n",
       " 'acknowledged',\n",
       " 'act',\n",
       " 'activity',\n",
       " 'actually',\n",
       " 'address',\n",
       " 'adjust',\n",
       " 'adrenaline',\n",
       " 'affirmative',\n",
       " 'afford',\n",
       " 'afraid',\n",
       " 'afternoon',\n",
       " 'againi',\n",
       " 'agencies',\n",
       " 'agency',\n",
       " 'agent',\n",
       " 'agents',\n",
       " 'agitated',\n",
       " 'ago',\n",
       " 'agreement',\n",
       " 'agrees',\n",
       " 'ah',\n",
       " 'ahead',\n",
       " 'aim',\n",
       " 'aimed',\n",
       " 'air',\n",
       " 'airport',\n",
       " 'alarm',\n",
       " 'alert',\n",
       " 'alexanderplatz',\n",
       " 'alive',\n",
       " 'alley',\n",
       " 'alleys',\n",
       " 'allocation',\n",
       " 'allpoints',\n",
       " 'alongside',\n",
       " 'alps',\n",
       " 'alright',\n",
       " 'alrighti',\n",
       " 'alrighttake',\n",
       " 'american',\n",
       " 'ammo',\n",
       " 'amnesia',\n",
       " 'amused',\n",
       " 'anger',\n",
       " 'angle',\n",
       " 'ankle',\n",
       " 'anonymous',\n",
       " 'answer',\n",
       " 'answering',\n",
       " 'answers',\n",
       " 'anymore',\n",
       " 'anythings',\n",
       " 'apology',\n",
       " 'appealing',\n",
       " 'appear',\n",
       " 'appearing',\n",
       " 'appears',\n",
       " 'approached',\n",
       " 'approaches',\n",
       " 'approaching',\n",
       " 'archive',\n",
       " 'archives',\n",
       " 'area',\n",
       " 'arm',\n",
       " 'armed',\n",
       " 'arms',\n",
       " 'army',\n",
       " 'arrested',\n",
       " 'arrivals',\n",
       " 'arrived',\n",
       " 'arrives',\n",
       " 'arriving',\n",
       " 'article',\n",
       " 'asap',\n",
       " 'ashes',\n",
       " 'aside',\n",
       " 'ask',\n",
       " 'asked',\n",
       " 'asking',\n",
       " 'asks',\n",
       " 'asleep',\n",
       " 'ass',\n",
       " 'assassinated',\n",
       " 'assholes',\n",
       " 'assigned',\n",
       " 'assignment',\n",
       " 'assistant',\n",
       " 'associated',\n",
       " 'attempt',\n",
       " 'attention',\n",
       " 'autobahn',\n",
       " 'automatic',\n",
       " 'available',\n",
       " 'aware',\n",
       " 'away',\n",
       " 'awful',\n",
       " 'awhile',\n",
       " 'ba',\n",
       " 'backhanding',\n",
       " 'backing',\n",
       " 'backpack',\n",
       " 'backpacks',\n",
       " 'backs',\n",
       " 'backseat',\n",
       " 'backyard',\n",
       " 'bad',\n",
       " 'bag',\n",
       " 'bags',\n",
       " 'bail',\n",
       " 'bailing',\n",
       " 'bakery',\n",
       " 'balance',\n",
       " 'ball',\n",
       " 'balling',\n",
       " 'band',\n",
       " 'bang',\n",
       " 'banging',\n",
       " 'bank',\n",
       " 'banking',\n",
       " 'banks',\n",
       " 'bar',\n",
       " 'barely',\n",
       " 'bargain',\n",
       " 'barge',\n",
       " 'barn',\n",
       " 'base',\n",
       " 'basement',\n",
       " 'basic',\n",
       " 'basically',\n",
       " 'bastards',\n",
       " 'bathroom',\n",
       " 'battery',\n",
       " 'bb',\n",
       " 'bc',\n",
       " 'beach',\n",
       " 'bearing',\n",
       " 'bearings',\n",
       " 'beat',\n",
       " 'beats',\n",
       " 'beattocrap',\n",
       " 'bed',\n",
       " 'bedroom',\n",
       " 'beep',\n",
       " 'beeping',\n",
       " 'beggars',\n",
       " 'begging',\n",
       " 'begin',\n",
       " 'begins',\n",
       " 'behavior',\n",
       " 'behaviors',\n",
       " 'believe',\n",
       " 'believed',\n",
       " 'belongings',\n",
       " 'belt',\n",
       " 'beltway',\n",
       " 'bench',\n",
       " 'bends',\n",
       " 'beneath',\n",
       " 'berlin',\n",
       " 'better',\n",
       " 'bg',\n",
       " 'big',\n",
       " 'bigger',\n",
       " 'binders',\n",
       " 'binocular',\n",
       " 'birch',\n",
       " 'bit',\n",
       " 'bits',\n",
       " 'black',\n",
       " 'blade',\n",
       " 'blades',\n",
       " 'blam',\n",
       " 'blaming',\n",
       " 'blamm',\n",
       " 'blank',\n",
       " 'bleeding',\n",
       " 'blending',\n",
       " 'blinded',\n",
       " 'blindsided',\n",
       " 'blinking',\n",
       " 'blinks',\n",
       " 'block',\n",
       " 'blocked',\n",
       " 'blocking',\n",
       " 'blocks',\n",
       " 'blonde',\n",
       " 'blood',\n",
       " 'bloody',\n",
       " 'blow',\n",
       " 'blowing',\n",
       " 'blown',\n",
       " 'blows',\n",
       " 'blue',\n",
       " 'blueprint',\n",
       " 'blur',\n",
       " 'blurry',\n",
       " 'bmw',\n",
       " 'board',\n",
       " 'boarded',\n",
       " 'body',\n",
       " 'bogus',\n",
       " 'bomb',\n",
       " 'bombing',\n",
       " 'bone',\n",
       " 'book',\n",
       " 'boom',\n",
       " 'booooomm',\n",
       " 'booth',\n",
       " 'border',\n",
       " 'boss',\n",
       " 'bothering',\n",
       " 'bottle',\n",
       " 'boulevard',\n",
       " 'bouncing',\n",
       " 'bound',\n",
       " 'bourne',\n",
       " 'bourneabbott',\n",
       " 'bournephone',\n",
       " 'bournes',\n",
       " 'box',\n",
       " 'boxed',\n",
       " 'boxes',\n",
       " 'braced',\n",
       " 'braces',\n",
       " 'bracing',\n",
       " 'brakes',\n",
       " 'brandenburg',\n",
       " 'brass',\n",
       " 'breakdown',\n",
       " 'breaker',\n",
       " 'breaking',\n",
       " 'breaks',\n",
       " 'breath',\n",
       " 'breathe',\n",
       " 'breathing',\n",
       " 'breathless',\n",
       " 'brecker',\n",
       " 'bridge',\n",
       " 'briefcase',\n",
       " 'briefed',\n",
       " 'briefing',\n",
       " 'bright',\n",
       " 'bring',\n",
       " 'briskly',\n",
       " 'bristles',\n",
       " 'broadcoasting',\n",
       " 'bruise',\n",
       " 'budget',\n",
       " 'building',\n",
       " 'bulge',\n",
       " 'bulging',\n",
       " 'bulkhead',\n",
       " 'bullet',\n",
       " 'bulletin',\n",
       " 'bullets',\n",
       " 'bullpen',\n",
       " 'bumpers',\n",
       " 'bunch',\n",
       " 'bundle',\n",
       " 'burly',\n",
       " 'burn',\n",
       " 'burning',\n",
       " 'burst',\n",
       " 'bus',\n",
       " 'business',\n",
       " 'bust',\n",
       " 'busted',\n",
       " 'busy',\n",
       " 'button',\n",
       " 'buttoning',\n",
       " 'buy',\n",
       " 'buying',\n",
       " 'buzzkill',\n",
       " 'cab',\n",
       " 'cabbie',\n",
       " 'cabby',\n",
       " 'cabin',\n",
       " 'cabinet',\n",
       " 'cable',\n",
       " 'cabled',\n",
       " 'caffeine',\n",
       " 'calculated',\n",
       " 'calendar',\n",
       " 'caliber',\n",
       " 'called',\n",
       " 'calling',\n",
       " 'calls',\n",
       " 'calm',\n",
       " 'calmly',\n",
       " 'calms',\n",
       " 'came',\n",
       " 'camera',\n",
       " 'cameras',\n",
       " 'campground',\n",
       " 'canhow',\n",
       " 'canvas',\n",
       " 'cap',\n",
       " 'captain',\n",
       " 'caption',\n",
       " 'car',\n",
       " 'carabinieri',\n",
       " 'carabinieris',\n",
       " 'card',\n",
       " 'cards',\n",
       " 'care',\n",
       " 'careening',\n",
       " 'careful',\n",
       " 'carefully',\n",
       " 'careless',\n",
       " 'carnage',\n",
       " 'carries',\n",
       " 'carrying',\n",
       " 'cars',\n",
       " 'carves',\n",
       " 'cascading',\n",
       " 'case',\n",
       " 'cash',\n",
       " 'caspian',\n",
       " 'caspiexpetroleum',\n",
       " 'cast',\n",
       " 'casual',\n",
       " 'casually',\n",
       " 'catches',\n",
       " 'catching',\n",
       " 'caught',\n",
       " 'cause',\n",
       " 'caution',\n",
       " 'caves',\n",
       " 'cd',\n",
       " 'cell',\n",
       " 'cellphone',\n",
       " 'cement',\n",
       " 'center',\n",
       " 'ceo',\n",
       " 'certainly',\n",
       " 'chair',\n",
       " 'chairs',\n",
       " 'chalkboard',\n",
       " 'championed',\n",
       " 'championship',\n",
       " 'chance',\n",
       " 'change',\n",
       " 'changed',\n",
       " 'changes',\n",
       " 'chaos',\n",
       " 'charge',\n",
       " 'charges',\n",
       " 'charmed',\n",
       " 'chase',\n",
       " 'chasing',\n",
       " 'chatter',\n",
       " 'chatting',\n",
       " 'check',\n",
       " 'checked',\n",
       " 'checking',\n",
       " 'checkoff',\n",
       " 'checks',\n",
       " 'cherbourg',\n",
       " 'childlike',\n",
       " 'chill',\n",
       " 'chilly',\n",
       " 'chinese',\n",
       " 'chirping',\n",
       " 'choice',\n",
       " 'choices',\n",
       " 'chokehold',\n",
       " 'chokes',\n",
       " 'chop',\n",
       " 'choreographed',\n",
       " 'christ',\n",
       " 'chucked',\n",
       " 'chugging',\n",
       " 'ci',\n",
       " 'cia',\n",
       " 'cigarette',\n",
       " 'cigarettes',\n",
       " 'cinch',\n",
       " 'circles',\n",
       " 'city',\n",
       " 'civvies',\n",
       " 'claimed',\n",
       " 'clean',\n",
       " 'cleaning',\n",
       " 'clear',\n",
       " 'clearance',\n",
       " 'clearing',\n",
       " 'clearly',\n",
       " 'clears',\n",
       " 'clenching',\n",
       " 'clerk',\n",
       " 'clerks',\n",
       " 'clever',\n",
       " 'click',\n",
       " 'clicking',\n",
       " 'clicks',\n",
       " 'cliff',\n",
       " 'climb',\n",
       " 'climbing',\n",
       " 'clip',\n",
       " 'clipping',\n",
       " 'clock',\n",
       " 'clogging',\n",
       " 'cloned',\n",
       " 'close',\n",
       " 'closed',\n",
       " 'closequarter',\n",
       " 'closer',\n",
       " 'closes',\n",
       " 'closing',\n",
       " 'clothes',\n",
       " 'club',\n",
       " 'clubhouse',\n",
       " 'clue',\n",
       " 'cluster',\n",
       " 'clutter',\n",
       " 'cluttered',\n",
       " 'coal',\n",
       " 'coat',\n",
       " 'code',\n",
       " 'coding',\n",
       " 'coffee',\n",
       " 'cold',\n",
       " 'colonial',\n",
       " 'colored',\n",
       " 'come',\n",
       " 'comes',\n",
       " 'comfortable',\n",
       " 'coming',\n",
       " 'comm',\n",
       " 'command',\n",
       " 'commanders',\n",
       " 'common',\n",
       " 'commotion',\n",
       " 'communications',\n",
       " 'commuters',\n",
       " 'companies',\n",
       " 'company',\n",
       " 'comparison',\n",
       " 'complaining',\n",
       " 'compressing',\n",
       " 'compulsive',\n",
       " 'computer',\n",
       " 'computers',\n",
       " 'comrade',\n",
       " 'concentrating',\n",
       " 'concentric',\n",
       " 'concerned',\n",
       " 'concerning',\n",
       " 'concierge',\n",
       " 'concrete',\n",
       " 'condition',\n",
       " 'conditions',\n",
       " 'conductors',\n",
       " 'conferring',\n",
       " 'confidentially',\n",
       " 'confirm',\n",
       " 'confusion',\n",
       " 'conjunction',\n",
       " 'conjure',\n",
       " 'conklin',\n",
       " 'conklins',\n",
       " 'connections',\n",
       " 'consider',\n",
       " 'considering',\n",
       " 'consist',\n",
       " 'console',\n",
       " 'construction',\n",
       " 'consulate',\n",
       " 'contact',\n",
       " 'contd',\n",
       " 'continents',\n",
       " 'continues',\n",
       " 'continuing',\n",
       " 'contract',\n",
       " 'control',\n",
       " 'controlled',\n",
       " 'converge',\n",
       " 'conversation',\n",
       " 'convinced',\n",
       " 'convoy',\n",
       " 'coo',\n",
       " 'cool',\n",
       " 'cooly',\n",
       " 'coordinate',\n",
       " 'cop',\n",
       " 'cops',\n",
       " 'corner',\n",
       " 'corral',\n",
       " 'corridor',\n",
       " 'cots',\n",
       " 'cottage',\n",
       " 'coughing',\n",
       " 'counter',\n",
       " 'countering',\n",
       " 'counterintelligence',\n",
       " 'counting',\n",
       " 'country',\n",
       " 'countryside',\n",
       " 'couple',\n",
       " 'course',\n",
       " 'courtesy',\n",
       " 'cover',\n",
       " 'covered',\n",
       " 'covering',\n",
       " 'coworkers',\n",
       " 'cranking',\n",
       " 'cranks',\n",
       " 'crap',\n",
       " 'crash',\n",
       " 'crashes',\n",
       " 'crashing',\n",
       " 'crazy',\n",
       " 'credentials',\n",
       " 'credit',\n",
       " 'creepy',\n",
       " 'crestfallen',\n",
       " 'crewcut',\n",
       " 'crime',\n",
       " 'crinkles',\n",
       " 'crisp',\n",
       " 'crissake',\n",
       " 'cronin',\n",
       " 'croninradio',\n",
       " 'cross',\n",
       " 'crosses',\n",
       " 'crossing',\n",
       " 'crouches',\n",
       " 'crowd',\n",
       " 'crowded',\n",
       " 'cruising',\n",
       " 'crush',\n",
       " 'crushed',\n",
       " 'crushes',\n",
       " 'crying',\n",
       " 'cuffed',\n",
       " 'cuffs',\n",
       " 'cup',\n",
       " 'curb',\n",
       " 'curiosity',\n",
       " 'curious',\n",
       " 'curtains',\n",
       " 'curving',\n",
       " 'customs',\n",
       " 'cut',\n",
       " 'cuts',\n",
       " 'cutting',\n",
       " 'cyrillic',\n",
       " 'da',\n",
       " 'dad',\n",
       " 'damn',\n",
       " 'dangerous',\n",
       " 'dangle',\n",
       " 'daniel',\n",
       " 'danka',\n",
       " 'danny',\n",
       " 'dark',\n",
       " 'darkened',\n",
       " 'darkness',\n",
       " 'dash',\n",
       " 'dashboards',\n",
       " 'data',\n",
       " 'database',\n",
       " 'date',\n",
       " 'david',\n",
       " 'day',\n",
       " 'days',\n",
       " 'dead',\n",
       " 'deadly',\n",
       " 'deal',\n",
       " 'dealing',\n",
       " 'death',\n",
       " 'debrief',\n",
       " 'debriefed',\n",
       " 'decent',\n",
       " 'decide',\n",
       " 'decided',\n",
       " 'decision',\n",
       " 'decives',\n",
       " 'deck',\n",
       " 'deep',\n",
       " 'defensive',\n",
       " 'defiant',\n",
       " 'definitely',\n",
       " 'definitive',\n",
       " 'delta',\n",
       " 'deltas',\n",
       " 'departure',\n",
       " 'departures',\n",
       " 'depression',\n",
       " 'deputy',\n",
       " 'descend',\n",
       " 'deserted',\n",
       " 'desk',\n",
       " 'desolate',\n",
       " 'desperation',\n",
       " 'destiny',\n",
       " 'destroy',\n",
       " 'destroys',\n",
       " 'detailed',\n",
       " 'details',\n",
       " 'detained',\n",
       " 'determined',\n",
       " 'detonation',\n",
       " 'device',\n",
       " 'diagnosis',\n",
       " 'diagnostic',\n",
       " 'dial',\n",
       " 'dialed',\n",
       " 'did',\n",
       " 'didi',\n",
       " 'didjason',\n",
       " 'didnt',\n",
       " 'die',\n",
       " 'died',\n",
       " 'diei',\n",
       " 'dies',\n",
       " 'different',\n",
       " 'digital',\n",
       " 'digs',\n",
       " 'direct',\n",
       " 'directions',\n",
       " 'directly',\n",
       " 'director',\n",
       " 'disappear',\n",
       " 'disappearing',\n",
       " 'disappears',\n",
       " 'disappointed',\n",
       " 'disaster',\n",
       " 'discreet',\n",
       " 'discreetly',\n",
       " 'disembark',\n",
       " 'disembarking',\n",
       " 'disembarks',\n",
       " 'disgusted',\n",
       " 'dishes',\n",
       " 'disputing',\n",
       " 'distance',\n",
       " 'distinctive',\n",
       " 'distribution',\n",
       " 'disturbance',\n",
       " 'ditch',\n",
       " 'dividing',\n",
       " 'diving',\n",
       " 'dobermans',\n",
       " 'doctor',\n",
       " 'document',\n",
       " 'dod',\n",
       " 'dodging',\n",
       " 'dods',\n",
       " 'does',\n",
       " 'doesnt',\n",
       " 'doing',\n",
       " 'dollar',\n",
       " 'dollars',\n",
       " 'domestic',\n",
       " 'dominant',\n",
       " 'dominates',\n",
       " 'donnie',\n",
       " 'dont',\n",
       " 'door',\n",
       " 'doorbell',\n",
       " 'doorman',\n",
       " 'doors',\n",
       " 'doorway',\n",
       " 'double',\n",
       " 'doublecrossed',\n",
       " 'doubt',\n",
       " 'downhill',\n",
       " 'downs',\n",
       " 'dozens',\n",
       " 'drab',\n",
       " 'drawn',\n",
       " 'dread',\n",
       " 'dream',\n",
       " 'dresser',\n",
       " 'drifting',\n",
       " 'drill',\n",
       " 'drills',\n",
       " 'drink',\n",
       " 'drinks',\n",
       " 'drive',\n",
       " 'driver',\n",
       " 'driverphone',\n",
       " 'drivers',\n",
       " 'drives',\n",
       " 'driving',\n",
       " 'drone',\n",
       " 'drop',\n",
       " 'dropping',\n",
       " 'drops',\n",
       " 'drugs',\n",
       " 'drunk',\n",
       " 'ducked',\n",
       " 'ducking',\n",
       " 'duct',\n",
       " 'dude',\n",
       " 'dudes',\n",
       " 'duffel',\n",
       " 'duffle',\n",
       " 'dumping',\n",
       " 'dunk',\n",
       " 'ear',\n",
       " 'earlier',\n",
       " 'early',\n",
       " 'earpiece',\n",
       " 'ears',\n",
       " 'easing',\n",
       " 'east',\n",
       " 'easy',\n",
       " 'eat',\n",
       " 'edge',\n",
       " 'edges',\n",
       " 'ef',\n",
       " 'effective',\n",
       " 'effort',\n",
       " 'effortless',\n",
       " 'electric',\n",
       " 'electrical',\n",
       " 'element',\n",
       " 'elevator',\n",
       " 'eluded',\n",
       " 'embankment',\n",
       " 'embarrassed',\n",
       " 'emerge',\n",
       " 'emergency',\n",
       " 'emerges',\n",
       " 'emerging',\n",
       " 'emphatic',\n",
       " 'emptied',\n",
       " 'end',\n",
       " 'ends',\n",
       " 'energy',\n",
       " 'engine',\n",
       " 'engines',\n",
       " 'english',\n",
       " 'enjoy',\n",
       " 'enter',\n",
       " 'entering',\n",
       " 'enters',\n",
       " 'entombed',\n",
       " 'entrance',\n",
       " 'entrances',\n",
       " 'equal',\n",
       " 'equally',\n",
       " 'escape',\n",
       " 'escort',\n",
       " 'ether',\n",
       " 'europe',\n",
       " 'european',\n",
       " 'euros',\n",
       " 'evac',\n",
       " 'event',\n",
       " 'everybody',\n",
       " 'everyday',\n",
       " 'evidence',\n",
       " 'ex',\n",
       " 'exactly',\n",
       " 'exceptionally',\n",
       " 'excited',\n",
       " 'excuse',\n",
       " 'exfil',\n",
       " 'exit',\n",
       " 'exiting',\n",
       " 'exits',\n",
       " 'exnavyseal',\n",
       " 'expensive',\n",
       " 'expert',\n",
       " 'explosion',\n",
       " 'explosive',\n",
       " 'express',\n",
       " 'extreme',\n",
       " 'extremely',\n",
       " 'eye',\n",
       " 'eyes',\n",
       " 'facade',\n",
       " 'facades',\n",
       " 'face',\n",
       " 'faces',\n",
       " 'fact',\n",
       " 'factories',\n",
       " 'factoring',\n",
       " 'fade',\n",
       " 'fading',\n",
       " 'fail',\n",
       " 'failed',\n",
       " 'failing',\n",
       " 'fair',\n",
       " 'fake',\n",
       " 'fakes',\n",
       " 'faking',\n",
       " 'fall',\n",
       " 'fallen',\n",
       " 'falling',\n",
       " 'falls',\n",
       " 'familiar',\n",
       " 'families',\n",
       " 'family',\n",
       " 'fan',\n",
       " 'fanning',\n",
       " 'far',\n",
       " 'fast',\n",
       " 'faster',\n",
       " 'father',\n",
       " 'fatherly',\n",
       " 'fault',\n",
       " 'faux',\n",
       " 'favorite',\n",
       " 'fax',\n",
       " 'fear',\n",
       " 'feed',\n",
       " 'feeding',\n",
       " 'feel',\n",
       " 'feels',\n",
       " 'feet',\n",
       " 'fell',\n",
       " 'felt',\n",
       " 'fender',\n",
       " 'fenders',\n",
       " 'fernsehturm',\n",
       " 'ferry',\n",
       " 'field',\n",
       " 'fiftyeuro',\n",
       " 'fighting',\n",
       " 'fights',\n",
       " 'figure',\n",
       " 'file',\n",
       " 'filei',\n",
       " 'files',\n",
       " 'fileyour',\n",
       " 'filing',\n",
       " 'filling',\n",
       " 'fills',\n",
       " 'final',\n",
       " 'finally',\n",
       " 'financial',\n",
       " 'finding',\n",
       " 'finds',\n",
       " 'fine',\n",
       " 'finger',\n",
       " 'fingerprint',\n",
       " 'fingers',\n",
       " 'finish',\n",
       " 'finished',\n",
       " 'finishes',\n",
       " 'finishing',\n",
       " 'fired',\n",
       " 'fires',\n",
       " 'firing',\n",
       " 'firmly',\n",
       " 'fishing',\n",
       " 'fishtailing',\n",
       " 'fix',\n",
       " 'fixed',\n",
       " 'flag',\n",
       " 'flames',\n",
       " 'flanking',\n",
       " 'flash',\n",
       " 'flashback',\n",
       " 'flashes',\n",
       " 'flashing',\n",
       " 'flat',\n",
       " 'flatout',\n",
       " 'fleeing',\n",
       " 'flexcuffs',\n",
       " 'flicker',\n",
       " 'flickering',\n",
       " 'flicking',\n",
       " 'flies',\n",
       " 'flight',\n",
       " 'flights',\n",
       " 'flimsy',\n",
       " 'flips',\n",
       " 'floated',\n",
       " 'flood',\n",
       " 'flooding',\n",
       " 'floor',\n",
       " 'flooring',\n",
       " 'floors',\n",
       " 'flow',\n",
       " 'fly',\n",
       " 'flying',\n",
       " 'focused',\n",
       " 'focusing',\n",
       " 'foggy',\n",
       " 'folder',\n",
       " 'folding',\n",
       " 'folks',\n",
       " 'follow',\n",
       " 'followed',\n",
       " 'following',\n",
       " 'follows',\n",
       " 'food',\n",
       " 'fooled',\n",
       " 'foot',\n",
       " 'footing',\n",
       " 'footlocker',\n",
       " 'footpath',\n",
       " 'footstep',\n",
       " 'footsteps',\n",
       " 'force',\n",
       " 'foreboding',\n",
       " 'forehead',\n",
       " 'forest',\n",
       " 'forever',\n",
       " 'forget',\n",
       " 'forging',\n",
       " 'forgive',\n",
       " 'forgotten',\n",
       " 'fork',\n",
       " 'forlorn',\n",
       " 'forties',\n",
       " 'fortune',\n",
       " 'forward',\n",
       " 'fourgam',\n",
       " 'fourth',\n",
       " 'frantic',\n",
       " 'freaked',\n",
       " 'free',\n",
       " 'freezes',\n",
       " 'freezing',\n",
       " 'frequency',\n",
       " 'fresh',\n",
       " 'fridge',\n",
       " 'friendly',\n",
       " 'friends',\n",
       " 'frowns',\n",
       " 'frozen',\n",
       " 'frustration',\n",
       " 'fry',\n",
       " 'fuck',\n",
       " 'fucking',\n",
       " 'fully',\n",
       " 'fumbling',\n",
       " 'funky',\n",
       " 'furious',\n",
       " 'fury',\n",
       " 'fusty',\n",
       " 'futile',\n",
       " 'gables',\n",
       " 'gadgetry',\n",
       " 'gaining',\n",
       " 'game',\n",
       " 'gangster',\n",
       " 'gap',\n",
       " 'gas',\n",
       " 'gasolinestoked',\n",
       " 'gasping',\n",
       " 'gassoaked',\n",
       " 'gate',\n",
       " 'gathered',\n",
       " 'gathering',\n",
       " 'gauge',\n",
       " 'gaze',\n",
       " 'gear',\n",
       " 'gears',\n",
       " 'geneva',\n",
       " 'genevai',\n",
       " 'genoa',\n",
       " 'gentlemen',\n",
       " 'german',\n",
       " 'germans',\n",
       " 'germany',\n",
       " 'gestures',\n",
       " 'gets',\n",
       " 'getting',\n",
       " 'gift',\n",
       " 'gimme',\n",
       " 'girl',\n",
       " 'girlfriend',\n",
       " 'girls',\n",
       " 'given',\n",
       " 'gives',\n",
       " 'giving',\n",
       " 'glacial',\n",
       " 'glance',\n",
       " 'glanced',\n",
       " 'glances',\n",
       " 'glancing',\n",
       " ...]"
      ]
     },
     "execution_count": 14,
     "metadata": {},
     "output_type": "execute_result"
    }
   ],
   "source": [
    "word_list"
   ]
  },
  {
   "cell_type": "code",
   "execution_count": 15,
   "metadata": {
    "colab": {},
    "colab_type": "code",
    "id": "_PqufkPv7R6D"
   },
   "outputs": [
    {
     "data": {
      "text/plain": [
       "['aa', 'ab', 'abandoned', 'abandons', 'abbott']"
      ]
     },
     "execution_count": 15,
     "metadata": {},
     "output_type": "execute_result"
    }
   ],
   "source": [
    "word_list[:5]"
   ]
  },
  {
   "cell_type": "code",
   "execution_count": 16,
   "metadata": {
    "colab": {},
    "colab_type": "code",
    "id": "nlY88bL27R9b"
   },
   "outputs": [
    {
     "data": {
      "text/plain": [
       "array([ 3,  3,  2, ...,  1, 42,  3], dtype=int64)"
      ]
     },
     "execution_count": 16,
     "metadata": {},
     "output_type": "execute_result"
    }
   ],
   "source": [
    "count_list"
   ]
  },
  {
   "cell_type": "code",
   "execution_count": 17,
   "metadata": {
    "colab": {},
    "colab_type": "code",
    "id": "f-rSHKzD7R_w"
   },
   "outputs": [
    {
     "data": {
      "text/plain": [
       "(320, 2850)"
      ]
     },
     "execution_count": 17,
     "metadata": {},
     "output_type": "execute_result"
    }
   ],
   "source": [
    "bow_vect.shape"
   ]
  },
  {
   "cell_type": "code",
   "execution_count": 18,
   "metadata": {
    "colab": {},
    "colab_type": "code",
    "id": "eqOGgz4B7SCd"
   },
   "outputs": [
    {
     "data": {
      "text/plain": [
       "array([[0, 0, 0, ..., 0, 0, 0],\n",
       "       [0, 0, 0, ..., 0, 0, 0],\n",
       "       [0, 0, 0, ..., 0, 0, 0],\n",
       "       ...,\n",
       "       [0, 0, 0, ..., 0, 0, 0],\n",
       "       [0, 0, 0, ..., 0, 0, 0],\n",
       "       [0, 0, 0, ..., 0, 0, 0]], dtype=int64)"
      ]
     },
     "execution_count": 18,
     "metadata": {},
     "output_type": "execute_result"
    }
   ],
   "source": [
    "bow_vect.toarray()"
   ]
  },
  {
   "cell_type": "code",
   "execution_count": 19,
   "metadata": {
    "colab": {},
    "colab_type": "code",
    "id": "xn3aU4l97V8K"
   },
   "outputs": [
    {
     "data": {
      "text/plain": [
       "array([ 3,  3,  2, ...,  1, 42,  3], dtype=int64)"
      ]
     },
     "execution_count": 19,
     "metadata": {},
     "output_type": "execute_result"
    }
   ],
   "source": [
    "bow_vect.toarray().sum(axis = 0)"
   ]
  },
  {
   "cell_type": "code",
   "execution_count": 20,
   "metadata": {
    "colab": {},
    "colab_type": "code",
    "id": "Lvqij9kP7Xgv"
   },
   "outputs": [
    {
     "name": "stdout",
     "output_type": "stream",
     "text": [
      "{'aa': 3, 'ab': 3, 'abandoned': 2, 'abandons': 1, 'abbott': 128, 'abbottnow': 1, 'abbottphone': 4, '\n"
     ]
    }
   ],
   "source": [
    "word_count_dict = dict(zip(word_list, count_list))\n",
    "print(str(word_count_dict)[:100])"
   ]
  },
  {
   "cell_type": "code",
   "execution_count": 21,
   "metadata": {
    "colab": {},
    "colab_type": "code",
    "id": "Zu2v6oUn7aUx"
   },
   "outputs": [
    {
     "data": {
      "text/plain": [
       "[('bourne', 455),\n",
       " ('pamela', 199),\n",
       " ('abbott', 128),\n",
       " ('hes', 100),\n",
       " ('kirill', 93)]"
      ]
     },
     "execution_count": 21,
     "metadata": {},
     "output_type": "execute_result"
    }
   ],
   "source": [
    "import operator\n",
    "sorted(word_count_dict.items(), key = operator.itemgetter(1), reverse = True)[:5]"
   ]
  },
  {
   "cell_type": "markdown",
   "metadata": {
    "colab_type": "text",
    "id": "huXcIK1D7eGI"
   },
   "source": [
    "##### 단어 분포 탐색"
   ]
  },
  {
   "cell_type": "code",
   "execution_count": 22,
   "metadata": {
    "colab": {},
    "colab_type": "code",
    "id": "ePWpmhzL7f0A"
   },
   "outputs": [
    {
     "data": {
      "text/plain": [
       "(array([2.837e+03, 8.000e+00, 3.000e+00, 0.000e+00, 1.000e+00, 0.000e+00,\n",
       "        0.000e+00, 0.000e+00, 0.000e+00, 1.000e+00]),\n",
       " array([  1. ,  46.4,  91.8, 137.2, 182.6, 228. , 273.4, 318.8, 364.2,\n",
       "        409.6, 455. ]),\n",
       " <a list of 10 Patch objects>)"
      ]
     },
     "execution_count": 22,
     "metadata": {},
     "output_type": "execute_result"
    },
    {
     "data": {
      "image/png": "[encoded data removed]",
      "text/plain": [
       "<Figure size 432x288 with 1 Axes>"
      ]
     },
     "metadata": {
      "needs_background": "light"
     },
     "output_type": "display_data"
    }
   ],
   "source": [
    "plt.hist(list(word_count_dict.values()))"
   ]
  },
  {
   "cell_type": "markdown",
   "metadata": {
    "colab_type": "text",
    "id": "QI0yqJ7PxS1q"
   },
   "source": [
    "-----"
   ]
  },
  {
   "cell_type": "markdown",
   "metadata": {
    "colab_type": "text",
    "id": "3Nb-h1fM7nLc"
   },
   "source": [
    "## 4) 텍스트 마이닝"
   ]
  },
  {
   "cell_type": "markdown",
   "metadata": {
    "colab_type": "text",
    "id": "87E9Sz5g4YFE"
   },
   "source": [
    "### 4-1) 단어별 빈도 분석"
   ]
  },
  {
   "cell_type": "markdown",
   "metadata": {
    "colab_type": "text",
    "id": "MPC-EOxb4YIm"
   },
   "source": [
    "##### 워드 클라우드 시각화"
   ]
  },
  {
   "cell_type": "code",
   "execution_count": 23,
   "metadata": {
    "colab": {},
    "colab_type": "code",
    "id": "WXgfHMLP7004"
   },
   "outputs": [
    {
     "name": "stdout",
     "output_type": "stream",
     "text": [
      "Collecting pytagcloud\n",
      "  Downloading pytagcloud-0.3.5.tar.gz (754 kB)\n",
      "Collecting pygame\n",
      "  Downloading pygame-1.9.6-cp37-cp37m-win_amd64.whl (4.3 MB)\n",
      "Collecting simplejson\n",
      "  Downloading simplejson-3.17.0-cp37-cp37m-win_amd64.whl (73 kB)\n",
      "Building wheels for collected packages: pytagcloud\n",
      "  Building wheel for pytagcloud (setup.py): started\n",
      "  Building wheel for pytagcloud (setup.py): finished with status 'done'\n",
      "  Created wheel for pytagcloud: filename=pytagcloud-0.3.5-py3-none-any.whl size=759873 sha256=b4c74e72ef991af6a6a91cbc1307bcd1ca32ecb1e1448701440ba1ef8eb8f3d6\n",
      "  Stored in directory: c:\\users\\jinyoung\\appdata\\local\\pip\\cache\\wheels\\fc\\fd\\aa\\86956a295a7c9205bafd518ef4b6d489e51d2d476990c18238\n",
      "Successfully built pytagcloud\n",
      "Installing collected packages: pytagcloud, pygame, simplejson\n",
      "Successfully installed pygame-1.9.6 pytagcloud-0.3.5 simplejson-3.17.0\n"
     ]
    }
   ],
   "source": [
    "!pip install pytagcloud pygame simplejson"
   ]
  },
  {
   "cell_type": "code",
   "execution_count": 24,
   "metadata": {
    "colab": {},
    "colab_type": "code",
    "id": "PS27E0CT4h-7"
   },
   "outputs": [
    {
     "name": "stdout",
     "output_type": "stream",
     "text": [
      "pygame 1.9.6\n",
      "Hello from the pygame community. https://www.pygame.org/contribute.html\n"
     ]
    }
   ],
   "source": [
    "from collections import Counter\n",
    "\n",
    "import random\n",
    "import pytagcloud\n",
    "import webbrowser\n",
    "\n",
    "ranked_tags = Counter(word_count_dict).most_common(25)"
   ]
  },
  {
   "cell_type": "code",
   "execution_count": 25,
   "metadata": {},
   "outputs": [
    {
     "data": {
      "text/plain": [
       "[('bourne', 455),\n",
       " ('pamela', 199),\n",
       " ('abbott', 128),\n",
       " ('hes', 100),\n",
       " ('kirill', 93),\n",
       " ('nicky', 90),\n",
       " ('cronin', 81),\n",
       " ('just', 80),\n",
       " ('marie', 67),\n",
       " ('contd', 63),\n",
       " ('know', 61),\n",
       " ('car', 51),\n",
       " ('away', 48),\n",
       " ('room', 44),\n",
       " ('jarda', 43),\n",
       " ('looks', 43),\n",
       " ('dont', 42),\n",
       " ('zorn', 42),\n",
       " ('phone', 40),\n",
       " ('right', 39),\n",
       " ('theres', 39),\n",
       " ('police', 38),\n",
       " ('want', 38),\n",
       " ('berlin', 37),\n",
       " ('teddy', 35)]"
      ]
     },
     "execution_count": 25,
     "metadata": {},
     "output_type": "execute_result"
    }
   ],
   "source": [
    "ranked_tags"
   ]
  },
  {
   "cell_type": "code",
   "execution_count": 29,
   "metadata": {},
   "outputs": [
    {
     "data": {
      "image/jpeg": "[encoded data removed]",
      "text/plain": [
       "<IPython.core.display.Image object>"
      ]
     },
     "execution_count": 29,
     "metadata": {},
     "output_type": "execute_result"
    }
   ],
   "source": [
    "taglist = pytagcloud.make_tags(sorted(word_count_dict.items(), key = operator.itemgetter(1), reverse = True)[:40], maxsize = 60)\n",
    "pytagcloud.create_tag_image(taglist, 'wordcloud_example.jpg', rectangular = False)\n",
    "\n",
    "from IPython.display import Image\n",
    "Image(filename = 'wordcloud_example.jpg')"
   ]
  },
  {
   "cell_type": "markdown",
   "metadata": {
    "colab_type": "text",
    "id": "_L_bAJUD-BYm"
   },
   "source": [
    "##### 상위 빈도수 단어 출력"
   ]
  },
  {
   "cell_type": "code",
   "execution_count": 30,
   "metadata": {
    "colab": {},
    "colab_type": "code",
    "id": "lXvHnoTY96zZ"
   },
   "outputs": [],
   "source": [
    "ranked_tags = Counter(word_count_dict).most_common(40)"
   ]
  },
  {
   "cell_type": "code",
   "execution_count": 31,
   "metadata": {},
   "outputs": [
    {
     "data": {
      "text/plain": [
       "[('bourne', 455),\n",
       " ('pamela', 199),\n",
       " ('abbott', 128),\n",
       " ('hes', 100),\n",
       " ('kirill', 93),\n",
       " ('nicky', 90),\n",
       " ('cronin', 81),\n",
       " ('just', 80),\n",
       " ('marie', 67),\n",
       " ('contd', 63),\n",
       " ('know', 61),\n",
       " ('car', 51),\n",
       " ('away', 48),\n",
       " ('room', 44),\n",
       " ('jarda', 43),\n",
       " ('looks', 43),\n",
       " ('dont', 42),\n",
       " ('zorn', 42),\n",
       " ('phone', 40),\n",
       " ('right', 39),\n",
       " ('theres', 39),\n",
       " ('police', 38),\n",
       " ('want', 38),\n",
       " ('berlin', 37),\n",
       " ('teddy', 35),\n",
       " ('nevins', 34),\n",
       " ('youre', 34),\n",
       " ('got', 33),\n",
       " ('im', 33),\n",
       " ('way', 33),\n",
       " ('like', 32),\n",
       " ('door', 31),\n",
       " ('gretkov', 31),\n",
       " ('coming', 30),\n",
       " ('look', 30),\n",
       " ('bournes', 29),\n",
       " ('conklin', 29),\n",
       " ('hotel', 28),\n",
       " ('shes', 28),\n",
       " ('going', 27)]"
      ]
     },
     "execution_count": 31,
     "metadata": {},
     "output_type": "execute_result"
    }
   ],
   "source": [
    "ranked_tags"
   ]
  },
  {
   "cell_type": "markdown",
   "metadata": {
    "colab_type": "text",
    "id": "ocEMVqzM-MdE"
   },
   "source": [
    "-----"
   ]
  },
  {
   "cell_type": "markdown",
   "metadata": {
    "colab_type": "text",
    "id": "dK64F8GZ-N8s"
   },
   "source": []
  },
  {
   "cell_type": "markdown",
   "metadata": {
    "colab_type": "text",
    "id": "Pe7BOBrW-OAw"
   },
   "source": [
    "### 4-2) 장면별 중요 단어 시각화"
   ]
  },
  {
   "cell_type": "markdown",
   "metadata": {
    "colab_type": "text",
    "id": "EaalHFft-Sra"
   },
   "source": [
    "##### TF-IDF 변환"
   ]
  },
  {
   "cell_type": "code",
   "execution_count": 32,
   "metadata": {
    "colab": {},
    "colab_type": "code",
    "id": "-Wxv-F3P-NEU"
   },
   "outputs": [],
   "source": [
    "from sklearn.feature_extraction.text import TfidfTransformer\n",
    "\n",
    "tfidf_vectorizer = TfidfTransformer()\n",
    "tf_idf_vect = tfidf_vectorizer.fit_transform(bow_vect)"
   ]
  },
  {
   "cell_type": "code",
   "execution_count": 33,
   "metadata": {
    "colab": {},
    "colab_type": "code",
    "id": "rsDAFsCY-Unv"
   },
   "outputs": [
    {
     "data": {
      "text/plain": [
       "(320, 2850)"
      ]
     },
     "execution_count": 33,
     "metadata": {},
     "output_type": "execute_result"
    }
   ],
   "source": [
    "tf_idf_vect.shape"
   ]
  },
  {
   "cell_type": "code",
   "execution_count": 34,
   "metadata": {
    "colab": {},
    "colab_type": "code",
    "id": "dWt8pyEQ-YeT"
   },
   "outputs": [
    {
     "name": "stdout",
     "output_type": "stream",
     "text": [
      "  (0, 2788)\t0.19578974958217082\n",
      "  (0, 2763)\t0.27550455848587985\n",
      "  (0, 2412)\t0.1838379942679887\n",
      "  (0, 2387)\t0.3109660261831164\n",
      "  (0, 1984)\t0.2902223973596984\n",
      "  (0, 1978)\t0.3109660261831164\n",
      "  (0, 1898)\t0.27550455848587985\n",
      "  (0, 1673)\t0.2902223973596984\n",
      "  (0, 1366)\t0.21520447034992146\n",
      "  (0, 1251)\t0.19855583314180728\n",
      "  (0, 1001)\t0.2340173008390438\n",
      "  (0, 974)\t0.2902223973596984\n",
      "  (0, 874)\t0.27550455848587985\n",
      "  (0, 798)\t0.1906694714764746\n",
      "  (0, 237)\t0.08646242181596513\n",
      "  (0, 125)\t0.26408851574819875\n"
     ]
    }
   ],
   "source": [
    "print(tf_idf_vect[0])"
   ]
  },
  {
   "cell_type": "markdown",
   "metadata": {
    "colab_type": "text",
    "id": "LFT1BfiJ-Y8-"
   },
   "source": [
    "##### 벡터 : 단어 맵핑"
   ]
  },
  {
   "cell_type": "code",
   "execution_count": 0,
   "metadata": {
    "colab": {},
    "colab_type": "code",
    "id": "rzbmSQ8h-XGF"
   },
   "outputs": [],
   "source": []
  },
  {
   "cell_type": "markdown",
   "metadata": {
    "colab_type": "text",
    "id": "XSmFxYD6-tec"
   },
   "source": [
    "##### 중요 단어 추출 - Top 3 TF-IDF"
   ]
  },
  {
   "cell_type": "code",
   "execution_count": 0,
   "metadata": {
    "colab": {},
    "colab_type": "code",
    "id": "RPmzms_d-dzM"
   },
   "outputs": [],
   "source": []
  },
  {
   "cell_type": "code",
   "execution_count": 0,
   "metadata": {
    "colab": {},
    "colab_type": "code",
    "id": "JBnbCA0d-ztq"
   },
   "outputs": [],
   "source": []
  },
  {
   "cell_type": "code",
   "execution_count": 0,
   "metadata": {
    "colab": {},
    "colab_type": "code",
    "id": "sKpKmuM7-0ul"
   },
   "outputs": [],
   "source": []
  },
  {
   "cell_type": "code",
   "execution_count": 0,
   "metadata": {
    "colab": {},
    "colab_type": "code",
    "id": "v4C0B2xO-191"
   },
   "outputs": [],
   "source": []
  },
  {
   "cell_type": "code",
   "execution_count": 0,
   "metadata": {
    "colab": {},
    "colab_type": "code",
    "id": "WWCeMCOM-5KF"
   },
   "outputs": [],
   "source": []
  }
 ],
 "metadata": {
  "colab": {
   "collapsed_sections": [],
   "name": "03-movie-textmining (for student).ipynb",
   "provenance": [],
   "toc_visible": true
  },
  "kernelspec": {
   "display_name": "Python 3",
   "language": "python",
   "name": "python3"
  },
  "language_info": {
   "codemirror_mode": {
    "name": "ipython",
    "version": 3
   },
   "file_extension": ".py",
   "mimetype": "text/x-python",
   "name": "python",
   "nbconvert_exporter": "python",
   "pygments_lexer": "ipython3",
   "version": "3.7.6"
  }
 },
 "nbformat": 4,
 "nbformat_minor": 1
}
