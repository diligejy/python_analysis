{
 "cells": [
  {
   "cell_type": "markdown",
   "metadata": {},
   "source": [
    "## 통계적 가설검정\n",
    "\n",
    "1) 귀무가설과 대립가설\n",
    "   - 귀무가설 : 대립가설의 반대가설\n",
    "   - 대립가설 : 입증하려는 가설\n",
    "\n",
    "2) P-value \n",
    "   - 귀무가설이 참이라는 전제하에 우리가 관측한 검정통계량의 값이나 혹은 그보다 더 극단적인 값을 얻을 확률\n",
    "\n",
    "\n",
    "3) 단일변수\n",
    "   - 연속형 : 정규성 검정(ex - 매출액/온도가 정규분포를 따르는지 여부) / One Sample T Test (1표본 평균 검정) - (하나의 값과 집단의 평균을 비교 - 아들 수능 성적 & 전체 수능 평균)\n",
    "   - 범주형 : 비율 검정 \n",
    "   \n",
    "4) 다변수\n",
    "   - X 범주형 / Y 연속형 : (ex - 부서에 따른 매출액)\n",
    "        - Two Sample T Test와 등분산 검정은 Y가 정규성을 띌 경우 사용\n",
    "        - 비모수적 검정 (Y가 정규분포를 따르지 않을 경우)\n",
    "        \n",
    "   - X 범주형 / Y 범주형 : (ex - 성별에 따른 합격여부 차이, 서비스 신청 여부에 따른 탈퇴 여부 차이, 각 공정의 불량 여부 차이)\n",
    "        - Chi Sqaure Test\n",
    "\n",
    "   - X 연속형 / Y 연속형 : (ex - 우리 부서의 인사 고과 점수에 따라 연봉이 차이가 나는지)\n",
    "        - 상관분석\n",
    "    \n",
    "   - X 연속형 / Y 범주형 : (ex - 분류 모델 - 콜레스테롤 수치에 따른 당뇨여부)\n",
    "        - Logistic Regression"
   ]
  },
  {
   "cell_type": "code",
   "execution_count": 1,
   "metadata": {},
   "outputs": [],
   "source": [
    "import pandas as pd"
   ]
  },
  {
   "cell_type": "code",
   "execution_count": 2,
   "metadata": {},
   "outputs": [],
   "source": [
    "df = pd.read_csv('../rawdata/Data02.csv')"
   ]
  },
  {
   "cell_type": "code",
   "execution_count": 3,
   "metadata": {},
   "outputs": [
    {
     "data": {
      "text/html": [
       "<div>\n",
       "<style scoped>\n",
       "    .dataframe tbody tr th:only-of-type {\n",
       "        vertical-align: middle;\n",
       "    }\n",
       "\n",
       "    .dataframe tbody tr th {\n",
       "        vertical-align: top;\n",
       "    }\n",
       "\n",
       "    .dataframe thead th {\n",
       "        text-align: right;\n",
       "    }\n",
       "</style>\n",
       "<table border=\"1\" class=\"dataframe\">\n",
       "  <thead>\n",
       "    <tr style=\"text-align: right;\">\n",
       "      <th></th>\n",
       "      <th>결제수단</th>\n",
       "      <th>배송번호</th>\n",
       "      <th>배송시작일</th>\n",
       "      <th>배송완료일</th>\n",
       "      <th>상품구매금액</th>\n",
       "      <th>상품번호</th>\n",
       "      <th>수량</th>\n",
       "      <th>주문경로</th>\n",
       "      <th>주문일</th>\n",
       "    </tr>\n",
       "  </thead>\n",
       "  <tbody>\n",
       "    <tr>\n",
       "      <th>0</th>\n",
       "      <td>무통장입금</td>\n",
       "      <td>D-20181227-0000648-00</td>\n",
       "      <td>2019-01-07 오전 8:56</td>\n",
       "      <td>2019-01-11 오전 5:32</td>\n",
       "      <td>71450</td>\n",
       "      <td>1077.0</td>\n",
       "      <td>1</td>\n",
       "      <td>PC쇼핑몰</td>\n",
       "      <td>20181227</td>\n",
       "    </tr>\n",
       "    <tr>\n",
       "      <th>1</th>\n",
       "      <td>무통장입금</td>\n",
       "      <td>D-20181229-0000119-00</td>\n",
       "      <td>2019-01-03 오전 9:30</td>\n",
       "      <td>2019-01-07 오전 5:32</td>\n",
       "      <td>141240</td>\n",
       "      <td>42.0</td>\n",
       "      <td>2</td>\n",
       "      <td>모바일웹</td>\n",
       "      <td>20181229</td>\n",
       "    </tr>\n",
       "    <tr>\n",
       "      <th>2</th>\n",
       "      <td>무통장입금</td>\n",
       "      <td>D-20181230-0000100-00</td>\n",
       "      <td>2019-01-03 오전 9:30</td>\n",
       "      <td>2019-01-07 오전 5:32</td>\n",
       "      <td>13910</td>\n",
       "      <td>1271.0</td>\n",
       "      <td>1</td>\n",
       "      <td>모바일웹</td>\n",
       "      <td>20181230</td>\n",
       "    </tr>\n",
       "    <tr>\n",
       "      <th>3</th>\n",
       "      <td>무통장입금</td>\n",
       "      <td>D-20181231-0000087-00</td>\n",
       "      <td>2019-01-03 오전 9:30</td>\n",
       "      <td>2019-01-07 오전 5:32</td>\n",
       "      <td>81600</td>\n",
       "      <td>1085.0</td>\n",
       "      <td>1</td>\n",
       "      <td>모바일웹</td>\n",
       "      <td>20181231</td>\n",
       "    </tr>\n",
       "    <tr>\n",
       "      <th>4</th>\n",
       "      <td>무통장입금</td>\n",
       "      <td>D-20181231-0000108-00</td>\n",
       "      <td>2019-01-07 오전 8:56</td>\n",
       "      <td>2019-01-11 오전 5:32</td>\n",
       "      <td>94710</td>\n",
       "      <td>1106.0</td>\n",
       "      <td>1</td>\n",
       "      <td>모바일웹</td>\n",
       "      <td>20181231</td>\n",
       "    </tr>\n",
       "  </tbody>\n",
       "</table>\n",
       "</div>"
      ],
      "text/plain": [
       "    결제수단                   배송번호               배송시작일               배송완료일  \\\n",
       "0  무통장입금  D-20181227-0000648-00  2019-01-07 오전 8:56  2019-01-11 오전 5:32   \n",
       "1  무통장입금  D-20181229-0000119-00  2019-01-03 오전 9:30  2019-01-07 오전 5:32   \n",
       "2  무통장입금  D-20181230-0000100-00  2019-01-03 오전 9:30  2019-01-07 오전 5:32   \n",
       "3  무통장입금  D-20181231-0000087-00  2019-01-03 오전 9:30  2019-01-07 오전 5:32   \n",
       "4  무통장입금  D-20181231-0000108-00  2019-01-07 오전 8:56  2019-01-11 오전 5:32   \n",
       "\n",
       "   상품구매금액    상품번호  수량   주문경로       주문일  \n",
       "0   71450  1077.0   1  PC쇼핑몰  20181227  \n",
       "1  141240    42.0   2   모바일웹  20181229  \n",
       "2   13910  1271.0   1   모바일웹  20181230  \n",
       "3   81600  1085.0   1   모바일웹  20181231  \n",
       "4   94710  1106.0   1   모바일웹  20181231  "
      ]
     },
     "execution_count": 3,
     "metadata": {},
     "output_type": "execute_result"
    }
   ],
   "source": [
    "df.head()"
   ]
  },
  {
   "cell_type": "code",
   "execution_count": 4,
   "metadata": {},
   "outputs": [
    {
     "data": {
      "text/plain": [
       "<AxesSubplot:xlabel='상품구매금액', ylabel='Count'>"
      ]
     },
     "execution_count": 4,
     "metadata": {},
     "output_type": "execute_result"
    },
    {
     "data": {
      "image/png": "[encoded data removed]",
      "text/plain": [
       "<Figure size 432x288 with 1 Axes>"
      ]
     },
     "metadata": {
      "needs_background": "light"
     },
     "output_type": "display_data"
    }
   ],
   "source": [
    "import seaborn as sns\n",
    "import matplotlib as mpl\n",
    "\n",
    "mpl.rc('font', family='Malgun Gothic')\n",
    "sns.histplot(data = df, x = '상품구매금액', kde= True)"
   ]
  },
  {
   "cell_type": "code",
   "execution_count": 5,
   "metadata": {},
   "outputs": [],
   "source": [
    "import scipy.stats as stats"
   ]
  },
  {
   "cell_type": "code",
   "execution_count": 6,
   "metadata": {},
   "outputs": [
    {
     "data": {
      "text/plain": [
       "NormaltestResult(statistic=86347.36471094817, pvalue=0.0)"
      ]
     },
     "execution_count": 6,
     "metadata": {},
     "output_type": "execute_result"
    }
   ],
   "source": [
    "# 귀무가설 : 해당 데이터 분포는 정규분포를 띌 것\n",
    "# 대립가설 : 해당 데이터 분포는 정규분포를 띄지 않을 것임\n",
    "stats.normaltest(df['상품구매금액'])"
   ]
  },
  {
   "cell_type": "code",
   "execution_count": 7,
   "metadata": {},
   "outputs": [],
   "source": [
    "df2 = pd.read_csv('../rawdata/Data03.csv')"
   ]
  },
  {
   "cell_type": "code",
   "execution_count": 8,
   "metadata": {},
   "outputs": [
    {
     "data": {
      "text/html": [
       "<div>\n",
       "<style scoped>\n",
       "    .dataframe tbody tr th:only-of-type {\n",
       "        vertical-align: middle;\n",
       "    }\n",
       "\n",
       "    .dataframe tbody tr th {\n",
       "        vertical-align: top;\n",
       "    }\n",
       "\n",
       "    .dataframe thead th {\n",
       "        text-align: right;\n",
       "    }\n",
       "</style>\n",
       "<table border=\"1\" class=\"dataframe\">\n",
       "  <thead>\n",
       "    <tr style=\"text-align: right;\">\n",
       "      <th></th>\n",
       "      <th>id</th>\n",
       "      <th>type_of_contract</th>\n",
       "      <th>type_of_contract2</th>\n",
       "      <th>channel</th>\n",
       "      <th>datetime</th>\n",
       "      <th>Term</th>\n",
       "      <th>payment_type</th>\n",
       "      <th>product</th>\n",
       "      <th>amount</th>\n",
       "      <th>state</th>\n",
       "      <th>overdue_count</th>\n",
       "      <th>overdue</th>\n",
       "      <th>credit rating</th>\n",
       "      <th>bank</th>\n",
       "      <th>cancellation</th>\n",
       "      <th>age</th>\n",
       "      <th>Mileage</th>\n",
       "    </tr>\n",
       "  </thead>\n",
       "  <tbody>\n",
       "    <tr>\n",
       "      <th>0</th>\n",
       "      <td>66758234</td>\n",
       "      <td>렌탈</td>\n",
       "      <td>Normal</td>\n",
       "      <td>서비스 방문</td>\n",
       "      <td>2019-10-20</td>\n",
       "      <td>60</td>\n",
       "      <td>CMS</td>\n",
       "      <td>K1</td>\n",
       "      <td>96900</td>\n",
       "      <td>계약확정</td>\n",
       "      <td>0</td>\n",
       "      <td>없음</td>\n",
       "      <td>9.0</td>\n",
       "      <td>새마을금고</td>\n",
       "      <td>정상</td>\n",
       "      <td>43.0</td>\n",
       "      <td>1862.0</td>\n",
       "    </tr>\n",
       "    <tr>\n",
       "      <th>1</th>\n",
       "      <td>66755948</td>\n",
       "      <td>렌탈</td>\n",
       "      <td>Extension_Rental</td>\n",
       "      <td>서비스 방문</td>\n",
       "      <td>2019-10-20</td>\n",
       "      <td>60</td>\n",
       "      <td>카드이체</td>\n",
       "      <td>K1</td>\n",
       "      <td>102900</td>\n",
       "      <td>계약확정</td>\n",
       "      <td>0</td>\n",
       "      <td>없음</td>\n",
       "      <td>2.0</td>\n",
       "      <td>현대카드</td>\n",
       "      <td>정상</td>\n",
       "      <td>62.0</td>\n",
       "      <td>2532.0</td>\n",
       "    </tr>\n",
       "    <tr>\n",
       "      <th>2</th>\n",
       "      <td>66756657</td>\n",
       "      <td>렌탈</td>\n",
       "      <td>Normal</td>\n",
       "      <td>홈쇼핑/방송</td>\n",
       "      <td>2019-10-20</td>\n",
       "      <td>60</td>\n",
       "      <td>CMS</td>\n",
       "      <td>K1</td>\n",
       "      <td>96900</td>\n",
       "      <td>계약확정</td>\n",
       "      <td>0</td>\n",
       "      <td>없음</td>\n",
       "      <td>8.0</td>\n",
       "      <td>우리은행</td>\n",
       "      <td>정상</td>\n",
       "      <td>60.0</td>\n",
       "      <td>2363.0</td>\n",
       "    </tr>\n",
       "    <tr>\n",
       "      <th>3</th>\n",
       "      <td>66423450</td>\n",
       "      <td>멤버십</td>\n",
       "      <td>TAS</td>\n",
       "      <td>렌탈재계약</td>\n",
       "      <td>2019-10-20</td>\n",
       "      <td>12</td>\n",
       "      <td>CMS</td>\n",
       "      <td>K1</td>\n",
       "      <td>66900</td>\n",
       "      <td>계약확정</td>\n",
       "      <td>0</td>\n",
       "      <td>없음</td>\n",
       "      <td>5.0</td>\n",
       "      <td>농협은행</td>\n",
       "      <td>정상</td>\n",
       "      <td>60.0</td>\n",
       "      <td>2449.0</td>\n",
       "    </tr>\n",
       "    <tr>\n",
       "      <th>4</th>\n",
       "      <td>66423204</td>\n",
       "      <td>멤버십</td>\n",
       "      <td>TAS</td>\n",
       "      <td>렌탈재계약</td>\n",
       "      <td>2019-10-20</td>\n",
       "      <td>12</td>\n",
       "      <td>CMS</td>\n",
       "      <td>K1</td>\n",
       "      <td>66900</td>\n",
       "      <td>해약확정</td>\n",
       "      <td>12</td>\n",
       "      <td>있음</td>\n",
       "      <td>8.0</td>\n",
       "      <td>농협은행</td>\n",
       "      <td>해약</td>\n",
       "      <td>51.0</td>\n",
       "      <td>1942.0</td>\n",
       "    </tr>\n",
       "  </tbody>\n",
       "</table>\n",
       "</div>"
      ],
      "text/plain": [
       "         id type_of_contract type_of_contract2 channel    datetime  Term  \\\n",
       "0  66758234               렌탈            Normal  서비스 방문  2019-10-20    60   \n",
       "1  66755948               렌탈  Extension_Rental  서비스 방문  2019-10-20    60   \n",
       "2  66756657               렌탈            Normal  홈쇼핑/방송  2019-10-20    60   \n",
       "3  66423450              멤버십               TAS   렌탈재계약  2019-10-20    12   \n",
       "4  66423204              멤버십               TAS   렌탈재계약  2019-10-20    12   \n",
       "\n",
       "  payment_type product  amount state  overdue_count overdue  credit rating  \\\n",
       "0          CMS      K1   96900  계약확정              0      없음            9.0   \n",
       "1         카드이체      K1  102900  계약확정              0      없음            2.0   \n",
       "2          CMS      K1   96900  계약확정              0      없음            8.0   \n",
       "3          CMS      K1   66900  계약확정              0      없음            5.0   \n",
       "4          CMS      K1   66900  해약확정             12      있음            8.0   \n",
       "\n",
       "    bank cancellation   age  Mileage  \n",
       "0  새마을금고           정상  43.0   1862.0  \n",
       "1   현대카드           정상  62.0   2532.0  \n",
       "2   우리은행           정상  60.0   2363.0  \n",
       "3   농협은행           정상  60.0   2449.0  \n",
       "4   농협은행           해약  51.0   1942.0  "
      ]
     },
     "execution_count": 8,
     "metadata": {},
     "output_type": "execute_result"
    }
   ],
   "source": [
    "df2.head()"
   ]
  },
  {
   "cell_type": "code",
   "execution_count": 11,
   "metadata": {},
   "outputs": [
    {
     "data": {
      "text/plain": [
       "<AxesSubplot:xlabel='age', ylabel='Count'>"
      ]
     },
     "execution_count": 11,
     "metadata": {},
     "output_type": "execute_result"
    },
    {
     "data": {
      "image/png": "[encoded data removed]",
      "text/plain": [
       "<Figure size 432x288 with 1 Axes>"
      ]
     },
     "metadata": {
      "needs_background": "light"
     },
     "output_type": "display_data"
    }
   ],
   "source": [
    "sns.histplot(data=df2, x='age', kde=True)"
   ]
  },
  {
   "cell_type": "code",
   "execution_count": 12,
   "metadata": {},
   "outputs": [
    {
     "data": {
      "text/plain": [
       "NormaltestResult(statistic=nan, pvalue=nan)"
      ]
     },
     "execution_count": 12,
     "metadata": {},
     "output_type": "execute_result"
    }
   ],
   "source": [
    "# missing value가 있으면 Error발생\n",
    "stats.normaltest(df2['age'])"
   ]
  },
  {
   "cell_type": "code",
   "execution_count": 13,
   "metadata": {},
   "outputs": [
    {
     "data": {
      "text/plain": [
       "NormaltestResult(statistic=808.6960154009449, pvalue=2.476803125887823e-176)"
      ]
     },
     "execution_count": 13,
     "metadata": {},
     "output_type": "execute_result"
    }
   ],
   "source": [
    "# 정규분포 아입니다\n",
    "stats.normaltest(df2['age'].dropna())"
   ]
  },
  {
   "cell_type": "code",
   "execution_count": null,
   "metadata": {},
   "outputs": [],
   "source": []
  }
 ],
 "metadata": {
  "kernelspec": {
   "display_name": "python3_7_6",
   "language": "python",
   "name": "py3_7_6"
  },
  "language_info": {
   "codemirror_mode": {
    "name": "ipython",
    "version": 3
   },
   "file_extension": ".py",
   "mimetype": "text/x-python",
   "name": "python",
   "nbconvert_exporter": "python",
   "pygments_lexer": "ipython3",
   "version": "3.7.6"
  }
 },
 "nbformat": 4,
 "nbformat_minor": 4
}
