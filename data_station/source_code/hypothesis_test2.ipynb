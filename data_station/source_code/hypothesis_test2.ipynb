{
 "metadata": {
  "language_info": {
   "codemirror_mode": {
    "name": "ipython",
    "version": 3
   },
   "file_extension": ".py",
   "mimetype": "text/x-python",
   "name": "python",
   "nbconvert_exporter": "python",
   "pygments_lexer": "ipython3",
   "version": "3.8.5"
  },
  "orig_nbformat": 4,
  "kernelspec": {
   "name": "python3",
   "display_name": "Python 3.8.5 64-bit ('base': conda)"
  },
  "interpreter": {
   "hash": "b3ba2566441a7c06988d0923437866b63cedc61552a5af99d1f4fb67d367b25f"
  }
 },
 "nbformat": 4,
 "nbformat_minor": 2,
 "cells": [
  {
   "cell_type": "code",
   "execution_count": 1,
   "metadata": {},
   "outputs": [],
   "source": [
    "import pandas as pd\n",
    "import seaborn as sns\n",
    "from scipy import stats"
   ]
  },
  {
   "cell_type": "code",
   "execution_count": 2,
   "metadata": {},
   "outputs": [],
   "source": [
    "df = pd.read_csv('../rawdata/Data03.csv')"
   ]
  },
  {
   "cell_type": "code",
   "execution_count": 3,
   "metadata": {},
   "outputs": [
    {
     "output_type": "execute_result",
     "data": {
      "text/plain": [
       "         id type_of_contract type_of_contract2 channel    datetime  Term  \\\n",
       "0  66758234               렌탈            Normal  서비스 방문  2019-10-20    60   \n",
       "1  66755948               렌탈  Extension_Rental  서비스 방문  2019-10-20    60   \n",
       "2  66756657               렌탈            Normal  홈쇼핑/방송  2019-10-20    60   \n",
       "3  66423450              멤버십               TAS   렌탈재계약  2019-10-20    12   \n",
       "4  66423204              멤버십               TAS   렌탈재계약  2019-10-20    12   \n",
       "\n",
       "  payment_type product  amount state  overdue_count overdue  credit rating  \\\n",
       "0          CMS      K1   96900  계약확정              0      없음            9.0   \n",
       "1         카드이체      K1  102900  계약확정              0      없음            2.0   \n",
       "2          CMS      K1   96900  계약확정              0      없음            8.0   \n",
       "3          CMS      K1   66900  계약확정              0      없음            5.0   \n",
       "4          CMS      K1   66900  해약확정             12      있음            8.0   \n",
       "\n",
       "    bank cancellation   age  Mileage  \n",
       "0  새마을금고           정상  43.0   1862.0  \n",
       "1   현대카드           정상  62.0   2532.0  \n",
       "2   우리은행           정상  60.0   2363.0  \n",
       "3   농협은행           정상  60.0   2449.0  \n",
       "4   농협은행           해약  51.0   1942.0  "
      ],
      "text/html": "<div>\n<style scoped>\n    .dataframe tbody tr th:only-of-type {\n        vertical-align: middle;\n    }\n\n    .dataframe tbody tr th {\n        vertical-align: top;\n    }\n\n    .dataframe thead th {\n        text-align: right;\n    }\n</style>\n<table border=\"1\" class=\"dataframe\">\n  <thead>\n    <tr style=\"text-align: right;\">\n      <th></th>\n      <th>id</th>\n      <th>type_of_contract</th>\n      <th>type_of_contract2</th>\n      <th>channel</th>\n      <th>datetime</th>\n      <th>Term</th>\n      <th>payment_type</th>\n      <th>product</th>\n      <th>amount</th>\n      <th>state</th>\n      <th>overdue_count</th>\n      <th>overdue</th>\n      <th>credit rating</th>\n      <th>bank</th>\n      <th>cancellation</th>\n      <th>age</th>\n      <th>Mileage</th>\n    </tr>\n  </thead>\n  <tbody>\n    <tr>\n      <th>0</th>\n      <td>66758234</td>\n      <td>렌탈</td>\n      <td>Normal</td>\n      <td>서비스 방문</td>\n      <td>2019-10-20</td>\n      <td>60</td>\n      <td>CMS</td>\n      <td>K1</td>\n      <td>96900</td>\n      <td>계약확정</td>\n      <td>0</td>\n      <td>없음</td>\n      <td>9.0</td>\n      <td>새마을금고</td>\n      <td>정상</td>\n      <td>43.0</td>\n      <td>1862.0</td>\n    </tr>\n    <tr>\n      <th>1</th>\n      <td>66755948</td>\n      <td>렌탈</td>\n      <td>Extension_Rental</td>\n      <td>서비스 방문</td>\n      <td>2019-10-20</td>\n      <td>60</td>\n      <td>카드이체</td>\n      <td>K1</td>\n      <td>102900</td>\n      <td>계약확정</td>\n      <td>0</td>\n      <td>없음</td>\n      <td>2.0</td>\n      <td>현대카드</td>\n      <td>정상</td>\n      <td>62.0</td>\n      <td>2532.0</td>\n    </tr>\n    <tr>\n      <th>2</th>\n      <td>66756657</td>\n      <td>렌탈</td>\n      <td>Normal</td>\n      <td>홈쇼핑/방송</td>\n      <td>2019-10-20</td>\n      <td>60</td>\n      <td>CMS</td>\n      <td>K1</td>\n      <td>96900</td>\n      <td>계약확정</td>\n      <td>0</td>\n      <td>없음</td>\n      <td>8.0</td>\n      <td>우리은행</td>\n      <td>정상</td>\n      <td>60.0</td>\n      <td>2363.0</td>\n    </tr>\n    <tr>\n      <th>3</th>\n      <td>66423450</td>\n      <td>멤버십</td>\n      <td>TAS</td>\n      <td>렌탈재계약</td>\n      <td>2019-10-20</td>\n      <td>12</td>\n      <td>CMS</td>\n      <td>K1</td>\n      <td>66900</td>\n      <td>계약확정</td>\n      <td>0</td>\n      <td>없음</td>\n      <td>5.0</td>\n      <td>농협은행</td>\n      <td>정상</td>\n      <td>60.0</td>\n      <td>2449.0</td>\n    </tr>\n    <tr>\n      <th>4</th>\n      <td>66423204</td>\n      <td>멤버십</td>\n      <td>TAS</td>\n      <td>렌탈재계약</td>\n      <td>2019-10-20</td>\n      <td>12</td>\n      <td>CMS</td>\n      <td>K1</td>\n      <td>66900</td>\n      <td>해약확정</td>\n      <td>12</td>\n      <td>있음</td>\n      <td>8.0</td>\n      <td>농협은행</td>\n      <td>해약</td>\n      <td>51.0</td>\n      <td>1942.0</td>\n    </tr>\n  </tbody>\n</table>\n</div>"
     },
     "metadata": {},
     "execution_count": 3
    }
   ],
   "source": [
    "df.head()"
   ]
  },
  {
   "source": [
    "## One Sample T Test (일 표본 평균 검정)\n",
    "\n",
    "- 대립가설 : A값은 집단의 평균과 다르다\n",
    "- 귀무가설 : A값은 집단의 평균과 같다"
   ],
   "cell_type": "markdown",
   "metadata": {}
  },
  {
   "cell_type": "code",
   "execution_count": 6,
   "metadata": {},
   "outputs": [
    {
     "output_type": "execute_result",
     "data": {
      "text/plain": [
       "93994.98002105099"
      ]
     },
     "metadata": {},
     "execution_count": 6
    }
   ],
   "source": [
    "df['amount'].mean()"
   ]
  },
  {
   "cell_type": "code",
   "execution_count": 7,
   "metadata": {},
   "outputs": [
    {
     "output_type": "execute_result",
     "data": {
      "text/plain": [
       "96900.0"
      ]
     },
     "metadata": {},
     "execution_count": 7
    }
   ],
   "source": [
    "df['amount'].median()"
   ]
  },
  {
   "cell_type": "code",
   "execution_count": 11,
   "metadata": {},
   "outputs": [],
   "source": [
    "member_df = df[df['type_of_contract'] == '멤버십']"
   ]
  },
  {
   "cell_type": "code",
   "execution_count": 13,
   "metadata": {},
   "outputs": [
    {
     "output_type": "execute_result",
     "data": {
      "text/plain": [
       "Ttest_1sampResult(statistic=-335.8142021618799, pvalue=0.0)"
      ]
     },
     "metadata": {},
     "execution_count": 13
    }
   ],
   "source": [
    "# 귀무가설 기각\n",
    "stats.ttest_1samp(member_df['amount'], df['amount'].mean())"
   ]
  },
  {
   "source": [
    "## Two Sample T Test (이표본 평균 검정)\n",
    "\n",
    "- 두 집단의 평균의 차이가 있는지 검정\n",
    "- 집단이 서로 등분산성을 보이지 않을 때 실시 (등분산성을 보인다면? -> 독립 Two Sample T Test)\n",
    "- 독립 Two Sample T Test 코드 (stats.ttest_ind(df1['col1'], df2['col1'], equal_var =True))\n",
    "\n",
    "- Levene Test : 두 집단 분산의 차이가 있는지 검정\n",
    "    - 귀무가설 : 두 집단 분산이 같음\n",
    "    - 대립가설 : 두 집단의 분산이 다름\n",
    "    "
   ],
   "cell_type": "markdown",
   "metadata": {}
  },
  {
   "cell_type": "code",
   "execution_count": 15,
   "metadata": {},
   "outputs": [
    {
     "output_type": "execute_result",
     "data": {
      "text/plain": [
       "렌탈     46481\n",
       "멤버십     4819\n",
       "Name: type_of_contract, dtype: int64"
      ]
     },
     "metadata": {},
     "execution_count": 15
    }
   ],
   "source": [
    "df['type_of_contract'].value_counts()"
   ]
  },
  {
   "cell_type": "code",
   "execution_count": 16,
   "metadata": {},
   "outputs": [],
   "source": [
    "rental_df = df[df['type_of_contract'] == '렌탈']\n",
    "membership_df = df[df['type_of_contract'] == '멤버십']"
   ]
  },
  {
   "cell_type": "code",
   "execution_count": 19,
   "metadata": {},
   "outputs": [
    {
     "output_type": "execute_result",
     "data": {
      "text/plain": [
       "LeveneResult(statistic=326.2155801732991, pvalue=1.0782290403372968e-72)"
      ]
     },
     "metadata": {},
     "execution_count": 19
    }
   ],
   "source": [
    "# 두 집단의 등분산 검정\n",
    "# 귀무가설 : 렌탈 그룹과 멤버십 그룹의 amount값의 분산의 차이가 없음\n",
    "# 대립가설 : 렌탈 그룹과 멤버십 그룹의 amount값의 분산의 차이가 있음\n",
    "stats.levene(rental_df['amount'], membership_df['amount'])"
   ]
  },
  {
   "cell_type": "code",
   "execution_count": 21,
   "metadata": {},
   "outputs": [
    {
     "output_type": "stream",
     "name": "stdout",
     "text": [
      "144928790.0446055\n40851747.12434066\n"
     ]
    }
   ],
   "source": [
    "print(rental_df['amount'].var())\n",
    "print(membership_df['amount'].var())"
   ]
  },
  {
   "cell_type": "code",
   "execution_count": 23,
   "metadata": {},
   "outputs": [
    {
     "output_type": "execute_result",
     "data": {
      "text/plain": [
       "Ttest_indResult(statistic=193.95822270831934, pvalue=0.0)"
      ]
     },
     "metadata": {},
     "execution_count": 23
    }
   ],
   "source": [
    "# 분산의 차이가 있는 걸로 나타났으므로 Two Sample T Test 진행\n",
    "# 귀무가설 : 렌탈 그룹과 멤버십 그룹의 amount값의 차이가 없음\n",
    "# 대립가설 : 렌탈 그룹과 멤버십 그룹의 amount값의 차이가 있음\n",
    "stats.ttest_ind(rental_df['amount'], membership_df['amount'])"
   ]
  },
  {
   "cell_type": "code",
   "execution_count": 24,
   "metadata": {},
   "outputs": [
    {
     "output_type": "stream",
     "name": "stdout",
     "text": [
      "97200.31561283105\n63075.94625440963\n"
     ]
    }
   ],
   "source": [
    "print(rental_df['amount'].mean())\n",
    "print(membership_df['amount'].mean())"
   ]
  },
  {
   "source": [
    "## Chi Square Test\n",
    "\n",
    "- 두 범주형 집단의 독립성 검정\n",
    "- 귀무가설 : A 항목과 B항목은 서로 독립\n",
    "- 대립가설 : A 항목과 B항목은 서로 종속"
   ],
   "cell_type": "markdown",
   "metadata": {}
  },
  {
   "cell_type": "code",
   "execution_count": 25,
   "metadata": {},
   "outputs": [
    {
     "output_type": "execute_result",
     "data": {
      "text/plain": [
       "렌탈     46481\n",
       "멤버십     4819\n",
       "Name: type_of_contract, dtype: int64"
      ]
     },
     "metadata": {},
     "execution_count": 25
    }
   ],
   "source": [
    "df['type_of_contract'].value_counts()"
   ]
  },
  {
   "cell_type": "code",
   "execution_count": 26,
   "metadata": {},
   "outputs": [
    {
     "output_type": "execute_result",
     "data": {
      "text/plain": [
       "K1    39134\n",
       "K2     8995\n",
       "K3     2082\n",
       "K5      645\n",
       "K4      327\n",
       "K6      120\n",
       "Name: product, dtype: int64"
      ]
     },
     "metadata": {},
     "execution_count": 26
    }
   ],
   "source": [
    "df['product'].value_counts()"
   ]
  },
  {
   "cell_type": "code",
   "execution_count": 29,
   "metadata": {},
   "outputs": [],
   "source": [
    "# 계약유형에 따라 제품 선택이 달라지는지 검정\n",
    "# Contingency Table - crosstab\n",
    "crosstab_df = pd.crosstab(df['type_of_contract'], df['product'])"
   ]
  },
  {
   "cell_type": "code",
   "execution_count": 30,
   "metadata": {},
   "outputs": [
    {
     "output_type": "execute_result",
     "data": {
      "text/plain": [
       "(1340.8053403924034,\n",
       " 9.218461328024673e-288,\n",
       " 5,\n",
       " array([[3.54550553e+04, 8.15001462e+03, 1.88551200e+03, 2.96281799e+02,\n",
       "         5.84409053e+02, 1.08727266e+02],\n",
       "        [3.67594474e+03, 8.44985380e+02, 1.95488002e+02, 3.07182011e+01,\n",
       "         6.05909472e+01, 1.12727344e+01]]))"
      ]
     },
     "metadata": {},
     "execution_count": 30
    }
   ],
   "source": [
    "# 귀무가설 : 계약유형에 따라 제품군의 차이가 없음 (서로 독립)\n",
    "# 대립가설 : 계약유형에 따라 제품군의 차이가 있음 (서로 종속)\n",
    "\n",
    "# 첫번째 : Chi\n",
    "# 두번째 : P-value\n",
    "# 세번째 : degree of freedom\n",
    "# Array : 기댓값\n",
    "stats.chi2_contingency(crosstab_df)"
   ]
  },
  {
   "cell_type": "code",
   "execution_count": null,
   "metadata": {},
   "outputs": [],
   "source": []
  }
 ]
}