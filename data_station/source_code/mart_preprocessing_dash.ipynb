{
 "cells": [
  {
   "cell_type": "markdown",
   "metadata": {},
   "source": [
    "## 목표\n",
    "\n",
    "1. 점포별 판매량의 추이를 그래프로 표현\n",
    "2. 상품의 종류를 나누어 표현\n",
    "3. 가장 많이 팔린 점포만 확인"
   ]
  },
  {
   "cell_type": "code",
   "execution_count": 1,
   "metadata": {},
   "outputs": [],
   "source": [
    "import pandas as pd\n",
    "import numpy as np\n",
    "import seaborn as sns\n",
    "import matplotlib as mpl\n",
    "import matplotlib.pyplot as plt\n",
    "\n",
    "mpl.rc('font', family='Malgun Gothic')"
   ]
  },
  {
   "cell_type": "code",
   "execution_count": 2,
   "metadata": {},
   "outputs": [],
   "source": [
    "df = pd.read_csv('../rawdata/Data09.csv', encoding='cp949')"
   ]
  },
  {
   "cell_type": "code",
   "execution_count": 3,
   "metadata": {},
   "outputs": [
    {
     "output_type": "execute_result",
     "data": {
      "text/plain": [
       "        순번          상품코드                       상품명       합계 (1154)의정부점  \\\n",
       "112  111.0  8.801860e+12  CAT1 355ml*12캔+카카오 에코백+치      179          0   \n",
       "113  112.0  8.801860e+12     CAT2 355*24캔 + 진라면 6캔      212          0   \n",
       "114  113.0  8.801860e+12               CAT2 1.6L*6    6,564          0   \n",
       "115  114.0  8.801860e+12                 CAT2 1.6L  125,144        365   \n",
       "116  115.0  8.801860e+12                 CAT1 1.6L   22,796        113   \n",
       "\n",
       "    (1155)별내점 (1156)풍산점 (1157)김포한강점 (1158)세종점 (1159)킨텍스점  ... (L21)위시티점  \\\n",
       "112         9         0           0         0          0  ...         0   \n",
       "113         0         0           0         0          0  ...         0   \n",
       "114         0         0           0         0          0  ...         0   \n",
       "115       564       796         948       594        283  ...       241   \n",
       "116       101       168          93       107         50  ...        36   \n",
       "\n",
       "    (L23)걸포동점 (L27)통일동산점 (L35)성대점 (L36)병점점 (L38)율전점 (L39)본오점 (L40)검암점  \\\n",
       "112         0          0        0        0        0        0        0   \n",
       "113         0          0        0        0        0        0        0   \n",
       "114         0          0        0        0        0        0        0   \n",
       "115       196        379      120      273      128      354      106   \n",
       "116        14         80       29       42       54       28        9   \n",
       "\n",
       "    (L44)신길점 (L46)용호점  \n",
       "112        0        0  \n",
       "113        0        0  \n",
       "114        0        0  \n",
       "115      242      122  \n",
       "116       28       24  \n",
       "\n",
       "[5 rows x 646 columns]"
      ],
      "text/html": "<div>\n<style scoped>\n    .dataframe tbody tr th:only-of-type {\n        vertical-align: middle;\n    }\n\n    .dataframe tbody tr th {\n        vertical-align: top;\n    }\n\n    .dataframe thead th {\n        text-align: right;\n    }\n</style>\n<table border=\"1\" class=\"dataframe\">\n  <thead>\n    <tr style=\"text-align: right;\">\n      <th></th>\n      <th>순번</th>\n      <th>상품코드</th>\n      <th>상품명</th>\n      <th>합계</th>\n      <th>(1154)의정부점</th>\n      <th>(1155)별내점</th>\n      <th>(1156)풍산점</th>\n      <th>(1157)김포한강점</th>\n      <th>(1158)세종점</th>\n      <th>(1159)킨텍스점</th>\n      <th>...</th>\n      <th>(L21)위시티점</th>\n      <th>(L23)걸포동점</th>\n      <th>(L27)통일동산점</th>\n      <th>(L35)성대점</th>\n      <th>(L36)병점점</th>\n      <th>(L38)율전점</th>\n      <th>(L39)본오점</th>\n      <th>(L40)검암점</th>\n      <th>(L44)신길점</th>\n      <th>(L46)용호점</th>\n    </tr>\n  </thead>\n  <tbody>\n    <tr>\n      <th>112</th>\n      <td>111.0</td>\n      <td>8.801860e+12</td>\n      <td>CAT1 355ml*12캔+카카오 에코백+치</td>\n      <td>179</td>\n      <td>0</td>\n      <td>9</td>\n      <td>0</td>\n      <td>0</td>\n      <td>0</td>\n      <td>0</td>\n      <td>...</td>\n      <td>0</td>\n      <td>0</td>\n      <td>0</td>\n      <td>0</td>\n      <td>0</td>\n      <td>0</td>\n      <td>0</td>\n      <td>0</td>\n      <td>0</td>\n      <td>0</td>\n    </tr>\n    <tr>\n      <th>113</th>\n      <td>112.0</td>\n      <td>8.801860e+12</td>\n      <td>CAT2 355*24캔 + 진라면 6캔</td>\n      <td>212</td>\n      <td>0</td>\n      <td>0</td>\n      <td>0</td>\n      <td>0</td>\n      <td>0</td>\n      <td>0</td>\n      <td>...</td>\n      <td>0</td>\n      <td>0</td>\n      <td>0</td>\n      <td>0</td>\n      <td>0</td>\n      <td>0</td>\n      <td>0</td>\n      <td>0</td>\n      <td>0</td>\n      <td>0</td>\n    </tr>\n    <tr>\n      <th>114</th>\n      <td>113.0</td>\n      <td>8.801860e+12</td>\n      <td>CAT2 1.6L*6</td>\n      <td>6,564</td>\n      <td>0</td>\n      <td>0</td>\n      <td>0</td>\n      <td>0</td>\n      <td>0</td>\n      <td>0</td>\n      <td>...</td>\n      <td>0</td>\n      <td>0</td>\n      <td>0</td>\n      <td>0</td>\n      <td>0</td>\n      <td>0</td>\n      <td>0</td>\n      <td>0</td>\n      <td>0</td>\n      <td>0</td>\n    </tr>\n    <tr>\n      <th>115</th>\n      <td>114.0</td>\n      <td>8.801860e+12</td>\n      <td>CAT2 1.6L</td>\n      <td>125,144</td>\n      <td>365</td>\n      <td>564</td>\n      <td>796</td>\n      <td>948</td>\n      <td>594</td>\n      <td>283</td>\n      <td>...</td>\n      <td>241</td>\n      <td>196</td>\n      <td>379</td>\n      <td>120</td>\n      <td>273</td>\n      <td>128</td>\n      <td>354</td>\n      <td>106</td>\n      <td>242</td>\n      <td>122</td>\n    </tr>\n    <tr>\n      <th>116</th>\n      <td>115.0</td>\n      <td>8.801860e+12</td>\n      <td>CAT1 1.6L</td>\n      <td>22,796</td>\n      <td>113</td>\n      <td>101</td>\n      <td>168</td>\n      <td>93</td>\n      <td>107</td>\n      <td>50</td>\n      <td>...</td>\n      <td>36</td>\n      <td>14</td>\n      <td>80</td>\n      <td>29</td>\n      <td>42</td>\n      <td>54</td>\n      <td>28</td>\n      <td>9</td>\n      <td>28</td>\n      <td>24</td>\n    </tr>\n  </tbody>\n</table>\n<p>5 rows × 646 columns</p>\n</div>"
     },
     "metadata": {},
     "execution_count": 3
    }
   ],
   "source": [
    "df.tail()"
   ]
  },
  {
   "cell_type": "code",
   "execution_count": 4,
   "metadata": {},
   "outputs": [
    {
     "output_type": "stream",
     "name": "stdout",
     "text": [
      "<class 'pandas.core.frame.DataFrame'>\nRangeIndex: 117 entries, 0 to 116\nColumns: 646 entries, 순번 to (L46)용호점\ndtypes: float64(2), object(644)\nmemory usage: 590.6+ KB\n"
     ]
    }
   ],
   "source": [
    "df.info()"
   ]
  },
  {
   "cell_type": "code",
   "execution_count": 5,
   "metadata": {},
   "outputs": [
    {
     "output_type": "execute_result",
     "data": {
      "text/plain": [
       "               순번          상품코드\n",
       "count  115.000000  1.150000e+02\n",
       "mean    58.000000  7.074508e+12\n",
       "std     33.341666  3.131349e+12\n",
       "min      1.000000  1.801828e+06\n",
       "25%     29.500000  6.179595e+12\n",
       "50%     58.000000  8.801020e+12\n",
       "75%     86.500000  8.801020e+12\n",
       "max    115.000000  8.801860e+12"
      ],
      "text/html": "<div>\n<style scoped>\n    .dataframe tbody tr th:only-of-type {\n        vertical-align: middle;\n    }\n\n    .dataframe tbody tr th {\n        vertical-align: top;\n    }\n\n    .dataframe thead th {\n        text-align: right;\n    }\n</style>\n<table border=\"1\" class=\"dataframe\">\n  <thead>\n    <tr style=\"text-align: right;\">\n      <th></th>\n      <th>순번</th>\n      <th>상품코드</th>\n    </tr>\n  </thead>\n  <tbody>\n    <tr>\n      <th>count</th>\n      <td>115.000000</td>\n      <td>1.150000e+02</td>\n    </tr>\n    <tr>\n      <th>mean</th>\n      <td>58.000000</td>\n      <td>7.074508e+12</td>\n    </tr>\n    <tr>\n      <th>std</th>\n      <td>33.341666</td>\n      <td>3.131349e+12</td>\n    </tr>\n    <tr>\n      <th>min</th>\n      <td>1.000000</td>\n      <td>1.801828e+06</td>\n    </tr>\n    <tr>\n      <th>25%</th>\n      <td>29.500000</td>\n      <td>6.179595e+12</td>\n    </tr>\n    <tr>\n      <th>50%</th>\n      <td>58.000000</td>\n      <td>8.801020e+12</td>\n    </tr>\n    <tr>\n      <th>75%</th>\n      <td>86.500000</td>\n      <td>8.801020e+12</td>\n    </tr>\n    <tr>\n      <th>max</th>\n      <td>115.000000</td>\n      <td>8.801860e+12</td>\n    </tr>\n  </tbody>\n</table>\n</div>"
     },
     "metadata": {},
     "execution_count": 5
    }
   ],
   "source": [
    "df.describe()"
   ]
  },
  {
   "cell_type": "code",
   "execution_count": 6,
   "metadata": {},
   "outputs": [
    {
     "output_type": "execute_result",
     "data": {
      "text/plain": [
       "(117, 646)"
      ]
     },
     "metadata": {},
     "execution_count": 6
    }
   ],
   "source": [
    "df.shape"
   ]
  },
  {
   "cell_type": "code",
   "execution_count": 7,
   "metadata": {},
   "outputs": [
    {
     "output_type": "execute_result",
     "data": {
      "text/plain": [
       "Index(['순번', '상품코드', '상품명', ' 합계', '(1154)의정부점', '(1155)별내점', '(1156)풍산점',\n",
       "       '(1157)김포한강점', '(1158)세종점', '(1159)킨텍스점',\n",
       "       ...\n",
       "       '(L21)위시티점', '(L23)걸포동점', '(L27)통일동산점', '(L35)성대점', '(L36)병점점',\n",
       "       '(L38)율전점', '(L39)본오점', '(L40)검암점', '(L44)신길점', '(L46)용호점'],\n",
       "      dtype='object', length=646)"
      ]
     },
     "metadata": {},
     "execution_count": 7
    }
   ],
   "source": [
    "df.columns"
   ]
  },
  {
   "cell_type": "code",
   "execution_count": 8,
   "metadata": {},
   "outputs": [
    {
     "output_type": "execute_result",
     "data": {
      "text/plain": [
       "    순번        상품코드             상품명         합계 (1154)의정부점 (1155)별내점 (1156)풍산점  \\\n",
       "0  NaN         NaN             NaN         수량         수량        수량        수량   \n",
       "1  NaN         NaN             합 계  2,029,096      6,829     8,374    12,626   \n",
       "2  1.0   1801828.0  BW1 473ml캔(수입)     65,402        174       239       432   \n",
       "3  2.0   1801859.0  BW1 355ml (낱캔)          1          0         0         0   \n",
       "4  3.0  40786179.0        RB 500ml      2,158          4         9        10   \n",
       "\n",
       "  (1157)김포한강점 (1158)세종점 (1159)킨텍스점  ... (L21)위시티점 (L23)걸포동점 (L27)통일동산점  \\\n",
       "0          수량        수량         수량  ...        수량        수량         수량   \n",
       "1      11,767    10,912      7,062  ...     2,392     1,291      4,506   \n",
       "2         199       220        263  ...         0        25         76   \n",
       "3           0         0          0  ...         0         0          0   \n",
       "4          27         0         11  ...         0         0          0   \n",
       "\n",
       "  (L35)성대점 (L36)병점점 (L38)율전점 (L39)본오점 (L40)검암점 (L44)신길점 (L46)용호점  \n",
       "0       수량       수량       수량       수량       수량       수량       수량  \n",
       "1    2,364    2,739    1,782    3,129    1,712    3,189    2,347  \n",
       "2       72       54       72       15       38       27       89  \n",
       "3        0        0        0        0        0        0        0  \n",
       "4        0        0        0        0        0        0        0  \n",
       "\n",
       "[5 rows x 646 columns]"
      ],
      "text/html": "<div>\n<style scoped>\n    .dataframe tbody tr th:only-of-type {\n        vertical-align: middle;\n    }\n\n    .dataframe tbody tr th {\n        vertical-align: top;\n    }\n\n    .dataframe thead th {\n        text-align: right;\n    }\n</style>\n<table border=\"1\" class=\"dataframe\">\n  <thead>\n    <tr style=\"text-align: right;\">\n      <th></th>\n      <th>순번</th>\n      <th>상품코드</th>\n      <th>상품명</th>\n      <th>합계</th>\n      <th>(1154)의정부점</th>\n      <th>(1155)별내점</th>\n      <th>(1156)풍산점</th>\n      <th>(1157)김포한강점</th>\n      <th>(1158)세종점</th>\n      <th>(1159)킨텍스점</th>\n      <th>...</th>\n      <th>(L21)위시티점</th>\n      <th>(L23)걸포동점</th>\n      <th>(L27)통일동산점</th>\n      <th>(L35)성대점</th>\n      <th>(L36)병점점</th>\n      <th>(L38)율전점</th>\n      <th>(L39)본오점</th>\n      <th>(L40)검암점</th>\n      <th>(L44)신길점</th>\n      <th>(L46)용호점</th>\n    </tr>\n  </thead>\n  <tbody>\n    <tr>\n      <th>0</th>\n      <td>NaN</td>\n      <td>NaN</td>\n      <td>NaN</td>\n      <td>수량</td>\n      <td>수량</td>\n      <td>수량</td>\n      <td>수량</td>\n      <td>수량</td>\n      <td>수량</td>\n      <td>수량</td>\n      <td>...</td>\n      <td>수량</td>\n      <td>수량</td>\n      <td>수량</td>\n      <td>수량</td>\n      <td>수량</td>\n      <td>수량</td>\n      <td>수량</td>\n      <td>수량</td>\n      <td>수량</td>\n      <td>수량</td>\n    </tr>\n    <tr>\n      <th>1</th>\n      <td>NaN</td>\n      <td>NaN</td>\n      <td>합 계</td>\n      <td>2,029,096</td>\n      <td>6,829</td>\n      <td>8,374</td>\n      <td>12,626</td>\n      <td>11,767</td>\n      <td>10,912</td>\n      <td>7,062</td>\n      <td>...</td>\n      <td>2,392</td>\n      <td>1,291</td>\n      <td>4,506</td>\n      <td>2,364</td>\n      <td>2,739</td>\n      <td>1,782</td>\n      <td>3,129</td>\n      <td>1,712</td>\n      <td>3,189</td>\n      <td>2,347</td>\n    </tr>\n    <tr>\n      <th>2</th>\n      <td>1.0</td>\n      <td>1801828.0</td>\n      <td>BW1 473ml캔(수입)</td>\n      <td>65,402</td>\n      <td>174</td>\n      <td>239</td>\n      <td>432</td>\n      <td>199</td>\n      <td>220</td>\n      <td>263</td>\n      <td>...</td>\n      <td>0</td>\n      <td>25</td>\n      <td>76</td>\n      <td>72</td>\n      <td>54</td>\n      <td>72</td>\n      <td>15</td>\n      <td>38</td>\n      <td>27</td>\n      <td>89</td>\n    </tr>\n    <tr>\n      <th>3</th>\n      <td>2.0</td>\n      <td>1801859.0</td>\n      <td>BW1 355ml (낱캔)</td>\n      <td>1</td>\n      <td>0</td>\n      <td>0</td>\n      <td>0</td>\n      <td>0</td>\n      <td>0</td>\n      <td>0</td>\n      <td>...</td>\n      <td>0</td>\n      <td>0</td>\n      <td>0</td>\n      <td>0</td>\n      <td>0</td>\n      <td>0</td>\n      <td>0</td>\n      <td>0</td>\n      <td>0</td>\n      <td>0</td>\n    </tr>\n    <tr>\n      <th>4</th>\n      <td>3.0</td>\n      <td>40786179.0</td>\n      <td>RB 500ml</td>\n      <td>2,158</td>\n      <td>4</td>\n      <td>9</td>\n      <td>10</td>\n      <td>27</td>\n      <td>0</td>\n      <td>11</td>\n      <td>...</td>\n      <td>0</td>\n      <td>0</td>\n      <td>0</td>\n      <td>0</td>\n      <td>0</td>\n      <td>0</td>\n      <td>0</td>\n      <td>0</td>\n      <td>0</td>\n      <td>0</td>\n    </tr>\n  </tbody>\n</table>\n<p>5 rows × 646 columns</p>\n</div>"
     },
     "metadata": {},
     "execution_count": 8
    }
   ],
   "source": [
    "df.head()"
   ]
  },
  {
   "cell_type": "code",
   "execution_count": 9,
   "metadata": {},
   "outputs": [],
   "source": [
    "stack_data = df.drop(columns=['순번', '상품코드']).set_index('상품명').stack().reset_index()"
   ]
  },
  {
   "cell_type": "code",
   "execution_count": 10,
   "metadata": {},
   "outputs": [],
   "source": [
    "df2 = pd.DataFrame(stack_data)"
   ]
  },
  {
   "cell_type": "markdown",
   "metadata": {},
   "source": [
    "### melt로 하는 방법"
   ]
  },
  {
   "cell_type": "code",
   "execution_count": 11,
   "metadata": {},
   "outputs": [],
   "source": [
    "region_list = df.columns.tolist()[4:]"
   ]
  },
  {
   "cell_type": "code",
   "execution_count": 12,
   "metadata": {},
   "outputs": [
    {
     "output_type": "execute_result",
     "data": {
      "text/plain": [
       "                            상품명    variable  value\n",
       "0                           NaN  (1154)의정부점     수량\n",
       "1                           합 계  (1154)의정부점  6,829\n",
       "2                BW1 473ml캔(수입)  (1154)의정부점    174\n",
       "3                BW1 355ml (낱캔)  (1154)의정부점      0\n",
       "4                      RB 500ml  (1154)의정부점      4\n",
       "...                         ...         ...    ...\n",
       "75109  CAT1 355ml*12캔+카카오 에코백+치    (L46)용호점      0\n",
       "75110     CAT2 355*24캔 + 진라면 6캔    (L46)용호점      0\n",
       "75111               CAT2 1.6L*6    (L46)용호점      0\n",
       "75112                 CAT2 1.6L    (L46)용호점    122\n",
       "75113                 CAT1 1.6L    (L46)용호점     24\n",
       "\n",
       "[75114 rows x 3 columns]"
      ],
      "text/html": "<div>\n<style scoped>\n    .dataframe tbody tr th:only-of-type {\n        vertical-align: middle;\n    }\n\n    .dataframe tbody tr th {\n        vertical-align: top;\n    }\n\n    .dataframe thead th {\n        text-align: right;\n    }\n</style>\n<table border=\"1\" class=\"dataframe\">\n  <thead>\n    <tr style=\"text-align: right;\">\n      <th></th>\n      <th>상품명</th>\n      <th>variable</th>\n      <th>value</th>\n    </tr>\n  </thead>\n  <tbody>\n    <tr>\n      <th>0</th>\n      <td>NaN</td>\n      <td>(1154)의정부점</td>\n      <td>수량</td>\n    </tr>\n    <tr>\n      <th>1</th>\n      <td>합 계</td>\n      <td>(1154)의정부점</td>\n      <td>6,829</td>\n    </tr>\n    <tr>\n      <th>2</th>\n      <td>BW1 473ml캔(수입)</td>\n      <td>(1154)의정부점</td>\n      <td>174</td>\n    </tr>\n    <tr>\n      <th>3</th>\n      <td>BW1 355ml (낱캔)</td>\n      <td>(1154)의정부점</td>\n      <td>0</td>\n    </tr>\n    <tr>\n      <th>4</th>\n      <td>RB 500ml</td>\n      <td>(1154)의정부점</td>\n      <td>4</td>\n    </tr>\n    <tr>\n      <th>...</th>\n      <td>...</td>\n      <td>...</td>\n      <td>...</td>\n    </tr>\n    <tr>\n      <th>75109</th>\n      <td>CAT1 355ml*12캔+카카오 에코백+치</td>\n      <td>(L46)용호점</td>\n      <td>0</td>\n    </tr>\n    <tr>\n      <th>75110</th>\n      <td>CAT2 355*24캔 + 진라면 6캔</td>\n      <td>(L46)용호점</td>\n      <td>0</td>\n    </tr>\n    <tr>\n      <th>75111</th>\n      <td>CAT2 1.6L*6</td>\n      <td>(L46)용호점</td>\n      <td>0</td>\n    </tr>\n    <tr>\n      <th>75112</th>\n      <td>CAT2 1.6L</td>\n      <td>(L46)용호점</td>\n      <td>122</td>\n    </tr>\n    <tr>\n      <th>75113</th>\n      <td>CAT1 1.6L</td>\n      <td>(L46)용호점</td>\n      <td>24</td>\n    </tr>\n  </tbody>\n</table>\n<p>75114 rows × 3 columns</p>\n</div>"
     },
     "metadata": {},
     "execution_count": 12
    }
   ],
   "source": [
    "pd.melt(df, id_vars=['상품명'], value_vars=region_list)"
   ]
  },
  {
   "cell_type": "markdown",
   "metadata": {},
   "source": [
    "### Null & 불필요 데이터처리"
   ]
  },
  {
   "cell_type": "code",
   "execution_count": 13,
   "metadata": {},
   "outputs": [],
   "source": [
    "df3 = df2.loc[~(df2['상품명'].isnull()) & (df2['상품명'] != '합 계') & (df2['level_1'] != ' 합계')]"
   ]
  },
  {
   "cell_type": "code",
   "execution_count": 14,
   "metadata": {},
   "outputs": [],
   "source": [
    "df4 = df3.rename(columns={'level_1' : '점포명' , 0 : '판매량'})"
   ]
  },
  {
   "cell_type": "code",
   "execution_count": 15,
   "metadata": {},
   "outputs": [
    {
     "output_type": "execute_result",
     "data": {
      "text/plain": [
       "                  상품명          점포명  판매량\n",
       "1287   BW1 473ml캔(수입)   (1154)의정부점  174\n",
       "1288   BW1 473ml캔(수입)    (1155)별내점  239\n",
       "1289   BW1 473ml캔(수입)    (1156)풍산점  432\n",
       "1290   BW1 473ml캔(수입)  (1157)김포한강점  199\n",
       "1291   BW1 473ml캔(수입)    (1158)세종점  220\n",
       "...               ...          ...  ...\n",
       "75226       CAT1 1.6L     (L38)율전점   54\n",
       "75227       CAT1 1.6L     (L39)본오점   28\n",
       "75228       CAT1 1.6L     (L40)검암점    9\n",
       "75229       CAT1 1.6L     (L44)신길점   28\n",
       "75230       CAT1 1.6L     (L46)용호점   24\n",
       "\n",
       "[73830 rows x 3 columns]"
      ],
      "text/html": "<div>\n<style scoped>\n    .dataframe tbody tr th:only-of-type {\n        vertical-align: middle;\n    }\n\n    .dataframe tbody tr th {\n        vertical-align: top;\n    }\n\n    .dataframe thead th {\n        text-align: right;\n    }\n</style>\n<table border=\"1\" class=\"dataframe\">\n  <thead>\n    <tr style=\"text-align: right;\">\n      <th></th>\n      <th>상품명</th>\n      <th>점포명</th>\n      <th>판매량</th>\n    </tr>\n  </thead>\n  <tbody>\n    <tr>\n      <th>1287</th>\n      <td>BW1 473ml캔(수입)</td>\n      <td>(1154)의정부점</td>\n      <td>174</td>\n    </tr>\n    <tr>\n      <th>1288</th>\n      <td>BW1 473ml캔(수입)</td>\n      <td>(1155)별내점</td>\n      <td>239</td>\n    </tr>\n    <tr>\n      <th>1289</th>\n      <td>BW1 473ml캔(수입)</td>\n      <td>(1156)풍산점</td>\n      <td>432</td>\n    </tr>\n    <tr>\n      <th>1290</th>\n      <td>BW1 473ml캔(수입)</td>\n      <td>(1157)김포한강점</td>\n      <td>199</td>\n    </tr>\n    <tr>\n      <th>1291</th>\n      <td>BW1 473ml캔(수입)</td>\n      <td>(1158)세종점</td>\n      <td>220</td>\n    </tr>\n    <tr>\n      <th>...</th>\n      <td>...</td>\n      <td>...</td>\n      <td>...</td>\n    </tr>\n    <tr>\n      <th>75226</th>\n      <td>CAT1 1.6L</td>\n      <td>(L38)율전점</td>\n      <td>54</td>\n    </tr>\n    <tr>\n      <th>75227</th>\n      <td>CAT1 1.6L</td>\n      <td>(L39)본오점</td>\n      <td>28</td>\n    </tr>\n    <tr>\n      <th>75228</th>\n      <td>CAT1 1.6L</td>\n      <td>(L40)검암점</td>\n      <td>9</td>\n    </tr>\n    <tr>\n      <th>75229</th>\n      <td>CAT1 1.6L</td>\n      <td>(L44)신길점</td>\n      <td>28</td>\n    </tr>\n    <tr>\n      <th>75230</th>\n      <td>CAT1 1.6L</td>\n      <td>(L46)용호점</td>\n      <td>24</td>\n    </tr>\n  </tbody>\n</table>\n<p>73830 rows × 3 columns</p>\n</div>"
     },
     "metadata": {},
     "execution_count": 15
    }
   ],
   "source": [
    "df4"
   ]
  },
  {
   "cell_type": "code",
   "execution_count": 16,
   "metadata": {},
   "outputs": [
    {
     "output_type": "execute_result",
     "data": {
      "text/plain": [
       "array(['BW1 473ml캔(수입)', 'BW1 355ml (낱캔)', 'RB 500ml', 'VX 500ml',\n",
       "       'CAT2 500ml', 'BW1 473ml(알루미늄)_2018 Worldcup', 'BW1 740ml',\n",
       "       'BW1 473ml*24캔 ALU', 'G1아일랜드 IPA 355ml',\n",
       "       'G1 아일랜드 312 Wheat Ale 355ml', 'G1아일랜드 Sopie 355ml', 'GL LOLITA',\n",
       "       'Juliet', 'GL Gillian', 'GL HALIA', 'STL 500ml', 'B1 Grigio 250ml',\n",
       "       'BR 250ml', 'PRC 500ml', 'STLA 330*6캔(new code)', 'STL 330ml',\n",
       "       'RPB 330ml', 'RB1 500ml', 'HGD2 750ml', 'HGD 500캔 (수입)',\n",
       "       'HGD 330*6캔 (수입)', 'HGD3 500ml', 'HRB 500ml', 'HRB 500ml(신코드)',\n",
       "       'PTG 473ml캔', 'CFR 355ml*6', 'CFR 355ml', 'CFR 330ml(신)',\n",
       "       'OLB 355ml', 'OLB 355ml*6', 'OLB 500ml', 'FG 355ml', 'FG 355ml*6',\n",
       "       'FG 500ml', 'FG 500ml*24캔[Traders]', 'FG 1.6L', 'FG 355ml*12캔 쿠폰팩',\n",
       "       'OLB 355ml*6캔 PKG [골든크라운]', 'OLB 500ml캔 [골든크라운]',\n",
       "       'OLB 500ml병 [골든크라운]', 'OLB 1.6L [골든크라운]', 'OLB 355ml*12캔 + 전용잔2',\n",
       "       'OLB 355ml*12캔 + 쿨러백 (202006)', 'HGD 330ml', 'HGD 355ml*6',\n",
       "       'STL 500ml*4', 'CRN 355ml', 'HGD2 250ml', 'BW1 330ml(신)',\n",
       "       'BW1 740ml*3캔_Traders', 'BW1 355ml*6캔(수입)', 'STL 500ml*6캔_Traders',\n",
       "       'HGD 500ml*6캔_Traders', 'STL 330ml*12캔_Multi', 'CRN 355ml*6캔',\n",
       "       'G1 IPA 473ml캔', 'G1 312 473ml캔', 'BW1 237ml*8캔',\n",
       "       'BW1 237ml*12캔 PKG', 'MC1 500ml캔', 'RR 355ml*6캔',\n",
       "       'RR 355ml*24캔 [Traders]', 'CRN (2019)', 'HGD2 330ml*6캔',\n",
       "       'RR 355*6캔 + 전용잔 기획', 'G1 473ml*8캔 [Traders]',\n",
       "       'G1 IPA 473ml*4캔+전용잔', 'G1 IPA 473ml*6캔 [Traders]',\n",
       "       'HGD 750ml*3캔+50cl 전용잔', 'MC1 500ml*4캔+전용잔 [2020,03]',\n",
       "       'STL 500ml*6캔+스페셜 전용잔(2020 로맨틱)', 'PTG 473ml*6캔 [Traders]',\n",
       "       'STL 500ml*6캔+전용잔 [2020여성의날]', 'G1IPA 473ml*4캔+기획잔 [2020/03]',\n",
       "       'G1 312 473ml*4캔 + 전용잔 기획[2020.03]', 'HGD 500ml*6캔 + 레시피 노트',\n",
       "       'HGD3 500ml*4캔+', 'HGD3 500ml 캔 (202006)',\n",
       "       'STL *4캔+전용잔1(202006 2차)', 'G1 IPA 473ml*8캔 쿨러백',\n",
       "       'HGD 495ml*4 + 전용잔 [2020.07_국산]',\n",
       "       'G1 IPA 473ml*12캔 + 쿨러박스 [Traders]', 'CAT2 355ml', 'CAT1 355ml',\n",
       "       'CAT2 355ml*6', 'CAT2 355ml*24', 'CAT1 355ml*6', 'CAT1 1.0L',\n",
       "       'CAT1 500ml', 'CAT1 355ml*12', 'CAT2 355ml*24+쿨러백',\n",
       "       'CAT2 355ml*8 절약팩', 'CAT2 640ml(신)', 'CAT2 500ml(신)',\n",
       "       'CAT2 355ml*10캔(냉장패키지)', 'CAT2 250ml*10캔 냉장패키지',\n",
       "       'CAT1 250ml*10*2 [Traders]', 'CAT2 250ml',\n",
       "       'CAT1 48캔+신라면 멀티 [Traders]', 'CAT2 355ml*24캔+진라면',\n",
       "       'CAT1 355*12캔 카카오쿨러백', 'CAT1 355ml*12캔+카카오 에코백+치',\n",
       "       'CAT2 355*24캔 + 진라면 6캔', 'CAT2 1.6L*6', 'CAT2 1.6L', 'CAT1 1.6L'],\n",
       "      dtype=object)"
      ]
     },
     "metadata": {},
     "execution_count": 16
    }
   ],
   "source": [
    "df4['상품명'].unique()"
   ]
  },
  {
   "cell_type": "code",
   "execution_count": 17,
   "metadata": {},
   "outputs": [],
   "source": [
    "# 각 제품군별 카테고리 생성\n",
    "def func1(row):\n",
    "    if 'CAT' in row:\n",
    "        return 'C Type'\n",
    "    elif 'STL' in row:\n",
    "        return 'S Type'\n",
    "    elif 'BW' in row:\n",
    "        return 'B Type'\n",
    "    return 'Non Type'\n",
    "\n",
    "df4['제품군'] = df4['상품명'].apply(func1)"
   ]
  },
  {
   "cell_type": "code",
   "execution_count": 18,
   "metadata": {},
   "outputs": [
    {
     "output_type": "execute_result",
     "data": {
      "text/plain": [
       "                  상품명          점포명  판매량     제품군\n",
       "1287   BW1 473ml캔(수입)   (1154)의정부점  174  B Type\n",
       "1288   BW1 473ml캔(수입)    (1155)별내점  239  B Type\n",
       "1289   BW1 473ml캔(수입)    (1156)풍산점  432  B Type\n",
       "1290   BW1 473ml캔(수입)  (1157)김포한강점  199  B Type\n",
       "1291   BW1 473ml캔(수입)    (1158)세종점  220  B Type\n",
       "...               ...          ...  ...     ...\n",
       "75226       CAT1 1.6L     (L38)율전점   54  C Type\n",
       "75227       CAT1 1.6L     (L39)본오점   28  C Type\n",
       "75228       CAT1 1.6L     (L40)검암점    9  C Type\n",
       "75229       CAT1 1.6L     (L44)신길점   28  C Type\n",
       "75230       CAT1 1.6L     (L46)용호점   24  C Type\n",
       "\n",
       "[73830 rows x 4 columns]"
      ],
      "text/html": "<div>\n<style scoped>\n    .dataframe tbody tr th:only-of-type {\n        vertical-align: middle;\n    }\n\n    .dataframe tbody tr th {\n        vertical-align: top;\n    }\n\n    .dataframe thead th {\n        text-align: right;\n    }\n</style>\n<table border=\"1\" class=\"dataframe\">\n  <thead>\n    <tr style=\"text-align: right;\">\n      <th></th>\n      <th>상품명</th>\n      <th>점포명</th>\n      <th>판매량</th>\n      <th>제품군</th>\n    </tr>\n  </thead>\n  <tbody>\n    <tr>\n      <th>1287</th>\n      <td>BW1 473ml캔(수입)</td>\n      <td>(1154)의정부점</td>\n      <td>174</td>\n      <td>B Type</td>\n    </tr>\n    <tr>\n      <th>1288</th>\n      <td>BW1 473ml캔(수입)</td>\n      <td>(1155)별내점</td>\n      <td>239</td>\n      <td>B Type</td>\n    </tr>\n    <tr>\n      <th>1289</th>\n      <td>BW1 473ml캔(수입)</td>\n      <td>(1156)풍산점</td>\n      <td>432</td>\n      <td>B Type</td>\n    </tr>\n    <tr>\n      <th>1290</th>\n      <td>BW1 473ml캔(수입)</td>\n      <td>(1157)김포한강점</td>\n      <td>199</td>\n      <td>B Type</td>\n    </tr>\n    <tr>\n      <th>1291</th>\n      <td>BW1 473ml캔(수입)</td>\n      <td>(1158)세종점</td>\n      <td>220</td>\n      <td>B Type</td>\n    </tr>\n    <tr>\n      <th>...</th>\n      <td>...</td>\n      <td>...</td>\n      <td>...</td>\n      <td>...</td>\n    </tr>\n    <tr>\n      <th>75226</th>\n      <td>CAT1 1.6L</td>\n      <td>(L38)율전점</td>\n      <td>54</td>\n      <td>C Type</td>\n    </tr>\n    <tr>\n      <th>75227</th>\n      <td>CAT1 1.6L</td>\n      <td>(L39)본오점</td>\n      <td>28</td>\n      <td>C Type</td>\n    </tr>\n    <tr>\n      <th>75228</th>\n      <td>CAT1 1.6L</td>\n      <td>(L40)검암점</td>\n      <td>9</td>\n      <td>C Type</td>\n    </tr>\n    <tr>\n      <th>75229</th>\n      <td>CAT1 1.6L</td>\n      <td>(L44)신길점</td>\n      <td>28</td>\n      <td>C Type</td>\n    </tr>\n    <tr>\n      <th>75230</th>\n      <td>CAT1 1.6L</td>\n      <td>(L46)용호점</td>\n      <td>24</td>\n      <td>C Type</td>\n    </tr>\n  </tbody>\n</table>\n<p>73830 rows × 4 columns</p>\n</div>"
     },
     "metadata": {},
     "execution_count": 18
    }
   ],
   "source": [
    "df4"
   ]
  },
  {
   "cell_type": "code",
   "execution_count": 19,
   "metadata": {},
   "outputs": [
    {
     "output_type": "execute_result",
     "data": {
      "text/plain": [
       "Non Type    44298\n",
       "C Type      17334\n",
       "B Type       6420\n",
       "S Type       5778\n",
       "Name: 제품군, dtype: int64"
      ]
     },
     "metadata": {},
     "execution_count": 19
    }
   ],
   "source": [
    "df4['제품군'].value_counts()"
   ]
  },
  {
   "cell_type": "code",
   "execution_count": 20,
   "metadata": {},
   "outputs": [],
   "source": [
    "# Non Type은 제외\n",
    "df5 = df4[df4['제품군'] != 'Non Type']"
   ]
  },
  {
   "cell_type": "code",
   "execution_count": 21,
   "metadata": {},
   "outputs": [
    {
     "output_type": "stream",
     "name": "stdout",
     "text": [
      "<class 'pandas.core.frame.DataFrame'>\nInt64Index: 29532 entries, 1287 to 75230\nData columns (total 4 columns):\n #   Column  Non-Null Count  Dtype \n---  ------  --------------  ----- \n 0   상품명     29532 non-null  object\n 1   점포명     29532 non-null  object\n 2   판매량     29532 non-null  object\n 3   제품군     29532 non-null  object\ndtypes: object(4)\nmemory usage: 1.1+ MB\n"
     ]
    }
   ],
   "source": [
    "df5.info()"
   ]
  },
  {
   "cell_type": "code",
   "execution_count": 22,
   "metadata": {},
   "outputs": [
    {
     "output_type": "stream",
     "name": "stderr",
     "text": [
      "<ipython-input-22-398df1cf1b90>:1: SettingWithCopyWarning: \nA value is trying to be set on a copy of a slice from a DataFrame.\nTry using .loc[row_indexer,col_indexer] = value instead\n\nSee the caveats in the documentation: https://pandas.pydata.org/pandas-docs/stable/user_guide/indexing.html#returning-a-view-versus-a-copy\n  df5['판매량'] = df5['판매량'].str.replace(',', '').astype(int)\n"
     ]
    }
   ],
   "source": [
    "df5['판매량'] = df5['판매량'].str.replace(',', '').astype(int)"
   ]
  },
  {
   "cell_type": "code",
   "execution_count": 23,
   "metadata": {},
   "outputs": [
    {
     "output_type": "stream",
     "name": "stdout",
     "text": [
      "<class 'pandas.core.frame.DataFrame'>\nInt64Index: 29532 entries, 1287 to 75230\nData columns (total 4 columns):\n #   Column  Non-Null Count  Dtype \n---  ------  --------------  ----- \n 0   상품명     29532 non-null  object\n 1   점포명     29532 non-null  object\n 2   판매량     29532 non-null  int32 \n 3   제품군     29532 non-null  object\ndtypes: int32(1), object(3)\nmemory usage: 1.0+ MB\n"
     ]
    }
   ],
   "source": [
    "df5.info()"
   ]
  },
  {
   "cell_type": "code",
   "execution_count": 24,
   "metadata": {},
   "outputs": [
    {
     "output_type": "stream",
     "name": "stdout",
     "text": [
      "<class 'pandas.core.frame.DataFrame'>\nInt64Index: 29532 entries, 1287 to 75230\nData columns (total 4 columns):\n #   Column  Non-Null Count  Dtype \n---  ------  --------------  ----- \n 0   상품명     29532 non-null  object\n 1   점포명     29532 non-null  object\n 2   판매량     29532 non-null  int32 \n 3   제품군     29532 non-null  object\ndtypes: int32(1), object(3)\nmemory usage: 1.0+ MB\n"
     ]
    }
   ],
   "source": [
    "df5.info()"
   ]
  },
  {
   "cell_type": "code",
   "execution_count": 25,
   "metadata": {},
   "outputs": [],
   "source": [
    "df6 = pd.pivot_table(data=df5, index=['점포명', '제품군'], values='판매량', aggfunc='sum').reset_index()"
   ]
  },
  {
   "cell_type": "code",
   "execution_count": 26,
   "metadata": {},
   "outputs": [],
   "source": [
    "top200 = df6.sort_values(by='판매량', ascending=False).head(200)\n",
    "top200.to_csv('../result/mart_total_top200.csv', encoding='cp949')"
   ]
  },
  {
   "cell_type": "code",
   "execution_count": 27,
   "metadata": {},
   "outputs": [],
   "source": [
    "c_type = df6[df6['제품군'] == 'C Type'].sort_values(by='판매량', ascending=False).head(20)\n",
    "c_type.to_csv('../result/mart_c_type_top20.csv', encoding='cp949')"
   ]
  },
  {
   "cell_type": "code",
   "execution_count": 28,
   "metadata": {},
   "outputs": [],
   "source": [
    "b_type = df6[df6['제품군'] == 'B Type'].sort_values(by='판매량', ascending=False).head(20)\n",
    "b_type.to_csv('../result/mart_b_type_top20.csv', encoding='cp949')"
   ]
  },
  {
   "cell_type": "code",
   "execution_count": 29,
   "metadata": {},
   "outputs": [],
   "source": [
    "s_type = df6[df6['제품군'] == 'S Type'].sort_values(by='판매량', ascending=False).head(20)\n",
    "s_type.to_csv('../result/mart_s_type_top20.csv', encoding='cp949')"
   ]
  },
  {
   "cell_type": "code",
   "execution_count": null,
   "metadata": {},
   "outputs": [],
   "source": []
  },
  {
   "cell_type": "markdown",
   "metadata": {},
   "source": [
    "# Dash/Plotly"
   ]
  },
  {
   "cell_type": "code",
   "execution_count": 30,
   "metadata": {},
   "outputs": [
    {
     "output_type": "stream",
     "name": "stdout",
     "text": [
      "Requirement already satisfied: plotly in c:\\users\\jinyoung\\appdata\\roaming\\python\\python39\\site-packages (4.14.3)\n",
      "Requirement already satisfied: retrying>=1.3.3 in c:\\users\\jinyoung\\appdata\\roaming\\python\\python39\\site-packages (from plotly) (1.3.3)WARNING: You are using pip version 21.1.1; however, version 21.1.3 is available.\n",
      "You should consider upgrading via the 'c:\\python39\\python.exe -m pip install --upgrade pip' command.\n",
      "\n",
      "Requirement already satisfied: six in c:\\python39\\lib\\site-packages (from plotly) (1.15.0)\n"
     ]
    }
   ],
   "source": [
    "!pip install --user plotly"
   ]
  },
  {
   "cell_type": "code",
   "execution_count": 31,
   "metadata": {},
   "outputs": [
    {
     "output_type": "stream",
     "name": "stdout",
     "text": [
      "Requirement already satisfied: dash in c:\\users\\jinyoung\\appdata\\roaming\\python\\python39\\site-packages (1.21.0)\n",
      "Requirement already satisfied: Flask>=1.0.4 in c:\\users\\jinyoung\\appdata\\roaming\\python\\python39\\site-packages (from dash) (2.0.1)\n",
      "Requirement already satisfied: flask-compress in c:\\users\\jinyoung\\appdata\\roaming\\python\\python39\\site-packages (from dash) (1.10.1)\n",
      "Requirement already satisfied: plotly in c:\\users\\jinyoung\\appdata\\roaming\\python\\python39\\site-packages (from dash) (4.14.3)\n",
      "Requirement already satisfied: dash-core-components==1.17.1 in c:\\users\\jinyoung\\appdata\\roaming\\python\\python39\\site-packages (from dash) (1.17.1)\n",
      "Requirement already satisfied: dash-html-components==1.1.4 in c:\\users\\jinyoung\\appdata\\roaming\\python\\python39\\site-packages (from dash) (1.1.4)\n",
      "Requirement already satisfied: dash-table==4.12.0 in c:\\users\\jinyoung\\appdata\\roaming\\python\\python39\\site-packages (from dash) (4.12.0)\n",
      "Requirement already satisfied: future in c:\\users\\jinyoung\\appdata\\roaming\\python\\python39\\site-packages (from dash) (0.18.2)\n",
      "Requirement already satisfied: Jinja2>=3.0 in c:\\users\\jinyoung\\appdata\\roaming\\python\\python39\\site-packages (from Flask>=1.0.4->dash) (3.0.1)\n",
      "Requirement already satisfied: click>=7.1.2 in c:\\users\\jinyoung\\appdata\\roaming\\python\\python39\\site-packages (from Flask>=1.0.4->dash) (7.1.2)\n",
      "Requirement already satisfied: itsdangerous>=2.0 in c:\\users\\jinyoung\\appdata\\roaming\\python\\python39\\site-packages (from Flask>=1.0.4->dash) (2.0.1)\n",
      "Requirement already satisfied: Werkzeug>=2.0 in c:\\users\\jinyoung\\appdata\\roaming\\python\\python39\\site-packages (from Flask>=1.0.4->dash) (2.0.1)\n",
      "Requirement already satisfied: MarkupSafe>=2.0 in c:\\users\\jinyoung\\appdata\\roaming\\python\\python39\\site-packages (from Jinja2>=3.0->Flask>=1.0.4->dash) (2.0.1)\n",
      "Requirement already satisfied: brotli in c:\\users\\jinyoung\\appdata\\roaming\\python\\python39\\site-packages (from flask-compress->dash) (1.0.9)\n",
      "Requirement already satisfied: retrying>=1.3.3 in c:\\users\\jinyoung\\appdata\\roaming\\python\\python39\\site-packages (from plotly->dash) (1.3.3)\n",
      "Requirement already satisfied: six in c:\\python39\\lib\\site-packages (from plotly->dash) (1.15.0)\n",
      "WARNING: You are using pip version 21.1.1; however, version 21.1.3 is available.\n",
      "You should consider upgrading via the 'c:\\python39\\python.exe -m pip install --upgrade pip' command.\n"
     ]
    }
   ],
   "source": [
    "!pip install --user dash"
   ]
  },
  {
   "cell_type": "code",
   "execution_count": 32,
   "metadata": {},
   "outputs": [],
   "source": [
    "import plotly.express as px"
   ]
  },
  {
   "cell_type": "code",
   "execution_count": 33,
   "metadata": {},
   "outputs": [],
   "source": [
    "mart_total_top200 = pd.read_csv('../result/mart_total_top200.csv', encoding='cp949')"
   ]
  },
  {
   "cell_type": "code",
   "execution_count": 34,
   "metadata": {},
   "outputs": [
    {
     "output_type": "display_data",
     "data": {
      "application/vnd.plotly.v1+json": {
       "config": {
        "plotlyServerURL": "https://plot.ly"
       },
       "data": [
        {
         "alignmentgroup": "True",
         "hovertemplate": "제품군=C Type<br>점포명=%{x}<br>판매량=%{y}<extra></extra>",
         "legendgroup": "C Type",
         "marker": {
          "color": "#636efa"
         },
         "name": "C Type",
         "offsetgroup": "C Type",
         "orientation": "v",
         "showlegend": true,
         "textposition": "auto",
         "type": "bar",
         "x": [
          "(610)부천점",
          "(600)안양점",
          "(966)성남점",
          "(550)은평점",
          "(601)시화점",
          "(690)고잔점",
          "(962)경기광주점",
          "(490)천안점",
          "(400)상봉점",
          "(380)가양점",
          "(740)속초점",
          "(660)연수점",
          "(932)오산점",
          "(340)구로점",
          "(560)여수점",
          "(540)평택점",
          "(900)순천점",
          "(964)제천점",
          "(470)성수점",
          "(700)문현점",
          "(931)남양주점",
          "(750)사상점",
          "(952)왕십리점",
          "(840)월계점",
          "(760)울산점",
          "(1164)광주점",
          "(360)산본점",
          "(947)동탄점",
          "(181)중동점",
          "(520)수원점",
          "(951)청계천점",
          "(850)용산점",
          "(410)이천점",
          "(460)군산점",
          "(430)목포점",
          "(480)월배점",
          "(631)신월점",
          "(580)연제점",
          "(182)계양점",
          "(984)천안서북점",
          "(640)창원점",
          "(440)동인천점",
          "(680)강릉점",
          "(968)광명소하점",
          "(1156)풍산점",
          "(941)자양점",
          "(320)전주점",
          "(935)경산점",
          "(975)파주운정점",
          "(934)서귀포점",
          "(939)아산점",
          "(945)신도림점",
          "(946)여주점",
          "(590)칠성점",
          "(450)만촌점",
          "(240)제주점",
          "(920)서수원점",
          "(650)명일점",
          "(1157)김포한강점",
          "(890)통영점",
          "(933)용인점",
          "(310)청주점",
          "(151)E/T송림점",
          "(955)미아점",
          "(K42)이천점",
          "(977)대전터미널",
          "(950)하남점",
          "(949)도농점",
          "(790)광산점",
          "(959)목동점",
          "(954)안성점",
          "(720)수지점",
          "(710)금정점",
          "(155)E/T안산점",
          "(980)서산점",
          "(570)포항점",
          "(350)성서점",
          "(530)충주점",
          "(620)둔산점",
          "(820)파주점",
          "(1155)별내점",
          "(810)양산점",
          "(930)죽전점",
          "(938)검단점",
          "(981)하월곡점",
          "(420)진주점",
          "(183)평촌점",
          "(770)동해점",
          "(1160)광교점",
          "(K38)김해점",
          "(961)영등포점",
          "(1158)세종점",
          "(186)이동점",
          "(942)광명점",
          "(K29)동림동점",
          "(K35)성주점",
          "(974)가든5점",
          "(200)창동점",
          "(944)봉선점",
          "(979)마포공덕점",
          "(730)신제주점",
          "(390)해운대점",
          "(370)천호점",
          "(953)보령점",
          "(967)포천점",
          "(K31)개봉동점",
          "(2231)서창2점",
          "(860)안동점",
          "(K50)번동점",
          "(969)천안터미널",
          "(936)동백점",
          "(800)양주점",
          "(1409)E/T수원점",
          "(1162)김해터미널점",
          "(910)춘천점",
          "(983)화성봉담점",
          "(978)동구미점",
          "(1154)의정부점",
          "(175)역삼점",
          "(330)원주점",
          "(250)분당점",
          "(971)진접점",
          "(210)일산점",
          "(K39)면목동점",
          "(973)묵동점",
          "(K15)일곡동점",
          "(177)화정점",
          "(K26)당동점",
          "(L02)고양동점",
          "(2652)동탄카림점",
          "(260)남원점",
          "(940)태백점",
          "(2127)도봉점",
          "(L27)통일동산점",
          "(L12)일산2호점",
          "(1159)킨텍스점",
          "(2658)김해율하점",
          "(185)마산점",
          "(L39)본오점",
          "(1417)E/T월계점",
          "(290)김천점",
          "(830)반야월점",
          "(K87)진량점",
          "(1163)의왕점",
          "(150)E/T구성점",
          "(L44)신길점",
          "(1412)E/T스타필드하남점",
          "(K99)작전점",
          "(970)이수점",
          "(K12)중곡동점",
          "(K93)동양점",
          "(K53)월피동점",
          "(L19)광릉점",
          "(K68)용현동점",
          "(2887)신탄진점",
          "(156)E/T천안점",
          "(L15)법원점",
          "(152)E/T월평점",
          "(K70)능동점",
          "(154)E/T비산점",
          "(153)E/T서면점",
          "(2636)평내점",
          "(L18)탄현동점",
          "(300)동광주점",
          "(2638)송도호반점",
          "(L06)팜스프링점",
          "(2526)의정부민락점",
          "(K48)답십리점",
          "(633)수서점",
          "(1418)E/T스타필드부천점",
          "(1414)E/T군포점",
          "(937)익산점",
          "(963)수색점",
          "(2674)동탄호수점"
         ],
         "xaxis": "x",
         "y": [
          13397,
          11806,
          11732,
          10278,
          9480,
          9473,
          8882,
          8447,
          8410,
          8395,
          8279,
          7869,
          7842,
          7831,
          7750,
          7706,
          7652,
          7555,
          7276,
          7260,
          7218,
          7063,
          6862,
          6850,
          6781,
          6708,
          6543,
          6454,
          6433,
          6327,
          6324,
          6141,
          6138,
          6076,
          6056,
          5983,
          5949,
          5919,
          5903,
          5882,
          5813,
          5731,
          5678,
          5596,
          5477,
          5463,
          5370,
          5368,
          5315,
          5312,
          5292,
          5260,
          5237,
          5212,
          5188,
          5142,
          5090,
          5053,
          5031,
          5003,
          4963,
          4957,
          4933,
          4896,
          4800,
          4697,
          4685,
          4666,
          4653,
          4644,
          4642,
          4638,
          4618,
          4600,
          4589,
          4543,
          4539,
          4527,
          4525,
          4461,
          4438,
          4436,
          4434,
          4420,
          4420,
          4323,
          4263,
          4228,
          4215,
          4204,
          4113,
          4037,
          4035,
          4029,
          3973,
          3973,
          3933,
          3892,
          3828,
          3807,
          3801,
          3747,
          3744,
          3637,
          3529,
          3517,
          3441,
          3429,
          3272,
          3254,
          3250,
          3220,
          3188,
          3171,
          3171,
          3139,
          3128,
          3119,
          3101,
          3086,
          3043,
          3015,
          2984,
          2980,
          2916,
          2866,
          2827,
          2819,
          2813,
          2777,
          2768,
          2763,
          2754,
          2718,
          2709,
          2705,
          2681,
          2671,
          2595,
          2575,
          2550,
          2519,
          2504,
          2487,
          2486,
          2473,
          2451,
          2442,
          2431,
          2417,
          2393,
          2390,
          2389,
          2388,
          2355,
          2332,
          2328,
          2323,
          2322,
          2315,
          2302,
          2276,
          2271,
          2260,
          2249,
          2245,
          2230,
          2206,
          2206,
          2177,
          2167,
          2162,
          2155,
          2151
         ],
         "yaxis": "y"
        },
        {
         "alignmentgroup": "True",
         "hovertemplate": "제품군=B Type<br>점포명=%{x}<br>판매량=%{y}<extra></extra>",
         "legendgroup": "B Type",
         "marker": {
          "color": "#EF553B"
         },
         "name": "B Type",
         "offsetgroup": "B Type",
         "orientation": "v",
         "showlegend": true,
         "textposition": "auto",
         "type": "bar",
         "x": [
          "(959)목동점",
          "(150)E/T구성점",
          "(1413)E/T스타필드고양점",
          "(1412)E/T스타필드하남점",
          "(153)E/T서면점",
          "(930)죽전점",
          "(151)E/T송림점",
          "(1409)E/T수원점",
          "(610)부천점",
          "(1417)E/T월계점",
          "(1419)E/T스타필드명지점",
          "(152)E/T월평점",
          "(1418)E/T스타필드부천점",
          "(1414)E/T군포점",
          "(936)동백점",
          "(1410)E/T킨텍스점",
          "(934)서귀포점",
          "(650)명일점",
          "(979)마포공덕점",
          "(947)동탄점",
          "(974)가든5점",
          "(480)월배점",
          "(380)가양점"
         ],
         "xaxis": "x",
         "y": [
          3548,
          3267,
          3267,
          3137,
          2991,
          2904,
          2870,
          2783,
          2734,
          2716,
          2565,
          2522,
          2408,
          2338,
          2305,
          2301,
          2258,
          2239,
          2207,
          2174,
          2166,
          2140,
          2122
         ],
         "yaxis": "y"
        },
        {
         "alignmentgroup": "True",
         "hovertemplate": "제품군=S Type<br>점포명=%{x}<br>판매량=%{y}<extra></extra>",
         "legendgroup": "S Type",
         "marker": {
          "color": "#00cc96"
         },
         "name": "S Type",
         "offsetgroup": "S Type",
         "orientation": "v",
         "showlegend": true,
         "textposition": "auto",
         "type": "bar",
         "x": [
          "(930)죽전점",
          "(150)E/T구성점",
          "(470)성수점"
         ],
         "xaxis": "x",
         "y": [
          2686,
          2174,
          2147
         ],
         "yaxis": "y"
        }
       ],
       "layout": {
        "barmode": "relative",
        "legend": {
         "title": {
          "text": "제품군"
         },
         "tracegroupgap": 0
        },
        "margin": {
         "t": 60
        },
        "template": {
         "data": {
          "bar": [
           {
            "error_x": {
             "color": "#2a3f5f"
            },
            "error_y": {
             "color": "#2a3f5f"
            },
            "marker": {
             "line": {
              "color": "#E5ECF6",
              "width": 0.5
             }
            },
            "type": "bar"
           }
          ],
          "barpolar": [
           {
            "marker": {
             "line": {
              "color": "#E5ECF6",
              "width": 0.5
             }
            },
            "type": "barpolar"
           }
          ],
          "carpet": [
           {
            "aaxis": {
             "endlinecolor": "#2a3f5f",
             "gridcolor": "white",
             "linecolor": "white",
             "minorgridcolor": "white",
             "startlinecolor": "#2a3f5f"
            },
            "baxis": {
             "endlinecolor": "#2a3f5f",
             "gridcolor": "white",
             "linecolor": "white",
             "minorgridcolor": "white",
             "startlinecolor": "#2a3f5f"
            },
            "type": "carpet"
           }
          ],
          "choropleth": [
           {
            "colorbar": {
             "outlinewidth": 0,
             "ticks": ""
            },
            "type": "choropleth"
           }
          ],
          "contour": [
           {
            "colorbar": {
             "outlinewidth": 0,
             "ticks": ""
            },
            "colorscale": [
             [
              0,
              "#0d0887"
             ],
             [
              0.1111111111111111,
              "#46039f"
             ],
             [
              0.2222222222222222,
              "#7201a8"
             ],
             [
              0.3333333333333333,
              "#9c179e"
             ],
             [
              0.4444444444444444,
              "#bd3786"
             ],
             [
              0.5555555555555556,
              "#d8576b"
             ],
             [
              0.6666666666666666,
              "#ed7953"
             ],
             [
              0.7777777777777778,
              "#fb9f3a"
             ],
             [
              0.8888888888888888,
              "#fdca26"
             ],
             [
              1,
              "#f0f921"
             ]
            ],
            "type": "contour"
           }
          ],
          "contourcarpet": [
           {
            "colorbar": {
             "outlinewidth": 0,
             "ticks": ""
            },
            "type": "contourcarpet"
           }
          ],
          "heatmap": [
           {
            "colorbar": {
             "outlinewidth": 0,
             "ticks": ""
            },
            "colorscale": [
             [
              0,
              "#0d0887"
             ],
             [
              0.1111111111111111,
              "#46039f"
             ],
             [
              0.2222222222222222,
              "#7201a8"
             ],
             [
              0.3333333333333333,
              "#9c179e"
             ],
             [
              0.4444444444444444,
              "#bd3786"
             ],
             [
              0.5555555555555556,
              "#d8576b"
             ],
             [
              0.6666666666666666,
              "#ed7953"
             ],
             [
              0.7777777777777778,
              "#fb9f3a"
             ],
             [
              0.8888888888888888,
              "#fdca26"
             ],
             [
              1,
              "#f0f921"
             ]
            ],
            "type": "heatmap"
           }
          ],
          "heatmapgl": [
           {
            "colorbar": {
             "outlinewidth": 0,
             "ticks": ""
            },
            "colorscale": [
             [
              0,
              "#0d0887"
             ],
             [
              0.1111111111111111,
              "#46039f"
             ],
             [
              0.2222222222222222,
              "#7201a8"
             ],
             [
              0.3333333333333333,
              "#9c179e"
             ],
             [
              0.4444444444444444,
              "#bd3786"
             ],
             [
              0.5555555555555556,
              "#d8576b"
             ],
             [
              0.6666666666666666,
              "#ed7953"
             ],
             [
              0.7777777777777778,
              "#fb9f3a"
             ],
             [
              0.8888888888888888,
              "#fdca26"
             ],
             [
              1,
              "#f0f921"
             ]
            ],
            "type": "heatmapgl"
           }
          ],
          "histogram": [
           {
            "marker": {
             "colorbar": {
              "outlinewidth": 0,
              "ticks": ""
             }
            },
            "type": "histogram"
           }
          ],
          "histogram2d": [
           {
            "colorbar": {
             "outlinewidth": 0,
             "ticks": ""
            },
            "colorscale": [
             [
              0,
              "#0d0887"
             ],
             [
              0.1111111111111111,
              "#46039f"
             ],
             [
              0.2222222222222222,
              "#7201a8"
             ],
             [
              0.3333333333333333,
              "#9c179e"
             ],
             [
              0.4444444444444444,
              "#bd3786"
             ],
             [
              0.5555555555555556,
              "#d8576b"
             ],
             [
              0.6666666666666666,
              "#ed7953"
             ],
             [
              0.7777777777777778,
              "#fb9f3a"
             ],
             [
              0.8888888888888888,
              "#fdca26"
             ],
             [
              1,
              "#f0f921"
             ]
            ],
            "type": "histogram2d"
           }
          ],
          "histogram2dcontour": [
           {
            "colorbar": {
             "outlinewidth": 0,
             "ticks": ""
            },
            "colorscale": [
             [
              0,
              "#0d0887"
             ],
             [
              0.1111111111111111,
              "#46039f"
             ],
             [
              0.2222222222222222,
              "#7201a8"
             ],
             [
              0.3333333333333333,
              "#9c179e"
             ],
             [
              0.4444444444444444,
              "#bd3786"
             ],
             [
              0.5555555555555556,
              "#d8576b"
             ],
             [
              0.6666666666666666,
              "#ed7953"
             ],
             [
              0.7777777777777778,
              "#fb9f3a"
             ],
             [
              0.8888888888888888,
              "#fdca26"
             ],
             [
              1,
              "#f0f921"
             ]
            ],
            "type": "histogram2dcontour"
           }
          ],
          "mesh3d": [
           {
            "colorbar": {
             "outlinewidth": 0,
             "ticks": ""
            },
            "type": "mesh3d"
           }
          ],
          "parcoords": [
           {
            "line": {
             "colorbar": {
              "outlinewidth": 0,
              "ticks": ""
             }
            },
            "type": "parcoords"
           }
          ],
          "pie": [
           {
            "automargin": true,
            "type": "pie"
           }
          ],
          "scatter": [
           {
            "marker": {
             "colorbar": {
              "outlinewidth": 0,
              "ticks": ""
             }
            },
            "type": "scatter"
           }
          ],
          "scatter3d": [
           {
            "line": {
             "colorbar": {
              "outlinewidth": 0,
              "ticks": ""
             }
            },
            "marker": {
             "colorbar": {
              "outlinewidth": 0,
              "ticks": ""
             }
            },
            "type": "scatter3d"
           }
          ],
          "scattercarpet": [
           {
            "marker": {
             "colorbar": {
              "outlinewidth": 0,
              "ticks": ""
             }
            },
            "type": "scattercarpet"
           }
          ],
          "scattergeo": [
           {
            "marker": {
             "colorbar": {
              "outlinewidth": 0,
              "ticks": ""
             }
            },
            "type": "scattergeo"
           }
          ],
          "scattergl": [
           {
            "marker": {
             "colorbar": {
              "outlinewidth": 0,
              "ticks": ""
             }
            },
            "type": "scattergl"
           }
          ],
          "scattermapbox": [
           {
            "marker": {
             "colorbar": {
              "outlinewidth": 0,
              "ticks": ""
             }
            },
            "type": "scattermapbox"
           }
          ],
          "scatterpolar": [
           {
            "marker": {
             "colorbar": {
              "outlinewidth": 0,
              "ticks": ""
             }
            },
            "type": "scatterpolar"
           }
          ],
          "scatterpolargl": [
           {
            "marker": {
             "colorbar": {
              "outlinewidth": 0,
              "ticks": ""
             }
            },
            "type": "scatterpolargl"
           }
          ],
          "scatterternary": [
           {
            "marker": {
             "colorbar": {
              "outlinewidth": 0,
              "ticks": ""
             }
            },
            "type": "scatterternary"
           }
          ],
          "surface": [
           {
            "colorbar": {
             "outlinewidth": 0,
             "ticks": ""
            },
            "colorscale": [
             [
              0,
              "#0d0887"
             ],
             [
              0.1111111111111111,
              "#46039f"
             ],
             [
              0.2222222222222222,
              "#7201a8"
             ],
             [
              0.3333333333333333,
              "#9c179e"
             ],
             [
              0.4444444444444444,
              "#bd3786"
             ],
             [
              0.5555555555555556,
              "#d8576b"
             ],
             [
              0.6666666666666666,
              "#ed7953"
             ],
             [
              0.7777777777777778,
              "#fb9f3a"
             ],
             [
              0.8888888888888888,
              "#fdca26"
             ],
             [
              1,
              "#f0f921"
             ]
            ],
            "type": "surface"
           }
          ],
          "table": [
           {
            "cells": {
             "fill": {
              "color": "#EBF0F8"
             },
             "line": {
              "color": "white"
             }
            },
            "header": {
             "fill": {
              "color": "#C8D4E3"
             },
             "line": {
              "color": "white"
             }
            },
            "type": "table"
           }
          ]
         },
         "layout": {
          "annotationdefaults": {
           "arrowcolor": "#2a3f5f",
           "arrowhead": 0,
           "arrowwidth": 1
          },
          "autotypenumbers": "strict",
          "coloraxis": {
           "colorbar": {
            "outlinewidth": 0,
            "ticks": ""
           }
          },
          "colorscale": {
           "diverging": [
            [
             0,
             "#8e0152"
            ],
            [
             0.1,
             "#c51b7d"
            ],
            [
             0.2,
             "#de77ae"
            ],
            [
             0.3,
             "#f1b6da"
            ],
            [
             0.4,
             "#fde0ef"
            ],
            [
             0.5,
             "#f7f7f7"
            ],
            [
             0.6,
             "#e6f5d0"
            ],
            [
             0.7,
             "#b8e186"
            ],
            [
             0.8,
             "#7fbc41"
            ],
            [
             0.9,
             "#4d9221"
            ],
            [
             1,
             "#276419"
            ]
           ],
           "sequential": [
            [
             0,
             "#0d0887"
            ],
            [
             0.1111111111111111,
             "#46039f"
            ],
            [
             0.2222222222222222,
             "#7201a8"
            ],
            [
             0.3333333333333333,
             "#9c179e"
            ],
            [
             0.4444444444444444,
             "#bd3786"
            ],
            [
             0.5555555555555556,
             "#d8576b"
            ],
            [
             0.6666666666666666,
             "#ed7953"
            ],
            [
             0.7777777777777778,
             "#fb9f3a"
            ],
            [
             0.8888888888888888,
             "#fdca26"
            ],
            [
             1,
             "#f0f921"
            ]
           ],
           "sequentialminus": [
            [
             0,
             "#0d0887"
            ],
            [
             0.1111111111111111,
             "#46039f"
            ],
            [
             0.2222222222222222,
             "#7201a8"
            ],
            [
             0.3333333333333333,
             "#9c179e"
            ],
            [
             0.4444444444444444,
             "#bd3786"
            ],
            [
             0.5555555555555556,
             "#d8576b"
            ],
            [
             0.6666666666666666,
             "#ed7953"
            ],
            [
             0.7777777777777778,
             "#fb9f3a"
            ],
            [
             0.8888888888888888,
             "#fdca26"
            ],
            [
             1,
             "#f0f921"
            ]
           ]
          },
          "colorway": [
           "#636efa",
           "#EF553B",
           "#00cc96",
           "#ab63fa",
           "#FFA15A",
           "#19d3f3",
           "#FF6692",
           "#B6E880",
           "#FF97FF",
           "#FECB52"
          ],
          "font": {
           "color": "#2a3f5f"
          },
          "geo": {
           "bgcolor": "white",
           "lakecolor": "white",
           "landcolor": "#E5ECF6",
           "showlakes": true,
           "showland": true,
           "subunitcolor": "white"
          },
          "hoverlabel": {
           "align": "left"
          },
          "hovermode": "closest",
          "mapbox": {
           "style": "light"
          },
          "paper_bgcolor": "white",
          "plot_bgcolor": "#E5ECF6",
          "polar": {
           "angularaxis": {
            "gridcolor": "white",
            "linecolor": "white",
            "ticks": ""
           },
           "bgcolor": "#E5ECF6",
           "radialaxis": {
            "gridcolor": "white",
            "linecolor": "white",
            "ticks": ""
           }
          },
          "scene": {
           "xaxis": {
            "backgroundcolor": "#E5ECF6",
            "gridcolor": "white",
            "gridwidth": 2,
            "linecolor": "white",
            "showbackground": true,
            "ticks": "",
            "zerolinecolor": "white"
           },
           "yaxis": {
            "backgroundcolor": "#E5ECF6",
            "gridcolor": "white",
            "gridwidth": 2,
            "linecolor": "white",
            "showbackground": true,
            "ticks": "",
            "zerolinecolor": "white"
           },
           "zaxis": {
            "backgroundcolor": "#E5ECF6",
            "gridcolor": "white",
            "gridwidth": 2,
            "linecolor": "white",
            "showbackground": true,
            "ticks": "",
            "zerolinecolor": "white"
           }
          },
          "shapedefaults": {
           "line": {
            "color": "#2a3f5f"
           }
          },
          "ternary": {
           "aaxis": {
            "gridcolor": "white",
            "linecolor": "white",
            "ticks": ""
           },
           "baxis": {
            "gridcolor": "white",
            "linecolor": "white",
            "ticks": ""
           },
           "bgcolor": "#E5ECF6",
           "caxis": {
            "gridcolor": "white",
            "linecolor": "white",
            "ticks": ""
           }
          },
          "title": {
           "x": 0.05
          },
          "xaxis": {
           "automargin": true,
           "gridcolor": "white",
           "linecolor": "white",
           "ticks": "",
           "title": {
            "standoff": 15
           },
           "zerolinecolor": "white",
           "zerolinewidth": 2
          },
          "yaxis": {
           "automargin": true,
           "gridcolor": "white",
           "linecolor": "white",
           "ticks": "",
           "title": {
            "standoff": 15
           },
           "zerolinecolor": "white",
           "zerolinewidth": 2
          }
         }
        },
        "xaxis": {
         "anchor": "y",
         "domain": [
          0,
          1
         ],
         "title": {
          "text": "점포명"
         }
        },
        "yaxis": {
         "anchor": "x",
         "domain": [
          0,
          1
         ],
         "title": {
          "text": "판매량"
         }
        }
       }
      }
     },
     "metadata": {}
    }
   ],
   "source": [
    "fig = px.bar(mart_total_top200, x='점포명', y='판매량', color='제품군')\n",
    "fig.show()"
   ]
  },
  {
   "cell_type": "code",
   "execution_count": null,
   "metadata": {},
   "outputs": [],
   "source": []
  }
 ],
 "metadata": {
  "kernelspec": {
   "name": "python3",
   "display_name": "Python 3.8.5 64-bit ('base': conda)"
  },
  "language_info": {
   "codemirror_mode": {
    "name": "ipython",
    "version": 3
   },
   "file_extension": ".py",
   "mimetype": "text/x-python",
   "name": "python",
   "nbconvert_exporter": "python",
   "pygments_lexer": "ipython3",
   "version": "3.8.5"
  },
  "interpreter": {
   "hash": "b3ba2566441a7c06988d0923437866b63cedc61552a5af99d1f4fb67d367b25f"
  }
 },
 "nbformat": 4,
 "nbformat_minor": 4
}