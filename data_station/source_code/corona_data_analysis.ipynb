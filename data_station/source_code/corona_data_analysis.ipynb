{
 "cells": [
  {
   "cell_type": "markdown",
   "source": [
    "# [Project 1] 코로나 데이터 분석"
   ],
   "metadata": {
    "id": "nMZCtV8-wUBi"
   }
  },
  {
   "cell_type": "markdown",
   "source": [
    "---"
   ],
   "metadata": {
    "id": "q4nVw7MrwUBj"
   }
  },
  {
   "cell_type": "markdown",
   "source": [
    "## 프로젝트 목표\r\n",
    "- 서울시 코로나19 확진자 현황 데이터를 분석하여 유의미한 정보 도출\r\n",
    "- 탐색적 데이터 분석을 수행하기 위한 데이터 정제, 특성 엔지니어링, 시각화 방법 학습"
   ],
   "metadata": {
    "id": "30SKtC7RwUBk"
   }
  },
  {
   "cell_type": "markdown",
   "source": [
    "---"
   ],
   "metadata": {
    "id": "DKqVqsuNwUBk"
   }
  },
  {
   "cell_type": "markdown",
   "source": [
    "## 프로젝트 목차\n",
    "1. **데이터 읽기:** 코로나 데이터를 불러오고 Dataframe 구조를 확인<br>\n",
    "    1.1. 데이터 불러오기<br>\n",
    "<br> \n",
    "2. **데이터 정제:** 비어 있는 데이터 또는 쓸모 없는 데이터를 삭제<br>\n",
    "    2.1. 비어있는 column 지우기<br>\n",
    "<br>\n",
    "3. **데이터 시각화:** 각 변수 별로 추가적인 정제 또는 feature engineering 과정을 거치고 시각화를 통하여 데이터의 특성 파악<br>\n",
    "    3.1. 확진일 데이터 전처리하기<br>\n",
    "    3.2. 월별 확진자 수 출력<br>\n",
    "    3.3. 8월 일별 확진자 수 출력<br>\n",
    "    3.4. 지역별 확진자 수 출력<br>\n",
    "    3.5. 8월달 지역별 확진자 수 출력<br>\n",
    "    3.6. 월별 관악구 확진자 수 출력<br>\n",
    "    3.7. 서울 지역에서 확진자를 지도에 출력<br>"
   ],
   "metadata": {
    "id": "uHvelOrMwUBk"
   }
  },
  {
   "cell_type": "markdown",
   "source": [
    "---"
   ],
   "metadata": {
    "id": "lUQhF57GwUBl"
   }
  },
  {
   "cell_type": "markdown",
   "source": [
    "## 데이터 출처\n",
    "-  https://www.data.go.kr/tcs/dss/selectFileDataDetailView.do?publicDataPk=15063273"
   ],
   "metadata": {
    "id": "t006thVWwUBl"
   }
  },
  {
   "cell_type": "markdown",
   "source": [
    "---"
   ],
   "metadata": {
    "id": "yCBC0cvfwUBl"
   }
  },
  {
   "cell_type": "markdown",
   "source": [
    "## 프로젝트 개요\n",
    "\n",
    "2020년 초에 발생한 코로나19 바이러스는 세계적으로 대유행하였고 이에 대한 많은 분석이 이루어지고 있습니다. 유행 초기엔 이를 분석할 데이터가 충분하지 않았지만 6개월 이상 지난 지금은 다양한 데이터 기관에서 코로나 관련 데이터를 공공으로 제공하고 있습니다.\n",
    "\n",
    "이번 프로젝트에서는 국내 공공데이터 포털에서 제공하는 `서울시 코로나19 확진자 현황` 데이터를 바탕으로 탐색적 데이터 분석을 수행해보겠습니다. 국내 데이터 중 확진자 비율이 제일 높고 사람이 제일 많은 서울시의 데이터를 선정하였으며, 이를 바탕으로 코로나19의 확진 추이 및 환자 특성에 대해서 데이터를 바탕으로 알아봅시다.\n",
    "\n"
   ],
   "metadata": {
    "id": "py5kyk7mwUBl"
   }
  },
  {
   "cell_type": "markdown",
   "source": [
    "---"
   ],
   "metadata": {
    "id": "Dy5Q39iIwUBm"
   }
  },
  {
   "cell_type": "markdown",
   "source": [
    " "
   ],
   "metadata": {
    "id": "E-1xUfi8wUBm"
   }
  },
  {
   "cell_type": "markdown",
   "source": [
    "## 1. 데이터 읽기"
   ],
   "metadata": {
    "id": "r077bdYzwUBm"
   }
  },
  {
   "cell_type": "markdown",
   "source": [
    "필요한 패키지 설치 및 `import`한 후 `pandas`를 사용하여 데이터를 읽고 어떠한 데이터가 저장되어 있는지 확인합니다."
   ],
   "metadata": {
    "id": "0e9Ht_41wUBm"
   }
  },
  {
   "cell_type": "markdown",
   "source": [
    "### 1.1. 데이터 불러오기"
   ],
   "metadata": {}
  },
  {
   "cell_type": "code",
   "execution_count": 1,
   "source": [
    "import numpy as np \r\n",
    "import pandas as pd \r\n",
    "import matplotlib.pyplot as plt\r\n",
    "import seaborn as sns"
   ],
   "outputs": [],
   "metadata": {
    "id": "VqCenoC3wUBn"
   }
  },
  {
   "cell_type": "code",
   "execution_count": 3,
   "source": [
    "# pd.read_csv를 통하여 dataframe 형태로 읽어옵니다.\r\n",
    "corona_all=pd.read_csv(\"../rawdata/서울시 코로나19 확진자 현황.csv\")"
   ],
   "outputs": [],
   "metadata": {
    "id": "6PeTXSwjwUBn"
   }
  },
  {
   "cell_type": "code",
   "execution_count": 4,
   "source": [
    "# 상위 5개 데이터를 출력합니다.\r\n",
    "corona_all.head()"
   ],
   "outputs": [
    {
     "output_type": "execute_result",
     "data": {
      "text/plain": [
       "      연번         확진일  환자번호  국적  환자정보   지역  여행력                    접촉력  조치사항  \\\n",
       "0  60663  2021-07-22   NaN NaN   NaN  종로구  NaN              기타 확진자 접촉   NaN   \n",
       "1  60662  2021-07-22   NaN NaN   NaN  관악구  NaN  관악구 소재 사우나 관련(?21.7.)   NaN   \n",
       "2  60661  2021-07-22   NaN NaN   NaN  성북구  NaN              기타 확진자 접촉   NaN   \n",
       "3  60660  2021-07-22   NaN NaN   NaN  성북구  NaN              기타 확진자 접촉   NaN   \n",
       "4  60659  2021-07-22   NaN NaN   NaN  성북구  NaN              기타 확진자 접촉   NaN   \n",
       "\n",
       "  상태  이동경로               등록일               수정일 노출여부  \n",
       "0  -   NaN  2021-07-23 11:00  2021-07-23 11:00    Y  \n",
       "1  -   NaN  2021-07-23 11:00  2021-07-23 11:00    Y  \n",
       "2  -   NaN  2021-07-23 11:00  2021-07-23 11:00    Y  \n",
       "3  -   NaN  2021-07-23 11:00  2021-07-23 11:00    Y  \n",
       "4  -   NaN  2021-07-23 11:00  2021-07-23 11:00    Y  "
      ],
      "text/html": [
       "<div>\n",
       "<style scoped>\n",
       "    .dataframe tbody tr th:only-of-type {\n",
       "        vertical-align: middle;\n",
       "    }\n",
       "\n",
       "    .dataframe tbody tr th {\n",
       "        vertical-align: top;\n",
       "    }\n",
       "\n",
       "    .dataframe thead th {\n",
       "        text-align: right;\n",
       "    }\n",
       "</style>\n",
       "<table border=\"1\" class=\"dataframe\">\n",
       "  <thead>\n",
       "    <tr style=\"text-align: right;\">\n",
       "      <th></th>\n",
       "      <th>연번</th>\n",
       "      <th>확진일</th>\n",
       "      <th>환자번호</th>\n",
       "      <th>국적</th>\n",
       "      <th>환자정보</th>\n",
       "      <th>지역</th>\n",
       "      <th>여행력</th>\n",
       "      <th>접촉력</th>\n",
       "      <th>조치사항</th>\n",
       "      <th>상태</th>\n",
       "      <th>이동경로</th>\n",
       "      <th>등록일</th>\n",
       "      <th>수정일</th>\n",
       "      <th>노출여부</th>\n",
       "    </tr>\n",
       "  </thead>\n",
       "  <tbody>\n",
       "    <tr>\n",
       "      <th>0</th>\n",
       "      <td>60663</td>\n",
       "      <td>2021-07-22</td>\n",
       "      <td>NaN</td>\n",
       "      <td>NaN</td>\n",
       "      <td>NaN</td>\n",
       "      <td>종로구</td>\n",
       "      <td>NaN</td>\n",
       "      <td>기타 확진자 접촉</td>\n",
       "      <td>NaN</td>\n",
       "      <td>-</td>\n",
       "      <td>NaN</td>\n",
       "      <td>2021-07-23 11:00</td>\n",
       "      <td>2021-07-23 11:00</td>\n",
       "      <td>Y</td>\n",
       "    </tr>\n",
       "    <tr>\n",
       "      <th>1</th>\n",
       "      <td>60662</td>\n",
       "      <td>2021-07-22</td>\n",
       "      <td>NaN</td>\n",
       "      <td>NaN</td>\n",
       "      <td>NaN</td>\n",
       "      <td>관악구</td>\n",
       "      <td>NaN</td>\n",
       "      <td>관악구 소재 사우나 관련(?21.7.)</td>\n",
       "      <td>NaN</td>\n",
       "      <td>-</td>\n",
       "      <td>NaN</td>\n",
       "      <td>2021-07-23 11:00</td>\n",
       "      <td>2021-07-23 11:00</td>\n",
       "      <td>Y</td>\n",
       "    </tr>\n",
       "    <tr>\n",
       "      <th>2</th>\n",
       "      <td>60661</td>\n",
       "      <td>2021-07-22</td>\n",
       "      <td>NaN</td>\n",
       "      <td>NaN</td>\n",
       "      <td>NaN</td>\n",
       "      <td>성북구</td>\n",
       "      <td>NaN</td>\n",
       "      <td>기타 확진자 접촉</td>\n",
       "      <td>NaN</td>\n",
       "      <td>-</td>\n",
       "      <td>NaN</td>\n",
       "      <td>2021-07-23 11:00</td>\n",
       "      <td>2021-07-23 11:00</td>\n",
       "      <td>Y</td>\n",
       "    </tr>\n",
       "    <tr>\n",
       "      <th>3</th>\n",
       "      <td>60660</td>\n",
       "      <td>2021-07-22</td>\n",
       "      <td>NaN</td>\n",
       "      <td>NaN</td>\n",
       "      <td>NaN</td>\n",
       "      <td>성북구</td>\n",
       "      <td>NaN</td>\n",
       "      <td>기타 확진자 접촉</td>\n",
       "      <td>NaN</td>\n",
       "      <td>-</td>\n",
       "      <td>NaN</td>\n",
       "      <td>2021-07-23 11:00</td>\n",
       "      <td>2021-07-23 11:00</td>\n",
       "      <td>Y</td>\n",
       "    </tr>\n",
       "    <tr>\n",
       "      <th>4</th>\n",
       "      <td>60659</td>\n",
       "      <td>2021-07-22</td>\n",
       "      <td>NaN</td>\n",
       "      <td>NaN</td>\n",
       "      <td>NaN</td>\n",
       "      <td>성북구</td>\n",
       "      <td>NaN</td>\n",
       "      <td>기타 확진자 접촉</td>\n",
       "      <td>NaN</td>\n",
       "      <td>-</td>\n",
       "      <td>NaN</td>\n",
       "      <td>2021-07-23 11:00</td>\n",
       "      <td>2021-07-23 11:00</td>\n",
       "      <td>Y</td>\n",
       "    </tr>\n",
       "  </tbody>\n",
       "</table>\n",
       "</div>"
      ]
     },
     "metadata": {},
     "execution_count": 4
    }
   ],
   "metadata": {
    "id": "HK1LUrkjwUBn",
    "outputId": "997869ef-2cb9-40a3-ada2-9f75f646ab49",
    "scrolled": true
   }
  },
  {
   "cell_type": "code",
   "execution_count": 5,
   "source": [
    "# dataframe 정보를 요약하여 출력합니다. \r\n",
    "corona_all.info()"
   ],
   "outputs": [
    {
     "output_type": "stream",
     "name": "stdout",
     "text": [
      "<class 'pandas.core.frame.DataFrame'>\n",
      "RangeIndex: 60663 entries, 0 to 60662\n",
      "Data columns (total 14 columns):\n",
      " #   Column  Non-Null Count  Dtype  \n",
      "---  ------  --------------  -----  \n",
      " 0   연번      60663 non-null  int64  \n",
      " 1   확진일     60663 non-null  object \n",
      " 2   환자번호    0 non-null      float64\n",
      " 3   국적      0 non-null      float64\n",
      " 4   환자정보    0 non-null      float64\n",
      " 5   지역      60663 non-null  object \n",
      " 6   여행력     1366 non-null   object \n",
      " 7   접촉력     60663 non-null  object \n",
      " 8   조치사항    0 non-null      float64\n",
      " 9   상태      60663 non-null  object \n",
      " 10  이동경로    0 non-null      float64\n",
      " 11  등록일     60663 non-null  object \n",
      " 12  수정일     60663 non-null  object \n",
      " 13  노출여부    60663 non-null  object \n",
      "dtypes: float64(5), int64(1), object(8)\n",
      "memory usage: 6.5+ MB\n"
     ]
    }
   ],
   "metadata": {
    "id": "n_DL99rxwUBo",
    "outputId": "732824cf-c5e1-4f88-9ba7-6dadfc4e081f"
   }
  },
  {
   "cell_type": "markdown",
   "source": [
    " "
   ],
   "metadata": {
    "id": "jWknASZ2wUBo"
   }
  },
  {
   "cell_type": "markdown",
   "source": [
    "---"
   ],
   "metadata": {}
  },
  {
   "cell_type": "markdown",
   "source": [
    "## 2. 데이터 정제"
   ],
   "metadata": {
    "id": "0K4t-JjpwUBo"
   }
  },
  {
   "cell_type": "markdown",
   "source": [
    "데이터를 읽고 확인했다면 결측값(missing data), 이상치(outlier)를 처리하는 데이터 정제 과정을 수행하여 봅시다."
   ],
   "metadata": {
    "id": "mQsjxTEFwUBo"
   }
  },
  {
   "cell_type": "markdown",
   "source": [
    "### 2.1. 비어있는 column 지우기"
   ],
   "metadata": {
    "id": "wM4dLaHywUBp"
   }
  },
  {
   "cell_type": "markdown",
   "source": [
    "`corona_all.info()` 코드를 통하여 `국적`, `환자정보`, `조치사항` 에 해당하는 데이터가 존재하지 않는 것을 알 수 있습니다.\n",
    "\n",
    "`dataframe.drop()`를 사용하여 불필요한 `국적`, `환자정보`, `조치사항` 의 column 데이터를 삭제하고 이 dataframe을 `corona_del_col`에 저장해 봅시다."
   ],
   "metadata": {
    "id": "IlesnjwFwUBp"
   }
  },
  {
   "cell_type": "code",
   "execution_count": 6,
   "source": [
    "# drop 함수를 사용하여 국적, 환자정보, 조치사항 coulmn 데이터를 삭제합니다.\r\n",
    "corona_del_col = corona_all.drop(columns = ['국적','환자정보','조치사항'])"
   ],
   "outputs": [],
   "metadata": {
    "id": "E11LKG2mwUBp"
   }
  },
  {
   "cell_type": "code",
   "execution_count": 7,
   "source": [
    "# 정제 처리된 dataframe 정보를 출력합니다.\r\n",
    "corona_del_col.info()"
   ],
   "outputs": [
    {
     "output_type": "stream",
     "name": "stdout",
     "text": [
      "<class 'pandas.core.frame.DataFrame'>\n",
      "RangeIndex: 60663 entries, 0 to 60662\n",
      "Data columns (total 11 columns):\n",
      " #   Column  Non-Null Count  Dtype  \n",
      "---  ------  --------------  -----  \n",
      " 0   연번      60663 non-null  int64  \n",
      " 1   확진일     60663 non-null  object \n",
      " 2   환자번호    0 non-null      float64\n",
      " 3   지역      60663 non-null  object \n",
      " 4   여행력     1366 non-null   object \n",
      " 5   접촉력     60663 non-null  object \n",
      " 6   상태      60663 non-null  object \n",
      " 7   이동경로    0 non-null      float64\n",
      " 8   등록일     60663 non-null  object \n",
      " 9   수정일     60663 non-null  object \n",
      " 10  노출여부    60663 non-null  object \n",
      "dtypes: float64(2), int64(1), object(8)\n",
      "memory usage: 5.1+ MB\n"
     ]
    }
   ],
   "metadata": {
    "id": "nkiFwimHwUBp",
    "outputId": "f15efddc-58f2-4576-dfbc-f121cd6b917c"
   }
  },
  {
   "cell_type": "markdown",
   "source": [
    "---"
   ],
   "metadata": {}
  },
  {
   "cell_type": "markdown",
   "source": [
    "## 3. 데이터 시각화"
   ],
   "metadata": {
    "id": "2CFELljJwUBp"
   }
  },
  {
   "cell_type": "markdown",
   "source": [
    "데이터 정제를 완료한 `corona_del_col` 데이터를 바탕으로 각 column의 변수별로 어떠한 데이터 분포를 하고 있는지 시각화를 통하여 알아봅시다."
   ],
   "metadata": {
    "id": "J-FS9HekwUBq"
   }
  },
  {
   "cell_type": "markdown",
   "source": [
    "### 3.1. 확진일 데이터 전처리하기"
   ],
   "metadata": {
    "id": "5m2_oHZUwUBq"
   }
  },
  {
   "cell_type": "markdown",
   "source": [
    "`확진일` 데이터를 간단히 출력해보면 `월.일` 형태의 날짜 형식임을 알 수 있습니다.\n",
    "\n",
    "월별, 일별 분석을 위해서는 문자열 형식의 데이터를 나누어 숫자 형 데이터로 변환해 보겠습니다."
   ],
   "metadata": {
    "id": "N2485-d6wUBq"
   }
  },
  {
   "cell_type": "code",
   "execution_count": 8,
   "source": [
    "corona_del_col['확진일']"
   ],
   "outputs": [
    {
     "output_type": "execute_result",
     "data": {
      "text/plain": [
       "0        2021-07-22\n",
       "1        2021-07-22\n",
       "2        2021-07-22\n",
       "3        2021-07-22\n",
       "4        2021-07-22\n",
       "            ...    \n",
       "60658    2020-01-31\n",
       "60659    2020-01-30\n",
       "60660    2020-01-30\n",
       "60661    2020-01-30\n",
       "60662    2020-01-24\n",
       "Name: 확진일, Length: 60663, dtype: object"
      ]
     },
     "metadata": {},
     "execution_count": 8
    }
   ],
   "metadata": {
    "id": "IajTQUw5wUBq",
    "outputId": "f9f536a6-5e45-493a-f9e6-3673597fff78"
   }
  },
  {
   "cell_type": "markdown",
   "source": [
    "#### `확진일` 데이터를 `month`, `day` 데이터로 나누기"
   ],
   "metadata": {
    "id": "bcO6uQgLwUBq"
   }
  },
  {
   "cell_type": "markdown",
   "source": [
    "`확진일`에 저장된 문자열 데이터를 나누어 `month`, `day` column에 int64 형태로 저장해 봅시다."
   ],
   "metadata": {
    "id": "QBCA4y3NwUBq"
   }
  },
  {
   "cell_type": "code",
   "execution_count": 19,
   "source": [
    "# dataframe에 추가하기 전, 임시로 데이터를 저장해 둘 list를 선언합니다.\r\n",
    "month = []\r\n",
    "day = []\r\n",
    "\r\n",
    "for data in corona_del_col['확진일']:\r\n",
    "    # split 함수를 사용하여 월, 일을 나누어 list에 저장합니다.\r\n",
    "    month.append(data.split('-')[1].replace('0', ''))\r\n",
    "    day.append(data.split('-')[2])"
   ],
   "outputs": [],
   "metadata": {
    "id": "n08ToZjawUBq"
   }
  },
  {
   "cell_type": "code",
   "execution_count": 20,
   "source": [
    "# corona_del_col에 `month`, `day` column을 생성하며 동시에 list에 임시 저장된 데이터를 입력합니다.\r\n",
    "corona_del_col['month'] = month\r\n",
    "corona_del_col['day'] = day\r\n",
    "\r\n",
    "corona_del_col['month'].astype('int64')\r\n",
    "corona_del_col['day'].astype('int64')"
   ],
   "outputs": [
    {
     "output_type": "execute_result",
     "data": {
      "text/plain": [
       "0        22\n",
       "1        22\n",
       "2        22\n",
       "3        22\n",
       "4        22\n",
       "         ..\n",
       "60658    31\n",
       "60659    30\n",
       "60660    30\n",
       "60661    30\n",
       "60662    24\n",
       "Name: day, Length: 60663, dtype: int64"
      ]
     },
     "metadata": {},
     "execution_count": 20
    }
   ],
   "metadata": {
    "id": "eb2aZuVKwUBq",
    "outputId": "47c18f65-2fd8-47d8-f4f0-5069bcba5886",
    "scrolled": true
   }
  },
  {
   "cell_type": "markdown",
   "source": [
    " "
   ],
   "metadata": {
    "id": "41eTsaWRwUBr"
   }
  },
  {
   "cell_type": "markdown",
   "source": [
    "### 3.2. 월별 확진자 수 출력"
   ],
   "metadata": {
    "id": "uA8fZJAuwUBr"
   }
  },
  {
   "cell_type": "markdown",
   "source": [
    "나누어진 `month`의 데이터를 바탕으로 달별 확진자 수를 막대그래프로 출력해 보겠습니다."
   ],
   "metadata": {
    "id": "jrFFhoc0wUBr"
   }
  },
  {
   "cell_type": "code",
   "execution_count": 21,
   "source": [
    "# 그래프에서 x축의 순서를 정리하기 위하여 order list를 생성합니다.\r\n",
    "order = []\r\n",
    "for i in range(1,11):\r\n",
    "    order.append(str(i))\r\n",
    "\r\n",
    "order"
   ],
   "outputs": [
    {
     "output_type": "execute_result",
     "data": {
      "text/plain": [
       "['1', '2', '3', '4', '5', '6', '7', '8', '9', '10']"
      ]
     },
     "metadata": {},
     "execution_count": 21
    }
   ],
   "metadata": {
    "id": "ewZc1bpQwUBr",
    "outputId": "87724819-7be4-4cfa-8475-285ef41aa0c1"
   }
  },
  {
   "cell_type": "code",
   "execution_count": 22,
   "source": [
    "# 그래프의 사이즈를 조절합니다.\r\n",
    "plt.figure(figsize=(10,5))\r\n",
    "\r\n",
    "# seaborn의 countplot 함수를 사용하여 출력합니다.\r\n",
    "sns.set(style=\"darkgrid\")\r\n",
    "ax = sns.countplot(x=\"month\", data=corona_del_col, palette=\"Set2\", order = order)"
   ],
   "outputs": [
    {
     "output_type": "display_data",
     "data": {
      "text/plain": [
       "<Figure size 720x360 with 1 Axes>"
      ],
      "image/png": "[encoded data removed]"
     },
     "metadata": {}
    }
   ],
   "metadata": {
    "id": "N6hC5IH5wUBr",
    "outputId": "1646539d-b01f-47bd-e51c-cff1625f50ea",
    "scrolled": true
   }
  },
  {
   "cell_type": "code",
   "execution_count": 23,
   "source": [
    "# series의 plot 함수를 사용한 출력 방법도 있습니다.\r\n",
    "corona_del_col['month'].value_counts().plot(kind='bar')"
   ],
   "outputs": [
    {
     "output_type": "execute_result",
     "data": {
      "text/plain": [
       "<AxesSubplot:>"
      ]
     },
     "metadata": {},
     "execution_count": 23
    },
    {
     "output_type": "display_data",
     "data": {
      "text/plain": [
       "<Figure size 432x288 with 1 Axes>"
      ],
      "image/png": "[encoded data removed]"
     },
     "metadata": {}
    }
   ],
   "metadata": {
    "id": "xNTb9pqxwUBr",
    "outputId": "e347dbd9-d1bd-4662-bf11-3ba2807b5a14"
   }
  },
  {
   "cell_type": "code",
   "execution_count": 24,
   "source": [
    "# value_counts()는 각 데이터를 세어서 내림차순으로 정리하는 함수입니다.\r\n",
    "corona_del_col['month'].value_counts()"
   ],
   "outputs": [
    {
     "output_type": "execute_result",
     "data": {
      "text/plain": [
       "7     10623\n",
       "12    10432\n",
       "6      6716\n",
       "5      6259\n",
       "4      5960\n",
       "1      5618\n",
       "3      4289\n",
       "2      4141\n",
       "11     2904\n",
       "8      2415\n",
       "9      1306\n",
       "Name: month, dtype: int64"
      ]
     },
     "metadata": {},
     "execution_count": 24
    }
   ],
   "metadata": {
    "id": "T0wfG_uHwUBs",
    "outputId": "9e8ddf92-c057-4945-9ac4-1b818901ecc0"
   }
  },
  {
   "cell_type": "markdown",
   "source": [
    " "
   ],
   "metadata": {
    "id": "0_jqBxOfwUBs"
   }
  },
  {
   "cell_type": "markdown",
   "source": [
    "### 3.3. 8월달 일별 확진자 수 출력"
   ],
   "metadata": {
    "id": "-Pny9-f0wUBs"
   }
  },
  {
   "cell_type": "markdown",
   "source": [
    "월별 확진자 수를 출력해보면 알 수 있듯이 8월에 확진자 수가 가장 많았습니다.\n",
    "\n",
    "이번엔 8월 동안 확진자 수가 어떻게 늘었는지 일별 확진자 수를 막대그래프로 출력해 봅시다."
   ],
   "metadata": {
    "id": "dwBFEmHPwUBs"
   }
  },
  {
   "cell_type": "code",
   "execution_count": 25,
   "source": [
    "# 그래프에서 x축의 순서를 정리하기 위하여 order list를 생성합니다.\r\n",
    "order2 = []\r\n",
    "for i in range(1,32):\r\n",
    "    \r\n",
    "    order2.append(str(i))\r\n",
    "\r\n",
    "order2"
   ],
   "outputs": [
    {
     "output_type": "execute_result",
     "data": {
      "text/plain": [
       "['1',\n",
       " '2',\n",
       " '3',\n",
       " '4',\n",
       " '5',\n",
       " '6',\n",
       " '7',\n",
       " '8',\n",
       " '9',\n",
       " '10',\n",
       " '11',\n",
       " '12',\n",
       " '13',\n",
       " '14',\n",
       " '15',\n",
       " '16',\n",
       " '17',\n",
       " '18',\n",
       " '19',\n",
       " '20',\n",
       " '21',\n",
       " '22',\n",
       " '23',\n",
       " '24',\n",
       " '25',\n",
       " '26',\n",
       " '27',\n",
       " '28',\n",
       " '29',\n",
       " '30',\n",
       " '31']"
      ]
     },
     "metadata": {},
     "execution_count": 25
    }
   ],
   "metadata": {
    "id": "1JuAxzYNwUBs",
    "outputId": "9d9b780a-627e-4a19-db18-48080486a64c",
    "scrolled": true
   }
  },
  {
   "cell_type": "code",
   "execution_count": 26,
   "source": [
    "# seaborn의 countplot 함수를 사용하여 출력합니다.\r\n",
    "plt.figure(figsize=(20,10))\r\n",
    "sns.set(style=\"darkgrid\")\r\n",
    "ax = sns.countplot(x=\"day\", data=corona_del_col[corona_del_col['month'] == '8'], palette=\"rocket_r\", order = order2)"
   ],
   "outputs": [
    {
     "output_type": "display_data",
     "data": {
      "text/plain": [
       "<Figure size 1440x720 with 1 Axes>"
      ],
      "image/png": "[encoded data removed]"
     },
     "metadata": {}
    }
   ],
   "metadata": {
    "id": "vGX6fdK_wUBs",
    "outputId": "459f9310-c324-4cc1-ac40-5c5e3fbdda85"
   }
  },
  {
   "cell_type": "markdown",
   "source": [
    "#### 퀴즈 1. 8월 평균 일별 확진자 수를 구하세요. (8월 총 확진자/31일)"
   ],
   "metadata": {
    "id": "1Xn302wvwUBt"
   }
  },
  {
   "cell_type": "code",
   "execution_count": 27,
   "source": [
    "corona_del_col[corona_del_col['month'] == '8']['day'].count()/31\r\n",
    "corona_del_col[corona_del_col['month'] == '8']['day'].value_counts().mean()"
   ],
   "outputs": [
    {
     "output_type": "execute_result",
     "data": {
      "text/plain": [
       "77.90322580645162"
      ]
     },
     "metadata": {},
     "execution_count": 27
    }
   ],
   "metadata": {
    "id": "DVpI2nEOwUBt"
   }
  },
  {
   "cell_type": "markdown",
   "source": [
    " "
   ],
   "metadata": {
    "id": "aw4hNYmOwUBt"
   }
  },
  {
   "cell_type": "markdown",
   "source": [
    "### 3.4. 지역별 확진자 수 출력"
   ],
   "metadata": {
    "id": "CFeexAklwUBt"
   }
  },
  {
   "cell_type": "markdown",
   "source": [
    "`지역` 데이터를 간단히 출력해보면 `oo구` 형태의 문자열 데이터임을 알 수 있습니다."
   ],
   "metadata": {
    "id": "lfcwtG2vwUBt"
   }
  },
  {
   "cell_type": "code",
   "execution_count": 29,
   "source": [
    "corona_del_col['지역']"
   ],
   "outputs": [
    {
     "output_type": "execute_result",
     "data": {
      "text/plain": [
       "0        종로구\n",
       "1        관악구\n",
       "2        성북구\n",
       "3        성북구\n",
       "4        성북구\n",
       "        ... \n",
       "60658    성북구\n",
       "60659    마포구\n",
       "60660    종로구\n",
       "60661    중랑구\n",
       "60662    강서구\n",
       "Name: 지역, Length: 60663, dtype: object"
      ]
     },
     "metadata": {},
     "execution_count": 29
    }
   ],
   "metadata": {
    "id": "GWM87FcSwUBt",
    "outputId": "bc1032f9-5c90-4c6a-f47f-423b2db72076"
   }
  },
  {
   "cell_type": "markdown",
   "source": [
    "이번에는 지역별로 확진자가 얼마나 있는지 막대그래프로 출력해 봅시다."
   ],
   "metadata": {
    "id": "tM5mk2V9wUBu"
   }
  },
  {
   "cell_type": "code",
   "execution_count": 35,
   "source": [
    "plt.figure(figsize=(20,10))\r\n",
    "# 한글 출력을 위해서 폰트 옵션을 설정합니다.\r\n",
    "sns.set(font=\"Malgun Gothic\", \r\n",
    "        rc={\"axes.unicode_minus\":False},\r\n",
    "        style='darkgrid')\r\n",
    "ax = sns.countplot(x=\"지역\", data=corona_del_col, palette=\"Set2\")"
   ],
   "outputs": [
    {
     "output_type": "display_data",
     "data": {
      "text/plain": [
       "<Figure size 1440x720 with 1 Axes>"
      ],
      "image/png": "[encoded data removed]"
     },
     "metadata": {}
    }
   ],
   "metadata": {
    "id": "_UOI_lbowUBu",
    "outputId": "d11d5768-1697-4648-cb6e-c5f088dbc2e0"
   }
  },
  {
   "cell_type": "markdown",
   "source": [
    " "
   ],
   "metadata": {
    "id": "yLDr9FcOwUBu"
   }
  },
  {
   "cell_type": "markdown",
   "source": [
    "#### 지역 이상치 데이터 처리"
   ],
   "metadata": {
    "id": "9j_M6JPKwUBw"
   }
  },
  {
   "cell_type": "markdown",
   "source": [
    "위의 출력된 데이터를 보면 `종랑구`라는 잘못된 데이터와 `한국`이라는 지역과는 맞지 않는 데이터가 있음을 알 수 있습니다.\n",
    "\n",
    "기존 지역 데이터 특성에 맞도록 `종랑구` -> `중랑구`, `한국` -> `기타`로 데이터를 변경해 봅시다."
   ],
   "metadata": {
    "id": "7PTWWj38wUBw"
   }
  },
  {
   "cell_type": "code",
   "execution_count": 36,
   "source": [
    "# replace 함수를 사용하여 해당 데이터를 변경합니다.\r\n",
    "# 이상치가 처리된 데이터이기에 새로운 Dataframe으로 저장합니다.\r\n",
    "corona_out_region = corona_del_col.replace({'종랑구':'중랑구', '한국':'기타'})"
   ],
   "outputs": [],
   "metadata": {
    "id": "3cGiPownwUBx"
   }
  },
  {
   "cell_type": "code",
   "execution_count": 38,
   "source": [
    "# 이상치가 처리된 데이터를 다시 출력해 봅시다.\r\n",
    "plt.figure(figsize=(20,10))\r\n",
    "sns.set(font=\"Malgun Gothic\", \r\n",
    "        rc={\"axes.unicode_minus\":False},\r\n",
    "        style='darkgrid')\r\n",
    "ax = sns.countplot(x=\"지역\", data=corona_out_region, palette=\"Set2\")"
   ],
   "outputs": [
    {
     "output_type": "display_data",
     "data": {
      "text/plain": [
       "<Figure size 1440x720 with 1 Axes>"
      ],
      "image/png": "[encoded data removed]"
     },
     "metadata": {}
    }
   ],
   "metadata": {
    "id": "gG0doFrywUBx",
    "outputId": "6774ab19-05dc-4f6e-e66c-9359a97289d0"
   }
  },
  {
   "cell_type": "markdown",
   "source": [
    " "
   ],
   "metadata": {
    "id": "vXpCuwcCwUBx"
   }
  },
  {
   "cell_type": "markdown",
   "source": [
    "### 3.5. 8월달 지역별 확진자 수 출력"
   ],
   "metadata": {
    "id": "Xiy8Sry7wUBx"
   }
  },
  {
   "cell_type": "markdown",
   "source": [
    "감염자가 많았던 8월에는 지역별로 확진자가 어떻게 분포되어 있는지 막대그래프로 출력해 봅시다."
   ],
   "metadata": {
    "id": "dITR9gJQwUBy"
   }
  },
  {
   "cell_type": "code",
   "execution_count": 39,
   "source": [
    "# 논리연산을 이용한 조건을 다음과 같이 사용하면 해당 조건에 맞는 데이터를 출력할 수 있습니다.\r\n",
    "corona_out_region[corona_del_col['month'] == '8']"
   ],
   "outputs": [
    {
     "output_type": "execute_result",
     "data": {
      "text/plain": [
       "         연번         확진일  환자번호   지역  여행력              접촉력  상태  이동경로  \\\n",
       "53770  6893  2020-08-25   NaN   기타  NaN         감염경로 조사중  사망   NaN   \n",
       "56186  4477  2020-08-31   NaN  타시도  NaN         감염경로 조사중  퇴원   NaN   \n",
       "56187  4476  2020-08-25   NaN  타시도  NaN    성북구 사랑제일교회 관련  퇴원   NaN   \n",
       "56188  4475  2020-08-26   NaN  타시도  NaN       타시도 확진자 접촉  퇴원   NaN   \n",
       "56189  4474  2020-08-27   NaN  타시도  NaN        기타 확진자 접촉  퇴원   NaN   \n",
       "...     ...         ...   ...  ...  ...              ...  ..   ...   \n",
       "59055  1608  2020-08-02   NaN  용산구  아시아             해외유입  퇴원   NaN   \n",
       "59056  1607  2020-08-01   NaN  양천구  NaN        기타 확진자 접촉  퇴원   NaN   \n",
       "59057  1606  2020-08-01   NaN  종로구  NaN  종로구 지인모임 (신명투자)  퇴원   NaN   \n",
       "59059  1604  2020-08-01   NaN  강서구  NaN      강서구 요양시설 관련  퇴원   NaN   \n",
       "59060  1603  2020-08-01   NaN  강서구  NaN      강서구 요양시설 관련  퇴원   NaN   \n",
       "\n",
       "                    등록일               수정일 노출여부 month day  \n",
       "53770  2021-05-27 11:08  2021-05-27 11:08    Y     8  25  \n",
       "56186  2021-05-27 11:08  2021-05-27 11:08    Y     8  31  \n",
       "56187  2021-05-27 11:08  2021-05-27 11:08    Y     8  25  \n",
       "56188  2021-05-27 11:08  2021-05-27 11:08    Y     8  26  \n",
       "56189  2021-05-27 11:08  2021-05-27 11:08    Y     8  27  \n",
       "...                 ...               ...  ...   ...  ..  \n",
       "59055  2021-05-27 11:08  2021-05-27 11:08    Y     8  02  \n",
       "59056  2021-05-27 11:08  2021-05-27 11:08    Y     8  01  \n",
       "59057  2021-05-27 11:08  2021-05-27 11:08    Y     8  01  \n",
       "59059  2021-05-27 11:08  2021-05-27 11:08    Y     8  01  \n",
       "59060  2021-05-27 11:08  2021-05-27 11:08    Y     8  01  \n",
       "\n",
       "[2415 rows x 13 columns]"
      ],
      "text/html": [
       "<div>\n",
       "<style scoped>\n",
       "    .dataframe tbody tr th:only-of-type {\n",
       "        vertical-align: middle;\n",
       "    }\n",
       "\n",
       "    .dataframe tbody tr th {\n",
       "        vertical-align: top;\n",
       "    }\n",
       "\n",
       "    .dataframe thead th {\n",
       "        text-align: right;\n",
       "    }\n",
       "</style>\n",
       "<table border=\"1\" class=\"dataframe\">\n",
       "  <thead>\n",
       "    <tr style=\"text-align: right;\">\n",
       "      <th></th>\n",
       "      <th>연번</th>\n",
       "      <th>확진일</th>\n",
       "      <th>환자번호</th>\n",
       "      <th>지역</th>\n",
       "      <th>여행력</th>\n",
       "      <th>접촉력</th>\n",
       "      <th>상태</th>\n",
       "      <th>이동경로</th>\n",
       "      <th>등록일</th>\n",
       "      <th>수정일</th>\n",
       "      <th>노출여부</th>\n",
       "      <th>month</th>\n",
       "      <th>day</th>\n",
       "    </tr>\n",
       "  </thead>\n",
       "  <tbody>\n",
       "    <tr>\n",
       "      <th>53770</th>\n",
       "      <td>6893</td>\n",
       "      <td>2020-08-25</td>\n",
       "      <td>NaN</td>\n",
       "      <td>기타</td>\n",
       "      <td>NaN</td>\n",
       "      <td>감염경로 조사중</td>\n",
       "      <td>사망</td>\n",
       "      <td>NaN</td>\n",
       "      <td>2021-05-27 11:08</td>\n",
       "      <td>2021-05-27 11:08</td>\n",
       "      <td>Y</td>\n",
       "      <td>8</td>\n",
       "      <td>25</td>\n",
       "    </tr>\n",
       "    <tr>\n",
       "      <th>56186</th>\n",
       "      <td>4477</td>\n",
       "      <td>2020-08-31</td>\n",
       "      <td>NaN</td>\n",
       "      <td>타시도</td>\n",
       "      <td>NaN</td>\n",
       "      <td>감염경로 조사중</td>\n",
       "      <td>퇴원</td>\n",
       "      <td>NaN</td>\n",
       "      <td>2021-05-27 11:08</td>\n",
       "      <td>2021-05-27 11:08</td>\n",
       "      <td>Y</td>\n",
       "      <td>8</td>\n",
       "      <td>31</td>\n",
       "    </tr>\n",
       "    <tr>\n",
       "      <th>56187</th>\n",
       "      <td>4476</td>\n",
       "      <td>2020-08-25</td>\n",
       "      <td>NaN</td>\n",
       "      <td>타시도</td>\n",
       "      <td>NaN</td>\n",
       "      <td>성북구 사랑제일교회 관련</td>\n",
       "      <td>퇴원</td>\n",
       "      <td>NaN</td>\n",
       "      <td>2021-05-27 11:08</td>\n",
       "      <td>2021-05-27 11:08</td>\n",
       "      <td>Y</td>\n",
       "      <td>8</td>\n",
       "      <td>25</td>\n",
       "    </tr>\n",
       "    <tr>\n",
       "      <th>56188</th>\n",
       "      <td>4475</td>\n",
       "      <td>2020-08-26</td>\n",
       "      <td>NaN</td>\n",
       "      <td>타시도</td>\n",
       "      <td>NaN</td>\n",
       "      <td>타시도 확진자 접촉</td>\n",
       "      <td>퇴원</td>\n",
       "      <td>NaN</td>\n",
       "      <td>2021-05-27 11:08</td>\n",
       "      <td>2021-05-27 11:08</td>\n",
       "      <td>Y</td>\n",
       "      <td>8</td>\n",
       "      <td>26</td>\n",
       "    </tr>\n",
       "    <tr>\n",
       "      <th>56189</th>\n",
       "      <td>4474</td>\n",
       "      <td>2020-08-27</td>\n",
       "      <td>NaN</td>\n",
       "      <td>타시도</td>\n",
       "      <td>NaN</td>\n",
       "      <td>기타 확진자 접촉</td>\n",
       "      <td>퇴원</td>\n",
       "      <td>NaN</td>\n",
       "      <td>2021-05-27 11:08</td>\n",
       "      <td>2021-05-27 11:08</td>\n",
       "      <td>Y</td>\n",
       "      <td>8</td>\n",
       "      <td>27</td>\n",
       "    </tr>\n",
       "    <tr>\n",
       "      <th>...</th>\n",
       "      <td>...</td>\n",
       "      <td>...</td>\n",
       "      <td>...</td>\n",
       "      <td>...</td>\n",
       "      <td>...</td>\n",
       "      <td>...</td>\n",
       "      <td>...</td>\n",
       "      <td>...</td>\n",
       "      <td>...</td>\n",
       "      <td>...</td>\n",
       "      <td>...</td>\n",
       "      <td>...</td>\n",
       "      <td>...</td>\n",
       "    </tr>\n",
       "    <tr>\n",
       "      <th>59055</th>\n",
       "      <td>1608</td>\n",
       "      <td>2020-08-02</td>\n",
       "      <td>NaN</td>\n",
       "      <td>용산구</td>\n",
       "      <td>아시아</td>\n",
       "      <td>해외유입</td>\n",
       "      <td>퇴원</td>\n",
       "      <td>NaN</td>\n",
       "      <td>2021-05-27 11:08</td>\n",
       "      <td>2021-05-27 11:08</td>\n",
       "      <td>Y</td>\n",
       "      <td>8</td>\n",
       "      <td>02</td>\n",
       "    </tr>\n",
       "    <tr>\n",
       "      <th>59056</th>\n",
       "      <td>1607</td>\n",
       "      <td>2020-08-01</td>\n",
       "      <td>NaN</td>\n",
       "      <td>양천구</td>\n",
       "      <td>NaN</td>\n",
       "      <td>기타 확진자 접촉</td>\n",
       "      <td>퇴원</td>\n",
       "      <td>NaN</td>\n",
       "      <td>2021-05-27 11:08</td>\n",
       "      <td>2021-05-27 11:08</td>\n",
       "      <td>Y</td>\n",
       "      <td>8</td>\n",
       "      <td>01</td>\n",
       "    </tr>\n",
       "    <tr>\n",
       "      <th>59057</th>\n",
       "      <td>1606</td>\n",
       "      <td>2020-08-01</td>\n",
       "      <td>NaN</td>\n",
       "      <td>종로구</td>\n",
       "      <td>NaN</td>\n",
       "      <td>종로구 지인모임 (신명투자)</td>\n",
       "      <td>퇴원</td>\n",
       "      <td>NaN</td>\n",
       "      <td>2021-05-27 11:08</td>\n",
       "      <td>2021-05-27 11:08</td>\n",
       "      <td>Y</td>\n",
       "      <td>8</td>\n",
       "      <td>01</td>\n",
       "    </tr>\n",
       "    <tr>\n",
       "      <th>59059</th>\n",
       "      <td>1604</td>\n",
       "      <td>2020-08-01</td>\n",
       "      <td>NaN</td>\n",
       "      <td>강서구</td>\n",
       "      <td>NaN</td>\n",
       "      <td>강서구 요양시설 관련</td>\n",
       "      <td>퇴원</td>\n",
       "      <td>NaN</td>\n",
       "      <td>2021-05-27 11:08</td>\n",
       "      <td>2021-05-27 11:08</td>\n",
       "      <td>Y</td>\n",
       "      <td>8</td>\n",
       "      <td>01</td>\n",
       "    </tr>\n",
       "    <tr>\n",
       "      <th>59060</th>\n",
       "      <td>1603</td>\n",
       "      <td>2020-08-01</td>\n",
       "      <td>NaN</td>\n",
       "      <td>강서구</td>\n",
       "      <td>NaN</td>\n",
       "      <td>강서구 요양시설 관련</td>\n",
       "      <td>퇴원</td>\n",
       "      <td>NaN</td>\n",
       "      <td>2021-05-27 11:08</td>\n",
       "      <td>2021-05-27 11:08</td>\n",
       "      <td>Y</td>\n",
       "      <td>8</td>\n",
       "      <td>01</td>\n",
       "    </tr>\n",
       "  </tbody>\n",
       "</table>\n",
       "<p>2415 rows × 13 columns</p>\n",
       "</div>"
      ]
     },
     "metadata": {},
     "execution_count": 39
    }
   ],
   "metadata": {
    "id": "TaCI1HOPwUBy",
    "outputId": "e661da38-c738-408f-966f-ac31f5826193"
   }
  },
  {
   "cell_type": "code",
   "execution_count": 41,
   "source": [
    "# 그래프를 출력합니다.\r\n",
    "plt.figure(figsize=(20,10))\r\n",
    "sns.set(font=\"Malgun Gothic\", \r\n",
    "        rc={\"axes.unicode_minus\":False},\r\n",
    "        style='darkgrid')\r\n",
    "ax = sns.countplot(x=\"지역\", data=corona_out_region[corona_del_col['month'] == '8'], palette=\"Set2\")"
   ],
   "outputs": [
    {
     "output_type": "display_data",
     "data": {
      "text/plain": [
       "<Figure size 1440x720 with 1 Axes>"
      ],
      "image/png": "[encoded data removed]"
     },
     "metadata": {}
    }
   ],
   "metadata": {
    "id": "eeKACONSwUBy",
    "outputId": "e20eed3e-6f6e-4637-ad48-e700e4651b71",
    "scrolled": true
   }
  },
  {
   "cell_type": "markdown",
   "source": [
    " "
   ],
   "metadata": {
    "id": "VKkTYUv9wUBy"
   }
  },
  {
   "cell_type": "markdown",
   "source": [
    "### 3.6. 월별 관악구 확진자 수 출력"
   ],
   "metadata": {
    "id": "TbEsAOn8wUBy"
   }
  },
  {
   "cell_type": "markdown",
   "source": [
    "이번에는 확진자가 가장 많았던 관악구 내의 확진자 수가 월별로 어떻게 증가했는지 그 분포를 막대그래프로 출력해 봅시다."
   ],
   "metadata": {
    "id": "6ZyLQka_wUBy"
   }
  },
  {
   "cell_type": "code",
   "execution_count": 42,
   "source": [
    "# 해당 column을 지정하여 series 형태로 출력할 수 있습니다.\r\n",
    "corona_out_region['month'][corona_out_region['지역'] == '관악구']"
   ],
   "outputs": [
    {
     "output_type": "execute_result",
     "data": {
      "text/plain": [
       "1        7\n",
       "19       7\n",
       "31       7\n",
       "39       7\n",
       "77       7\n",
       "        ..\n",
       "60545    3\n",
       "60576    2\n",
       "60589    2\n",
       "60610    2\n",
       "60626    2\n",
       "Name: month, Length: 3041, dtype: object"
      ]
     },
     "metadata": {},
     "execution_count": 42
    }
   ],
   "metadata": {
    "id": "zWMpX2BDwUBy",
    "outputId": "5e5556eb-6271-4045-bcfa-a1b892f4f6ba"
   }
  },
  {
   "cell_type": "code",
   "execution_count": 43,
   "source": [
    "# 그래프를 출력합니다.\r\n",
    "plt.figure(figsize=(10,5))\r\n",
    "sns.set(style=\"darkgrid\")\r\n",
    "ax = sns.countplot(x=\"month\", data=corona_out_region[corona_out_region['지역'] == '관악구'], palette=\"Set2\", order = order)"
   ],
   "outputs": [
    {
     "output_type": "display_data",
     "data": {
      "text/plain": [
       "<Figure size 720x360 with 1 Axes>"
      ],
      "image/png": "[encoded data removed]"
     },
     "metadata": {}
    }
   ],
   "metadata": {
    "id": "MCn-1F5twUBy",
    "outputId": "65b47f2e-85ef-40b6-a202-d72f6712b4c2",
    "scrolled": true
   }
  },
  {
   "cell_type": "markdown",
   "source": [
    " "
   ],
   "metadata": {
    "id": "v-S2hQ9uwUBz"
   }
  },
  {
   "cell_type": "markdown",
   "source": [
    "### 3.7. 서울 지역에서 확진자를 지도에 출력"
   ],
   "metadata": {
    "id": "HXT25c3uwUBz"
   }
  },
  {
   "cell_type": "markdown",
   "source": [
    "지도를 출력하기 위한 라이브러리로 folium을 사용해 봅시다."
   ],
   "metadata": {
    "id": "DhdbiSYSwUBz"
   }
  },
  {
   "cell_type": "code",
   "execution_count": 48,
   "source": [
    "# 지도 출력을 위한 라이브러리 folium을 import 합니다.\r\n",
    "import folium\r\n",
    "\r\n",
    "# Map 함수를 사용하여 지도를 출력합니다.\r\n",
    "map_osm = folium.Map(location=[37.529622, 126.984307], zoom_start=11)\r\n",
    "\r\n",
    "map_osm"
   ],
   "outputs": [
    {
     "output_type": "execute_result",
     "data": {
      "text/plain": [
       "<folium.folium.Map at 0x21815967f88>"
      ],
      "text/html": [
       "<div style=\"width:100%;\"><div style=\"position:relative;width:100%;height:0;padding-bottom:60%;\"><span style=\"color:#565656\">Make this Notebook Trusted to load map: File -> Trust Notebook</span><iframe src=\"about:blank\" style=\"position:absolute;width:100%;height:100%;left:0;top:0;border:none !important;\" data-html=%3C%21DOCTYPE%20html%3E%0A%3Chead%3E%20%20%20%20%0A%20%20%20%20%3Cmeta%20http-equiv%3D%22content-type%22%20content%3D%22text/html%3B%20charset%3DUTF-8%22%20/%3E%0A%20%20%20%20%0A%20%20%20%20%20%20%20%20%3Cscript%3E%0A%20%20%20%20%20%20%20%20%20%20%20%20L_NO_TOUCH%20%3D%20false%3B%0A%20%20%20%20%20%20%20%20%20%20%20%20L_DISABLE_3D%20%3D%20false%3B%0A%20%20%20%20%20%20%20%20%3C/script%3E%0A%20%20%20%20%0A%20%20%20%20%3Cstyle%3Ehtml%2C%20body%20%7Bwidth%3A%20100%25%3Bheight%3A%20100%25%3Bmargin%3A%200%3Bpadding%3A%200%3B%7D%3C/style%3E%0A%20%20%20%20%3Cstyle%3E%23map%20%7Bposition%3Aabsolute%3Btop%3A0%3Bbottom%3A0%3Bright%3A0%3Bleft%3A0%3B%7D%3C/style%3E%0A%20%20%20%20%3Cscript%20src%3D%22https%3A//cdn.jsdelivr.net/npm/leaflet%401.6.0/dist/leaflet.js%22%3E%3C/script%3E%0A%20%20%20%20%3Cscript%20src%3D%22https%3A//code.jquery.com/jquery-1.12.4.min.js%22%3E%3C/script%3E%0A%20%20%20%20%3Cscript%20src%3D%22https%3A//maxcdn.bootstrapcdn.com/bootstrap/3.2.0/js/bootstrap.min.js%22%3E%3C/script%3E%0A%20%20%20%20%3Cscript%20src%3D%22https%3A//cdnjs.cloudflare.com/ajax/libs/Leaflet.awesome-markers/2.0.2/leaflet.awesome-markers.js%22%3E%3C/script%3E%0A%20%20%20%20%3Clink%20rel%3D%22stylesheet%22%20href%3D%22https%3A//cdn.jsdelivr.net/npm/leaflet%401.6.0/dist/leaflet.css%22/%3E%0A%20%20%20%20%3Clink%20rel%3D%22stylesheet%22%20href%3D%22https%3A//maxcdn.bootstrapcdn.com/bootstrap/3.2.0/css/bootstrap.min.css%22/%3E%0A%20%20%20%20%3Clink%20rel%3D%22stylesheet%22%20href%3D%22https%3A//maxcdn.bootstrapcdn.com/bootstrap/3.2.0/css/bootstrap-theme.min.css%22/%3E%0A%20%20%20%20%3Clink%20rel%3D%22stylesheet%22%20href%3D%22https%3A//maxcdn.bootstrapcdn.com/font-awesome/4.6.3/css/font-awesome.min.css%22/%3E%0A%20%20%20%20%3Clink%20rel%3D%22stylesheet%22%20href%3D%22https%3A//cdnjs.cloudflare.com/ajax/libs/Leaflet.awesome-markers/2.0.2/leaflet.awesome-markers.css%22/%3E%0A%20%20%20%20%3Clink%20rel%3D%22stylesheet%22%20href%3D%22https%3A//cdn.jsdelivr.net/gh/python-visualization/folium/folium/templates/leaflet.awesome.rotate.min.css%22/%3E%0A%20%20%20%20%0A%20%20%20%20%20%20%20%20%20%20%20%20%3Cmeta%20name%3D%22viewport%22%20content%3D%22width%3Ddevice-width%2C%0A%20%20%20%20%20%20%20%20%20%20%20%20%20%20%20%20initial-scale%3D1.0%2C%20maximum-scale%3D1.0%2C%20user-scalable%3Dno%22%20/%3E%0A%20%20%20%20%20%20%20%20%20%20%20%20%3Cstyle%3E%0A%20%20%20%20%20%20%20%20%20%20%20%20%20%20%20%20%23map_2371bd3c2aa149b48bf26049848aec25%20%7B%0A%20%20%20%20%20%20%20%20%20%20%20%20%20%20%20%20%20%20%20%20position%3A%20relative%3B%0A%20%20%20%20%20%20%20%20%20%20%20%20%20%20%20%20%20%20%20%20width%3A%20100.0%25%3B%0A%20%20%20%20%20%20%20%20%20%20%20%20%20%20%20%20%20%20%20%20height%3A%20100.0%25%3B%0A%20%20%20%20%20%20%20%20%20%20%20%20%20%20%20%20%20%20%20%20left%3A%200.0%25%3B%0A%20%20%20%20%20%20%20%20%20%20%20%20%20%20%20%20%20%20%20%20top%3A%200.0%25%3B%0A%20%20%20%20%20%20%20%20%20%20%20%20%20%20%20%20%7D%0A%20%20%20%20%20%20%20%20%20%20%20%20%3C/style%3E%0A%20%20%20%20%20%20%20%20%0A%3C/head%3E%0A%3Cbody%3E%20%20%20%20%0A%20%20%20%20%0A%20%20%20%20%20%20%20%20%20%20%20%20%3Cdiv%20class%3D%22folium-map%22%20id%3D%22map_2371bd3c2aa149b48bf26049848aec25%22%20%3E%3C/div%3E%0A%20%20%20%20%20%20%20%20%0A%3C/body%3E%0A%3Cscript%3E%20%20%20%20%0A%20%20%20%20%0A%20%20%20%20%20%20%20%20%20%20%20%20var%20map_2371bd3c2aa149b48bf26049848aec25%20%3D%20L.map%28%0A%20%20%20%20%20%20%20%20%20%20%20%20%20%20%20%20%22map_2371bd3c2aa149b48bf26049848aec25%22%2C%0A%20%20%20%20%20%20%20%20%20%20%20%20%20%20%20%20%7B%0A%20%20%20%20%20%20%20%20%20%20%20%20%20%20%20%20%20%20%20%20center%3A%20%5B37.529622%2C%20126.984307%5D%2C%0A%20%20%20%20%20%20%20%20%20%20%20%20%20%20%20%20%20%20%20%20crs%3A%20L.CRS.EPSG3857%2C%0A%20%20%20%20%20%20%20%20%20%20%20%20%20%20%20%20%20%20%20%20zoom%3A%2011%2C%0A%20%20%20%20%20%20%20%20%20%20%20%20%20%20%20%20%20%20%20%20zoomControl%3A%20true%2C%0A%20%20%20%20%20%20%20%20%20%20%20%20%20%20%20%20%20%20%20%20preferCanvas%3A%20false%2C%0A%20%20%20%20%20%20%20%20%20%20%20%20%20%20%20%20%7D%0A%20%20%20%20%20%20%20%20%20%20%20%20%29%3B%0A%0A%20%20%20%20%20%20%20%20%20%20%20%20%0A%0A%20%20%20%20%20%20%20%20%0A%20%20%20%20%0A%20%20%20%20%20%20%20%20%20%20%20%20var%20tile_layer_04e1d7920f4c4a9495b03fe63ab538dd%20%3D%20L.tileLayer%28%0A%20%20%20%20%20%20%20%20%20%20%20%20%20%20%20%20%22https%3A//%7Bs%7D.tile.openstreetmap.org/%7Bz%7D/%7Bx%7D/%7By%7D.png%22%2C%0A%20%20%20%20%20%20%20%20%20%20%20%20%20%20%20%20%7B%22attribution%22%3A%20%22Data%20by%20%5Cu0026copy%3B%20%5Cu003ca%20href%3D%5C%22http%3A//openstreetmap.org%5C%22%5Cu003eOpenStreetMap%5Cu003c/a%5Cu003e%2C%20under%20%5Cu003ca%20href%3D%5C%22http%3A//www.openstreetmap.org/copyright%5C%22%5Cu003eODbL%5Cu003c/a%5Cu003e.%22%2C%20%22detectRetina%22%3A%20false%2C%20%22maxNativeZoom%22%3A%2018%2C%20%22maxZoom%22%3A%2018%2C%20%22minZoom%22%3A%200%2C%20%22noWrap%22%3A%20false%2C%20%22opacity%22%3A%201%2C%20%22subdomains%22%3A%20%22abc%22%2C%20%22tms%22%3A%20false%7D%0A%20%20%20%20%20%20%20%20%20%20%20%20%29.addTo%28map_2371bd3c2aa149b48bf26049848aec25%29%3B%0A%20%20%20%20%20%20%20%20%0A%3C/script%3E onload=\"this.contentDocument.open();this.contentDocument.write(    decodeURIComponent(this.getAttribute('data-html')));this.contentDocument.close();\" allowfullscreen webkitallowfullscreen mozallowfullscreen></iframe></div></div>"
      ]
     },
     "metadata": {},
     "execution_count": 48
    }
   ],
   "metadata": {
    "id": "DWiCNqELwUBz",
    "outputId": "92a4af0b-2ca7-43db-8e29-6557ee7cf568"
   }
  },
  {
   "cell_type": "markdown",
   "source": [
    " "
   ],
   "metadata": {
    "id": "potB2tKrwUBz"
   }
  },
  {
   "cell_type": "markdown",
   "source": [
    "지역마다 지도에 정보를 출력하기 위해서는 각 지역의 좌표정보가 필요합니다.\n",
    "\n",
    "이를 해결하기 위해서 서울시 행정구역 시군 정보 데이터를 불러와 사용합니다.\n",
    "\n",
    "데이터 출처: https://data.seoul.go.kr/dataList/OA-11677/S/1/datasetView.do"
   ],
   "metadata": {
    "id": "3MDmffxXwUBz"
   }
  },
  {
   "cell_type": "code",
   "execution_count": 28,
   "source": [
    "# CRS에 저장합니다.\r\n",
    "CRS=pd.read_csv(\"../rawdata/서울시 행정구역 시군구 정보 (좌표계_ WGS1984).csv\")"
   ],
   "outputs": [],
   "metadata": {
    "id": "MuZkeSSSwUBz"
   }
  },
  {
   "cell_type": "code",
   "execution_count": 29,
   "source": [
    "# Dataframe을 출력해 봅니다.\r\n",
    "CRS"
   ],
   "outputs": [
    {
     "output_type": "execute_result",
     "data": {
      "text/plain": [
       "    순번  시군구코드 시군구명_한글          시군구명_영문  ESRI_PK         위도          경도\n",
       "0    1  11320     도봉구        Dobong-gu        0  37.665861  127.031767\n",
       "1    2  11380     은평구     Eunpyeong-gu        1  37.617612  126.922700\n",
       "2    3  11230    동대문구    Dongdaemun-gu        2  37.583801  127.050700\n",
       "3    4  11590     동작구       Dongjak-gu        3  37.496504  126.944307\n",
       "4    5  11545     금천구     Geumcheon-gu        4  37.460097  126.900155\n",
       "5    6  11530     구로구          Guro-gu        5  37.495486  126.858121\n",
       "6    7  11110     종로구        Jongno-gu        6  37.599100  126.986149\n",
       "7    8  11305     강북구       Gangbuk-gu        7  37.646995  127.014716\n",
       "8    9  11260     중랑구      Jungnang-gu        8  37.595379  127.093967\n",
       "9   10  11680     강남구       Gangnam-gu        9  37.495985  127.066409\n",
       "10  11  11500     강서구       Gangseo-gu       10  37.565762  126.822656\n",
       "11  12  11140      중구          Jung-gu       11  37.557945  126.994190\n",
       "12  13  11740     강동구      Gangdong-gu       12  37.549208  127.146482\n",
       "13  14  11215     광진구      Gwangjin-gu       13  37.548144  127.085753\n",
       "14  15  11440     마포구          Mapo-gu       14  37.562291  126.908780\n",
       "15  16  11650     서초구        Seocho-gu       16  37.476953  127.037810\n",
       "16  17  11290     성북구      Seongbuk-gu       17  37.606991  127.023218\n",
       "17  18  11350     노원구         Nowon-gu       18  37.655264  127.077120\n",
       "18  19  11710     송파구        Songpa-gu       19  37.504853  127.114482\n",
       "19  20  11410    서대문구     Seodaemun-gu       21  37.582037  126.935666\n",
       "20  21  11470     양천구     Yangcheon-gu       22  37.527062  126.856153\n",
       "21  22  11560    영등포구  Yeongdeungpo-gu       23  37.520641  126.913924\n",
       "22  23  11620     관악구        Gwanak-gu       15  37.465399  126.943807\n",
       "23  24  11200     성동구     Seongdong-gu       20  37.550675  127.040962\n",
       "24  25  11170     용산구       Yongsan-gu       24  37.531101  126.981074"
      ],
      "text/html": [
       "<div>\n",
       "<style scoped>\n",
       "    .dataframe tbody tr th:only-of-type {\n",
       "        vertical-align: middle;\n",
       "    }\n",
       "\n",
       "    .dataframe tbody tr th {\n",
       "        vertical-align: top;\n",
       "    }\n",
       "\n",
       "    .dataframe thead th {\n",
       "        text-align: right;\n",
       "    }\n",
       "</style>\n",
       "<table border=\"1\" class=\"dataframe\">\n",
       "  <thead>\n",
       "    <tr style=\"text-align: right;\">\n",
       "      <th></th>\n",
       "      <th>순번</th>\n",
       "      <th>시군구코드</th>\n",
       "      <th>시군구명_한글</th>\n",
       "      <th>시군구명_영문</th>\n",
       "      <th>ESRI_PK</th>\n",
       "      <th>위도</th>\n",
       "      <th>경도</th>\n",
       "    </tr>\n",
       "  </thead>\n",
       "  <tbody>\n",
       "    <tr>\n",
       "      <th>0</th>\n",
       "      <td>1</td>\n",
       "      <td>11320</td>\n",
       "      <td>도봉구</td>\n",
       "      <td>Dobong-gu</td>\n",
       "      <td>0</td>\n",
       "      <td>37.665861</td>\n",
       "      <td>127.031767</td>\n",
       "    </tr>\n",
       "    <tr>\n",
       "      <th>1</th>\n",
       "      <td>2</td>\n",
       "      <td>11380</td>\n",
       "      <td>은평구</td>\n",
       "      <td>Eunpyeong-gu</td>\n",
       "      <td>1</td>\n",
       "      <td>37.617612</td>\n",
       "      <td>126.922700</td>\n",
       "    </tr>\n",
       "    <tr>\n",
       "      <th>2</th>\n",
       "      <td>3</td>\n",
       "      <td>11230</td>\n",
       "      <td>동대문구</td>\n",
       "      <td>Dongdaemun-gu</td>\n",
       "      <td>2</td>\n",
       "      <td>37.583801</td>\n",
       "      <td>127.050700</td>\n",
       "    </tr>\n",
       "    <tr>\n",
       "      <th>3</th>\n",
       "      <td>4</td>\n",
       "      <td>11590</td>\n",
       "      <td>동작구</td>\n",
       "      <td>Dongjak-gu</td>\n",
       "      <td>3</td>\n",
       "      <td>37.496504</td>\n",
       "      <td>126.944307</td>\n",
       "    </tr>\n",
       "    <tr>\n",
       "      <th>4</th>\n",
       "      <td>5</td>\n",
       "      <td>11545</td>\n",
       "      <td>금천구</td>\n",
       "      <td>Geumcheon-gu</td>\n",
       "      <td>4</td>\n",
       "      <td>37.460097</td>\n",
       "      <td>126.900155</td>\n",
       "    </tr>\n",
       "    <tr>\n",
       "      <th>5</th>\n",
       "      <td>6</td>\n",
       "      <td>11530</td>\n",
       "      <td>구로구</td>\n",
       "      <td>Guro-gu</td>\n",
       "      <td>5</td>\n",
       "      <td>37.495486</td>\n",
       "      <td>126.858121</td>\n",
       "    </tr>\n",
       "    <tr>\n",
       "      <th>6</th>\n",
       "      <td>7</td>\n",
       "      <td>11110</td>\n",
       "      <td>종로구</td>\n",
       "      <td>Jongno-gu</td>\n",
       "      <td>6</td>\n",
       "      <td>37.599100</td>\n",
       "      <td>126.986149</td>\n",
       "    </tr>\n",
       "    <tr>\n",
       "      <th>7</th>\n",
       "      <td>8</td>\n",
       "      <td>11305</td>\n",
       "      <td>강북구</td>\n",
       "      <td>Gangbuk-gu</td>\n",
       "      <td>7</td>\n",
       "      <td>37.646995</td>\n",
       "      <td>127.014716</td>\n",
       "    </tr>\n",
       "    <tr>\n",
       "      <th>8</th>\n",
       "      <td>9</td>\n",
       "      <td>11260</td>\n",
       "      <td>중랑구</td>\n",
       "      <td>Jungnang-gu</td>\n",
       "      <td>8</td>\n",
       "      <td>37.595379</td>\n",
       "      <td>127.093967</td>\n",
       "    </tr>\n",
       "    <tr>\n",
       "      <th>9</th>\n",
       "      <td>10</td>\n",
       "      <td>11680</td>\n",
       "      <td>강남구</td>\n",
       "      <td>Gangnam-gu</td>\n",
       "      <td>9</td>\n",
       "      <td>37.495985</td>\n",
       "      <td>127.066409</td>\n",
       "    </tr>\n",
       "    <tr>\n",
       "      <th>10</th>\n",
       "      <td>11</td>\n",
       "      <td>11500</td>\n",
       "      <td>강서구</td>\n",
       "      <td>Gangseo-gu</td>\n",
       "      <td>10</td>\n",
       "      <td>37.565762</td>\n",
       "      <td>126.822656</td>\n",
       "    </tr>\n",
       "    <tr>\n",
       "      <th>11</th>\n",
       "      <td>12</td>\n",
       "      <td>11140</td>\n",
       "      <td>중구</td>\n",
       "      <td>Jung-gu</td>\n",
       "      <td>11</td>\n",
       "      <td>37.557945</td>\n",
       "      <td>126.994190</td>\n",
       "    </tr>\n",
       "    <tr>\n",
       "      <th>12</th>\n",
       "      <td>13</td>\n",
       "      <td>11740</td>\n",
       "      <td>강동구</td>\n",
       "      <td>Gangdong-gu</td>\n",
       "      <td>12</td>\n",
       "      <td>37.549208</td>\n",
       "      <td>127.146482</td>\n",
       "    </tr>\n",
       "    <tr>\n",
       "      <th>13</th>\n",
       "      <td>14</td>\n",
       "      <td>11215</td>\n",
       "      <td>광진구</td>\n",
       "      <td>Gwangjin-gu</td>\n",
       "      <td>13</td>\n",
       "      <td>37.548144</td>\n",
       "      <td>127.085753</td>\n",
       "    </tr>\n",
       "    <tr>\n",
       "      <th>14</th>\n",
       "      <td>15</td>\n",
       "      <td>11440</td>\n",
       "      <td>마포구</td>\n",
       "      <td>Mapo-gu</td>\n",
       "      <td>14</td>\n",
       "      <td>37.562291</td>\n",
       "      <td>126.908780</td>\n",
       "    </tr>\n",
       "    <tr>\n",
       "      <th>15</th>\n",
       "      <td>16</td>\n",
       "      <td>11650</td>\n",
       "      <td>서초구</td>\n",
       "      <td>Seocho-gu</td>\n",
       "      <td>16</td>\n",
       "      <td>37.476953</td>\n",
       "      <td>127.037810</td>\n",
       "    </tr>\n",
       "    <tr>\n",
       "      <th>16</th>\n",
       "      <td>17</td>\n",
       "      <td>11290</td>\n",
       "      <td>성북구</td>\n",
       "      <td>Seongbuk-gu</td>\n",
       "      <td>17</td>\n",
       "      <td>37.606991</td>\n",
       "      <td>127.023218</td>\n",
       "    </tr>\n",
       "    <tr>\n",
       "      <th>17</th>\n",
       "      <td>18</td>\n",
       "      <td>11350</td>\n",
       "      <td>노원구</td>\n",
       "      <td>Nowon-gu</td>\n",
       "      <td>18</td>\n",
       "      <td>37.655264</td>\n",
       "      <td>127.077120</td>\n",
       "    </tr>\n",
       "    <tr>\n",
       "      <th>18</th>\n",
       "      <td>19</td>\n",
       "      <td>11710</td>\n",
       "      <td>송파구</td>\n",
       "      <td>Songpa-gu</td>\n",
       "      <td>19</td>\n",
       "      <td>37.504853</td>\n",
       "      <td>127.114482</td>\n",
       "    </tr>\n",
       "    <tr>\n",
       "      <th>19</th>\n",
       "      <td>20</td>\n",
       "      <td>11410</td>\n",
       "      <td>서대문구</td>\n",
       "      <td>Seodaemun-gu</td>\n",
       "      <td>21</td>\n",
       "      <td>37.582037</td>\n",
       "      <td>126.935666</td>\n",
       "    </tr>\n",
       "    <tr>\n",
       "      <th>20</th>\n",
       "      <td>21</td>\n",
       "      <td>11470</td>\n",
       "      <td>양천구</td>\n",
       "      <td>Yangcheon-gu</td>\n",
       "      <td>22</td>\n",
       "      <td>37.527062</td>\n",
       "      <td>126.856153</td>\n",
       "    </tr>\n",
       "    <tr>\n",
       "      <th>21</th>\n",
       "      <td>22</td>\n",
       "      <td>11560</td>\n",
       "      <td>영등포구</td>\n",
       "      <td>Yeongdeungpo-gu</td>\n",
       "      <td>23</td>\n",
       "      <td>37.520641</td>\n",
       "      <td>126.913924</td>\n",
       "    </tr>\n",
       "    <tr>\n",
       "      <th>22</th>\n",
       "      <td>23</td>\n",
       "      <td>11620</td>\n",
       "      <td>관악구</td>\n",
       "      <td>Gwanak-gu</td>\n",
       "      <td>15</td>\n",
       "      <td>37.465399</td>\n",
       "      <td>126.943807</td>\n",
       "    </tr>\n",
       "    <tr>\n",
       "      <th>23</th>\n",
       "      <td>24</td>\n",
       "      <td>11200</td>\n",
       "      <td>성동구</td>\n",
       "      <td>Seongdong-gu</td>\n",
       "      <td>20</td>\n",
       "      <td>37.550675</td>\n",
       "      <td>127.040962</td>\n",
       "    </tr>\n",
       "    <tr>\n",
       "      <th>24</th>\n",
       "      <td>25</td>\n",
       "      <td>11170</td>\n",
       "      <td>용산구</td>\n",
       "      <td>Yongsan-gu</td>\n",
       "      <td>24</td>\n",
       "      <td>37.531101</td>\n",
       "      <td>126.981074</td>\n",
       "    </tr>\n",
       "  </tbody>\n",
       "</table>\n",
       "</div>"
      ]
     },
     "metadata": {},
     "execution_count": 29
    }
   ],
   "metadata": {
    "id": "TVlpXDk0wUBz",
    "outputId": "26ff1edf-3113-45b8-f831-e70dbafc5892",
    "scrolled": true
   }
  },
  {
   "cell_type": "markdown",
   "source": [
    " "
   ],
   "metadata": {
    "id": "yl_N3OyZwUB0"
   }
  },
  {
   "cell_type": "markdown",
   "source": [
    "저장된 데이터에서 지역명이 서울의 중심지 `중구`인 데이터를 뽑아봅시다."
   ],
   "metadata": {
    "id": "IIQYhGWHwUB0"
   }
  },
  {
   "cell_type": "code",
   "execution_count": 30,
   "source": [
    "CRS[CRS['시군구명_한글'] == '중구']"
   ],
   "outputs": [
    {
     "output_type": "execute_result",
     "data": {
      "text/plain": [
       "    순번  시군구코드 시군구명_한글  시군구명_영문  ESRI_PK         위도         경도\n",
       "11  12  11140      중구  Jung-gu       11  37.557945  126.99419"
      ],
      "text/html": [
       "<div>\n",
       "<style scoped>\n",
       "    .dataframe tbody tr th:only-of-type {\n",
       "        vertical-align: middle;\n",
       "    }\n",
       "\n",
       "    .dataframe tbody tr th {\n",
       "        vertical-align: top;\n",
       "    }\n",
       "\n",
       "    .dataframe thead th {\n",
       "        text-align: right;\n",
       "    }\n",
       "</style>\n",
       "<table border=\"1\" class=\"dataframe\">\n",
       "  <thead>\n",
       "    <tr style=\"text-align: right;\">\n",
       "      <th></th>\n",
       "      <th>순번</th>\n",
       "      <th>시군구코드</th>\n",
       "      <th>시군구명_한글</th>\n",
       "      <th>시군구명_영문</th>\n",
       "      <th>ESRI_PK</th>\n",
       "      <th>위도</th>\n",
       "      <th>경도</th>\n",
       "    </tr>\n",
       "  </thead>\n",
       "  <tbody>\n",
       "    <tr>\n",
       "      <th>11</th>\n",
       "      <td>12</td>\n",
       "      <td>11140</td>\n",
       "      <td>중구</td>\n",
       "      <td>Jung-gu</td>\n",
       "      <td>11</td>\n",
       "      <td>37.557945</td>\n",
       "      <td>126.99419</td>\n",
       "    </tr>\n",
       "  </tbody>\n",
       "</table>\n",
       "</div>"
      ]
     },
     "metadata": {},
     "execution_count": 30
    }
   ],
   "metadata": {
    "id": "yhjy2w7TwUB0",
    "outputId": "ac414f71-5625-4930-8844-8d4707698ae9",
    "scrolled": true
   }
  },
  {
   "cell_type": "markdown",
   "source": [
    " "
   ],
   "metadata": {
    "id": "jaDomFWdwUB0"
   }
  },
  {
   "cell_type": "markdown",
   "source": [
    "이제 for 문을 사용하여 지역마다 확진자를 원형 마커를 사용하여 지도에 출력해 봅시다."
   ],
   "metadata": {
    "id": "S91ipBBnwUB0"
   }
  },
  {
   "cell_type": "code",
   "execution_count": 31,
   "source": [
    "# corona_out_region의 지역에는 'oo구' 이외로 `타시도`, `기타`에 해당되는 데이터가 존재 합니다.\r\n",
    "# 위 데이터에 해당되는 위도, 경도를 찾을 수 없기에 삭제하여 corona_seoul로 저장합니다.\r\n",
    "corona_seoul = corona_out_region.drop(corona_out_region[corona_out_region['지역'] == '타시도'].index)\r\n",
    "corona_seoul = corona_seoul.drop(corona_out_region[corona_out_region['지역'] == '기타'].index)\r\n",
    "\r\n",
    "# 서울 중심지 중구를 가운데 좌표로 잡아 지도를 출력합니다.\r\n",
    "map_osm = folium.Map(location=[37.557945, 126.99419], zoom_start=11)\r\n",
    "\r\n",
    "# 지역 정보를 set 함수를 사용하여 25개 고유의 지역을 뽑아냅니다.\r\n",
    "for region in set(corona_seoul['지역']):\r\n",
    "\r\n",
    "    # 해당 지역의 데이터 개수를 count에 저장합니다.\r\n",
    "    count = len(corona_seoul[corona_seoul['지역'] == region])\r\n",
    "    # 해당 지역의 데이터를 CRS에서 뽑아냅니다.\r\n",
    "    CRS_region = CRS[CRS['시군구명_한글'] == region]\r\n",
    "\r\n",
    "    # CircleMarker를 사용하여 지역마다 원형마커를 생성합니다.\r\n",
    "    marker = folium.CircleMarker([CRS_region['위도'], CRS_region['경도']], # 위치\r\n",
    "                                  radius=count/10 + 10,                 # 범위\r\n",
    "                                  color='#3186cc',            # 선 색상\r\n",
    "                                  fill_color='#3186cc',       # 면 색상\r\n",
    "                                  popup=' '.join((region, str(count), '명'))) # 팝업 설정\r\n",
    "    \r\n",
    "    # 생성한 원형마커를 지도에 추가합니다.\r\n",
    "    marker.add_to(map_osm)\r\n",
    "\r\n",
    "map_osm"
   ],
   "outputs": [
    {
     "output_type": "execute_result",
     "data": {
      "text/plain": [
       "<folium.folium.Map at 0x7fa1ef724820>"
      ],
      "text/html": [
       "<div style=\"width:100%;\"><div style=\"position:relative;width:100%;height:0;padding-bottom:60%;\"><span style=\"color:#565656\">Make this Notebook Trusted to load map: File -> Trust Notebook</span><iframe src=\"about:blank\" style=\"position:absolute;width:100%;height:100%;left:0;top:0;border:none !important;\" data-html=%3C%21DOCTYPE%20html%3E%0A%3Chead%3E%20%20%20%20%0A%20%20%20%20%3Cmeta%20http-equiv%3D%22content-type%22%20content%3D%22text/html%3B%20charset%3DUTF-8%22%20/%3E%0A%20%20%20%20%0A%20%20%20%20%20%20%20%20%3Cscript%3E%0A%20%20%20%20%20%20%20%20%20%20%20%20L_NO_TOUCH%20%3D%20false%3B%0A%20%20%20%20%20%20%20%20%20%20%20%20L_DISABLE_3D%20%3D%20false%3B%0A%20%20%20%20%20%20%20%20%3C/script%3E%0A%20%20%20%20%0A%20%20%20%20%3Cscript%20src%3D%22https%3A//cdn.jsdelivr.net/npm/leaflet%401.6.0/dist/leaflet.js%22%3E%3C/script%3E%0A%20%20%20%20%3Cscript%20src%3D%22https%3A//code.jquery.com/jquery-1.12.4.min.js%22%3E%3C/script%3E%0A%20%20%20%20%3Cscript%20src%3D%22https%3A//maxcdn.bootstrapcdn.com/bootstrap/3.2.0/js/bootstrap.min.js%22%3E%3C/script%3E%0A%20%20%20%20%3Cscript%20src%3D%22https%3A//cdnjs.cloudflare.com/ajax/libs/Leaflet.awesome-markers/2.0.2/leaflet.awesome-markers.js%22%3E%3C/script%3E%0A%20%20%20%20%3Clink%20rel%3D%22stylesheet%22%20href%3D%22https%3A//cdn.jsdelivr.net/npm/leaflet%401.6.0/dist/leaflet.css%22/%3E%0A%20%20%20%20%3Clink%20rel%3D%22stylesheet%22%20href%3D%22https%3A//maxcdn.bootstrapcdn.com/bootstrap/3.2.0/css/bootstrap.min.css%22/%3E%0A%20%20%20%20%3Clink%20rel%3D%22stylesheet%22%20href%3D%22https%3A//maxcdn.bootstrapcdn.com/bootstrap/3.2.0/css/bootstrap-theme.min.css%22/%3E%0A%20%20%20%20%3Clink%20rel%3D%22stylesheet%22%20href%3D%22https%3A//maxcdn.bootstrapcdn.com/font-awesome/4.6.3/css/font-awesome.min.css%22/%3E%0A%20%20%20%20%3Clink%20rel%3D%22stylesheet%22%20href%3D%22https%3A//cdnjs.cloudflare.com/ajax/libs/Leaflet.awesome-markers/2.0.2/leaflet.awesome-markers.css%22/%3E%0A%20%20%20%20%3Clink%20rel%3D%22stylesheet%22%20href%3D%22https%3A//rawcdn.githack.com/python-visualization/folium/master/folium/templates/leaflet.awesome.rotate.css%22/%3E%0A%20%20%20%20%3Cstyle%3Ehtml%2C%20body%20%7Bwidth%3A%20100%25%3Bheight%3A%20100%25%3Bmargin%3A%200%3Bpadding%3A%200%3B%7D%3C/style%3E%0A%20%20%20%20%3Cstyle%3E%23map%20%7Bposition%3Aabsolute%3Btop%3A0%3Bbottom%3A0%3Bright%3A0%3Bleft%3A0%3B%7D%3C/style%3E%0A%20%20%20%20%0A%20%20%20%20%20%20%20%20%20%20%20%20%3Cmeta%20name%3D%22viewport%22%20content%3D%22width%3Ddevice-width%2C%0A%20%20%20%20%20%20%20%20%20%20%20%20%20%20%20%20initial-scale%3D1.0%2C%20maximum-scale%3D1.0%2C%20user-scalable%3Dno%22%20/%3E%0A%20%20%20%20%20%20%20%20%20%20%20%20%3Cstyle%3E%0A%20%20%20%20%20%20%20%20%20%20%20%20%20%20%20%20%23map_f811b7416dd341d4ab6e99ffed03eaf2%20%7B%0A%20%20%20%20%20%20%20%20%20%20%20%20%20%20%20%20%20%20%20%20position%3A%20relative%3B%0A%20%20%20%20%20%20%20%20%20%20%20%20%20%20%20%20%20%20%20%20width%3A%20100.0%25%3B%0A%20%20%20%20%20%20%20%20%20%20%20%20%20%20%20%20%20%20%20%20height%3A%20100.0%25%3B%0A%20%20%20%20%20%20%20%20%20%20%20%20%20%20%20%20%20%20%20%20left%3A%200.0%25%3B%0A%20%20%20%20%20%20%20%20%20%20%20%20%20%20%20%20%20%20%20%20top%3A%200.0%25%3B%0A%20%20%20%20%20%20%20%20%20%20%20%20%20%20%20%20%7D%0A%20%20%20%20%20%20%20%20%20%20%20%20%3C/style%3E%0A%20%20%20%20%20%20%20%20%0A%3C/head%3E%0A%3Cbody%3E%20%20%20%20%0A%20%20%20%20%0A%20%20%20%20%20%20%20%20%20%20%20%20%3Cdiv%20class%3D%22folium-map%22%20id%3D%22map_f811b7416dd341d4ab6e99ffed03eaf2%22%20%3E%3C/div%3E%0A%20%20%20%20%20%20%20%20%0A%3C/body%3E%0A%3Cscript%3E%20%20%20%20%0A%20%20%20%20%0A%20%20%20%20%20%20%20%20%20%20%20%20var%20map_f811b7416dd341d4ab6e99ffed03eaf2%20%3D%20L.map%28%0A%20%20%20%20%20%20%20%20%20%20%20%20%20%20%20%20%22map_f811b7416dd341d4ab6e99ffed03eaf2%22%2C%0A%20%20%20%20%20%20%20%20%20%20%20%20%20%20%20%20%7B%0A%20%20%20%20%20%20%20%20%20%20%20%20%20%20%20%20%20%20%20%20center%3A%20%5B37.557945%2C%20126.99419%5D%2C%0A%20%20%20%20%20%20%20%20%20%20%20%20%20%20%20%20%20%20%20%20crs%3A%20L.CRS.EPSG3857%2C%0A%20%20%20%20%20%20%20%20%20%20%20%20%20%20%20%20%20%20%20%20zoom%3A%2011%2C%0A%20%20%20%20%20%20%20%20%20%20%20%20%20%20%20%20%20%20%20%20zoomControl%3A%20true%2C%0A%20%20%20%20%20%20%20%20%20%20%20%20%20%20%20%20%20%20%20%20preferCanvas%3A%20false%2C%0A%20%20%20%20%20%20%20%20%20%20%20%20%20%20%20%20%7D%0A%20%20%20%20%20%20%20%20%20%20%20%20%29%3B%0A%0A%20%20%20%20%20%20%20%20%20%20%20%20%0A%0A%20%20%20%20%20%20%20%20%0A%20%20%20%20%0A%20%20%20%20%20%20%20%20%20%20%20%20var%20tile_layer_1edd6901872c4fe28e8ddf6325b87678%20%3D%20L.tileLayer%28%0A%20%20%20%20%20%20%20%20%20%20%20%20%20%20%20%20%22https%3A//%7Bs%7D.tile.openstreetmap.org/%7Bz%7D/%7Bx%7D/%7By%7D.png%22%2C%0A%20%20%20%20%20%20%20%20%20%20%20%20%20%20%20%20%7B%22attribution%22%3A%20%22Data%20by%20%5Cu0026copy%3B%20%5Cu003ca%20href%3D%5C%22http%3A//openstreetmap.org%5C%22%5Cu003eOpenStreetMap%5Cu003c/a%5Cu003e%2C%20under%20%5Cu003ca%20href%3D%5C%22http%3A//www.openstreetmap.org/copyright%5C%22%5Cu003eODbL%5Cu003c/a%5Cu003e.%22%2C%20%22detectRetina%22%3A%20false%2C%20%22maxNativeZoom%22%3A%2018%2C%20%22maxZoom%22%3A%2018%2C%20%22minZoom%22%3A%200%2C%20%22noWrap%22%3A%20false%2C%20%22opacity%22%3A%201%2C%20%22subdomains%22%3A%20%22abc%22%2C%20%22tms%22%3A%20false%7D%0A%20%20%20%20%20%20%20%20%20%20%20%20%29.addTo%28map_f811b7416dd341d4ab6e99ffed03eaf2%29%3B%0A%20%20%20%20%20%20%20%20%0A%20%20%20%20%0A%20%20%20%20%20%20%20%20%20%20%20%20var%20circle_marker_70830ede9ce84323940443030ebb8238%20%3D%20L.circleMarker%28%0A%20%20%20%20%20%20%20%20%20%20%20%20%20%20%20%20%5B37.5492077%2C%20127.1464824%5D%2C%0A%20%20%20%20%20%20%20%20%20%20%20%20%20%20%20%20%7B%22bubblingMouseEvents%22%3A%20true%2C%20%22color%22%3A%20%22%233186cc%22%2C%20%22dashArray%22%3A%20null%2C%20%22dashOffset%22%3A%20null%2C%20%22fill%22%3A%20true%2C%20%22fillColor%22%3A%20%22%233186cc%22%2C%20%22fillOpacity%22%3A%200.2%2C%20%22fillRule%22%3A%20%22evenodd%22%2C%20%22lineCap%22%3A%20%22round%22%2C%20%22lineJoin%22%3A%20%22round%22%2C%20%22opacity%22%3A%201.0%2C%20%22radius%22%3A%2029.9%2C%20%22stroke%22%3A%20true%2C%20%22weight%22%3A%203%7D%0A%20%20%20%20%20%20%20%20%20%20%20%20%29.addTo%28map_f811b7416dd341d4ab6e99ffed03eaf2%29%3B%0A%20%20%20%20%20%20%20%20%0A%20%20%20%20%0A%20%20%20%20%20%20%20%20var%20popup_e3d8b535c4f7465ea052fd913e1cc6c2%20%3D%20L.popup%28%7B%22maxWidth%22%3A%20%22100%25%22%7D%29%3B%0A%0A%20%20%20%20%20%20%20%20%0A%20%20%20%20%20%20%20%20%20%20%20%20var%20html_c6c39293e4d043379c34e497b8a72d52%20%3D%20%24%28%60%3Cdiv%20id%3D%22html_c6c39293e4d043379c34e497b8a72d52%22%20style%3D%22width%3A%20100.0%25%3B%20height%3A%20100.0%25%3B%22%3E%EA%B0%95%EB%8F%99%EA%B5%AC%20199%20%EB%AA%85%3C/div%3E%60%29%5B0%5D%3B%0A%20%20%20%20%20%20%20%20%20%20%20%20popup_e3d8b535c4f7465ea052fd913e1cc6c2.setContent%28html_c6c39293e4d043379c34e497b8a72d52%29%3B%0A%20%20%20%20%20%20%20%20%0A%0A%20%20%20%20%20%20%20%20circle_marker_70830ede9ce84323940443030ebb8238.bindPopup%28popup_e3d8b535c4f7465ea052fd913e1cc6c2%29%0A%20%20%20%20%20%20%20%20%3B%0A%0A%20%20%20%20%20%20%20%20%0A%20%20%20%20%0A%20%20%20%20%0A%20%20%20%20%20%20%20%20%20%20%20%20var%20circle_marker_c64cdf41cff34f0eb20ec9ea81ab57c0%20%3D%20L.circleMarker%28%0A%20%20%20%20%20%20%20%20%20%20%20%20%20%20%20%20%5B37.6176125%2C%20126.9227004%5D%2C%0A%20%20%20%20%20%20%20%20%20%20%20%20%20%20%20%20%7B%22bubblingMouseEvents%22%3A%20true%2C%20%22color%22%3A%20%22%233186cc%22%2C%20%22dashArray%22%3A%20null%2C%20%22dashOffset%22%3A%20null%2C%20%22fill%22%3A%20true%2C%20%22fillColor%22%3A%20%22%233186cc%22%2C%20%22fillOpacity%22%3A%200.2%2C%20%22fillRule%22%3A%20%22evenodd%22%2C%20%22lineCap%22%3A%20%22round%22%2C%20%22lineJoin%22%3A%20%22round%22%2C%20%22opacity%22%3A%201.0%2C%20%22radius%22%3A%2035.9%2C%20%22stroke%22%3A%20true%2C%20%22weight%22%3A%203%7D%0A%20%20%20%20%20%20%20%20%20%20%20%20%29.addTo%28map_f811b7416dd341d4ab6e99ffed03eaf2%29%3B%0A%20%20%20%20%20%20%20%20%0A%20%20%20%20%0A%20%20%20%20%20%20%20%20var%20popup_4ea42960511f4c548b28036a27f95ae8%20%3D%20L.popup%28%7B%22maxWidth%22%3A%20%22100%25%22%7D%29%3B%0A%0A%20%20%20%20%20%20%20%20%0A%20%20%20%20%20%20%20%20%20%20%20%20var%20html_d6ba906bf36f48ffa5bd02b4abc90fee%20%3D%20%24%28%60%3Cdiv%20id%3D%22html_d6ba906bf36f48ffa5bd02b4abc90fee%22%20style%3D%22width%3A%20100.0%25%3B%20height%3A%20100.0%25%3B%22%3E%EC%9D%80%ED%8F%89%EA%B5%AC%20259%20%EB%AA%85%3C/div%3E%60%29%5B0%5D%3B%0A%20%20%20%20%20%20%20%20%20%20%20%20popup_4ea42960511f4c548b28036a27f95ae8.setContent%28html_d6ba906bf36f48ffa5bd02b4abc90fee%29%3B%0A%20%20%20%20%20%20%20%20%0A%0A%20%20%20%20%20%20%20%20circle_marker_c64cdf41cff34f0eb20ec9ea81ab57c0.bindPopup%28popup_4ea42960511f4c548b28036a27f95ae8%29%0A%20%20%20%20%20%20%20%20%3B%0A%0A%20%20%20%20%20%20%20%20%0A%20%20%20%20%0A%20%20%20%20%0A%20%20%20%20%20%20%20%20%20%20%20%20var%20circle_marker_ac1d795eb7024609b233dd833587731c%20%3D%20L.circleMarker%28%0A%20%20%20%20%20%20%20%20%20%20%20%20%20%20%20%20%5B37.4954856%2C%20126.858121%5D%2C%0A%20%20%20%20%20%20%20%20%20%20%20%20%20%20%20%20%7B%22bubblingMouseEvents%22%3A%20true%2C%20%22color%22%3A%20%22%233186cc%22%2C%20%22dashArray%22%3A%20null%2C%20%22dashOffset%22%3A%20null%2C%20%22fill%22%3A%20true%2C%20%22fillColor%22%3A%20%22%233186cc%22%2C%20%22fillOpacity%22%3A%200.2%2C%20%22fillRule%22%3A%20%22evenodd%22%2C%20%22lineCap%22%3A%20%22round%22%2C%20%22lineJoin%22%3A%20%22round%22%2C%20%22opacity%22%3A%201.0%2C%20%22radius%22%3A%2029.3%2C%20%22stroke%22%3A%20true%2C%20%22weight%22%3A%203%7D%0A%20%20%20%20%20%20%20%20%20%20%20%20%29.addTo%28map_f811b7416dd341d4ab6e99ffed03eaf2%29%3B%0A%20%20%20%20%20%20%20%20%0A%20%20%20%20%0A%20%20%20%20%20%20%20%20var%20popup_64ff8d95a37e4b6db4052d9c4261f3c7%20%3D%20L.popup%28%7B%22maxWidth%22%3A%20%22100%25%22%7D%29%3B%0A%0A%20%20%20%20%20%20%20%20%0A%20%20%20%20%20%20%20%20%20%20%20%20var%20html_c7240b9483f9400d92871ba595168357%20%3D%20%24%28%60%3Cdiv%20id%3D%22html_c7240b9483f9400d92871ba595168357%22%20style%3D%22width%3A%20100.0%25%3B%20height%3A%20100.0%25%3B%22%3E%EA%B5%AC%EB%A1%9C%EA%B5%AC%20193%20%EB%AA%85%3C/div%3E%60%29%5B0%5D%3B%0A%20%20%20%20%20%20%20%20%20%20%20%20popup_64ff8d95a37e4b6db4052d9c4261f3c7.setContent%28html_c7240b9483f9400d92871ba595168357%29%3B%0A%20%20%20%20%20%20%20%20%0A%0A%20%20%20%20%20%20%20%20circle_marker_ac1d795eb7024609b233dd833587731c.bindPopup%28popup_64ff8d95a37e4b6db4052d9c4261f3c7%29%0A%20%20%20%20%20%20%20%20%3B%0A%0A%20%20%20%20%20%20%20%20%0A%20%20%20%20%0A%20%20%20%20%0A%20%20%20%20%20%20%20%20%20%20%20%20var%20circle_marker_20e05bd4b5174475a625f00f86d090bf%20%3D%20L.circleMarker%28%0A%20%20%20%20%20%20%20%20%20%20%20%20%20%20%20%20%5B37.5481445%2C%20127.0857528%5D%2C%0A%20%20%20%20%20%20%20%20%20%20%20%20%20%20%20%20%7B%22bubblingMouseEvents%22%3A%20true%2C%20%22color%22%3A%20%22%233186cc%22%2C%20%22dashArray%22%3A%20null%2C%20%22dashOffset%22%3A%20null%2C%20%22fill%22%3A%20true%2C%20%22fillColor%22%3A%20%22%233186cc%22%2C%20%22fillOpacity%22%3A%200.2%2C%20%22fillRule%22%3A%20%22evenodd%22%2C%20%22lineCap%22%3A%20%22round%22%2C%20%22lineJoin%22%3A%20%22round%22%2C%20%22opacity%22%3A%201.0%2C%20%22radius%22%3A%2023.6%2C%20%22stroke%22%3A%20true%2C%20%22weight%22%3A%203%7D%0A%20%20%20%20%20%20%20%20%20%20%20%20%29.addTo%28map_f811b7416dd341d4ab6e99ffed03eaf2%29%3B%0A%20%20%20%20%20%20%20%20%0A%20%20%20%20%0A%20%20%20%20%20%20%20%20var%20popup_ca9b49a0b9bd434e8e8eca9e4a9e73e7%20%3D%20L.popup%28%7B%22maxWidth%22%3A%20%22100%25%22%7D%29%3B%0A%0A%20%20%20%20%20%20%20%20%0A%20%20%20%20%20%20%20%20%20%20%20%20var%20html_282cce16fab449abadeee01733836551%20%3D%20%24%28%60%3Cdiv%20id%3D%22html_282cce16fab449abadeee01733836551%22%20style%3D%22width%3A%20100.0%25%3B%20height%3A%20100.0%25%3B%22%3E%EA%B4%91%EC%A7%84%EA%B5%AC%20136%20%EB%AA%85%3C/div%3E%60%29%5B0%5D%3B%0A%20%20%20%20%20%20%20%20%20%20%20%20popup_ca9b49a0b9bd434e8e8eca9e4a9e73e7.setContent%28html_282cce16fab449abadeee01733836551%29%3B%0A%20%20%20%20%20%20%20%20%0A%0A%20%20%20%20%20%20%20%20circle_marker_20e05bd4b5174475a625f00f86d090bf.bindPopup%28popup_ca9b49a0b9bd434e8e8eca9e4a9e73e7%29%0A%20%20%20%20%20%20%20%20%3B%0A%0A%20%20%20%20%20%20%20%20%0A%20%20%20%20%0A%20%20%20%20%0A%20%20%20%20%20%20%20%20%20%20%20%20var%20circle_marker_238de8e96b724a818096e775d89fa80f%20%3D%20L.circleMarker%28%0A%20%20%20%20%20%20%20%20%20%20%20%20%20%20%20%20%5B37.5820369%2C%20126.9356665%5D%2C%0A%20%20%20%20%20%20%20%20%20%20%20%20%20%20%20%20%7B%22bubblingMouseEvents%22%3A%20true%2C%20%22color%22%3A%20%22%233186cc%22%2C%20%22dashArray%22%3A%20null%2C%20%22dashOffset%22%3A%20null%2C%20%22fill%22%3A%20true%2C%20%22fillColor%22%3A%20%22%233186cc%22%2C%20%22fillOpacity%22%3A%200.2%2C%20%22fillRule%22%3A%20%22evenodd%22%2C%20%22lineCap%22%3A%20%22round%22%2C%20%22lineJoin%22%3A%20%22round%22%2C%20%22opacity%22%3A%201.0%2C%20%22radius%22%3A%2023.5%2C%20%22stroke%22%3A%20true%2C%20%22weight%22%3A%203%7D%0A%20%20%20%20%20%20%20%20%20%20%20%20%29.addTo%28map_f811b7416dd341d4ab6e99ffed03eaf2%29%3B%0A%20%20%20%20%20%20%20%20%0A%20%20%20%20%0A%20%20%20%20%20%20%20%20var%20popup_0e50aadd2b7d4284afd2f157894bc30e%20%3D%20L.popup%28%7B%22maxWidth%22%3A%20%22100%25%22%7D%29%3B%0A%0A%20%20%20%20%20%20%20%20%0A%20%20%20%20%20%20%20%20%20%20%20%20var%20html_eb975e86b4ef4fb4b7d832b5aaa9f25c%20%3D%20%24%28%60%3Cdiv%20id%3D%22html_eb975e86b4ef4fb4b7d832b5aaa9f25c%22%20style%3D%22width%3A%20100.0%25%3B%20height%3A%20100.0%25%3B%22%3E%EC%84%9C%EB%8C%80%EB%AC%B8%EA%B5%AC%20135%20%EB%AA%85%3C/div%3E%60%29%5B0%5D%3B%0A%20%20%20%20%20%20%20%20%20%20%20%20popup_0e50aadd2b7d4284afd2f157894bc30e.setContent%28html_eb975e86b4ef4fb4b7d832b5aaa9f25c%29%3B%0A%20%20%20%20%20%20%20%20%0A%0A%20%20%20%20%20%20%20%20circle_marker_238de8e96b724a818096e775d89fa80f.bindPopup%28popup_0e50aadd2b7d4284afd2f157894bc30e%29%0A%20%20%20%20%20%20%20%20%3B%0A%0A%20%20%20%20%20%20%20%20%0A%20%20%20%20%0A%20%20%20%20%0A%20%20%20%20%20%20%20%20%20%20%20%20var%20circle_marker_dc32c2b5aa0d4bd286022bd2e8d5a982%20%3D%20L.circleMarker%28%0A%20%20%20%20%20%20%20%20%20%20%20%20%20%20%20%20%5B37.5048534%2C%20127.1144822%5D%2C%0A%20%20%20%20%20%20%20%20%20%20%20%20%20%20%20%20%7B%22bubblingMouseEvents%22%3A%20true%2C%20%22color%22%3A%20%22%233186cc%22%2C%20%22dashArray%22%3A%20null%2C%20%22dashOffset%22%3A%20null%2C%20%22fill%22%3A%20true%2C%20%22fillColor%22%3A%20%22%233186cc%22%2C%20%22fillOpacity%22%3A%200.2%2C%20%22fillRule%22%3A%20%22evenodd%22%2C%20%22lineCap%22%3A%20%22round%22%2C%20%22lineJoin%22%3A%20%22round%22%2C%20%22opacity%22%3A%201.0%2C%20%22radius%22%3A%2046.1%2C%20%22stroke%22%3A%20true%2C%20%22weight%22%3A%203%7D%0A%20%20%20%20%20%20%20%20%20%20%20%20%29.addTo%28map_f811b7416dd341d4ab6e99ffed03eaf2%29%3B%0A%20%20%20%20%20%20%20%20%0A%20%20%20%20%0A%20%20%20%20%20%20%20%20var%20popup_903a34473cf045719f8e3f939760919b%20%3D%20L.popup%28%7B%22maxWidth%22%3A%20%22100%25%22%7D%29%3B%0A%0A%20%20%20%20%20%20%20%20%0A%20%20%20%20%20%20%20%20%20%20%20%20var%20html_b88ef8966fb84db28fdca6df069809ee%20%3D%20%24%28%60%3Cdiv%20id%3D%22html_b88ef8966fb84db28fdca6df069809ee%22%20style%3D%22width%3A%20100.0%25%3B%20height%3A%20100.0%25%3B%22%3E%EC%86%A1%ED%8C%8C%EA%B5%AC%20361%20%EB%AA%85%3C/div%3E%60%29%5B0%5D%3B%0A%20%20%20%20%20%20%20%20%20%20%20%20popup_903a34473cf045719f8e3f939760919b.setContent%28html_b88ef8966fb84db28fdca6df069809ee%29%3B%0A%20%20%20%20%20%20%20%20%0A%0A%20%20%20%20%20%20%20%20circle_marker_dc32c2b5aa0d4bd286022bd2e8d5a982.bindPopup%28popup_903a34473cf045719f8e3f939760919b%29%0A%20%20%20%20%20%20%20%20%3B%0A%0A%20%20%20%20%20%20%20%20%0A%20%20%20%20%0A%20%20%20%20%0A%20%20%20%20%20%20%20%20%20%20%20%20var%20circle_marker_e258de0837114cf1865d0f86389d5a9b%20%3D%20L.circleMarker%28%0A%20%20%20%20%20%20%20%20%20%20%20%20%20%20%20%20%5B37.5953795%2C%20127.0939669%5D%2C%0A%20%20%20%20%20%20%20%20%20%20%20%20%20%20%20%20%7B%22bubblingMouseEvents%22%3A%20true%2C%20%22color%22%3A%20%22%233186cc%22%2C%20%22dashArray%22%3A%20null%2C%20%22dashOffset%22%3A%20null%2C%20%22fill%22%3A%20true%2C%20%22fillColor%22%3A%20%22%233186cc%22%2C%20%22fillOpacity%22%3A%200.2%2C%20%22fillRule%22%3A%20%22evenodd%22%2C%20%22lineCap%22%3A%20%22round%22%2C%20%22lineJoin%22%3A%20%22round%22%2C%20%22opacity%22%3A%201.0%2C%20%22radius%22%3A%2030.2%2C%20%22stroke%22%3A%20true%2C%20%22weight%22%3A%203%7D%0A%20%20%20%20%20%20%20%20%20%20%20%20%29.addTo%28map_f811b7416dd341d4ab6e99ffed03eaf2%29%3B%0A%20%20%20%20%20%20%20%20%0A%20%20%20%20%0A%20%20%20%20%20%20%20%20var%20popup_bc88ee13782046239e018d10a9273f9f%20%3D%20L.popup%28%7B%22maxWidth%22%3A%20%22100%25%22%7D%29%3B%0A%0A%20%20%20%20%20%20%20%20%0A%20%20%20%20%20%20%20%20%20%20%20%20var%20html_bed0163dd48642b79ec5dc82f8fbfeea%20%3D%20%24%28%60%3Cdiv%20id%3D%22html_bed0163dd48642b79ec5dc82f8fbfeea%22%20style%3D%22width%3A%20100.0%25%3B%20height%3A%20100.0%25%3B%22%3E%EC%A4%91%EB%9E%91%EA%B5%AC%20202%20%EB%AA%85%3C/div%3E%60%29%5B0%5D%3B%0A%20%20%20%20%20%20%20%20%20%20%20%20popup_bc88ee13782046239e018d10a9273f9f.setContent%28html_bed0163dd48642b79ec5dc82f8fbfeea%29%3B%0A%20%20%20%20%20%20%20%20%0A%0A%20%20%20%20%20%20%20%20circle_marker_e258de0837114cf1865d0f86389d5a9b.bindPopup%28popup_bc88ee13782046239e018d10a9273f9f%29%0A%20%20%20%20%20%20%20%20%3B%0A%0A%20%20%20%20%20%20%20%20%0A%20%20%20%20%0A%20%20%20%20%0A%20%20%20%20%20%20%20%20%20%20%20%20var%20circle_marker_c1a78dfb104442098dd73aba5792cc47%20%3D%20L.circleMarker%28%0A%20%20%20%20%20%20%20%20%20%20%20%20%20%20%20%20%5B37.606991%2C%20127.0232185%5D%2C%0A%20%20%20%20%20%20%20%20%20%20%20%20%20%20%20%20%7B%22bubblingMouseEvents%22%3A%20true%2C%20%22color%22%3A%20%22%233186cc%22%2C%20%22dashArray%22%3A%20null%2C%20%22dashOffset%22%3A%20null%2C%20%22fill%22%3A%20true%2C%20%22fillColor%22%3A%20%22%233186cc%22%2C%20%22fillOpacity%22%3A%200.2%2C%20%22fillRule%22%3A%20%22evenodd%22%2C%20%22lineCap%22%3A%20%22round%22%2C%20%22lineJoin%22%3A%20%22round%22%2C%20%22opacity%22%3A%201.0%2C%20%22radius%22%3A%2044.4%2C%20%22stroke%22%3A%20true%2C%20%22weight%22%3A%203%7D%0A%20%20%20%20%20%20%20%20%20%20%20%20%29.addTo%28map_f811b7416dd341d4ab6e99ffed03eaf2%29%3B%0A%20%20%20%20%20%20%20%20%0A%20%20%20%20%0A%20%20%20%20%20%20%20%20var%20popup_6e01f98f62fb4c359aa3d1141a6ecc96%20%3D%20L.popup%28%7B%22maxWidth%22%3A%20%22100%25%22%7D%29%3B%0A%0A%20%20%20%20%20%20%20%20%0A%20%20%20%20%20%20%20%20%20%20%20%20var%20html_976b3e5504ed4a04bbabc7635e7b4a64%20%3D%20%24%28%60%3Cdiv%20id%3D%22html_976b3e5504ed4a04bbabc7635e7b4a64%22%20style%3D%22width%3A%20100.0%25%3B%20height%3A%20100.0%25%3B%22%3E%EC%84%B1%EB%B6%81%EA%B5%AC%20344%20%EB%AA%85%3C/div%3E%60%29%5B0%5D%3B%0A%20%20%20%20%20%20%20%20%20%20%20%20popup_6e01f98f62fb4c359aa3d1141a6ecc96.setContent%28html_976b3e5504ed4a04bbabc7635e7b4a64%29%3B%0A%20%20%20%20%20%20%20%20%0A%0A%20%20%20%20%20%20%20%20circle_marker_c1a78dfb104442098dd73aba5792cc47.bindPopup%28popup_6e01f98f62fb4c359aa3d1141a6ecc96%29%0A%20%20%20%20%20%20%20%20%3B%0A%0A%20%20%20%20%20%20%20%20%0A%20%20%20%20%0A%20%20%20%20%0A%20%20%20%20%20%20%20%20%20%20%20%20var%20circle_marker_f40b27bd7ce84641af73fc8f043fab1c%20%3D%20L.circleMarker%28%0A%20%20%20%20%20%20%20%20%20%20%20%20%20%20%20%20%5B37.5622906%2C%20126.9087803%5D%2C%0A%20%20%20%20%20%20%20%20%20%20%20%20%20%20%20%20%7B%22bubblingMouseEvents%22%3A%20true%2C%20%22color%22%3A%20%22%233186cc%22%2C%20%22dashArray%22%3A%20null%2C%20%22dashOffset%22%3A%20null%2C%20%22fill%22%3A%20true%2C%20%22fillColor%22%3A%20%22%233186cc%22%2C%20%22fillOpacity%22%3A%200.2%2C%20%22fillRule%22%3A%20%22evenodd%22%2C%20%22lineCap%22%3A%20%22round%22%2C%20%22lineJoin%22%3A%20%22round%22%2C%20%22opacity%22%3A%201.0%2C%20%22radius%22%3A%2028.0%2C%20%22stroke%22%3A%20true%2C%20%22weight%22%3A%203%7D%0A%20%20%20%20%20%20%20%20%20%20%20%20%29.addTo%28map_f811b7416dd341d4ab6e99ffed03eaf2%29%3B%0A%20%20%20%20%20%20%20%20%0A%20%20%20%20%0A%20%20%20%20%20%20%20%20var%20popup_7ed13031a2154fcebb831cd62c927966%20%3D%20L.popup%28%7B%22maxWidth%22%3A%20%22100%25%22%7D%29%3B%0A%0A%20%20%20%20%20%20%20%20%0A%20%20%20%20%20%20%20%20%20%20%20%20var%20html_e2845ba22873406eb9ba59cb40867894%20%3D%20%24%28%60%3Cdiv%20id%3D%22html_e2845ba22873406eb9ba59cb40867894%22%20style%3D%22width%3A%20100.0%25%3B%20height%3A%20100.0%25%3B%22%3E%EB%A7%88%ED%8F%AC%EA%B5%AC%20180%20%EB%AA%85%3C/div%3E%60%29%5B0%5D%3B%0A%20%20%20%20%20%20%20%20%20%20%20%20popup_7ed13031a2154fcebb831cd62c927966.setContent%28html_e2845ba22873406eb9ba59cb40867894%29%3B%0A%20%20%20%20%20%20%20%20%0A%0A%20%20%20%20%20%20%20%20circle_marker_f40b27bd7ce84641af73fc8f043fab1c.bindPopup%28popup_7ed13031a2154fcebb831cd62c927966%29%0A%20%20%20%20%20%20%20%20%3B%0A%0A%20%20%20%20%20%20%20%20%0A%20%20%20%20%0A%20%20%20%20%0A%20%20%20%20%20%20%20%20%20%20%20%20var%20circle_marker_462a2966d410487797b9e28184d1ab2c%20%3D%20L.circleMarker%28%0A%20%20%20%20%20%20%20%20%20%20%20%20%20%20%20%20%5B37.5506753%2C%20127.0409622%5D%2C%0A%20%20%20%20%20%20%20%20%20%20%20%20%20%20%20%20%7B%22bubblingMouseEvents%22%3A%20true%2C%20%22color%22%3A%20%22%233186cc%22%2C%20%22dashArray%22%3A%20null%2C%20%22dashOffset%22%3A%20null%2C%20%22fill%22%3A%20true%2C%20%22fillColor%22%3A%20%22%233186cc%22%2C%20%22fillOpacity%22%3A%200.2%2C%20%22fillRule%22%3A%20%22evenodd%22%2C%20%22lineCap%22%3A%20%22round%22%2C%20%22lineJoin%22%3A%20%22round%22%2C%20%22opacity%22%3A%201.0%2C%20%22radius%22%3A%2023.0%2C%20%22stroke%22%3A%20true%2C%20%22weight%22%3A%203%7D%0A%20%20%20%20%20%20%20%20%20%20%20%20%29.addTo%28map_f811b7416dd341d4ab6e99ffed03eaf2%29%3B%0A%20%20%20%20%20%20%20%20%0A%20%20%20%20%0A%20%20%20%20%20%20%20%20var%20popup_56766e195800411a94d27f9a6eefd390%20%3D%20L.popup%28%7B%22maxWidth%22%3A%20%22100%25%22%7D%29%3B%0A%0A%20%20%20%20%20%20%20%20%0A%20%20%20%20%20%20%20%20%20%20%20%20var%20html_bbd228256295486aaa5ad2847de88f4a%20%3D%20%24%28%60%3Cdiv%20id%3D%22html_bbd228256295486aaa5ad2847de88f4a%22%20style%3D%22width%3A%20100.0%25%3B%20height%3A%20100.0%25%3B%22%3E%EC%84%B1%EB%8F%99%EA%B5%AC%20130%20%EB%AA%85%3C/div%3E%60%29%5B0%5D%3B%0A%20%20%20%20%20%20%20%20%20%20%20%20popup_56766e195800411a94d27f9a6eefd390.setContent%28html_bbd228256295486aaa5ad2847de88f4a%29%3B%0A%20%20%20%20%20%20%20%20%0A%0A%20%20%20%20%20%20%20%20circle_marker_462a2966d410487797b9e28184d1ab2c.bindPopup%28popup_56766e195800411a94d27f9a6eefd390%29%0A%20%20%20%20%20%20%20%20%3B%0A%0A%20%20%20%20%20%20%20%20%0A%20%20%20%20%0A%20%20%20%20%0A%20%20%20%20%20%20%20%20%20%20%20%20var%20circle_marker_76150cc0368a42de9e0825ab4079ddb2%20%3D%20L.circleMarker%28%0A%20%20%20%20%20%20%20%20%20%20%20%20%20%20%20%20%5B37.5657617%2C%20126.8226561%5D%2C%0A%20%20%20%20%20%20%20%20%20%20%20%20%20%20%20%20%7B%22bubblingMouseEvents%22%3A%20true%2C%20%22color%22%3A%20%22%233186cc%22%2C%20%22dashArray%22%3A%20null%2C%20%22dashOffset%22%3A%20null%2C%20%22fill%22%3A%20true%2C%20%22fillColor%22%3A%20%22%233186cc%22%2C%20%22fillOpacity%22%3A%200.2%2C%20%22fillRule%22%3A%20%22evenodd%22%2C%20%22lineCap%22%3A%20%22round%22%2C%20%22lineJoin%22%3A%20%22round%22%2C%20%22opacity%22%3A%201.0%2C%20%22radius%22%3A%2039.5%2C%20%22stroke%22%3A%20true%2C%20%22weight%22%3A%203%7D%0A%20%20%20%20%20%20%20%20%20%20%20%20%29.addTo%28map_f811b7416dd341d4ab6e99ffed03eaf2%29%3B%0A%20%20%20%20%20%20%20%20%0A%20%20%20%20%0A%20%20%20%20%20%20%20%20var%20popup_d9a993e9cb0b4dcdaf30eebc5ce673d1%20%3D%20L.popup%28%7B%22maxWidth%22%3A%20%22100%25%22%7D%29%3B%0A%0A%20%20%20%20%20%20%20%20%0A%20%20%20%20%20%20%20%20%20%20%20%20var%20html_28c0e9cb4fe8418c89c595c5f0a66e7c%20%3D%20%24%28%60%3Cdiv%20id%3D%22html_28c0e9cb4fe8418c89c595c5f0a66e7c%22%20style%3D%22width%3A%20100.0%25%3B%20height%3A%20100.0%25%3B%22%3E%EA%B0%95%EC%84%9C%EA%B5%AC%20295%20%EB%AA%85%3C/div%3E%60%29%5B0%5D%3B%0A%20%20%20%20%20%20%20%20%20%20%20%20popup_d9a993e9cb0b4dcdaf30eebc5ce673d1.setContent%28html_28c0e9cb4fe8418c89c595c5f0a66e7c%29%3B%0A%20%20%20%20%20%20%20%20%0A%0A%20%20%20%20%20%20%20%20circle_marker_76150cc0368a42de9e0825ab4079ddb2.bindPopup%28popup_d9a993e9cb0b4dcdaf30eebc5ce673d1%29%0A%20%20%20%20%20%20%20%20%3B%0A%0A%20%20%20%20%20%20%20%20%0A%20%20%20%20%0A%20%20%20%20%0A%20%20%20%20%20%20%20%20%20%20%20%20var%20circle_marker_b8481f737e8b4c9693e9dd2bbc649d17%20%3D%20L.circleMarker%28%0A%20%20%20%20%20%20%20%20%20%20%20%20%20%20%20%20%5B37.5270616%2C%20126.8561534%5D%2C%0A%20%20%20%20%20%20%20%20%20%20%20%20%20%20%20%20%7B%22bubblingMouseEvents%22%3A%20true%2C%20%22color%22%3A%20%22%233186cc%22%2C%20%22dashArray%22%3A%20null%2C%20%22dashOffset%22%3A%20null%2C%20%22fill%22%3A%20true%2C%20%22fillColor%22%3A%20%22%233186cc%22%2C%20%22fillOpacity%22%3A%200.2%2C%20%22fillRule%22%3A%20%22evenodd%22%2C%20%22lineCap%22%3A%20%22round%22%2C%20%22lineJoin%22%3A%20%22round%22%2C%20%22opacity%22%3A%201.0%2C%20%22radius%22%3A%2028.6%2C%20%22stroke%22%3A%20true%2C%20%22weight%22%3A%203%7D%0A%20%20%20%20%20%20%20%20%20%20%20%20%29.addTo%28map_f811b7416dd341d4ab6e99ffed03eaf2%29%3B%0A%20%20%20%20%20%20%20%20%0A%20%20%20%20%0A%20%20%20%20%20%20%20%20var%20popup_0d4202d166d04c6db98d5e9bc8ee0033%20%3D%20L.popup%28%7B%22maxWidth%22%3A%20%22100%25%22%7D%29%3B%0A%0A%20%20%20%20%20%20%20%20%0A%20%20%20%20%20%20%20%20%20%20%20%20var%20html_c10129f9dcb7441da06505684cc3e861%20%3D%20%24%28%60%3Cdiv%20id%3D%22html_c10129f9dcb7441da06505684cc3e861%22%20style%3D%22width%3A%20100.0%25%3B%20height%3A%20100.0%25%3B%22%3E%EC%96%91%EC%B2%9C%EA%B5%AC%20186%20%EB%AA%85%3C/div%3E%60%29%5B0%5D%3B%0A%20%20%20%20%20%20%20%20%20%20%20%20popup_0d4202d166d04c6db98d5e9bc8ee0033.setContent%28html_c10129f9dcb7441da06505684cc3e861%29%3B%0A%20%20%20%20%20%20%20%20%0A%0A%20%20%20%20%20%20%20%20circle_marker_b8481f737e8b4c9693e9dd2bbc649d17.bindPopup%28popup_0d4202d166d04c6db98d5e9bc8ee0033%29%0A%20%20%20%20%20%20%20%20%3B%0A%0A%20%20%20%20%20%20%20%20%0A%20%20%20%20%0A%20%20%20%20%0A%20%20%20%20%20%20%20%20%20%20%20%20var%20circle_marker_07be9b0941774f319c9867357512fd8b%20%3D%20L.circleMarker%28%0A%20%20%20%20%20%20%20%20%20%20%20%20%20%20%20%20%5B37.5838012%2C%20127.0507003%5D%2C%0A%20%20%20%20%20%20%20%20%20%20%20%20%20%20%20%20%7B%22bubblingMouseEvents%22%3A%20true%2C%20%22color%22%3A%20%22%233186cc%22%2C%20%22dashArray%22%3A%20null%2C%20%22dashOffset%22%3A%20null%2C%20%22fill%22%3A%20true%2C%20%22fillColor%22%3A%20%22%233186cc%22%2C%20%22fillOpacity%22%3A%200.2%2C%20%22fillRule%22%3A%20%22evenodd%22%2C%20%22lineCap%22%3A%20%22round%22%2C%20%22lineJoin%22%3A%20%22round%22%2C%20%22opacity%22%3A%201.0%2C%20%22radius%22%3A%2027.2%2C%20%22stroke%22%3A%20true%2C%20%22weight%22%3A%203%7D%0A%20%20%20%20%20%20%20%20%20%20%20%20%29.addTo%28map_f811b7416dd341d4ab6e99ffed03eaf2%29%3B%0A%20%20%20%20%20%20%20%20%0A%20%20%20%20%0A%20%20%20%20%20%20%20%20var%20popup_d55719fc12094692916f96298a3303a1%20%3D%20L.popup%28%7B%22maxWidth%22%3A%20%22100%25%22%7D%29%3B%0A%0A%20%20%20%20%20%20%20%20%0A%20%20%20%20%20%20%20%20%20%20%20%20var%20html_40bf3e30901c45a881c7ecceef0da127%20%3D%20%24%28%60%3Cdiv%20id%3D%22html_40bf3e30901c45a881c7ecceef0da127%22%20style%3D%22width%3A%20100.0%25%3B%20height%3A%20100.0%25%3B%22%3E%EB%8F%99%EB%8C%80%EB%AC%B8%EA%B5%AC%20172%20%EB%AA%85%3C/div%3E%60%29%5B0%5D%3B%0A%20%20%20%20%20%20%20%20%20%20%20%20popup_d55719fc12094692916f96298a3303a1.setContent%28html_40bf3e30901c45a881c7ecceef0da127%29%3B%0A%20%20%20%20%20%20%20%20%0A%0A%20%20%20%20%20%20%20%20circle_marker_07be9b0941774f319c9867357512fd8b.bindPopup%28popup_d55719fc12094692916f96298a3303a1%29%0A%20%20%20%20%20%20%20%20%3B%0A%0A%20%20%20%20%20%20%20%20%0A%20%20%20%20%0A%20%20%20%20%0A%20%20%20%20%20%20%20%20%20%20%20%20var%20circle_marker_017f7cb7b1104797b27d03a422de4190%20%3D%20L.circleMarker%28%0A%20%20%20%20%20%20%20%20%20%20%20%20%20%20%20%20%5B37.4600969%2C%20126.9001546%5D%2C%0A%20%20%20%20%20%20%20%20%20%20%20%20%20%20%20%20%7B%22bubblingMouseEvents%22%3A%20true%2C%20%22color%22%3A%20%22%233186cc%22%2C%20%22dashArray%22%3A%20null%2C%20%22dashOffset%22%3A%20null%2C%20%22fill%22%3A%20true%2C%20%22fillColor%22%3A%20%22%233186cc%22%2C%20%22fillOpacity%22%3A%200.2%2C%20%22fillRule%22%3A%20%22evenodd%22%2C%20%22lineCap%22%3A%20%22round%22%2C%20%22lineJoin%22%3A%20%22round%22%2C%20%22opacity%22%3A%201.0%2C%20%22radius%22%3A%2019.6%2C%20%22stroke%22%3A%20true%2C%20%22weight%22%3A%203%7D%0A%20%20%20%20%20%20%20%20%20%20%20%20%29.addTo%28map_f811b7416dd341d4ab6e99ffed03eaf2%29%3B%0A%20%20%20%20%20%20%20%20%0A%20%20%20%20%0A%20%20%20%20%20%20%20%20var%20popup_07442e3689bf4e94b275766e78a9fb87%20%3D%20L.popup%28%7B%22maxWidth%22%3A%20%22100%25%22%7D%29%3B%0A%0A%20%20%20%20%20%20%20%20%0A%20%20%20%20%20%20%20%20%20%20%20%20var%20html_7bc7dba8d8c343ab815ff25e6c5763f5%20%3D%20%24%28%60%3Cdiv%20id%3D%22html_7bc7dba8d8c343ab815ff25e6c5763f5%22%20style%3D%22width%3A%20100.0%25%3B%20height%3A%20100.0%25%3B%22%3E%EA%B8%88%EC%B2%9C%EA%B5%AC%2096%20%EB%AA%85%3C/div%3E%60%29%5B0%5D%3B%0A%20%20%20%20%20%20%20%20%20%20%20%20popup_07442e3689bf4e94b275766e78a9fb87.setContent%28html_7bc7dba8d8c343ab815ff25e6c5763f5%29%3B%0A%20%20%20%20%20%20%20%20%0A%0A%20%20%20%20%20%20%20%20circle_marker_017f7cb7b1104797b27d03a422de4190.bindPopup%28popup_07442e3689bf4e94b275766e78a9fb87%29%0A%20%20%20%20%20%20%20%20%3B%0A%0A%20%20%20%20%20%20%20%20%0A%20%20%20%20%0A%20%20%20%20%0A%20%20%20%20%20%20%20%20%20%20%20%20var%20circle_marker_aef6826cf49d49958cb22dacc7a5082b%20%3D%20L.circleMarker%28%0A%20%20%20%20%20%20%20%20%20%20%20%20%20%20%20%20%5B37.6658609%2C%20127.0317674%5D%2C%0A%20%20%20%20%20%20%20%20%20%20%20%20%20%20%20%20%7B%22bubblingMouseEvents%22%3A%20true%2C%20%22color%22%3A%20%22%233186cc%22%2C%20%22dashArray%22%3A%20null%2C%20%22dashOffset%22%3A%20null%2C%20%22fill%22%3A%20true%2C%20%22fillColor%22%3A%20%22%233186cc%22%2C%20%22fillOpacity%22%3A%200.2%2C%20%22fillRule%22%3A%20%22evenodd%22%2C%20%22lineCap%22%3A%20%22round%22%2C%20%22lineJoin%22%3A%20%22round%22%2C%20%22opacity%22%3A%201.0%2C%20%22radius%22%3A%2032.3%2C%20%22stroke%22%3A%20true%2C%20%22weight%22%3A%203%7D%0A%20%20%20%20%20%20%20%20%20%20%20%20%29.addTo%28map_f811b7416dd341d4ab6e99ffed03eaf2%29%3B%0A%20%20%20%20%20%20%20%20%0A%20%20%20%20%0A%20%20%20%20%20%20%20%20var%20popup_c369e0f4d2604c548b306b2fa0e19209%20%3D%20L.popup%28%7B%22maxWidth%22%3A%20%22100%25%22%7D%29%3B%0A%0A%20%20%20%20%20%20%20%20%0A%20%20%20%20%20%20%20%20%20%20%20%20var%20html_0d89964d940d488a8e1a3d9314d92b66%20%3D%20%24%28%60%3Cdiv%20id%3D%22html_0d89964d940d488a8e1a3d9314d92b66%22%20style%3D%22width%3A%20100.0%25%3B%20height%3A%20100.0%25%3B%22%3E%EB%8F%84%EB%B4%89%EA%B5%AC%20223%20%EB%AA%85%3C/div%3E%60%29%5B0%5D%3B%0A%20%20%20%20%20%20%20%20%20%20%20%20popup_c369e0f4d2604c548b306b2fa0e19209.setContent%28html_0d89964d940d488a8e1a3d9314d92b66%29%3B%0A%20%20%20%20%20%20%20%20%0A%0A%20%20%20%20%20%20%20%20circle_marker_aef6826cf49d49958cb22dacc7a5082b.bindPopup%28popup_c369e0f4d2604c548b306b2fa0e19209%29%0A%20%20%20%20%20%20%20%20%3B%0A%0A%20%20%20%20%20%20%20%20%0A%20%20%20%20%0A%20%20%20%20%0A%20%20%20%20%20%20%20%20%20%20%20%20var%20circle_marker_1eb393fc3bdd47cca3d106dd68df0d73%20%3D%20L.circleMarker%28%0A%20%20%20%20%20%20%20%20%20%20%20%20%20%20%20%20%5B37.520641%2C%20126.9139242%5D%2C%0A%20%20%20%20%20%20%20%20%20%20%20%20%20%20%20%20%7B%22bubblingMouseEvents%22%3A%20true%2C%20%22color%22%3A%20%22%233186cc%22%2C%20%22dashArray%22%3A%20null%2C%20%22dashOffset%22%3A%20null%2C%20%22fill%22%3A%20true%2C%20%22fillColor%22%3A%20%22%233186cc%22%2C%20%22fillOpacity%22%3A%200.2%2C%20%22fillRule%22%3A%20%22evenodd%22%2C%20%22lineCap%22%3A%20%22round%22%2C%20%22lineJoin%22%3A%20%22round%22%2C%20%22opacity%22%3A%201.0%2C%20%22radius%22%3A%2030.0%2C%20%22stroke%22%3A%20true%2C%20%22weight%22%3A%203%7D%0A%20%20%20%20%20%20%20%20%20%20%20%20%29.addTo%28map_f811b7416dd341d4ab6e99ffed03eaf2%29%3B%0A%20%20%20%20%20%20%20%20%0A%20%20%20%20%0A%20%20%20%20%20%20%20%20var%20popup_418cf12be18b458f8099ade5647af785%20%3D%20L.popup%28%7B%22maxWidth%22%3A%20%22100%25%22%7D%29%3B%0A%0A%20%20%20%20%20%20%20%20%0A%20%20%20%20%20%20%20%20%20%20%20%20var%20html_ff638cd20e7d4045bf688a149df77c0b%20%3D%20%24%28%60%3Cdiv%20id%3D%22html_ff638cd20e7d4045bf688a149df77c0b%22%20style%3D%22width%3A%20100.0%25%3B%20height%3A%20100.0%25%3B%22%3E%EC%98%81%EB%93%B1%ED%8F%AC%EA%B5%AC%20200%20%EB%AA%85%3C/div%3E%60%29%5B0%5D%3B%0A%20%20%20%20%20%20%20%20%20%20%20%20popup_418cf12be18b458f8099ade5647af785.setContent%28html_ff638cd20e7d4045bf688a149df77c0b%29%3B%0A%20%20%20%20%20%20%20%20%0A%0A%20%20%20%20%20%20%20%20circle_marker_1eb393fc3bdd47cca3d106dd68df0d73.bindPopup%28popup_418cf12be18b458f8099ade5647af785%29%0A%20%20%20%20%20%20%20%20%3B%0A%0A%20%20%20%20%20%20%20%20%0A%20%20%20%20%0A%20%20%20%20%0A%20%20%20%20%20%20%20%20%20%20%20%20var%20circle_marker_7b2e208b3cc448fb8b2d38455612315d%20%3D%20L.circleMarker%28%0A%20%20%20%20%20%20%20%20%20%20%20%20%20%20%20%20%5B37.6469954%2C%20127.0147158%5D%2C%0A%20%20%20%20%20%20%20%20%20%20%20%20%20%20%20%20%7B%22bubblingMouseEvents%22%3A%20true%2C%20%22color%22%3A%20%22%233186cc%22%2C%20%22dashArray%22%3A%20null%2C%20%22dashOffset%22%3A%20null%2C%20%22fill%22%3A%20true%2C%20%22fillColor%22%3A%20%22%233186cc%22%2C%20%22fillOpacity%22%3A%200.2%2C%20%22fillRule%22%3A%20%22evenodd%22%2C%20%22lineCap%22%3A%20%22round%22%2C%20%22lineJoin%22%3A%20%22round%22%2C%20%22opacity%22%3A%201.0%2C%20%22radius%22%3A%2025.6%2C%20%22stroke%22%3A%20true%2C%20%22weight%22%3A%203%7D%0A%20%20%20%20%20%20%20%20%20%20%20%20%29.addTo%28map_f811b7416dd341d4ab6e99ffed03eaf2%29%3B%0A%20%20%20%20%20%20%20%20%0A%20%20%20%20%0A%20%20%20%20%20%20%20%20var%20popup_05e159754c51419aa7557ca9f6a97861%20%3D%20L.popup%28%7B%22maxWidth%22%3A%20%22100%25%22%7D%29%3B%0A%0A%20%20%20%20%20%20%20%20%0A%20%20%20%20%20%20%20%20%20%20%20%20var%20html_717af6901223455db2b083c1625858d4%20%3D%20%24%28%60%3Cdiv%20id%3D%22html_717af6901223455db2b083c1625858d4%22%20style%3D%22width%3A%20100.0%25%3B%20height%3A%20100.0%25%3B%22%3E%EA%B0%95%EB%B6%81%EA%B5%AC%20156%20%EB%AA%85%3C/div%3E%60%29%5B0%5D%3B%0A%20%20%20%20%20%20%20%20%20%20%20%20popup_05e159754c51419aa7557ca9f6a97861.setContent%28html_717af6901223455db2b083c1625858d4%29%3B%0A%20%20%20%20%20%20%20%20%0A%0A%20%20%20%20%20%20%20%20circle_marker_7b2e208b3cc448fb8b2d38455612315d.bindPopup%28popup_05e159754c51419aa7557ca9f6a97861%29%0A%20%20%20%20%20%20%20%20%3B%0A%0A%20%20%20%20%20%20%20%20%0A%20%20%20%20%0A%20%20%20%20%0A%20%20%20%20%20%20%20%20%20%20%20%20var%20circle_marker_a1c630a91a6840bab2549a6e034a5e83%20%3D%20L.circleMarker%28%0A%20%20%20%20%20%20%20%20%20%20%20%20%20%20%20%20%5B37.655264%2C%20127.0771201%5D%2C%0A%20%20%20%20%20%20%20%20%20%20%20%20%20%20%20%20%7B%22bubblingMouseEvents%22%3A%20true%2C%20%22color%22%3A%20%22%233186cc%22%2C%20%22dashArray%22%3A%20null%2C%20%22dashOffset%22%3A%20null%2C%20%22fill%22%3A%20true%2C%20%22fillColor%22%3A%20%22%233186cc%22%2C%20%22fillOpacity%22%3A%200.2%2C%20%22fillRule%22%3A%20%22evenodd%22%2C%20%22lineCap%22%3A%20%22round%22%2C%20%22lineJoin%22%3A%20%22round%22%2C%20%22opacity%22%3A%201.0%2C%20%22radius%22%3A%2042.3%2C%20%22stroke%22%3A%20true%2C%20%22weight%22%3A%203%7D%0A%20%20%20%20%20%20%20%20%20%20%20%20%29.addTo%28map_f811b7416dd341d4ab6e99ffed03eaf2%29%3B%0A%20%20%20%20%20%20%20%20%0A%20%20%20%20%0A%20%20%20%20%20%20%20%20var%20popup_15104b7943124c07b0ebd18f29f8299b%20%3D%20L.popup%28%7B%22maxWidth%22%3A%20%22100%25%22%7D%29%3B%0A%0A%20%20%20%20%20%20%20%20%0A%20%20%20%20%20%20%20%20%20%20%20%20var%20html_ecc10c095a6940e88722d541fcb1f4ab%20%3D%20%24%28%60%3Cdiv%20id%3D%22html_ecc10c095a6940e88722d541fcb1f4ab%22%20style%3D%22width%3A%20100.0%25%3B%20height%3A%20100.0%25%3B%22%3E%EB%85%B8%EC%9B%90%EA%B5%AC%20323%20%EB%AA%85%3C/div%3E%60%29%5B0%5D%3B%0A%20%20%20%20%20%20%20%20%20%20%20%20popup_15104b7943124c07b0ebd18f29f8299b.setContent%28html_ecc10c095a6940e88722d541fcb1f4ab%29%3B%0A%20%20%20%20%20%20%20%20%0A%0A%20%20%20%20%20%20%20%20circle_marker_a1c630a91a6840bab2549a6e034a5e83.bindPopup%28popup_15104b7943124c07b0ebd18f29f8299b%29%0A%20%20%20%20%20%20%20%20%3B%0A%0A%20%20%20%20%20%20%20%20%0A%20%20%20%20%0A%20%20%20%20%0A%20%20%20%20%20%20%20%20%20%20%20%20var%20circle_marker_1938d2a0dc354e36852e60183de53017%20%3D%20L.circleMarker%28%0A%20%20%20%20%20%20%20%20%20%20%20%20%20%20%20%20%5B37.4965037%2C%20126.9443073%5D%2C%0A%20%20%20%20%20%20%20%20%20%20%20%20%20%20%20%20%7B%22bubblingMouseEvents%22%3A%20true%2C%20%22color%22%3A%20%22%233186cc%22%2C%20%22dashArray%22%3A%20null%2C%20%22dashOffset%22%3A%20null%2C%20%22fill%22%3A%20true%2C%20%22fillColor%22%3A%20%22%233186cc%22%2C%20%22fillOpacity%22%3A%200.2%2C%20%22fillRule%22%3A%20%22evenodd%22%2C%20%22lineCap%22%3A%20%22round%22%2C%20%22lineJoin%22%3A%20%22round%22%2C%20%22opacity%22%3A%201.0%2C%20%22radius%22%3A%2035.4%2C%20%22stroke%22%3A%20true%2C%20%22weight%22%3A%203%7D%0A%20%20%20%20%20%20%20%20%20%20%20%20%29.addTo%28map_f811b7416dd341d4ab6e99ffed03eaf2%29%3B%0A%20%20%20%20%20%20%20%20%0A%20%20%20%20%0A%20%20%20%20%20%20%20%20var%20popup_6a9f87ea611048298be22f3de38e1728%20%3D%20L.popup%28%7B%22maxWidth%22%3A%20%22100%25%22%7D%29%3B%0A%0A%20%20%20%20%20%20%20%20%0A%20%20%20%20%20%20%20%20%20%20%20%20var%20html_156ca51de04d487e8c7be97d32ff27d6%20%3D%20%24%28%60%3Cdiv%20id%3D%22html_156ca51de04d487e8c7be97d32ff27d6%22%20style%3D%22width%3A%20100.0%25%3B%20height%3A%20100.0%25%3B%22%3E%EB%8F%99%EC%9E%91%EA%B5%AC%20254%20%EB%AA%85%3C/div%3E%60%29%5B0%5D%3B%0A%20%20%20%20%20%20%20%20%20%20%20%20popup_6a9f87ea611048298be22f3de38e1728.setContent%28html_156ca51de04d487e8c7be97d32ff27d6%29%3B%0A%20%20%20%20%20%20%20%20%0A%0A%20%20%20%20%20%20%20%20circle_marker_1938d2a0dc354e36852e60183de53017.bindPopup%28popup_6a9f87ea611048298be22f3de38e1728%29%0A%20%20%20%20%20%20%20%20%3B%0A%0A%20%20%20%20%20%20%20%20%0A%20%20%20%20%0A%20%20%20%20%0A%20%20%20%20%20%20%20%20%20%20%20%20var%20circle_marker_1a0e1a31fad049baaba1260a39072ed5%20%3D%20L.circleMarker%28%0A%20%20%20%20%20%20%20%20%20%20%20%20%20%20%20%20%5B37.4959854%2C%20127.0664091%5D%2C%0A%20%20%20%20%20%20%20%20%20%20%20%20%20%20%20%20%7B%22bubblingMouseEvents%22%3A%20true%2C%20%22color%22%3A%20%22%233186cc%22%2C%20%22dashArray%22%3A%20null%2C%20%22dashOffset%22%3A%20null%2C%20%22fill%22%3A%20true%2C%20%22fillColor%22%3A%20%22%233186cc%22%2C%20%22fillOpacity%22%3A%200.2%2C%20%22fillRule%22%3A%20%22evenodd%22%2C%20%22lineCap%22%3A%20%22round%22%2C%20%22lineJoin%22%3A%20%22round%22%2C%20%22opacity%22%3A%201.0%2C%20%22radius%22%3A%2039.6%2C%20%22stroke%22%3A%20true%2C%20%22weight%22%3A%203%7D%0A%20%20%20%20%20%20%20%20%20%20%20%20%29.addTo%28map_f811b7416dd341d4ab6e99ffed03eaf2%29%3B%0A%20%20%20%20%20%20%20%20%0A%20%20%20%20%0A%20%20%20%20%20%20%20%20var%20popup_58618cb1608b44d5b740e4987197ab5e%20%3D%20L.popup%28%7B%22maxWidth%22%3A%20%22100%25%22%7D%29%3B%0A%0A%20%20%20%20%20%20%20%20%0A%20%20%20%20%20%20%20%20%20%20%20%20var%20html_4cc20335472d465b9dd721987457599e%20%3D%20%24%28%60%3Cdiv%20id%3D%22html_4cc20335472d465b9dd721987457599e%22%20style%3D%22width%3A%20100.0%25%3B%20height%3A%20100.0%25%3B%22%3E%EA%B0%95%EB%82%A8%EA%B5%AC%20296%20%EB%AA%85%3C/div%3E%60%29%5B0%5D%3B%0A%20%20%20%20%20%20%20%20%20%20%20%20popup_58618cb1608b44d5b740e4987197ab5e.setContent%28html_4cc20335472d465b9dd721987457599e%29%3B%0A%20%20%20%20%20%20%20%20%0A%0A%20%20%20%20%20%20%20%20circle_marker_1a0e1a31fad049baaba1260a39072ed5.bindPopup%28popup_58618cb1608b44d5b740e4987197ab5e%29%0A%20%20%20%20%20%20%20%20%3B%0A%0A%20%20%20%20%20%20%20%20%0A%20%20%20%20%0A%20%20%20%20%0A%20%20%20%20%20%20%20%20%20%20%20%20var%20circle_marker_a75bf7d8eb6f49c7b42043cf345e0512%20%3D%20L.circleMarker%28%0A%20%20%20%20%20%20%20%20%20%20%20%20%20%20%20%20%5B37.4769528%2C%20127.0378103%5D%2C%0A%20%20%20%20%20%20%20%20%20%20%20%20%20%20%20%20%7B%22bubblingMouseEvents%22%3A%20true%2C%20%22color%22%3A%20%22%233186cc%22%2C%20%22dashArray%22%3A%20null%2C%20%22dashOffset%22%3A%20null%2C%20%22fill%22%3A%20true%2C%20%22fillColor%22%3A%20%22%233186cc%22%2C%20%22fillOpacity%22%3A%200.2%2C%20%22fillRule%22%3A%20%22evenodd%22%2C%20%22lineCap%22%3A%20%22round%22%2C%20%22lineJoin%22%3A%20%22round%22%2C%20%22opacity%22%3A%201.0%2C%20%22radius%22%3A%2031.0%2C%20%22stroke%22%3A%20true%2C%20%22weight%22%3A%203%7D%0A%20%20%20%20%20%20%20%20%20%20%20%20%29.addTo%28map_f811b7416dd341d4ab6e99ffed03eaf2%29%3B%0A%20%20%20%20%20%20%20%20%0A%20%20%20%20%0A%20%20%20%20%20%20%20%20var%20popup_ab96336bb2ee4e02b83ff13a52fb87fb%20%3D%20L.popup%28%7B%22maxWidth%22%3A%20%22100%25%22%7D%29%3B%0A%0A%20%20%20%20%20%20%20%20%0A%20%20%20%20%20%20%20%20%20%20%20%20var%20html_3bceddc42588463fb3361ef280a61d58%20%3D%20%24%28%60%3Cdiv%20id%3D%22html_3bceddc42588463fb3361ef280a61d58%22%20style%3D%22width%3A%20100.0%25%3B%20height%3A%20100.0%25%3B%22%3E%EC%84%9C%EC%B4%88%EA%B5%AC%20210%20%EB%AA%85%3C/div%3E%60%29%5B0%5D%3B%0A%20%20%20%20%20%20%20%20%20%20%20%20popup_ab96336bb2ee4e02b83ff13a52fb87fb.setContent%28html_3bceddc42588463fb3361ef280a61d58%29%3B%0A%20%20%20%20%20%20%20%20%0A%0A%20%20%20%20%20%20%20%20circle_marker_a75bf7d8eb6f49c7b42043cf345e0512.bindPopup%28popup_ab96336bb2ee4e02b83ff13a52fb87fb%29%0A%20%20%20%20%20%20%20%20%3B%0A%0A%20%20%20%20%20%20%20%20%0A%20%20%20%20%0A%20%20%20%20%0A%20%20%20%20%20%20%20%20%20%20%20%20var%20circle_marker_2ad992a809254177a412813a65295391%20%3D%20L.circleMarker%28%0A%20%20%20%20%20%20%20%20%20%20%20%20%20%20%20%20%5B37.5311008%2C%20126.9810742%5D%2C%0A%20%20%20%20%20%20%20%20%20%20%20%20%20%20%20%20%7B%22bubblingMouseEvents%22%3A%20true%2C%20%22color%22%3A%20%22%233186cc%22%2C%20%22dashArray%22%3A%20null%2C%20%22dashOffset%22%3A%20null%2C%20%22fill%22%3A%20true%2C%20%22fillColor%22%3A%20%22%233186cc%22%2C%20%22fillOpacity%22%3A%200.2%2C%20%22fillRule%22%3A%20%22evenodd%22%2C%20%22lineCap%22%3A%20%22round%22%2C%20%22lineJoin%22%3A%20%22round%22%2C%20%22opacity%22%3A%201.0%2C%20%22radius%22%3A%2024.0%2C%20%22stroke%22%3A%20true%2C%20%22weight%22%3A%203%7D%0A%20%20%20%20%20%20%20%20%20%20%20%20%29.addTo%28map_f811b7416dd341d4ab6e99ffed03eaf2%29%3B%0A%20%20%20%20%20%20%20%20%0A%20%20%20%20%0A%20%20%20%20%20%20%20%20var%20popup_017607ae37704daca6e59ae76100d1fb%20%3D%20L.popup%28%7B%22maxWidth%22%3A%20%22100%25%22%7D%29%3B%0A%0A%20%20%20%20%20%20%20%20%0A%20%20%20%20%20%20%20%20%20%20%20%20var%20html_03e56f2f066f43709ae5c518c60f1d25%20%3D%20%24%28%60%3Cdiv%20id%3D%22html_03e56f2f066f43709ae5c518c60f1d25%22%20style%3D%22width%3A%20100.0%25%3B%20height%3A%20100.0%25%3B%22%3E%EC%9A%A9%EC%82%B0%EA%B5%AC%20140%20%EB%AA%85%3C/div%3E%60%29%5B0%5D%3B%0A%20%20%20%20%20%20%20%20%20%20%20%20popup_017607ae37704daca6e59ae76100d1fb.setContent%28html_03e56f2f066f43709ae5c518c60f1d25%29%3B%0A%20%20%20%20%20%20%20%20%0A%0A%20%20%20%20%20%20%20%20circle_marker_2ad992a809254177a412813a65295391.bindPopup%28popup_017607ae37704daca6e59ae76100d1fb%29%0A%20%20%20%20%20%20%20%20%3B%0A%0A%20%20%20%20%20%20%20%20%0A%20%20%20%20%0A%20%20%20%20%0A%20%20%20%20%20%20%20%20%20%20%20%20var%20circle_marker_b8473fefd0db45f1a20400604d661520%20%3D%20L.circleMarker%28%0A%20%20%20%20%20%20%20%20%20%20%20%20%20%20%20%20%5B37.5579452%2C%20126.9941904%5D%2C%0A%20%20%20%20%20%20%20%20%20%20%20%20%20%20%20%20%7B%22bubblingMouseEvents%22%3A%20true%2C%20%22color%22%3A%20%22%233186cc%22%2C%20%22dashArray%22%3A%20null%2C%20%22dashOffset%22%3A%20null%2C%20%22fill%22%3A%20true%2C%20%22fillColor%22%3A%20%22%233186cc%22%2C%20%22fillOpacity%22%3A%200.2%2C%20%22fillRule%22%3A%20%22evenodd%22%2C%20%22lineCap%22%3A%20%22round%22%2C%20%22lineJoin%22%3A%20%22round%22%2C%20%22opacity%22%3A%201.0%2C%20%22radius%22%3A%2016.4%2C%20%22stroke%22%3A%20true%2C%20%22weight%22%3A%203%7D%0A%20%20%20%20%20%20%20%20%20%20%20%20%29.addTo%28map_f811b7416dd341d4ab6e99ffed03eaf2%29%3B%0A%20%20%20%20%20%20%20%20%0A%20%20%20%20%0A%20%20%20%20%20%20%20%20var%20popup_36f8e9c6358447a68ea0e45c9c8f6fd8%20%3D%20L.popup%28%7B%22maxWidth%22%3A%20%22100%25%22%7D%29%3B%0A%0A%20%20%20%20%20%20%20%20%0A%20%20%20%20%20%20%20%20%20%20%20%20var%20html_89812b8671cd4c8a8c637d1bbbf18f31%20%3D%20%24%28%60%3Cdiv%20id%3D%22html_89812b8671cd4c8a8c637d1bbbf18f31%22%20style%3D%22width%3A%20100.0%25%3B%20height%3A%20100.0%25%3B%22%3E%EC%A4%91%EA%B5%AC%2064%20%EB%AA%85%3C/div%3E%60%29%5B0%5D%3B%0A%20%20%20%20%20%20%20%20%20%20%20%20popup_36f8e9c6358447a68ea0e45c9c8f6fd8.setContent%28html_89812b8671cd4c8a8c637d1bbbf18f31%29%3B%0A%20%20%20%20%20%20%20%20%0A%0A%20%20%20%20%20%20%20%20circle_marker_b8473fefd0db45f1a20400604d661520.bindPopup%28popup_36f8e9c6358447a68ea0e45c9c8f6fd8%29%0A%20%20%20%20%20%20%20%20%3B%0A%0A%20%20%20%20%20%20%20%20%0A%20%20%20%20%0A%20%20%20%20%0A%20%20%20%20%20%20%20%20%20%20%20%20var%20circle_marker_1f9201621f0c44aeae8ee671863eabf9%20%3D%20L.circleMarker%28%0A%20%20%20%20%20%20%20%20%20%20%20%20%20%20%20%20%5B37.4653993%2C%20126.9438071%5D%2C%0A%20%20%20%20%20%20%20%20%20%20%20%20%20%20%20%20%7B%22bubblingMouseEvents%22%3A%20true%2C%20%22color%22%3A%20%22%233186cc%22%2C%20%22dashArray%22%3A%20null%2C%20%22dashOffset%22%3A%20null%2C%20%22fill%22%3A%20true%2C%20%22fillColor%22%3A%20%22%233186cc%22%2C%20%22fillOpacity%22%3A%200.2%2C%20%22fillRule%22%3A%20%22evenodd%22%2C%20%22lineCap%22%3A%20%22round%22%2C%20%22lineJoin%22%3A%20%22round%22%2C%20%22opacity%22%3A%201.0%2C%20%22radius%22%3A%2055.2%2C%20%22stroke%22%3A%20true%2C%20%22weight%22%3A%203%7D%0A%20%20%20%20%20%20%20%20%20%20%20%20%29.addTo%28map_f811b7416dd341d4ab6e99ffed03eaf2%29%3B%0A%20%20%20%20%20%20%20%20%0A%20%20%20%20%0A%20%20%20%20%20%20%20%20var%20popup_36ebb9f3ed8f4b88b7caa81eb4765a7e%20%3D%20L.popup%28%7B%22maxWidth%22%3A%20%22100%25%22%7D%29%3B%0A%0A%20%20%20%20%20%20%20%20%0A%20%20%20%20%20%20%20%20%20%20%20%20var%20html_bf5d6917094f46ac9ea7d2326dbce78a%20%3D%20%24%28%60%3Cdiv%20id%3D%22html_bf5d6917094f46ac9ea7d2326dbce78a%22%20style%3D%22width%3A%20100.0%25%3B%20height%3A%20100.0%25%3B%22%3E%EA%B4%80%EC%95%85%EA%B5%AC%20452%20%EB%AA%85%3C/div%3E%60%29%5B0%5D%3B%0A%20%20%20%20%20%20%20%20%20%20%20%20popup_36ebb9f3ed8f4b88b7caa81eb4765a7e.setContent%28html_bf5d6917094f46ac9ea7d2326dbce78a%29%3B%0A%20%20%20%20%20%20%20%20%0A%0A%20%20%20%20%20%20%20%20circle_marker_1f9201621f0c44aeae8ee671863eabf9.bindPopup%28popup_36ebb9f3ed8f4b88b7caa81eb4765a7e%29%0A%20%20%20%20%20%20%20%20%3B%0A%0A%20%20%20%20%20%20%20%20%0A%20%20%20%20%0A%20%20%20%20%0A%20%20%20%20%20%20%20%20%20%20%20%20var%20circle_marker_9496687b1aa74897ac50f8768242bdd2%20%3D%20L.circleMarker%28%0A%20%20%20%20%20%20%20%20%20%20%20%20%20%20%20%20%5B37.5990998%2C%20126.9861493%5D%2C%0A%20%20%20%20%20%20%20%20%20%20%20%20%20%20%20%20%7B%22bubblingMouseEvents%22%3A%20true%2C%20%22color%22%3A%20%22%233186cc%22%2C%20%22dashArray%22%3A%20null%2C%20%22dashOffset%22%3A%20null%2C%20%22fill%22%3A%20true%2C%20%22fillColor%22%3A%20%22%233186cc%22%2C%20%22fillOpacity%22%3A%200.2%2C%20%22fillRule%22%3A%20%22evenodd%22%2C%20%22lineCap%22%3A%20%22round%22%2C%20%22lineJoin%22%3A%20%22round%22%2C%20%22opacity%22%3A%201.0%2C%20%22radius%22%3A%2019.4%2C%20%22stroke%22%3A%20true%2C%20%22weight%22%3A%203%7D%0A%20%20%20%20%20%20%20%20%20%20%20%20%29.addTo%28map_f811b7416dd341d4ab6e99ffed03eaf2%29%3B%0A%20%20%20%20%20%20%20%20%0A%20%20%20%20%0A%20%20%20%20%20%20%20%20var%20popup_57cf0830be434c57ab74257344aa2cdd%20%3D%20L.popup%28%7B%22maxWidth%22%3A%20%22100%25%22%7D%29%3B%0A%0A%20%20%20%20%20%20%20%20%0A%20%20%20%20%20%20%20%20%20%20%20%20var%20html_d3f6b0a9a2e44d48bce1e192a2ce47f7%20%3D%20%24%28%60%3Cdiv%20id%3D%22html_d3f6b0a9a2e44d48bce1e192a2ce47f7%22%20style%3D%22width%3A%20100.0%25%3B%20height%3A%20100.0%25%3B%22%3E%EC%A2%85%EB%A1%9C%EA%B5%AC%2094%20%EB%AA%85%3C/div%3E%60%29%5B0%5D%3B%0A%20%20%20%20%20%20%20%20%20%20%20%20popup_57cf0830be434c57ab74257344aa2cdd.setContent%28html_d3f6b0a9a2e44d48bce1e192a2ce47f7%29%3B%0A%20%20%20%20%20%20%20%20%0A%0A%20%20%20%20%20%20%20%20circle_marker_9496687b1aa74897ac50f8768242bdd2.bindPopup%28popup_57cf0830be434c57ab74257344aa2cdd%29%0A%20%20%20%20%20%20%20%20%3B%0A%0A%20%20%20%20%20%20%20%20%0A%20%20%20%20%0A%3C/script%3E onload=\"this.contentDocument.open();this.contentDocument.write(    decodeURIComponent(this.getAttribute('data-html')));this.contentDocument.close();\" allowfullscreen webkitallowfullscreen mozallowfullscreen></iframe></div></div>"
      ]
     },
     "metadata": {},
     "execution_count": 31
    }
   ],
   "metadata": {
    "id": "gzf2yKxHwUB0",
    "outputId": "169cbfe8-7878-41d4-e7cf-018d00151cfb",
    "scrolled": false
   }
  },
  {
   "cell_type": "markdown",
   "source": [
    "#### 퀴즈 2. 6월에 확진자가 가장 많이 나온 지역을 구하세요."
   ],
   "metadata": {
    "id": "vEHBzAfGwUB0"
   }
  },
  {
   "cell_type": "code",
   "execution_count": 32,
   "source": [
    "# corona_out_region[corona_del_col['month'] == '6']['지역'].value_counts()"
   ],
   "outputs": [],
   "metadata": {
    "id": "gqM0layfwUB0"
   }
  },
  {
   "cell_type": "code",
   "execution_count": 33,
   "source": [
    "# 6월에 확진자가 가장 많이 나온 지역을 구하여 quiz_2 변수에 저장합니다.\n",
    "# 문자형으로 저장합니다.\n",
    "quiz_2 = None"
   ],
   "outputs": [],
   "metadata": {
    "id": "_uuqYSbbwUB1"
   }
  },
  {
   "cell_type": "markdown",
   "source": [
    " ---"
   ],
   "metadata": {
    "id": "Ox1MnSSlwUB1"
   }
  },
  {
   "cell_type": "markdown",
   "source": [
    "## 제출하기"
   ],
   "metadata": {}
  },
  {
   "cell_type": "markdown",
   "source": [
    "퀴즈 1번과 2번을 수행 후, 아래 코드를 실행하면 `quiz_1 ~ 2` 변수가 저장된 csv 파일을 제작하여 채점을 받을 수 있습니다.\n",
    "\n",
    "**아래 코드를 수정하면 채점이 불가능 합니다.**"
   ],
   "metadata": {
    "id": "Ap5bme4lwUB6"
   }
  },
  {
   "cell_type": "code",
   "execution_count": 34,
   "source": [
    "d = {'quiz_1': [quiz_1], 'quiz_2': [quiz_2]}\n",
    "df_quiz = pd.DataFrame(data=d)\n",
    "df_quiz.to_csv(\"submission.csv\",index=False)"
   ],
   "outputs": [],
   "metadata": {
    "id": "vmZlhpYswUB6"
   }
  },
  {
   "cell_type": "code",
   "execution_count": 35,
   "source": [
    "answer=pd.read_csv('submission.csv')\n",
    "answer.loc[0]['quiz_2']"
   ],
   "outputs": [
    {
     "output_type": "execute_result",
     "data": {
      "text/plain": [
       "nan"
      ]
     },
     "metadata": {},
     "execution_count": 35
    }
   ],
   "metadata": {
    "id": "HcXrU3o_wUB6",
    "outputId": "09b24a88-2f17-4c8c-bdc7-46eb08ffcc8e"
   }
  },
  {
   "cell_type": "code",
   "execution_count": 36,
   "source": [
    "# 채점을 수행하기 위하여 로그인\n",
    "import sys\n",
    "sys.path.append('vendor')\n",
    "from elice_challenge import check_score, upload"
   ],
   "outputs": [],
   "metadata": {
    "id": "0v7iDWm-wUB6"
   }
  },
  {
   "cell_type": "code",
   "execution_count": null,
   "source": [
    "# 제출 파일 업로드\n",
    "await upload()"
   ],
   "outputs": [],
   "metadata": {
    "id": "SivU2PCvwUB7"
   }
  },
  {
   "cell_type": "code",
   "execution_count": null,
   "source": [
    "# 채점 수행\n",
    "await check_score()"
   ],
   "outputs": [],
   "metadata": {
    "id": "HrkNJwvVwUB7"
   }
  },
  {
   "cell_type": "markdown",
   "source": [
    "---"
   ],
   "metadata": {
    "id": "ftNAFdz7wUB7"
   }
  },
  {
   "cell_type": "markdown",
   "source": [
    "<span style=\"color:rgb(120, 120, 120)\">본 학습 자료를 포함한 사이트 내 모든 자료의 저작권은 엘리스에 있으며 외부로의 무단 복제, 배포 및 전송을 불허합니다.\n",
    "\n",
    "Copyright @ elice all rights reserved</span>"
   ],
   "metadata": {
    "id": "vqQPeXc_wUB7"
   }
  },
  {
   "cell_type": "code",
   "execution_count": null,
   "source": [],
   "outputs": [],
   "metadata": {}
  },
  {
   "cell_type": "code",
   "execution_count": null,
   "source": [],
   "outputs": [],
   "metadata": {}
  },
  {
   "cell_type": "code",
   "execution_count": null,
   "source": [],
   "outputs": [],
   "metadata": {}
  },
  {
   "cell_type": "code",
   "execution_count": null,
   "source": [],
   "outputs": [],
   "metadata": {}
  },
  {
   "cell_type": "code",
   "execution_count": null,
   "source": [],
   "outputs": [],
   "metadata": {}
  },
  {
   "cell_type": "code",
   "execution_count": null,
   "source": [],
   "outputs": [],
   "metadata": {}
  },
  {
   "cell_type": "code",
   "execution_count": null,
   "source": [],
   "outputs": [],
   "metadata": {}
  },
  {
   "cell_type": "code",
   "execution_count": null,
   "source": [],
   "outputs": [],
   "metadata": {}
  },
  {
   "cell_type": "code",
   "execution_count": null,
   "source": [],
   "outputs": [],
   "metadata": {}
  },
  {
   "cell_type": "code",
   "execution_count": null,
   "source": [],
   "outputs": [],
   "metadata": {}
  },
  {
   "cell_type": "code",
   "execution_count": null,
   "source": [],
   "outputs": [],
   "metadata": {}
  },
  {
   "cell_type": "code",
   "execution_count": null,
   "source": [],
   "outputs": [],
   "metadata": {}
  },
  {
   "cell_type": "code",
   "execution_count": null,
   "source": [],
   "outputs": [],
   "metadata": {}
  },
  {
   "cell_type": "code",
   "execution_count": null,
   "source": [],
   "outputs": [],
   "metadata": {}
  },
  {
   "cell_type": "code",
   "execution_count": null,
   "source": [],
   "outputs": [],
   "metadata": {}
  }
 ],
 "metadata": {
  "colab": {
   "name": "[p1] 코로나 데이터 분석 프로젝트-정답.ipynb",
   "provenance": []
  },
  "kernelspec": {
   "name": "python3",
   "display_name": "Python 3.7.6 64-bit ('py3_7_6': conda)"
  },
  "language_info": {
   "codemirror_mode": {
    "name": "ipython",
    "version": 3
   },
   "file_extension": ".py",
   "mimetype": "text/x-python",
   "name": "python",
   "nbconvert_exporter": "python",
   "pygments_lexer": "ipython3",
   "version": "3.7.6"
  },
  "toc": {
   "base_numbering": 1,
   "nav_menu": {},
   "number_sections": false,
   "sideBar": true,
   "skip_h1_title": false,
   "title_cell": "Table of Contents",
   "title_sidebar": "Contents",
   "toc_cell": false,
   "toc_position": {
    "height": "calc(100% - 180px)",
    "left": "10px",
    "top": "150px",
    "width": "307.2px"
   },
   "toc_section_display": true,
   "toc_window_display": true
  },
  "interpreter": {
   "hash": "0c27090090f508e4883836458afaa8253b2ac5af7b12b60af14ac7c2616a5b0c"
  }
 },
 "nbformat": 4,
 "nbformat_minor": 1
}