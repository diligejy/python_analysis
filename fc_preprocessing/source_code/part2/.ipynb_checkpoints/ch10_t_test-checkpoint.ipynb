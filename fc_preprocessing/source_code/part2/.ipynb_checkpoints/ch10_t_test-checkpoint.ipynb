{
 "cells": [
  {
   "cell_type": "code",
   "execution_count": 1,
   "metadata": {},
   "outputs": [],
   "source": [
    "import os\n",
    "\n",
    "with open(r'C:/Users/Jinyoung/Pictures/python_analysis/fc_preprocessing/rawdata/part2/성인여성_키_데이터.txt', 'r') as f:\n",
    "    data = f.read().split('\\n')\n",
    "    data = list(map(float, data))"
   ]
  },
  {
   "cell_type": "code",
   "execution_count": 2,
   "metadata": {},
   "outputs": [
    {
     "data": {
      "text/plain": [
       "[150.27, 142.94, 160.99]"
      ]
     },
     "execution_count": 2,
     "metadata": {},
     "output_type": "execute_result"
    }
   ],
   "source": [
    "data[:3]"
   ]
  },
  {
   "cell_type": "code",
   "execution_count": 3,
   "metadata": {},
   "outputs": [
    {
     "data": {
      "text/plain": [
       "list"
      ]
     },
     "execution_count": 3,
     "metadata": {},
     "output_type": "execute_result"
    }
   ],
   "source": [
    "type(data)"
   ]
  },
  {
   "cell_type": "code",
   "execution_count": 4,
   "metadata": {},
   "outputs": [
    {
     "data": {
      "text/plain": [
       "[150.27,\n",
       " 142.94,\n",
       " 160.99,\n",
       " 157.48,\n",
       " 153.46,\n",
       " 137.5,\n",
       " 154.94,\n",
       " 159.51,\n",
       " 171.87,\n",
       " 143.69,\n",
       " 153.65,\n",
       " 160.25,\n",
       " 153.07,\n",
       " 154.42,\n",
       " 141.21,\n",
       " 154.17,\n",
       " 162.56,\n",
       " 164.44,\n",
       " 172.36,\n",
       " 141.51,\n",
       " 169.4,\n",
       " 167.97,\n",
       " 170.26,\n",
       " 157.8,\n",
       " 167.61]"
      ]
     },
     "execution_count": 4,
     "metadata": {},
     "output_type": "execute_result"
    }
   ],
   "source": [
    "data"
   ]
  },
  {
   "cell_type": "markdown",
   "metadata": {},
   "source": [
    "## 단일 표본 t검정"
   ]
  },
  {
   "cell_type": "code",
   "execution_count": 5,
   "metadata": {},
   "outputs": [
    {
     "data": {
      "text/plain": [
       "KstestResult(statistic=1.0, pvalue=0.0)"
      ]
     },
     "execution_count": 5,
     "metadata": {},
     "output_type": "execute_result"
    }
   ],
   "source": [
    "# 정규성 검정\n",
    "from scipy.stats import *\n",
    "kstest(data, 'norm')"
   ]
  },
  {
   "cell_type": "code",
   "execution_count": 6,
   "metadata": {},
   "outputs": [
    {
     "name": "stdout",
     "output_type": "stream",
     "text": [
      "Ttest_1sampResult(statistic=-2.979804412662668, pvalue=0.006510445335847954)\n"
     ]
    }
   ],
   "source": [
    "# 단일 표본 t 검정 수행\n",
    "print(ttest_1samp(data, 163))\n",
    "\n",
    "# p-value가 0.05미만이므로 data의 평균 == 163 기각\n",
    "# 통계량이 음수이므로 data평균이 163보다 낮음을 알 수 있음"
   ]
  },
  {
   "cell_type": "code",
   "execution_count": null,
   "metadata": {},
   "outputs": [],
   "source": [
    " "
   ]
  }
 ],
 "metadata": {
  "kernelspec": {
   "display_name": "Python 3",
   "language": "python",
   "name": "python3"
  },
  "language_info": {
   "codemirror_mode": {
    "name": "ipython",
    "version": 3
   },
   "file_extension": ".py",
   "mimetype": "text/x-python",
   "name": "python",
   "nbconvert_exporter": "python",
   "pygments_lexer": "ipython3",
   "version": "3.8.5"
  }
 },
 "nbformat": 4,
 "nbformat_minor": 4
}
