{
 "cells": [
  {
   "cell_type": "markdown",
   "metadata": {},
   "source": [
    "## Read()를 이용한 CRUD"
   ]
  },
  {
   "cell_type": "code",
   "execution_count": 3,
   "metadata": {},
   "outputs": [
    {
     "data": {
      "text/plain": [
       "'Col1,Col2,Col3,Col4,Col5\\n0.18888809146420238,0.16105292892696288,0.1504127702525998,0.8247702147554103,0.11183287230275862\\n0.8277194258724868,0.16136254345104883,0.400331159000502,0.3981961133865768,0.7706960076672201\\n0.844660181886513,0.10099782620549302,0.995176205519609,0.6155252896856449,0.8783894199796791\\n0.9138952685419564,0.036168779255092876,0.2378403402407797,0.18762834416630736,0.5343081969025114\\n0.32244342400394976,0.9550099806308116,0.3407646382285975,0.6493109172840262,0.35453974816238576\\n0.3306251110157733,0.6720388851049659,0.10938064887311616,0.07568233209352304,0.9169313724492655\\n0.24768623373487852,0.6864049104199853,0.7279423564551321,0.07051655013435276,0.5932367728578449\\n0.5457259900662517,0.8259997208239563,0.222939569582428,0.5272524587280554,0.9494463062496303\\n0.45737316471560596,0.6199415331357327,0.9979776426734485,0.3682306861093537,0.41162690950241676\\n0.8637387893511083,0.685755037957085,0.7069687998728162,0.7456995967962297,0.2888004054518888\\n0.673202517826'"
      ]
     },
     "execution_count": 3,
     "metadata": {},
     "output_type": "execute_result"
    }
   ],
   "source": [
    "f = open(r'C:\\Users\\Jinyoung\\Pictures\\python_analysis\\fc_preprocessing\\rawdata\\part1\\data_reading.csv', 'r')\n",
    "data = f.read()\n",
    "f.close()\n",
    "data[:1000]"
   ]
  },
  {
   "cell_type": "code",
   "execution_count": 4,
   "metadata": {},
   "outputs": [],
   "source": [
    "# list comprehension을 이용한 데이터 정제\n",
    "# 숫자로 바꿀 수 있는 것은 바꾸기 위한 함수 (첫 줄은 문자이므로)\n",
    "def make_float(x):\n",
    "    try:\n",
    "        return float(x)\n",
    "    except:\n",
    "        return x\n",
    "data = [[make_float(value) for value in line.split(',')] for line in data.split('\\n')]"
   ]
  },
  {
   "cell_type": "markdown",
   "metadata": {},
   "source": [
    "## Readline을 이용한 데이터 불러오기"
   ]
  },
  {
   "cell_type": "code",
   "execution_count": 6,
   "metadata": {},
   "outputs": [],
   "source": [
    "f = open(r'C:\\Users\\Jinyoung\\Pictures\\python_analysis\\fc_preprocessing\\rawdata\\part1\\data_reading.csv', 'r')\n",
    "header = f.readline() # 첫 번째 row를 읽어옴\n",
    "data = []\n",
    "\n",
    "line = f.readline() # 두 번째 row를 읽어옴\n",
    "while line:\n",
    "    data.append(list(map(float, line.split(','))))\n",
    "    line = f.readline()\n",
    "f.close()"
   ]
  },
  {
   "cell_type": "markdown",
   "metadata": {},
   "source": [
    "## write를 이용한 데이터 쓰기"
   ]
  },
  {
   "cell_type": "code",
   "execution_count": 7,
   "metadata": {},
   "outputs": [],
   "source": [
    "with open(r'C:\\Users\\Jinyoung\\Pictures\\python_analysis\\fc_preprocessing\\output\\part1\\written_data.csv', 'w') as f:\n",
    "    f.write(header)\n",
    "    for line in data:\n",
    "        f.write(','.join(list(map(str, line))))\n",
    "        f.write('\\n')"
   ]
  },
  {
   "cell_type": "code",
   "execution_count": null,
   "metadata": {},
   "outputs": [],
   "source": []
  }
 ],
 "metadata": {
  "kernelspec": {
   "display_name": "Python 3",
   "language": "python",
   "name": "python3"
  },
  "language_info": {
   "codemirror_mode": {
    "name": "ipython",
    "version": 3
   },
   "file_extension": ".py",
   "mimetype": "text/x-python",
   "name": "python",
   "nbconvert_exporter": "python",
   "pygments_lexer": "ipython3",
   "version": "3.8.5"
  }
 },
 "nbformat": 4,
 "nbformat_minor": 4
}
