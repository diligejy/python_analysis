{
 "cells": [
  {
   "cell_type": "code",
   "execution_count": 1,
   "metadata": {},
   "outputs": [],
   "source": [
    "import os\n",
    "import pandas as pd"
   ]
  },
  {
   "cell_type": "code",
   "execution_count": 2,
   "metadata": {},
   "outputs": [],
   "source": [
    "df = pd.read_excel(r'C:/Users/Jinyoung/Pictures/python_analysis/fc_preprocessing/rawdata/part1/data_reading.xlsx')"
   ]
  },
  {
   "cell_type": "code",
   "execution_count": 3,
   "metadata": {},
   "outputs": [
    {
     "data": {
      "text/html": [
       "<div>\n",
       "<style scoped>\n",
       "    .dataframe tbody tr th:only-of-type {\n",
       "        vertical-align: middle;\n",
       "    }\n",
       "\n",
       "    .dataframe tbody tr th {\n",
       "        vertical-align: top;\n",
       "    }\n",
       "\n",
       "    .dataframe thead th {\n",
       "        text-align: right;\n",
       "    }\n",
       "</style>\n",
       "<table border=\"1\" class=\"dataframe\">\n",
       "  <thead>\n",
       "    <tr style=\"text-align: right;\">\n",
       "      <th></th>\n",
       "      <th>첫번째 시트</th>\n",
       "      <th>값없음</th>\n",
       "    </tr>\n",
       "  </thead>\n",
       "  <tbody>\n",
       "    <tr>\n",
       "      <th>0</th>\n",
       "      <td>첫번째 시트</td>\n",
       "      <td>값없음</td>\n",
       "    </tr>\n",
       "  </tbody>\n",
       "</table>\n",
       "</div>"
      ],
      "text/plain": [
       "   첫번째 시트  값없음\n",
       "0  첫번째 시트  값없음"
      ]
     },
     "execution_count": 3,
     "metadata": {},
     "output_type": "execute_result"
    }
   ],
   "source": [
    "df"
   ]
  },
  {
   "cell_type": "code",
   "execution_count": 4,
   "metadata": {},
   "outputs": [],
   "source": [
    "df = pd.read_excel(r'C:/Users/Jinyoung/Pictures/python_analysis/fc_preprocessing/rawdata/part1/data_reading.xlsx', sheet_name='target_sheet')"
   ]
  },
  {
   "cell_type": "code",
   "execution_count": 5,
   "metadata": {},
   "outputs": [
    {
     "data": {
      "text/html": [
       "<div>\n",
       "<style scoped>\n",
       "    .dataframe tbody tr th:only-of-type {\n",
       "        vertical-align: middle;\n",
       "    }\n",
       "\n",
       "    .dataframe tbody tr th {\n",
       "        vertical-align: top;\n",
       "    }\n",
       "\n",
       "    .dataframe thead th {\n",
       "        text-align: right;\n",
       "    }\n",
       "</style>\n",
       "<table border=\"1\" class=\"dataframe\">\n",
       "  <thead>\n",
       "    <tr style=\"text-align: right;\">\n",
       "      <th></th>\n",
       "      <th>Col1</th>\n",
       "      <th>Col2</th>\n",
       "      <th>Col3</th>\n",
       "      <th>Col4</th>\n",
       "      <th>Col5</th>\n",
       "    </tr>\n",
       "  </thead>\n",
       "  <tbody>\n",
       "    <tr>\n",
       "      <th>0</th>\n",
       "      <td>0.188888</td>\n",
       "      <td>0.161053</td>\n",
       "      <td>0.150413</td>\n",
       "      <td>0.824770</td>\n",
       "      <td>0.111833</td>\n",
       "    </tr>\n",
       "    <tr>\n",
       "      <th>1</th>\n",
       "      <td>0.827719</td>\n",
       "      <td>0.161363</td>\n",
       "      <td>0.400331</td>\n",
       "      <td>0.398196</td>\n",
       "      <td>0.770696</td>\n",
       "    </tr>\n",
       "    <tr>\n",
       "      <th>2</th>\n",
       "      <td>0.844660</td>\n",
       "      <td>0.100998</td>\n",
       "      <td>0.995176</td>\n",
       "      <td>0.615525</td>\n",
       "      <td>0.878389</td>\n",
       "    </tr>\n",
       "    <tr>\n",
       "      <th>3</th>\n",
       "      <td>0.913895</td>\n",
       "      <td>0.036169</td>\n",
       "      <td>0.237840</td>\n",
       "      <td>0.187628</td>\n",
       "      <td>0.534308</td>\n",
       "    </tr>\n",
       "    <tr>\n",
       "      <th>4</th>\n",
       "      <td>0.322443</td>\n",
       "      <td>0.955010</td>\n",
       "      <td>0.340765</td>\n",
       "      <td>0.649311</td>\n",
       "      <td>0.354540</td>\n",
       "    </tr>\n",
       "    <tr>\n",
       "      <th>...</th>\n",
       "      <td>...</td>\n",
       "      <td>...</td>\n",
       "      <td>...</td>\n",
       "      <td>...</td>\n",
       "      <td>...</td>\n",
       "    </tr>\n",
       "    <tr>\n",
       "      <th>995</th>\n",
       "      <td>0.868028</td>\n",
       "      <td>0.552366</td>\n",
       "      <td>0.211441</td>\n",
       "      <td>0.440146</td>\n",
       "      <td>0.240862</td>\n",
       "    </tr>\n",
       "    <tr>\n",
       "      <th>996</th>\n",
       "      <td>0.004869</td>\n",
       "      <td>0.815758</td>\n",
       "      <td>0.881353</td>\n",
       "      <td>0.904683</td>\n",
       "      <td>0.704121</td>\n",
       "    </tr>\n",
       "    <tr>\n",
       "      <th>997</th>\n",
       "      <td>0.990945</td>\n",
       "      <td>0.399277</td>\n",
       "      <td>0.909434</td>\n",
       "      <td>0.470590</td>\n",
       "      <td>0.379791</td>\n",
       "    </tr>\n",
       "    <tr>\n",
       "      <th>998</th>\n",
       "      <td>0.822819</td>\n",
       "      <td>0.964414</td>\n",
       "      <td>0.438145</td>\n",
       "      <td>0.896867</td>\n",
       "      <td>0.774079</td>\n",
       "    </tr>\n",
       "    <tr>\n",
       "      <th>999</th>\n",
       "      <td>0.177883</td>\n",
       "      <td>0.567393</td>\n",
       "      <td>0.811115</td>\n",
       "      <td>0.339432</td>\n",
       "      <td>0.121598</td>\n",
       "    </tr>\n",
       "  </tbody>\n",
       "</table>\n",
       "<p>1000 rows × 5 columns</p>\n",
       "</div>"
      ],
      "text/plain": [
       "         Col1      Col2      Col3      Col4      Col5\n",
       "0    0.188888  0.161053  0.150413  0.824770  0.111833\n",
       "1    0.827719  0.161363  0.400331  0.398196  0.770696\n",
       "2    0.844660  0.100998  0.995176  0.615525  0.878389\n",
       "3    0.913895  0.036169  0.237840  0.187628  0.534308\n",
       "4    0.322443  0.955010  0.340765  0.649311  0.354540\n",
       "..        ...       ...       ...       ...       ...\n",
       "995  0.868028  0.552366  0.211441  0.440146  0.240862\n",
       "996  0.004869  0.815758  0.881353  0.904683  0.704121\n",
       "997  0.990945  0.399277  0.909434  0.470590  0.379791\n",
       "998  0.822819  0.964414  0.438145  0.896867  0.774079\n",
       "999  0.177883  0.567393  0.811115  0.339432  0.121598\n",
       "\n",
       "[1000 rows x 5 columns]"
      ]
     },
     "execution_count": 5,
     "metadata": {},
     "output_type": "execute_result"
    }
   ],
   "source": [
    "df"
   ]
  },
  {
   "cell_type": "markdown",
   "metadata": {},
   "source": [
    "## 필요 부분 데이터만 불러오기"
   ]
  },
  {
   "cell_type": "code",
   "execution_count": 8,
   "metadata": {},
   "outputs": [],
   "source": [
    "df = pd.read_excel(r'C:/Users/Jinyoung/Pictures/python_analysis/fc_preprocessing/rawdata/part1/월별매출데이터.xlsx', sheet_name='6월', skiprows=range(6))"
   ]
  },
  {
   "cell_type": "code",
   "execution_count": 12,
   "metadata": {},
   "outputs": [],
   "source": [
    "df = df.iloc[:, 1:] # 첫번째 컬럼 불필요 하므로 제거"
   ]
  },
  {
   "cell_type": "code",
   "execution_count": 13,
   "metadata": {},
   "outputs": [
    {
     "data": {
      "text/html": [
       "<div>\n",
       "<style scoped>\n",
       "    .dataframe tbody tr th:only-of-type {\n",
       "        vertical-align: middle;\n",
       "    }\n",
       "\n",
       "    .dataframe tbody tr th {\n",
       "        vertical-align: top;\n",
       "    }\n",
       "\n",
       "    .dataframe thead th {\n",
       "        text-align: right;\n",
       "    }\n",
       "</style>\n",
       "<table border=\"1\" class=\"dataframe\">\n",
       "  <thead>\n",
       "    <tr style=\"text-align: right;\">\n",
       "      <th></th>\n",
       "      <th>일자</th>\n",
       "      <th>지점</th>\n",
       "      <th>품명</th>\n",
       "      <th>수량</th>\n",
       "      <th>주문인 ID</th>\n",
       "      <th>수령 주소</th>\n",
       "      <th>주문 상태</th>\n",
       "      <th>결제 수단</th>\n",
       "    </tr>\n",
       "  </thead>\n",
       "  <tbody>\n",
       "    <tr>\n",
       "      <th>0</th>\n",
       "      <td>2018.6.1</td>\n",
       "      <td>지점1</td>\n",
       "      <td>제품C</td>\n",
       "      <td>8</td>\n",
       "      <td>C-228</td>\n",
       "      <td>서울특별시 서대문구 홍제동</td>\n",
       "      <td>주문완료</td>\n",
       "      <td>인터넷뱅킹</td>\n",
       "    </tr>\n",
       "    <tr>\n",
       "      <th>1</th>\n",
       "      <td>2018.6.1</td>\n",
       "      <td>지점4</td>\n",
       "      <td>제품F</td>\n",
       "      <td>8</td>\n",
       "      <td>C-243</td>\n",
       "      <td>서울특별시 송파구 마천동</td>\n",
       "      <td>주문완료</td>\n",
       "      <td>인터넷뱅킹</td>\n",
       "    </tr>\n",
       "    <tr>\n",
       "      <th>2</th>\n",
       "      <td>2018.6.1</td>\n",
       "      <td>지점4</td>\n",
       "      <td>제품D</td>\n",
       "      <td>3</td>\n",
       "      <td>C-191</td>\n",
       "      <td>서울특별시 노원구 월계동</td>\n",
       "      <td>배송중</td>\n",
       "      <td>신용카드</td>\n",
       "    </tr>\n",
       "    <tr>\n",
       "      <th>3</th>\n",
       "      <td>2018.6.1</td>\n",
       "      <td>지점2</td>\n",
       "      <td>제품D</td>\n",
       "      <td>0</td>\n",
       "      <td>C-271</td>\n",
       "      <td>서울특별시 중구 회현동3가</td>\n",
       "      <td>배송완료</td>\n",
       "      <td>휴대폰결제</td>\n",
       "    </tr>\n",
       "    <tr>\n",
       "      <th>4</th>\n",
       "      <td>2018.6.1</td>\n",
       "      <td>지점4</td>\n",
       "      <td>제품D</td>\n",
       "      <td>8</td>\n",
       "      <td>C-244</td>\n",
       "      <td>서울특별시 중구 서소문동</td>\n",
       "      <td>배송완료</td>\n",
       "      <td>인터넷뱅킹</td>\n",
       "    </tr>\n",
       "  </tbody>\n",
       "</table>\n",
       "</div>"
      ],
      "text/plain": [
       "         일자   지점   품명  수량 주문인 ID           수령 주소 주문 상태  결제 수단\n",
       "0  2018.6.1  지점1  제품C   8  C-228  서울특별시 서대문구 홍제동  주문완료  인터넷뱅킹\n",
       "1  2018.6.1  지점4  제품F   8  C-243   서울특별시 송파구 마천동  주문완료  인터넷뱅킹\n",
       "2  2018.6.1  지점4  제품D   3  C-191   서울특별시 노원구 월계동   배송중   신용카드\n",
       "3  2018.6.1  지점2  제품D   0  C-271  서울특별시 중구 회현동3가  배송완료  휴대폰결제\n",
       "4  2018.6.1  지점4  제품D   8  C-244   서울특별시 중구 서소문동  배송완료  인터넷뱅킹"
      ]
     },
     "execution_count": 13,
     "metadata": {},
     "output_type": "execute_result"
    }
   ],
   "source": [
    "df.head()"
   ]
  },
  {
   "cell_type": "code",
   "execution_count": null,
   "metadata": {},
   "outputs": [],
   "source": []
  }
 ],
 "metadata": {
  "kernelspec": {
   "display_name": "Python 3",
   "language": "python",
   "name": "python3"
  },
  "language_info": {
   "codemirror_mode": {
    "name": "ipython",
    "version": 3
   },
   "file_extension": ".py",
   "mimetype": "text/x-python",
   "name": "python",
   "nbconvert_exporter": "python",
   "pygments_lexer": "ipython3",
   "version": "3.8.5"
  }
 },
 "nbformat": 4,
 "nbformat_minor": 4
}
