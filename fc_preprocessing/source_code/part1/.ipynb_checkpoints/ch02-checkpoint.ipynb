{
 "cells": [
  {
   "cell_type": "code",
   "execution_count": 1,
   "metadata": {},
   "outputs": [
    {
     "name": "stdout",
     "output_type": "stream",
     "text": [
      "[1 4 2 5 3] [3.14 4.   2.   3.  ] [1. 2. 3. 4.]\n"
     ]
    }
   ],
   "source": [
    "# 리스트에서 배열 만들기\n",
    "import numpy as np\n",
    "a = np.array([1, 4, 2, 5, 3])\n",
    "b = np.array([3.14, 4, 2, 3])\n",
    "c = np.array([1, 2, 3, 4], dtype = float)\n",
    "print(a, b, c)"
   ]
  },
  {
   "cell_type": "code",
   "execution_count": 2,
   "metadata": {},
   "outputs": [
    {
     "data": {
      "text/plain": [
       "array([1, 4, 2, 5, 3])"
      ]
     },
     "execution_count": 2,
     "metadata": {},
     "output_type": "execute_result"
    }
   ],
   "source": [
    "a"
   ]
  },
  {
   "cell_type": "code",
   "execution_count": 3,
   "metadata": {},
   "outputs": [
    {
     "name": "stdout",
     "output_type": "stream",
     "text": [
      "np.zeros(10, dtype=int):\n",
      " [0 0 0 0 0 0 0 0 0 0]\n",
      "\n",
      "np.ones((3, 5), dtype=float):\n",
      " [[1. 1. 1. 1. 1.]\n",
      " [1. 1. 1. 1. 1.]\n",
      " [1. 1. 1. 1. 1.]]\n",
      "\n",
      "np.full((3, 5), 3.14):\n",
      " [[3.14 3.14 3.14 3.14 3.14]\n",
      " [3.14 3.14 3.14 3.14 3.14]\n",
      " [3.14 3.14 3.14 3.14 3.14]]\n",
      "\n",
      "np.arange(0, 20, 2):\n",
      " [ 0  2  4  6  8 10 12 14 16 18]\n",
      "\n",
      "np.linspace((3, 3)):\n",
      " [0.   0.25 0.5  0.75 1.  ]\n",
      "\n",
      "np.random.random(0, 1, (3, 3)):\n",
      " [[0.17889431 0.49590546 0.5050805 ]\n",
      " [0.4303682  0.645025   0.97871053]\n",
      " [0.18921315 0.31096015 0.03985691]]\n",
      "\n",
      "np.random.normal(0, 1, (3, 3)):\n",
      " [[-0.19532182 -0.18992749  1.11856041]\n",
      " [-0.49732503 -0.87955719 -0.63454973]\n",
      " [ 0.0641542   0.51489515  0.76217487]]\n",
      "\n",
      "np.random.randint(0, 10, (3, 3)):\n",
      " [[2 2 4]\n",
      " [4 9 3]\n",
      " [6 1 7]]\n",
      "\n",
      "np.eye(3):\n",
      " [[1. 0. 0.]\n",
      " [0. 1. 0.]\n",
      " [0. 0. 1.]]\n"
     ]
    }
   ],
   "source": [
    "# 함수를 이용하여 배열 만들기\n",
    "a = np.zeros(10, dtype = int) # 0으로 채운 배열 생성\n",
    "b = np.ones((3, 5), dtype = float) # 1로 채운 배열 생성\n",
    "c = np.full((3, 5), 3.14) # 3.14로 채운 배열\n",
    "d = np.arange(0, 20, 2) # 0에서 시작해 2씩 더해 20까지 채우는 배열 생성\n",
    "e = np.linspace(0, 1, 5) # 0과 1사이에 일정한 간격을 가진 다섯 개의 값으로 채운다\n",
    "f = np.random.random((3, 3)) # 3 * 3 크기의 난수 배열 생성\n",
    "g = np.random.normal(0, 1, (3, 3)) # 평균 0, 표준편차 1의 정규분포를 따르는 3 * 3 배열 생성\n",
    "h = np.random.randint(0, 10, (3, 3)) # [0, 10) 구간의 임의의 정수를 채우는 배열\n",
    "i = np.eye(3) # 크기 3의 단위 행렬 만들기\n",
    "\n",
    "print('np.zeros(10, dtype=int):\\n', a)\n",
    "print('\\nnp.ones((3, 5), dtype=float):\\n', b)\n",
    "print('\\nnp.full((3, 5), 3.14):\\n', c)\n",
    "print('\\nnp.arange(0, 20, 2):\\n', d)\n",
    "print('\\nnp.linspace((3, 3)):\\n', e)\n",
    "print('\\nnp.random.random(0, 1, (3, 3)):\\n', f)\n",
    "print('\\nnp.random.normal(0, 1, (3, 3)):\\n', g)\n",
    "print('\\nnp.random.randint(0, 10, (3, 3)):\\n', h)\n",
    "print('\\nnp.eye(3):\\n', i)\n",
    "\n"
   ]
  },
  {
   "cell_type": "code",
   "execution_count": 4,
   "metadata": {},
   "outputs": [],
   "source": [
    "import pandas as pd"
   ]
  },
  {
   "cell_type": "code",
   "execution_count": 5,
   "metadata": {},
   "outputs": [],
   "source": [
    "# 모든 행과 열을 다 보여주기 - None 자리에 숫자가 들어가면 출력되는 행 또는 열 개수 설정\n",
    "pd.set_option('display.max_rows', None)\n",
    "pd.set_option('display.max_columns', None)"
   ]
  },
  {
   "cell_type": "code",
   "execution_count": 6,
   "metadata": {},
   "outputs": [],
   "source": [
    "df = pd.DataFrame(np.random.random(size=(500, 5)), columns = ['X1', 'X2', 'X3', 'X4', 'X5'])"
   ]
  },
  {
   "cell_type": "code",
   "execution_count": 8,
   "metadata": {},
   "outputs": [
    {
     "data": {
      "text/html": [
       "<div>\n",
       "<style scoped>\n",
       "    .dataframe tbody tr th:only-of-type {\n",
       "        vertical-align: middle;\n",
       "    }\n",
       "\n",
       "    .dataframe tbody tr th {\n",
       "        vertical-align: top;\n",
       "    }\n",
       "\n",
       "    .dataframe thead th {\n",
       "        text-align: right;\n",
       "    }\n",
       "</style>\n",
       "<table border=\"1\" class=\"dataframe\">\n",
       "  <thead>\n",
       "    <tr style=\"text-align: right;\">\n",
       "      <th></th>\n",
       "      <th>X1</th>\n",
       "      <th>X2</th>\n",
       "      <th>X3</th>\n",
       "      <th>X4</th>\n",
       "      <th>X5</th>\n",
       "    </tr>\n",
       "  </thead>\n",
       "  <tbody>\n",
       "    <tr>\n",
       "      <th>0</th>\n",
       "      <td>0.201889</td>\n",
       "      <td>0.969626</td>\n",
       "      <td>0.734690</td>\n",
       "      <td>0.125031</td>\n",
       "      <td>0.978222</td>\n",
       "    </tr>\n",
       "    <tr>\n",
       "      <th>1</th>\n",
       "      <td>0.985833</td>\n",
       "      <td>0.250889</td>\n",
       "      <td>0.283076</td>\n",
       "      <td>0.559003</td>\n",
       "      <td>0.848147</td>\n",
       "    </tr>\n",
       "    <tr>\n",
       "      <th>2</th>\n",
       "      <td>0.614772</td>\n",
       "      <td>0.855216</td>\n",
       "      <td>0.455405</td>\n",
       "      <td>0.615737</td>\n",
       "      <td>0.811105</td>\n",
       "    </tr>\n",
       "    <tr>\n",
       "      <th>3</th>\n",
       "      <td>0.865477</td>\n",
       "      <td>0.756193</td>\n",
       "      <td>0.040697</td>\n",
       "      <td>0.924613</td>\n",
       "      <td>0.867422</td>\n",
       "    </tr>\n",
       "    <tr>\n",
       "      <th>4</th>\n",
       "      <td>0.558767</td>\n",
       "      <td>0.348223</td>\n",
       "      <td>0.517683</td>\n",
       "      <td>0.835683</td>\n",
       "      <td>0.661412</td>\n",
       "    </tr>\n",
       "  </tbody>\n",
       "</table>\n",
       "</div>"
      ],
      "text/plain": [
       "         X1        X2        X3        X4        X5\n",
       "0  0.201889  0.969626  0.734690  0.125031  0.978222\n",
       "1  0.985833  0.250889  0.283076  0.559003  0.848147\n",
       "2  0.614772  0.855216  0.455405  0.615737  0.811105\n",
       "3  0.865477  0.756193  0.040697  0.924613  0.867422\n",
       "4  0.558767  0.348223  0.517683  0.835683  0.661412"
      ]
     },
     "execution_count": 8,
     "metadata": {},
     "output_type": "execute_result"
    }
   ],
   "source": [
    "df.head()"
   ]
  },
  {
   "cell_type": "code",
   "execution_count": 9,
   "metadata": {},
   "outputs": [
    {
     "data": {
      "text/plain": [
       "Index(['X1', 'X2', 'X3', 'X4', 'X5'], dtype='object')"
      ]
     },
     "execution_count": 9,
     "metadata": {},
     "output_type": "execute_result"
    }
   ],
   "source": [
    "df.columns"
   ]
  },
  {
   "cell_type": "code",
   "execution_count": 10,
   "metadata": {},
   "outputs": [
    {
     "data": {
      "text/plain": [
       "X1    float64\n",
       "X2    float64\n",
       "X3    float64\n",
       "X4    float64\n",
       "X5    float64\n",
       "dtype: object"
      ]
     },
     "execution_count": 10,
     "metadata": {},
     "output_type": "execute_result"
    }
   ],
   "source": [
    "df.dtypes"
   ]
  },
  {
   "cell_type": "code",
   "execution_count": null,
   "metadata": {},
   "outputs": [],
   "source": []
  }
 ],
 "metadata": {
  "kernelspec": {
   "display_name": "Python 3",
   "language": "python",
   "name": "python3"
  },
  "language_info": {
   "codemirror_mode": {
    "name": "ipython",
    "version": 3
   },
   "file_extension": ".py",
   "mimetype": "text/x-python",
   "name": "python",
   "nbconvert_exporter": "python",
   "pygments_lexer": "ipython3",
   "version": "3.8.5"
  }
 },
 "nbformat": 4,
 "nbformat_minor": 4
}
