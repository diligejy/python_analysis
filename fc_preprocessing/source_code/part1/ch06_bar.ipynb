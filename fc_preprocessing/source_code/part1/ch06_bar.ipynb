{
 "cells": [
  {
   "cell_type": "code",
   "execution_count": 5,
   "metadata": {},
   "outputs": [],
   "source": [
    "import os \n",
    "import pandas as pd\n",
    "import matplotlib.pyplot as plt\n",
    "import numpy as np\n",
    "%matplotlib inline\n",
    "plt.rcParams['font.family'] = 'Malgun Gothic'\n",
    "plt.rcParams['font.size'] = 20\n",
    "plt.rcParams['figure.figsize'] = (10, 8)"
   ]
  },
  {
   "cell_type": "code",
   "execution_count": 2,
   "metadata": {},
   "outputs": [],
   "source": [
    "df = pd.read_csv(r'C:/Users/Jinyoung/Pictures/python_analysis/fc_preprocessing/rawdata/part1/판매실적통합본.csv', engine='python')"
   ]
  },
  {
   "cell_type": "code",
   "execution_count": 3,
   "metadata": {},
   "outputs": [
    {
     "data": {
      "text/html": [
       "<div>\n",
       "<style scoped>\n",
       "    .dataframe tbody tr th:only-of-type {\n",
       "        vertical-align: middle;\n",
       "    }\n",
       "\n",
       "    .dataframe tbody tr th {\n",
       "        vertical-align: top;\n",
       "    }\n",
       "\n",
       "    .dataframe thead th {\n",
       "        text-align: right;\n",
       "    }\n",
       "</style>\n",
       "<table border=\"1\" class=\"dataframe\">\n",
       "  <thead>\n",
       "    <tr style=\"text-align: right;\">\n",
       "      <th></th>\n",
       "      <th>년도(year)</th>\n",
       "      <th>월(month)</th>\n",
       "      <th>분기(4)</th>\n",
       "      <th>일자(day)</th>\n",
       "      <th>주차별 편중도</th>\n",
       "      <th>출하일</th>\n",
       "      <th>대리점</th>\n",
       "      <th>지역 구분</th>\n",
       "      <th>내수/수출 구분</th>\n",
       "      <th>제품군</th>\n",
       "      <th>수량</th>\n",
       "    </tr>\n",
       "  </thead>\n",
       "  <tbody>\n",
       "    <tr>\n",
       "      <th>0</th>\n",
       "      <td>2016</td>\n",
       "      <td>1</td>\n",
       "      <td>1분기</td>\n",
       "      <td>4</td>\n",
       "      <td>상</td>\n",
       "      <td>2016-01-04</td>\n",
       "      <td>대리점 6</td>\n",
       "      <td>국내</td>\n",
       "      <td>내수</td>\n",
       "      <td>제품 1</td>\n",
       "      <td>12</td>\n",
       "    </tr>\n",
       "    <tr>\n",
       "      <th>1</th>\n",
       "      <td>2016</td>\n",
       "      <td>1</td>\n",
       "      <td>1분기</td>\n",
       "      <td>4</td>\n",
       "      <td>상</td>\n",
       "      <td>2016-01-04</td>\n",
       "      <td>대리점 6</td>\n",
       "      <td>국내</td>\n",
       "      <td>내수</td>\n",
       "      <td>제품 1</td>\n",
       "      <td>4</td>\n",
       "    </tr>\n",
       "    <tr>\n",
       "      <th>2</th>\n",
       "      <td>2016</td>\n",
       "      <td>1</td>\n",
       "      <td>1분기</td>\n",
       "      <td>4</td>\n",
       "      <td>상</td>\n",
       "      <td>2016-01-04</td>\n",
       "      <td>대리점 6</td>\n",
       "      <td>국내</td>\n",
       "      <td>내수</td>\n",
       "      <td>제품 1</td>\n",
       "      <td>1</td>\n",
       "    </tr>\n",
       "    <tr>\n",
       "      <th>3</th>\n",
       "      <td>2016</td>\n",
       "      <td>1</td>\n",
       "      <td>1분기</td>\n",
       "      <td>4</td>\n",
       "      <td>상</td>\n",
       "      <td>2016-01-04</td>\n",
       "      <td>대리점 6</td>\n",
       "      <td>국내</td>\n",
       "      <td>내수</td>\n",
       "      <td>제품 5</td>\n",
       "      <td>122</td>\n",
       "    </tr>\n",
       "    <tr>\n",
       "      <th>4</th>\n",
       "      <td>2016</td>\n",
       "      <td>1</td>\n",
       "      <td>1분기</td>\n",
       "      <td>4</td>\n",
       "      <td>상</td>\n",
       "      <td>2016-01-04</td>\n",
       "      <td>대리점 6</td>\n",
       "      <td>국내</td>\n",
       "      <td>내수</td>\n",
       "      <td>제품 1</td>\n",
       "      <td>20</td>\n",
       "    </tr>\n",
       "  </tbody>\n",
       "</table>\n",
       "</div>"
      ],
      "text/plain": [
       "   년도(year)  월(month) 분기(4)  일자(day) 주차별 편중도         출하일    대리점 지역 구분  \\\n",
       "0      2016         1   1분기        4       상  2016-01-04  대리점 6    국내   \n",
       "1      2016         1   1분기        4       상  2016-01-04  대리점 6    국내   \n",
       "2      2016         1   1분기        4       상  2016-01-04  대리점 6    국내   \n",
       "3      2016         1   1분기        4       상  2016-01-04  대리점 6    국내   \n",
       "4      2016         1   1분기        4       상  2016-01-04  대리점 6    국내   \n",
       "\n",
       "  내수/수출 구분   제품군   수량  \n",
       "0       내수  제품 1   12  \n",
       "1       내수  제품 1    4  \n",
       "2       내수  제품 1    1  \n",
       "3       내수  제품 5  122  \n",
       "4       내수  제품 1   20  "
      ]
     },
     "execution_count": 3,
     "metadata": {},
     "output_type": "execute_result"
    }
   ],
   "source": [
    "df.head()"
   ]
  },
  {
   "cell_type": "code",
   "execution_count": 4,
   "metadata": {},
   "outputs": [
    {
     "data": {
      "text/html": [
       "<div>\n",
       "<style scoped>\n",
       "    .dataframe tbody tr th:only-of-type {\n",
       "        vertical-align: middle;\n",
       "    }\n",
       "\n",
       "    .dataframe tbody tr th {\n",
       "        vertical-align: top;\n",
       "    }\n",
       "\n",
       "    .dataframe thead th {\n",
       "        text-align: right;\n",
       "    }\n",
       "</style>\n",
       "<table border=\"1\" class=\"dataframe\">\n",
       "  <thead>\n",
       "    <tr style=\"text-align: right;\">\n",
       "      <th></th>\n",
       "      <th>제품군</th>\n",
       "      <th>수량</th>\n",
       "    </tr>\n",
       "  </thead>\n",
       "  <tbody>\n",
       "    <tr>\n",
       "      <th>0</th>\n",
       "      <td>제품 1</td>\n",
       "      <td>2690307</td>\n",
       "    </tr>\n",
       "    <tr>\n",
       "      <th>1</th>\n",
       "      <td>제품 2</td>\n",
       "      <td>4223384</td>\n",
       "    </tr>\n",
       "    <tr>\n",
       "      <th>2</th>\n",
       "      <td>제품 3</td>\n",
       "      <td>531946</td>\n",
       "    </tr>\n",
       "    <tr>\n",
       "      <th>3</th>\n",
       "      <td>제품 4</td>\n",
       "      <td>277193</td>\n",
       "    </tr>\n",
       "    <tr>\n",
       "      <th>4</th>\n",
       "      <td>제품 5</td>\n",
       "      <td>126323</td>\n",
       "    </tr>\n",
       "    <tr>\n",
       "      <th>5</th>\n",
       "      <td>제품 6</td>\n",
       "      <td>262774</td>\n",
       "    </tr>\n",
       "  </tbody>\n",
       "</table>\n",
       "</div>"
      ],
      "text/plain": [
       "    제품군       수량\n",
       "0  제품 1  2690307\n",
       "1  제품 2  4223384\n",
       "2  제품 3   531946\n",
       "3  제품 4   277193\n",
       "4  제품 5   126323\n",
       "5  제품 6   262774"
      ]
     },
     "execution_count": 4,
     "metadata": {},
     "output_type": "execute_result"
    }
   ],
   "source": [
    "# 제품군별 수량합계 계산\n",
    "grouped_df1 = df.groupby(['제품군'], as_index=False)['수량'].sum()\n",
    "grouped_df1"
   ]
  },
  {
   "cell_type": "code",
   "execution_count": 6,
   "metadata": {},
   "outputs": [
    {
     "data": {
      "text/plain": [
       "<BarContainer object of 6 artists>"
      ]
     },
     "execution_count": 6,
     "metadata": {},
     "output_type": "execute_result"
    },
    {
     "data": {
      "image/png": "[encoded data removed]",
      "text/plain": [
       "<Figure size 720x576 with 1 Axes>"
      ]
     },
     "metadata": {
      "needs_background": "light"
     },
     "output_type": "display_data"
    }
   ],
   "source": [
    "plt.title('제품군별 출하량 합계')\n",
    "plt.xlabel('제품군')\n",
    "plt.ylabel('출하량 합계 (개수)')\n",
    "plt.bar(grouped_df1['제품군'], grouped_df1['수량'], width=0.5)"
   ]
  },
  {
   "cell_type": "markdown",
   "metadata": {},
   "source": [
    "### 다중 bar chart 그리기"
   ]
  },
  {
   "cell_type": "code",
   "execution_count": 8,
   "metadata": {},
   "outputs": [
    {
     "data": {
      "text/plain": [
       "<AxesSubplot:xlabel='제품군'>"
      ]
     },
     "execution_count": 8,
     "metadata": {},
     "output_type": "execute_result"
    },
    {
     "data": {
      "image/png": "[encoded data removed]",
      "text/plain": [
       "<Figure size 2880x1080 with 1 Axes>"
      ]
     },
     "metadata": {
      "needs_background": "light"
     },
     "output_type": "display_data"
    }
   ],
   "source": [
    "plt.rcParams['figure.figsize'] = (40, 15)\n",
    "grouped_df2 = df.groupby(['제품군', '년도(year)'], as_index=True)['수량'].sum()\n",
    "grouped_df2.unstack().plot(kind='bar')"
   ]
  },
  {
   "cell_type": "code",
   "execution_count": 10,
   "metadata": {},
   "outputs": [
    {
     "data": {
      "text/html": [
       "<div>\n",
       "<style scoped>\n",
       "    .dataframe tbody tr th:only-of-type {\n",
       "        vertical-align: middle;\n",
       "    }\n",
       "\n",
       "    .dataframe tbody tr th {\n",
       "        vertical-align: top;\n",
       "    }\n",
       "\n",
       "    .dataframe thead th {\n",
       "        text-align: right;\n",
       "    }\n",
       "</style>\n",
       "<table border=\"1\" class=\"dataframe\">\n",
       "  <thead>\n",
       "    <tr style=\"text-align: right;\">\n",
       "      <th>년도(year)</th>\n",
       "      <th>2016</th>\n",
       "      <th>2017</th>\n",
       "      <th>2018</th>\n",
       "      <th>2019</th>\n",
       "    </tr>\n",
       "    <tr>\n",
       "      <th>제품군</th>\n",
       "      <th></th>\n",
       "      <th></th>\n",
       "      <th></th>\n",
       "      <th></th>\n",
       "    </tr>\n",
       "  </thead>\n",
       "  <tbody>\n",
       "    <tr>\n",
       "      <th>제품 1</th>\n",
       "      <td>637130</td>\n",
       "      <td>763450</td>\n",
       "      <td>807846</td>\n",
       "      <td>481881</td>\n",
       "    </tr>\n",
       "    <tr>\n",
       "      <th>제품 2</th>\n",
       "      <td>1029868</td>\n",
       "      <td>1215031</td>\n",
       "      <td>1307538</td>\n",
       "      <td>670947</td>\n",
       "    </tr>\n",
       "    <tr>\n",
       "      <th>제품 3</th>\n",
       "      <td>134693</td>\n",
       "      <td>154208</td>\n",
       "      <td>157031</td>\n",
       "      <td>86014</td>\n",
       "    </tr>\n",
       "    <tr>\n",
       "      <th>제품 4</th>\n",
       "      <td>56774</td>\n",
       "      <td>82124</td>\n",
       "      <td>83692</td>\n",
       "      <td>54603</td>\n",
       "    </tr>\n",
       "    <tr>\n",
       "      <th>제품 5</th>\n",
       "      <td>30142</td>\n",
       "      <td>36363</td>\n",
       "      <td>39851</td>\n",
       "      <td>19967</td>\n",
       "    </tr>\n",
       "    <tr>\n",
       "      <th>제품 6</th>\n",
       "      <td>41612</td>\n",
       "      <td>64722</td>\n",
       "      <td>85157</td>\n",
       "      <td>71283</td>\n",
       "    </tr>\n",
       "  </tbody>\n",
       "</table>\n",
       "</div>"
      ],
      "text/plain": [
       "년도(year)     2016     2017     2018    2019\n",
       "제품군                                        \n",
       "제품 1       637130   763450   807846  481881\n",
       "제품 2      1029868  1215031  1307538  670947\n",
       "제품 3       134693   154208   157031   86014\n",
       "제품 4        56774    82124    83692   54603\n",
       "제품 5        30142    36363    39851   19967\n",
       "제품 6        41612    64722    85157   71283"
      ]
     },
     "execution_count": 10,
     "metadata": {},
     "output_type": "execute_result"
    }
   ],
   "source": [
    "grouped_df2.unstack()"
   ]
  },
  {
   "cell_type": "code",
   "execution_count": null,
   "metadata": {},
   "outputs": [],
   "source": []
  }
 ],
 "metadata": {
  "kernelspec": {
   "display_name": "Python 3",
   "language": "python",
   "name": "python3"
  },
  "language_info": {
   "codemirror_mode": {
    "name": "ipython",
    "version": 3
   },
   "file_extension": ".py",
   "mimetype": "text/x-python",
   "name": "python",
   "nbconvert_exporter": "python",
   "pygments_lexer": "ipython3",
   "version": "3.8.5"
  }
 },
 "nbformat": 4,
 "nbformat_minor": 4
}
