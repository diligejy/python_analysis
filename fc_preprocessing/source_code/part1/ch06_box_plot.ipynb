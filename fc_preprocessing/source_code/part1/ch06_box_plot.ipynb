{
 "cells": [
  {
   "cell_type": "code",
   "execution_count": 5,
   "metadata": {},
   "outputs": [],
   "source": [
    "import os \n",
    "import pandas as pd\n",
    "import matplotlib.pyplot as plt\n",
    "import numpy as np\n",
    "%matplotlib inline\n",
    "plt.rcParams['font.family'] = 'Malgun Gothic'\n",
    "plt.rcParams['font.size'] = 15\n",
    "plt.rcParams['figure.figsize'] = (15, 8)"
   ]
  },
  {
   "cell_type": "code",
   "execution_count": 13,
   "metadata": {},
   "outputs": [],
   "source": [
    "df = pd.read_csv(r'C:/Users/Jinyoung/Pictures/python_analysis/fc_preprocessing/rawdata/part1/온라인_판매기록.csv', engine='python')"
   ]
  },
  {
   "cell_type": "code",
   "execution_count": 14,
   "metadata": {},
   "outputs": [
    {
     "data": {
      "text/html": [
       "<div>\n",
       "<style scoped>\n",
       "    .dataframe tbody tr th:only-of-type {\n",
       "        vertical-align: middle;\n",
       "    }\n",
       "\n",
       "    .dataframe tbody tr th {\n",
       "        vertical-align: top;\n",
       "    }\n",
       "\n",
       "    .dataframe thead th {\n",
       "        text-align: right;\n",
       "    }\n",
       "</style>\n",
       "<table border=\"1\" class=\"dataframe\">\n",
       "  <thead>\n",
       "    <tr style=\"text-align: right;\">\n",
       "      <th></th>\n",
       "      <th>쇼핑몰</th>\n",
       "      <th>제품</th>\n",
       "      <th>수량</th>\n",
       "      <th>판매금액</th>\n",
       "      <th>쇼핑몰 유형</th>\n",
       "    </tr>\n",
       "  </thead>\n",
       "  <tbody>\n",
       "    <tr>\n",
       "      <th>0</th>\n",
       "      <td>쿠팡</td>\n",
       "      <td>제품_16</td>\n",
       "      <td>8</td>\n",
       "      <td>1134400</td>\n",
       "      <td>쿠팡</td>\n",
       "    </tr>\n",
       "    <tr>\n",
       "      <th>1</th>\n",
       "      <td>쿠팡</td>\n",
       "      <td>제품_57</td>\n",
       "      <td>8</td>\n",
       "      <td>439200</td>\n",
       "      <td>쿠팡</td>\n",
       "    </tr>\n",
       "    <tr>\n",
       "      <th>2</th>\n",
       "      <td>쿠팡</td>\n",
       "      <td>제품_25</td>\n",
       "      <td>4</td>\n",
       "      <td>495200</td>\n",
       "      <td>쿠팡</td>\n",
       "    </tr>\n",
       "    <tr>\n",
       "      <th>3</th>\n",
       "      <td>쿠팡</td>\n",
       "      <td>제품_18</td>\n",
       "      <td>4</td>\n",
       "      <td>578000</td>\n",
       "      <td>쿠팡</td>\n",
       "    </tr>\n",
       "    <tr>\n",
       "      <th>4</th>\n",
       "      <td>쿠팡</td>\n",
       "      <td>제품_90</td>\n",
       "      <td>2</td>\n",
       "      <td>75000</td>\n",
       "      <td>쿠팡</td>\n",
       "    </tr>\n",
       "    <tr>\n",
       "      <th>...</th>\n",
       "      <td>...</td>\n",
       "      <td>...</td>\n",
       "      <td>...</td>\n",
       "      <td>...</td>\n",
       "      <td>...</td>\n",
       "    </tr>\n",
       "    <tr>\n",
       "      <th>5810</th>\n",
       "      <td>애견아우랫</td>\n",
       "      <td>제품_41</td>\n",
       "      <td>5</td>\n",
       "      <td>696500</td>\n",
       "      <td>동물병원</td>\n",
       "    </tr>\n",
       "    <tr>\n",
       "      <th>5811</th>\n",
       "      <td>애견아우랫</td>\n",
       "      <td>제품_98</td>\n",
       "      <td>6</td>\n",
       "      <td>590400</td>\n",
       "      <td>동물병원</td>\n",
       "    </tr>\n",
       "    <tr>\n",
       "      <th>5812</th>\n",
       "      <td>애견아우랫</td>\n",
       "      <td>제품_77</td>\n",
       "      <td>5</td>\n",
       "      <td>512500</td>\n",
       "      <td>동물병원</td>\n",
       "    </tr>\n",
       "    <tr>\n",
       "      <th>5813</th>\n",
       "      <td>애견아우랫</td>\n",
       "      <td>제품_04</td>\n",
       "      <td>6</td>\n",
       "      <td>256200</td>\n",
       "      <td>동물병원</td>\n",
       "    </tr>\n",
       "    <tr>\n",
       "      <th>5814</th>\n",
       "      <td>애견아우랫</td>\n",
       "      <td>제품_39</td>\n",
       "      <td>7</td>\n",
       "      <td>72800</td>\n",
       "      <td>동물병원</td>\n",
       "    </tr>\n",
       "  </tbody>\n",
       "</table>\n",
       "<p>5815 rows × 5 columns</p>\n",
       "</div>"
      ],
      "text/plain": [
       "        쇼핑몰     제품  수량     판매금액 쇼핑몰 유형\n",
       "0        쿠팡  제품_16   8  1134400     쿠팡\n",
       "1        쿠팡  제품_57   8   439200     쿠팡\n",
       "2        쿠팡  제품_25   4   495200     쿠팡\n",
       "3        쿠팡  제품_18   4   578000     쿠팡\n",
       "4        쿠팡  제품_90   2    75000     쿠팡\n",
       "...     ...    ...  ..      ...    ...\n",
       "5810  애견아우랫  제품_41   5   696500   동물병원\n",
       "5811  애견아우랫  제품_98   6   590400   동물병원\n",
       "5812  애견아우랫  제품_77   5   512500   동물병원\n",
       "5813  애견아우랫  제품_04   6   256200   동물병원\n",
       "5814  애견아우랫  제품_39   7    72800   동물병원\n",
       "\n",
       "[5815 rows x 5 columns]"
      ]
     },
     "execution_count": 14,
     "metadata": {},
     "output_type": "execute_result"
    }
   ],
   "source": [
    "df"
   ]
  },
  {
   "cell_type": "code",
   "execution_count": 6,
   "metadata": {},
   "outputs": [
    {
     "data": {
      "text/plain": [
       "쇼핑몰 유형\n",
       "동물병원      [338400, 202600, 238800, 1088000, 135800, 8768...\n",
       "온라인II     [400800, 586600, 291900, 654000, 684000, 40400...\n",
       "온라인사이트    [10400, 631400, 516400, 318000, 300000, 306600...\n",
       "유통대리점     [220200, 10100, 112500, 56000, 236600, 928900,...\n",
       "전시회       [498000, 195300, 143500, 478200, 358400, 10731...\n",
       "쿠팡        [1134400, 439200, 495200, 578000, 75000, 19550...\n",
       "할인점       [39100, 670400, 1533000, 438400, 403200, 19250...\n",
       "할인점II     [119100, 101300, 124200, 101400, 291900, 37350...\n",
       "Name: 판매금액, dtype: object"
      ]
     },
     "execution_count": 6,
     "metadata": {},
     "output_type": "execute_result"
    }
   ],
   "source": [
    "X = df.groupby(['쇼핑몰 유형'])['판매금액'].apply(list) # 길이가 다를 수 있기 때문에 dataframe보다는 list로 바꿈\n",
    "X"
   ]
  },
  {
   "cell_type": "code",
   "execution_count": 11,
   "metadata": {},
   "outputs": [
    {
     "data": {
      "text/plain": [
       "([<matplotlib.axis.XTick at 0x11a53f91b80>,\n",
       "  <matplotlib.axis.XTick at 0x11a57df99a0>,\n",
       "  <matplotlib.axis.XTick at 0x11a57c74d60>,\n",
       "  <matplotlib.axis.XTick at 0x11a57daeee0>,\n",
       "  <matplotlib.axis.XTick at 0x11a57df7a90>,\n",
       "  <matplotlib.axis.XTick at 0x11a581aad00>,\n",
       "  <matplotlib.axis.XTick at 0x11a57f0afa0>,\n",
       "  <matplotlib.axis.XTick at 0x11a57df7e80>],\n",
       " [Text(1, 0, '동물병원'),\n",
       "  Text(2, 0, '온라인II'),\n",
       "  Text(3, 0, '온라인사이트'),\n",
       "  Text(4, 0, '유통대리점'),\n",
       "  Text(5, 0, '전시회'),\n",
       "  Text(6, 0, '쿠팡'),\n",
       "  Text(7, 0, '할인점'),\n",
       "  Text(8, 0, '할인점II')])"
      ]
     },
     "execution_count": 11,
     "metadata": {},
     "output_type": "execute_result"
    },
    {
     "data": {
      "image/png": "[encoded data removed]",
      "text/plain": [
       "<Figure size 1080x576 with 1 Axes>"
      ]
     },
     "metadata": {
      "needs_background": "light"
     },
     "output_type": "display_data"
    }
   ],
   "source": [
    "plt.title('쇼핑몰 유형에 따른 판매금액 분포')\n",
    "plt.boxplot(X.values)\n",
    "plt.xticks(np.arange(1, len(X) + 1), X.index)"
   ]
  },
  {
   "cell_type": "code",
   "execution_count": 12,
   "metadata": {},
   "outputs": [
    {
     "data": {
      "text/plain": [
       "<AxesSubplot:>"
      ]
     },
     "execution_count": 12,
     "metadata": {},
     "output_type": "execute_result"
    },
    {
     "name": "stderr",
     "output_type": "stream",
     "text": [
      "C:\\ProgramData\\Anaconda3\\lib\\site-packages\\matplotlib\\backends\\backend_agg.py:238: RuntimeWarning: Glyph 8722 missing from current font.\n",
      "  font.set_text(s, 0.0, flags=flags)\n",
      "C:\\ProgramData\\Anaconda3\\lib\\site-packages\\matplotlib\\backends\\backend_agg.py:201: RuntimeWarning: Glyph 8722 missing from current font.\n",
      "  font.set_text(s, 0, flags=flags)\n"
     ]
    },
    {
     "data": {
      "image/png": "[encoded data removed]",
      "text/plain": [
       "<Figure size 1080x576 with 1 Axes>"
      ]
     },
     "metadata": {
      "needs_background": "light"
     },
     "output_type": "display_data"
    }
   ],
   "source": [
    "# DataFrame을 이용한 boxplot\n",
    "df = pd.DataFrame({'실험1' : np.random.normal(10, 2, size=100),\n",
    "                  '실험2' : np.random.normal(8, 3, size=100),\n",
    "                  '실험3' : np.random.normal(9, 4, size=100)})\n",
    "\n",
    "df.boxplot(column = ['실험1', '실험2', '실험3'])"
   ]
  },
  {
   "cell_type": "code",
   "execution_count": null,
   "metadata": {},
   "outputs": [],
   "source": []
  }
 ],
 "metadata": {
  "kernelspec": {
   "display_name": "Python 3",
   "language": "python",
   "name": "python3"
  },
  "language_info": {
   "codemirror_mode": {
    "name": "ipython",
    "version": 3
   },
   "file_extension": ".py",
   "mimetype": "text/x-python",
   "name": "python",
   "nbconvert_exporter": "python",
   "pygments_lexer": "ipython3",
   "version": "3.8.5"
  }
 },
 "nbformat": 4,
 "nbformat_minor": 4
}
