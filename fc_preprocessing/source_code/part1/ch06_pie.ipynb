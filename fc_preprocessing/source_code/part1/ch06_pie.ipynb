{
 "cells": [
  {
   "cell_type": "code",
   "execution_count": 25,
   "metadata": {},
   "outputs": [],
   "source": [
    "import os \n",
    "import pandas as pd\n",
    "import matplotlib.pyplot as plt\n",
    "import numpy as np\n",
    "%matplotlib inline\n",
    "plt.rcParams['font.family'] = 'Malgun Gothic'\n",
    "plt.rcParams['font.size'] = 15\n",
    "plt.rcParams['figure.figsize'] = (10, 8)"
   ]
  },
  {
   "cell_type": "code",
   "execution_count": 14,
   "metadata": {},
   "outputs": [],
   "source": [
    "df = pd.read_csv(r'C:/Users/Jinyoung/Pictures/python_analysis/fc_preprocessing/rawdata/part1/판매실적통합본.csv', engine='python')"
   ]
  },
  {
   "cell_type": "code",
   "execution_count": 15,
   "metadata": {},
   "outputs": [],
   "source": [
    "# 제품군별 수량합계 계산\n",
    "grouped_df = df.groupby(['제품군'], as_index=False)['수량'].sum()"
   ]
  },
  {
   "cell_type": "code",
   "execution_count": 16,
   "metadata": {},
   "outputs": [
    {
     "data": {
      "text/html": [
       "<div>\n",
       "<style scoped>\n",
       "    .dataframe tbody tr th:only-of-type {\n",
       "        vertical-align: middle;\n",
       "    }\n",
       "\n",
       "    .dataframe tbody tr th {\n",
       "        vertical-align: top;\n",
       "    }\n",
       "\n",
       "    .dataframe thead th {\n",
       "        text-align: right;\n",
       "    }\n",
       "</style>\n",
       "<table border=\"1\" class=\"dataframe\">\n",
       "  <thead>\n",
       "    <tr style=\"text-align: right;\">\n",
       "      <th></th>\n",
       "      <th>제품군</th>\n",
       "      <th>수량</th>\n",
       "    </tr>\n",
       "  </thead>\n",
       "  <tbody>\n",
       "    <tr>\n",
       "      <th>0</th>\n",
       "      <td>제품 1</td>\n",
       "      <td>2690307</td>\n",
       "    </tr>\n",
       "    <tr>\n",
       "      <th>1</th>\n",
       "      <td>제품 2</td>\n",
       "      <td>4223384</td>\n",
       "    </tr>\n",
       "    <tr>\n",
       "      <th>2</th>\n",
       "      <td>제품 3</td>\n",
       "      <td>531946</td>\n",
       "    </tr>\n",
       "    <tr>\n",
       "      <th>3</th>\n",
       "      <td>제품 4</td>\n",
       "      <td>277193</td>\n",
       "    </tr>\n",
       "    <tr>\n",
       "      <th>4</th>\n",
       "      <td>제품 5</td>\n",
       "      <td>126323</td>\n",
       "    </tr>\n",
       "  </tbody>\n",
       "</table>\n",
       "</div>"
      ],
      "text/plain": [
       "    제품군       수량\n",
       "0  제품 1  2690307\n",
       "1  제품 2  4223384\n",
       "2  제품 3   531946\n",
       "3  제품 4   277193\n",
       "4  제품 5   126323"
      ]
     },
     "execution_count": 16,
     "metadata": {},
     "output_type": "execute_result"
    }
   ],
   "source": [
    "grouped_df.head()"
   ]
  },
  {
   "cell_type": "code",
   "execution_count": 19,
   "metadata": {},
   "outputs": [
    {
     "data": {
      "text/html": [
       "<div>\n",
       "<style scoped>\n",
       "    .dataframe tbody tr th:only-of-type {\n",
       "        vertical-align: middle;\n",
       "    }\n",
       "\n",
       "    .dataframe tbody tr th {\n",
       "        vertical-align: top;\n",
       "    }\n",
       "\n",
       "    .dataframe thead th {\n",
       "        text-align: right;\n",
       "    }\n",
       "</style>\n",
       "<table border=\"1\" class=\"dataframe\">\n",
       "  <thead>\n",
       "    <tr style=\"text-align: right;\">\n",
       "      <th></th>\n",
       "      <th>제품군</th>\n",
       "      <th>수량</th>\n",
       "    </tr>\n",
       "  </thead>\n",
       "  <tbody>\n",
       "    <tr>\n",
       "      <th>0</th>\n",
       "      <td>제품 1</td>\n",
       "      <td>2690307</td>\n",
       "    </tr>\n",
       "    <tr>\n",
       "      <th>1</th>\n",
       "      <td>제품 2</td>\n",
       "      <td>4223384</td>\n",
       "    </tr>\n",
       "    <tr>\n",
       "      <th>2</th>\n",
       "      <td>제품 3</td>\n",
       "      <td>531946</td>\n",
       "    </tr>\n",
       "    <tr>\n",
       "      <th>3</th>\n",
       "      <td>제품 4</td>\n",
       "      <td>277193</td>\n",
       "    </tr>\n",
       "    <tr>\n",
       "      <th>4</th>\n",
       "      <td>제품 5</td>\n",
       "      <td>126323</td>\n",
       "    </tr>\n",
       "    <tr>\n",
       "      <th>5</th>\n",
       "      <td>제품 6</td>\n",
       "      <td>262774</td>\n",
       "    </tr>\n",
       "    <tr>\n",
       "      <th>6</th>\n",
       "      <td>기타</td>\n",
       "      <td>1198236</td>\n",
       "    </tr>\n",
       "    <tr>\n",
       "      <th>7</th>\n",
       "      <td>기타</td>\n",
       "      <td>1198236</td>\n",
       "    </tr>\n",
       "    <tr>\n",
       "      <th>8</th>\n",
       "      <td>기타</td>\n",
       "      <td>1198236</td>\n",
       "    </tr>\n",
       "  </tbody>\n",
       "</table>\n",
       "</div>"
      ],
      "text/plain": [
       "    제품군       수량\n",
       "0  제품 1  2690307\n",
       "1  제품 2  4223384\n",
       "2  제품 3   531946\n",
       "3  제품 4   277193\n",
       "4  제품 5   126323\n",
       "5  제품 6   262774\n",
       "6    기타  1198236\n",
       "7    기타  1198236\n",
       "8    기타  1198236"
      ]
     },
     "execution_count": 19,
     "metadata": {},
     "output_type": "execute_result"
    }
   ],
   "source": [
    "# 기타 행 추가\n",
    "other_row = pd.DataFrame({'제품군' : ['기타'], '수량' : [grouped_df.sort_values(by='수량')['수량'].iloc[:4].sum()]})\n",
    "\n",
    "grouped_df = pd.concat([grouped_df, other_row], axis=0, ignore_index=True)\n",
    "grouped_df = grouped_df.sort_values(by='수량', ascending=False).iloc[:3]"
   ]
  },
  {
   "cell_type": "code",
   "execution_count": 26,
   "metadata": {},
   "outputs": [
    {
     "data": {
      "text/plain": [
       "([<matplotlib.patches.Wedge at 0x268553e5c40>,\n",
       "  <matplotlib.patches.Wedge at 0x268553c5a00>,\n",
       "  <matplotlib.patches.Wedge at 0x26857591700>,\n",
       "  <matplotlib.patches.Wedge at 0x26857591760>,\n",
       "  <matplotlib.patches.Wedge at 0x268575745b0>,\n",
       "  <matplotlib.patches.Wedge at 0x268575746a0>,\n",
       "  <matplotlib.patches.Wedge at 0x26857570ca0>,\n",
       "  <matplotlib.patches.Wedge at 0x2685e2c8370>,\n",
       "  <matplotlib.patches.Wedge at 0x2685e2c8730>],\n",
       " [Text(0.5253533234192633, 0.46260553992827924, '제품 1'),\n",
       "  Text(-0.5914878359773625, 0.3743556329091586, '제품 2'),\n",
       "  Text(-0.5299960450070683, -0.4572791185664019, '제품 3'),\n",
       "  Text(-0.4190350074328276, -0.5607224469786902, '제품 4'),\n",
       "  Text(-0.3559798963441506, -0.6027257364662701, '제품 5'),\n",
       "  Text(-0.29121985112298115, -0.6365461478258341, '제품 6'),\n",
       "  Text(-0.025891803517903416, -0.6995209893281189, '기타'),\n",
       "  Text(0.3987783339998608, -0.5753049976597591, '기타'),\n",
       "  Text(0.664120788943296, -0.22123195450326372, '기타')],\n",
       " [Text(0.4503028486450829, 0.3965190342242394, '23.0%'),\n",
       "  Text(-0.5069895736948822, 0.3208762567792788, '36.1%'),\n",
       "  Text(-0.4542823242917729, -0.3919535301997731, '4.5%'),\n",
       "  Text(-0.35917286351385225, -0.48061924026744873, '2.4%'),\n",
       "  Text(-0.3051256254378434, -0.5166220598282315, '1.1%'),\n",
       "  Text(-0.24961701524826957, -0.5456109838507149, '2.2%'),\n",
       "  Text(-0.022192974443917216, -0.5995894194241019, '10.2%'),\n",
       "  Text(0.3418100005713092, -0.49311856942265064, '10.2%'),\n",
       "  Text(0.5692463905228251, -0.18962738957422606, '10.2%')])"
      ]
     },
     "execution_count": 26,
     "metadata": {},
     "output_type": "execute_result"
    },
    {
     "data": {
      "image/png": "[encoded data removed]",
      "text/plain": [
       "<Figure size 720x576 with 1 Axes>"
      ]
     },
     "metadata": {},
     "output_type": "display_data"
    }
   ],
   "source": [
    "plt.title('제품군별 출하량 비율')\n",
    "plt.pie(x = grouped_df['수량'], \n",
    "        labels = grouped_df['제품군'],\n",
    "        labeldistance=0.7,\n",
    "        autopct = '%1.1f%%'\n",
    "       )"
   ]
  },
  {
   "cell_type": "code",
   "execution_count": null,
   "metadata": {},
   "outputs": [],
   "source": []
  }
 ],
 "metadata": {
  "kernelspec": {
   "display_name": "Python 3",
   "language": "python",
   "name": "python3"
  },
  "language_info": {
   "codemirror_mode": {
    "name": "ipython",
    "version": 3
   },
   "file_extension": ".py",
   "mimetype": "text/x-python",
   "name": "python",
   "nbconvert_exporter": "python",
   "pygments_lexer": "ipython3",
   "version": "3.8.5"
  }
 },
 "nbformat": 4,
 "nbformat_minor": 4
}
